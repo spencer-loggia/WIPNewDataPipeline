{
 "cells": [
  {
   "cell_type": "markdown",
   "metadata": {},
   "source": [
    "<h1> NOTEBOOK TO CREATE 3D DLC PROJECT and CALIBRATE DEEPLAB CUT </h1>\n",
    "\n",
    "Make sure you are running this notebook in properly setup conda enviroment. The nbkGPU enviroment set up on server 2 works properly. Note that while you can calibrate the 3D enviroment in isolation, using it to analyze video data require two pre-trained networks on data from the two cameras in the exact same position as the calibration footage."
   ]
  },
  {
   "cell_type": "code",
   "execution_count": 1,
   "metadata": {},
   "outputs": [],
   "source": [
    "#Errors here mean there are issues with the enviroment dependencies or PATH configuration\n",
    "import numpy as np\n",
    "import deeplabcut\n",
    "import moviepy\n",
    "import cv2\n",
    "from moviepy.editor import *\n",
    "import os\n",
    "import math\n",
    "task = '3D_Box1'\n",
    "experimenter = 'spencer_loggia'"
   ]
  },
  {
   "cell_type": "code",
   "execution_count": 2,
   "metadata": {},
   "outputs": [],
   "source": [
    "import tensorflow as tf"
   ]
  },
  {
   "cell_type": "code",
   "execution_count": 3,
   "metadata": {},
   "outputs": [],
   "source": [
    "#allow video memory growth as network expands to avoid convolutional network errors\n",
    "TF_FORCE_GPU_ALLOW_GROWTH = True\n",
    "config = tf.ConfigProto()\n",
    "config.gpu_options.allow_growth = True\n",
    "session = tf.Session(config=config)"
   ]
  },
  {
   "cell_type": "code",
   "execution_count": 4,
   "metadata": {},
   "outputs": [
    {
     "data": {
      "text/plain": [
       "[name: \"/device:CPU:0\"\n",
       " device_type: \"CPU\"\n",
       " memory_limit: 268435456\n",
       " locality {\n",
       " }\n",
       " incarnation: 4643214641430092034,\n",
       " name: \"/device:GPU:0\"\n",
       " device_type: \"GPU\"\n",
       " memory_limit: 6586089472\n",
       " locality {\n",
       "   bus_id: 1\n",
       "   links {\n",
       "   }\n",
       " }\n",
       " incarnation: 4772067494288617744\n",
       " physical_device_desc: \"device: 0, name: GeForce RTX 2080, pci bus id: 0000:41:00.0, compute capability: 7.5\",\n",
       " name: \"/device:GPU:1\"\n",
       " device_type: \"GPU\"\n",
       " memory_limit: 6586089472\n",
       " locality {\n",
       "   bus_id: 1\n",
       "   links {\n",
       "   }\n",
       " }\n",
       " incarnation: 17486555811201490204\n",
       " physical_device_desc: \"device: 1, name: GeForce RTX 2080, pci bus id: 0000:81:00.0, compute capability: 7.5\"]"
      ]
     },
     "execution_count": 4,
     "metadata": {},
     "output_type": "execute_result"
    }
   ],
   "source": [
    "#let's make sure we see a GPU:\n",
    "#tf.test.gpu_device_name()\n",
    "from tensorflow.python.client import device_lib\n",
    "device_lib.list_local_devices()"
   ]
  },
  {
   "cell_type": "markdown",
   "metadata": {},
   "source": [
    "Create new 3d tracking project (creates a new project directory with a unique config.yaml)"
   ]
  },
  {
   "cell_type": "code",
   "execution_count": 6,
   "metadata": {
    "scrolled": true
   },
   "outputs": [
    {
     "name": "stdout",
     "output_type": "stream",
     "text": [
      "Created \"F:\\MysoreData\\nbk\\mouseVideoAnalysis\\Box1\\3D_Box1-spencer_loggia-2021-02-14-3d\\camera_matrix\"\n",
      "Created \"F:\\MysoreData\\nbk\\mouseVideoAnalysis\\Box1\\3D_Box1-spencer_loggia-2021-02-14-3d\\calibration_images\"\n",
      "Created \"F:\\MysoreData\\nbk\\mouseVideoAnalysis\\Box1\\3D_Box1-spencer_loggia-2021-02-14-3d\\undistortion\"\n",
      "Created \"F:\\MysoreData\\nbk\\mouseVideoAnalysis\\Box1\\3D_Box1-spencer_loggia-2021-02-14-3d\\corners\"\n",
      "Generated \"F:\\MysoreData\\nbk\\mouseVideoAnalysis\\Box1\\3D_Box1-spencer_loggia-2021-02-14-3d\\config.yaml\"\n",
      "\n",
      "A new project with name 3D_Box1-spencer_loggia-2021-02-14-3d is created at F:\\MysoreData\\nbk\\mouseVideoAnalysis\\Box1 and a configurable file (config.yaml) is stored there. If you have not calibrated the cameras, then use the function 'calibrate_camera' to start calibrating the camera otherwise use the function ``triangulate`` to triangulate the dataframe\n"
     ]
    }
   ],
   "source": [
    "path = deeplabcut.create_new_project_3d(task, experimenter, num_cameras=2, working_directory='F:\\\\MysoreData\\\\nbk\\\\mouseVideoAnalysis\\\\Box1\\\\')\n",
    "path = path #r'F:\\MysoreData\\nbk\\mouseVideoAnalysis\\Box1\\3D_calibratations\\3D_06152020-spencer_loggia-2020-06-18-3d\\config.yaml'"
   ]
  },
  {
   "cell_type": "markdown",
   "metadata": {},
   "source": [
    "<h2> A quick note about calibration data </h2>\n",
    "<p> do not rotate the checker board if possible. Make sure you do move it around the working space though. The checker board should be at least 8X6 squares. take at least 30 calibration images, though you may need up to 80. The next cell takes the two directories where images are stored and pairs, renames, and moves the data."
   ]
  },
  {
   "cell_type": "code",
   "execution_count": null,
   "metadata": {},
   "outputs": [],
   "source": [
    "data1 = \"..\\\\calibrations_data\\\\cam1\\\\\" + DATE + \"\\\\\" #folder with cam1 image set\n",
    "data2 = \"..\\\\calibrations_data\\\\cam2\\\\\" + DATE + \"\\\\\"#folder with cam2 image set \n",
    "\n",
    "from shutil import copyfile\n",
    "\n",
    "list1 = os.listdir(data1)\n",
    "list2 = os.listdir(data2)\n",
    "images = []\n",
    "\n",
    "if len(list1) != len(list2):\n",
    "    print (\"List dimmensions mis-matched. Make sure the images are aligned in proper pairs! Trying to fix automatically...\")\n",
    "    print(len(list1))\n",
    "    print(len(list2))\n",
    "    \n",
    "    if len(list1) > len(list2):\n",
    "        for i in range(len(list1)):\n",
    "            if int(list1[i][-6:-4]) > len(list2):\n",
    "                list1.pop(i)\n",
    "                break\n",
    "    elif len(list2) > len(list1):\n",
    "        for i in range(len(list2)):\n",
    "            if int(list2[i][-6:-4]) > len(list1):\n",
    "                list2.pop(i)\n",
    "                break\n",
    "                \n",
    "if len(list1) != len(list2):\n",
    "    print (\"List dimmensions mis-matched. unable to repair\")\n",
    "    print(len(list1))\n",
    "    print(len(list2))\n",
    "else:\n",
    "    images.append(list1)\n",
    "    images.append(list2)\n",
    "\n",
    "    Images = np.array(images)\n",
    "    Images = np.transpose(Images)\n",
    "    print(Images)\n",
    "    print(path)\n",
    "    for i in Images:\n",
    "        if (i[0][0:8] != 'camera-1') | (i[1][0:8] != 'camera-2'):\n",
    "            print (i[0][0:6])\n",
    "            print ('bad image names')\n",
    "        else:\n",
    "            copyfile(data1 + i[0], path[:-11] + '\\\\calibration_images\\\\' + i[0])\n",
    "            copyfile(data2 + i[1], path[:-11] + '\\\\calibration_images\\\\' + i[1])\n",
    "    \n"
   ]
  },
  {
   "cell_type": "markdown",
   "metadata": {},
   "source": [
    "Calibrate (remove the bad images):"
   ]
  },
  {
   "cell_type": "code",
   "execution_count": null,
   "metadata": {},
   "outputs": [],
   "source": [
    "print(path)\n",
    "deeplabcut.calibrate_cameras(path, cbrow = 8,cbcol = 8, calibrate=False, alpha=0.2)\n"
   ]
  },
  {
   "cell_type": "markdown",
   "metadata": {},
   "source": [
    "calibrate for reals"
   ]
  },
  {
   "cell_type": "code",
   "execution_count": null,
   "metadata": {},
   "outputs": [],
   "source": [
    "path = path\n",
    "deeplabcut.calibrate_cameras(path, cbrow = 8,cbcol = 8, calibrate=True, alpha=0.9)"
   ]
  },
  {
   "cell_type": "markdown",
   "metadata": {},
   "source": [
    "Check for undistortion in images (i.e. verify proper alignment). After this runs, CHECK THE SAVED IMAGES in the undistortion directory"
   ]
  },
  {
   "cell_type": "code",
   "execution_count": null,
   "metadata": {},
   "outputs": [],
   "source": [
    "deeplabcut.check_undistortion(path, cbrow = 8,cbcol = 8)"
   ]
  },
  {
   "cell_type": "markdown",
   "metadata": {},
   "source": [
    "At this point make sure that you have trained your both cameras on the training data. Then come back to do some nice 3d triangulation!"
   ]
  },
  {
   "cell_type": "code",
   "execution_count": null,
   "metadata": {
    "scrolled": true
   },
   "outputs": [],
   "source": [
    "video_for_tri = 'F:\\\\MysoreData\\\\nbk\\\\mouseVideoAnalysis\\\\Box1\\\\tmp_combine_videos\\\\07112020_all_test'\n",
    "video = os.listdir(video_for_tri)\n",
    "for i in range(0,len(video)):\n",
    "    subclip = video_for_tri + '\\\\' + video[i]\n",
    "    outclip = video_for_tri + '\\\\' + 'C' + video[i][0:len(video[i])-3] + 'avi'\n",
    "    print(outclip)\n",
    "    clip = VideoFileClip(subclip).subclip(5, 10)\n",
    "    clip.write_videofile(outclip, codec='mpeg4')\n"
   ]
  },
  {
   "cell_type": "code",
   "execution_count": null,
   "metadata": {
    "scrolled": false
   },
   "outputs": [],
   "source": [
    "video_for_tri = 'F:\\\\MysoreData\\\\nbk\\\\mouseVideoAnalysis\\\\Box1\\\\tmp_combine_videos\\\\07112020_all_test'\n",
    "path = path\n",
    "deeplabcut.triangulate(path, video_for_tri, filterpredictions=True)"
   ]
  },
  {
   "cell_type": "code",
   "execution_count": null,
   "metadata": {},
   "outputs": [],
   "source": [
    "path = path #r'F:\\MysoreData\\nbk\\TestDLC\\3DTest\\3Dtest-spencer_loggia-2019-10-27-3d\\config.yaml'\n",
    "\n",
    "deeplabcut.create_labeled_video_3d(path, ['F:\\\\MysoreData\\\\nbk\\\\mouseVideoAnalysis\\\\Box1\\\\tmp_combine_videos\\\\07112020_all_test'], videofolder='F:\\\\MysoreData\\\\nbk\\\\mouseVideoAnalysis\\\\Box1\\\\tmp_combine_videos\\\\07112020_all_test')\n"
   ]
  },
  {
   "cell_type": "code",
   "execution_count": null,
   "metadata": {},
   "outputs": [],
   "source": []
  }
 ],
 "metadata": {
  "kernelspec": {
   "display_name": "Python 3",
   "language": "python",
   "name": "python3"
  },
  "language_info": {
   "codemirror_mode": {
    "name": "ipython",
    "version": 3
   },
   "file_extension": ".py",
   "mimetype": "text/x-python",
   "name": "python",
   "nbconvert_exporter": "python",
   "pygments_lexer": "ipython3",
   "version": "3.7.0"
  }
 },
 "nbformat": 4,
 "nbformat_minor": 2
}
