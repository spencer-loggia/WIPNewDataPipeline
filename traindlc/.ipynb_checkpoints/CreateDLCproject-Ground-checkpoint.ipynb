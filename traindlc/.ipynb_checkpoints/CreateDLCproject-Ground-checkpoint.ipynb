{
 "cells": [
  {
   "cell_type": "markdown",
   "metadata": {},
   "source": [
    "<h1> NOTEBOOK TO CREATE DLC PROJECT, EXTRACT FRAMES & LABEL DATA </h1>\n",
    "\n",
    "make sure you are running this notebook in properly setup conda enviroment. The nbkGPU enviroment set up on server 2 works properly. "
   ]
  },
  {
   "cell_type": "code",
   "execution_count": 1,
   "metadata": {},
   "outputs": [],
   "source": [
    "#Errors here mean there are issues with the enviroment dependencies or PATH configuration\n",
    "import deeplabcut\n",
    "import os\n",
    "from random import sample\n",
    "task = 'box1_cam2'\n",
    "experimenter = 'spencerloggia'"
   ]
  },
  {
   "cell_type": "markdown",
   "metadata": {},
   "source": [
    "Get all videos from the provided video source directory"
   ]
  },
  {
   "cell_type": "code",
   "execution_count": 4,
   "metadata": {},
   "outputs": [
    {
     "name": "stdout",
     "output_type": "stream",
     "text": [
      "['F:\\\\MysoreData\\\\nbk\\\\mouseVideoAnalysis\\\\Box1\\\\video_data\\\\mitg12\\\\box1_mitg12_09172020104932\\\\camera-2_clip-10.avi', 'F:\\\\MysoreData\\\\nbk\\\\mouseVideoAnalysis\\\\Box1\\\\video_data\\\\mitg12\\\\box1_mitg12_07072020113838\\\\camera-2_clip-0.avi', 'F:\\\\MysoreData\\\\nbk\\\\mouseVideoAnalysis\\\\Box1\\\\video_data\\\\mitg12\\\\box1_mitg12_07122020112326\\\\camera-2_clip-0.avi', 'F:\\\\MysoreData\\\\nbk\\\\mouseVideoAnalysis\\\\Box1\\\\video_data\\\\mitg12\\\\box1_mitg12_09182020112115\\\\camera-2_clip-73.avi', 'F:\\\\MysoreData\\\\nbk\\\\mouseVideoAnalysis\\\\Box1\\\\video_data\\\\mitg12\\\\box1_mitg12_10262020112023\\\\camera-2_clip-54.avi', 'F:\\\\MysoreData\\\\nbk\\\\mouseVideoAnalysis\\\\Box1\\\\video_data\\\\mitg12\\\\box1_mitg12_10062020110023\\\\camera-2_clip-30.avi', 'F:\\\\MysoreData\\\\nbk\\\\mouseVideoAnalysis\\\\Box1\\\\video_data\\\\mitg12\\\\box1_mitg12_07192020112321\\\\camera-2_clip-132.avi', 'F:\\\\MysoreData\\\\nbk\\\\mouseVideoAnalysis\\\\Box1\\\\video_data\\\\mitg12\\\\box1_mitg12_07252020111509\\\\camera-2_clip-5.avi', 'F:\\\\MysoreData\\\\nbk\\\\mouseVideoAnalysis\\\\Box1\\\\video_data\\\\mitg12\\\\box1_mitg12_09192020104719\\\\camera-2_clip-56.avi', 'F:\\\\MysoreData\\\\nbk\\\\mouseVideoAnalysis\\\\Box1\\\\video_data\\\\mitg12\\\\box1_mitg12_09202020110449\\\\camera-2_clip-125.avi', 'F:\\\\MysoreData\\\\nbk\\\\mouseVideoAnalysis\\\\Box1\\\\video_data\\\\mitg12\\\\box1_mitg12_09292020110117\\\\camera-2_clip-22.avi', 'F:\\\\MysoreData\\\\nbk\\\\mouseVideoAnalysis\\\\Box1\\\\video_data\\\\mitg12\\\\box1_mitg12_09222020104548\\\\camera-2_clip-148.avi', 'F:\\\\MysoreData\\\\nbk\\\\mouseVideoAnalysis\\\\Box1\\\\video_data\\\\mitg12\\\\box1_mitg12_09262020120433\\\\camera-2_clip-12.avi', 'F:\\\\MysoreData\\\\nbk\\\\mouseVideoAnalysis\\\\Box1\\\\video_data\\\\mitg12\\\\box1_mitg12_08262020102726\\\\camera-2_clip-3.avi', 'F:\\\\MysoreData\\\\nbk\\\\mouseVideoAnalysis\\\\Box1\\\\video_data\\\\mitg12\\\\box1_mitg12_09212020110941\\\\camera-2_clip-23.avi', 'F:\\\\MysoreData\\\\nbk\\\\mouseVideoAnalysis\\\\Box1\\\\video_data\\\\mitg12\\\\box1_mitg12_10252020111020\\\\camera-2_clip-118.avi', 'F:\\\\MysoreData\\\\nbk\\\\mouseVideoAnalysis\\\\Box1\\\\video_data\\\\mitg12\\\\box1_mitg12_10272020103204\\\\camera-2_clip-41.avi', 'F:\\\\MysoreData\\\\nbk\\\\mouseVideoAnalysis\\\\Box1\\\\video_data\\\\mitg12\\\\box1_mitg12_09282020111244\\\\camera-2_clip-25.avi', 'F:\\\\MysoreData\\\\nbk\\\\mouseVideoAnalysis\\\\Box1\\\\video_data\\\\mitg12\\\\box1_mitg12_09162020105947\\\\camera-2_clip-50.avi', 'F:\\\\MysoreData\\\\nbk\\\\mouseVideoAnalysis\\\\Box1\\\\video_data\\\\mitg12\\\\box1_mitg12_09252020111319\\\\camera-2_clip-84.avi']\n"
     ]
    }
   ],
   "source": [
    "BASE_DIR = r'F:\\MysoreData\\nbk\\mouseVideoAnalysis\\Box1\\video_data\\mitg12'\n",
    "videodirs = os.listdir(BASE_DIR)\n",
    "video = []\n",
    "for videodir in sample(videodirs, 20):\n",
    "    videos = os.listdir(os.path.join(BASE_DIR, videodir))\n",
    "    videos = [path for path in videos if 'camera-2' in path and 'ground' not in path]\n",
    "    #print(videos)\n",
    "    try:\n",
    "        for vid in sample(videos, 1):\n",
    "            video.append(os.path.join(BASE_DIR, videodir, vid))  \n",
    "    except ValueError:\n",
    "        print(\"skipping \" + str(videodir))\n",
    "print(video)\n",
    "num_videos = len(video)"
   ]
  },
  {
   "cell_type": "markdown",
   "metadata": {},
   "source": [
    "Generate the deeplabcut project, change working directory or else it is created in current directory. The output is the path to the config file. "
   ]
  },
  {
   "cell_type": "code",
   "execution_count": 5,
   "metadata": {},
   "outputs": [
    {
     "name": "stdout",
     "output_type": "stream",
     "text": [
      "Created \"F:\\MysoreData\\nbk\\mouseVideoAnalysis\\Box1\\cam2\\box1_cam2-spencerloggia-2021-02-08\\videos\"\n",
      "Created \"F:\\MysoreData\\nbk\\mouseVideoAnalysis\\Box1\\cam2\\box1_cam2-spencerloggia-2021-02-08\\labeled-data\"\n",
      "Created \"F:\\MysoreData\\nbk\\mouseVideoAnalysis\\Box1\\cam2\\box1_cam2-spencerloggia-2021-02-08\\training-datasets\"\n",
      "Created \"F:\\MysoreData\\nbk\\mouseVideoAnalysis\\Box1\\cam2\\box1_cam2-spencerloggia-2021-02-08\\dlc-models\"\n",
      "Copying the videos\n",
      "F:\\MysoreData\\nbk\\mouseVideoAnalysis\\Box1\\cam2\\box1_cam2-spencerloggia-2021-02-08\\videos\\camera-2_clip-10.avi\n",
      "F:\\MysoreData\\nbk\\mouseVideoAnalysis\\Box1\\cam2\\box1_cam2-spencerloggia-2021-02-08\\videos\\camera-2_clip-0.avi\n",
      "F:\\MysoreData\\nbk\\mouseVideoAnalysis\\Box1\\cam2\\box1_cam2-spencerloggia-2021-02-08\\videos\\camera-2_clip-0.avi\n",
      "F:\\MysoreData\\nbk\\mouseVideoAnalysis\\Box1\\cam2\\box1_cam2-spencerloggia-2021-02-08\\videos\\camera-2_clip-73.avi\n",
      "F:\\MysoreData\\nbk\\mouseVideoAnalysis\\Box1\\cam2\\box1_cam2-spencerloggia-2021-02-08\\videos\\camera-2_clip-54.avi\n",
      "F:\\MysoreData\\nbk\\mouseVideoAnalysis\\Box1\\cam2\\box1_cam2-spencerloggia-2021-02-08\\videos\\camera-2_clip-30.avi\n",
      "F:\\MysoreData\\nbk\\mouseVideoAnalysis\\Box1\\cam2\\box1_cam2-spencerloggia-2021-02-08\\videos\\camera-2_clip-132.avi\n",
      "F:\\MysoreData\\nbk\\mouseVideoAnalysis\\Box1\\cam2\\box1_cam2-spencerloggia-2021-02-08\\videos\\camera-2_clip-5.avi\n",
      "F:\\MysoreData\\nbk\\mouseVideoAnalysis\\Box1\\cam2\\box1_cam2-spencerloggia-2021-02-08\\videos\\camera-2_clip-56.avi\n",
      "F:\\MysoreData\\nbk\\mouseVideoAnalysis\\Box1\\cam2\\box1_cam2-spencerloggia-2021-02-08\\videos\\camera-2_clip-125.avi\n",
      "F:\\MysoreData\\nbk\\mouseVideoAnalysis\\Box1\\cam2\\box1_cam2-spencerloggia-2021-02-08\\videos\\camera-2_clip-22.avi\n",
      "F:\\MysoreData\\nbk\\mouseVideoAnalysis\\Box1\\cam2\\box1_cam2-spencerloggia-2021-02-08\\videos\\camera-2_clip-148.avi\n",
      "F:\\MysoreData\\nbk\\mouseVideoAnalysis\\Box1\\cam2\\box1_cam2-spencerloggia-2021-02-08\\videos\\camera-2_clip-12.avi\n",
      "F:\\MysoreData\\nbk\\mouseVideoAnalysis\\Box1\\cam2\\box1_cam2-spencerloggia-2021-02-08\\videos\\camera-2_clip-3.avi\n",
      "F:\\MysoreData\\nbk\\mouseVideoAnalysis\\Box1\\cam2\\box1_cam2-spencerloggia-2021-02-08\\videos\\camera-2_clip-23.avi\n",
      "F:\\MysoreData\\nbk\\mouseVideoAnalysis\\Box1\\cam2\\box1_cam2-spencerloggia-2021-02-08\\videos\\camera-2_clip-118.avi\n",
      "F:\\MysoreData\\nbk\\mouseVideoAnalysis\\Box1\\cam2\\box1_cam2-spencerloggia-2021-02-08\\videos\\camera-2_clip-41.avi\n",
      "F:\\MysoreData\\nbk\\mouseVideoAnalysis\\Box1\\cam2\\box1_cam2-spencerloggia-2021-02-08\\videos\\camera-2_clip-25.avi\n",
      "F:\\MysoreData\\nbk\\mouseVideoAnalysis\\Box1\\cam2\\box1_cam2-spencerloggia-2021-02-08\\videos\\camera-2_clip-50.avi\n",
      "F:\\MysoreData\\nbk\\mouseVideoAnalysis\\Box1\\cam2\\box1_cam2-spencerloggia-2021-02-08\\videos\\camera-2_clip-84.avi\n",
      "Generated \"F:\\MysoreData\\nbk\\mouseVideoAnalysis\\Box1\\cam2\\box1_cam2-spencerloggia-2021-02-08\\config.yaml\"\n",
      "\n",
      "A new project with name box1_cam2-spencerloggia-2021-02-08 is created at F:\\MysoreData\\nbk\\mouseVideoAnalysis\\Box1\\cam2 and a configurable file (config.yaml) is stored there. Change the parameters in this file to adapt to your project's needs.\n",
      " Once you have changed the configuration file, use the function 'extract_frames' to select frames for labeling.\n",
      ". [OPTIONAL] Use the function 'add_new_videos' to add new videos to your project (at any stage).\n",
      "F:\\MysoreData\\nbk\\mouseVideoAnalysis\\Box1\\cam2\\box1_cam2-spencerloggia-2021-02-08\\config.yaml\n"
     ]
    }
   ],
   "source": [
    "path_config_file=deeplabcut.create_new_project(task,experimenter,video, working_directory='F:\\\\MysoreData\\\\nbk\\\\mouseVideoAnalysis\\\\Box1\\\\cam2\\\\', copy_videos=True)\n",
    "print(path_config_file)"
   ]
  },
  {
   "cell_type": "markdown",
   "metadata": {},
   "source": [
    "At this point take a moment to edit the config.yaml file in the new project directory. Set the num2pick variable can be set to change number labeled frames per video. Also edit batch_size to change number of labelled images in each set. <br> \n",
    "\n",
    "<h1> Now we can extract frames!</h1><br>\n",
    "<p>This shows you one frame in the DLC gui from each video in your videos array. It asks you to crop the frame to the area you care about. DLC does not recommend croping to an images size greater than 600X800px <br>\n",
    "    Deep lab cut also now selects a number of frames equal to the num2pick configuiration from each video for labelling. These are subdevided into both the training and test sets.<p/>\n",
    "    \n",
    "                                   "
   ]
  },
  {
   "cell_type": "code",
   "execution_count": 7,
   "metadata": {
    "scrolled": true
   },
   "outputs": [
    {
     "name": "stdout",
     "output_type": "stream",
     "text": [
      "Config file read successfully.\n",
      "Extracting frames based on uniform ...\n",
      "Uniformly extracting of frames from 0.96  seconds to 2.1  seconds.\n",
      "Extracting frames based on uniform ...\n",
      "Uniformly extracting of frames from 0.96  seconds to 2.1  seconds.\n",
      "Extracting frames based on uniform ...\n",
      "Uniformly extracting of frames from 0.96  seconds to 2.1  seconds.\n",
      "Extracting frames based on uniform ...\n",
      "Uniformly extracting of frames from 0.96  seconds to 2.1  seconds.\n",
      "Extracting frames based on uniform ...\n",
      "Uniformly extracting of frames from 0.96  seconds to 2.1  seconds.\n",
      "Extracting frames based on uniform ...\n",
      "Uniformly extracting of frames from 0.96  seconds to 2.1  seconds.\n",
      "Extracting frames based on uniform ...\n",
      "Uniformly extracting of frames from 0.96  seconds to 2.1  seconds.\n",
      "Extracting frames based on uniform ...\n",
      "Uniformly extracting of frames from 0.96  seconds to 2.1  seconds.\n",
      "Extracting frames based on uniform ...\n",
      "Uniformly extracting of frames from 0.96  seconds to 2.1  seconds.\n",
      "Extracting frames based on uniform ...\n",
      "Uniformly extracting of frames from 0.96  seconds to 2.1  seconds.\n",
      "Extracting frames based on uniform ...\n",
      "Uniformly extracting of frames from 0.96  seconds to 2.1  seconds.\n",
      "Extracting frames based on uniform ...\n",
      "Uniformly extracting of frames from 0.96  seconds to 2.1  seconds.\n",
      "Extracting frames based on uniform ...\n",
      "Uniformly extracting of frames from 0.96  seconds to 2.1  seconds.\n",
      "Extracting frames based on uniform ...\n",
      "Uniformly extracting of frames from 0.96  seconds to 2.1  seconds.\n",
      "Extracting frames based on uniform ...\n",
      "Uniformly extracting of frames from 0.96  seconds to 2.1  seconds.\n",
      "Extracting frames based on uniform ...\n",
      "Uniformly extracting of frames from 0.96  seconds to 2.1  seconds.\n",
      "Extracting frames based on uniform ...\n",
      "Uniformly extracting of frames from 0.96  seconds to 2.1  seconds.\n",
      "Extracting frames based on uniform ...\n",
      "Uniformly extracting of frames from 0.96  seconds to 2.1  seconds.\n",
      "Extracting frames based on uniform ...\n",
      "Uniformly extracting of frames from 0.96  seconds to 2.1  seconds.\n",
      "Frames were successfully extracted, for the videos of interest.\n",
      "\n",
      "You can now label the frames using the function 'label_frames' (if you extracted enough frames for all videos).\n"
     ]
    }
   ],
   "source": [
    "#load matplotlib so outputs can be displayed \n",
    "%matplotlib inline \n",
    "path_config_file = r'F:\\MysoreData\\nbk\\mouseVideoAnalysis\\Box1\\cam2\\box1_cam2-spencerloggia-2021-02-08\\config.yaml'\n",
    "deeplabcut.extract_frames(path_config_file,'automatic','uniform', userfeedback=False, crop=True)"
   ]
  },
  {
   "cell_type": "markdown",
   "metadata": {},
   "source": [
    "<h1> Now we label the test and training data! </h1> \n",
    "    \n",
    "Once the labelling gui opens, you may have to expand the bottom menu to make sure all buttons are visable.\n",
    "There will be a folder with the extracted frames for each video. Go into each and right click to place the current label. Skip a label by choosing the next one on the right hand menu.\n",
    "\n",
    "For consistency: BP1: left ear, BP2: right ear, BP3: nose (behind nostrils)"
   ]
  },
  {
   "cell_type": "code",
   "execution_count": null,
   "metadata": {},
   "outputs": [
    {
     "name": "stdout",
     "output_type": "stream",
     "text": [
      "You can now check the labels, using 'check_labels' before proceeding. Then, you can use the function 'create_training_dataset' to create the training dataset.\n"
     ]
    }
   ],
   "source": [
    "%gui wx\n",
    "%matplotlib inline \n",
    "path_config_file = r'F:\\MysoreData\\nbk\\mouseVideoAnalysis\\Box1\\cam2\\box1_cam2-spencerloggia-2021-02-08\\config.yaml'\n",
    "deeplabcut.label_frames(path_config_file)"
   ]
  },
  {
   "cell_type": "code",
   "execution_count": 13,
   "metadata": {
    "scrolled": true
   },
   "outputs": [],
   "source": [
    "# create collected data \n",
    "data = \"\"\n",
    "path = 'F:\\\\MysoreData\\\\nbk\\\\mouseVideoAnalysis\\\\Box1\\\\cam1\\\\box1_cam1-spencerloggia-2021-02-07\\\\labeled-data'\n",
    "folders = os.listdir(path)\n",
    "first = True \n",
    "for f in folders:\n",
    "    if 'labeled' in f or '.' in f:\n",
    "        continue\n",
    "    file = open(os.path.join(path, f, 'CollectedData_spencerloggia.csv'), 'r')\n",
    "    for i, line in enumerate(file):\n",
    "        if not first:\n",
    "            if i < 3:\n",
    "                continue\n",
    "        first = False\n",
    "        data += line\n",
    "    del f\n",
    "file = open(os.path.join(path,'CollectedData_spencerloggia.csv'), 'w')\n",
    "file.write(data)\n",
    "import pandas as pd\n",
    "df = pd.read_csv(os.path.join(path,'CollectedData_spencerloggia.csv'))\n",
    "df.to_hdf(os.path.join(path,'CollectedData_spencerloggia.h5'), key='df_with_missing')\n",
    "    "
   ]
  },
  {
   "cell_type": "markdown",
   "metadata": {},
   "source": [
    "The last step is just an automatic check of the labelled data. You should see no errors or something has gone wrong. "
   ]
  },
  {
   "cell_type": "code",
   "execution_count": 2,
   "metadata": {},
   "outputs": [
    {
     "name": "stdout",
     "output_type": "stream",
     "text": [
      "Creating images with labels by spencerloggia.\n"
     ]
    },
    {
     "name": "stderr",
     "output_type": "stream",
     "text": [
      "100%|████████████████████████████████████████████████████████████████████████████████████| 2/2 [00:00<00:00,  5.65it/s]\n",
      "  0%|                                                                                            | 0/3 [00:00<?, ?it/s]"
     ]
    },
    {
     "name": "stdout",
     "output_type": "stream",
     "text": [
      "failed on F:\\MysoreData\\nbk\\mouseVideoAnalysis\\Box1\\cam2\\box1_cam2-spencerloggia-2021-02-08\\labeled-data\\camera-2_clip-0\\CollectedData_spencerloggia.h5\n"
     ]
    },
    {
     "name": "stderr",
     "output_type": "stream",
     "text": [
      "100%|████████████████████████████████████████████████████████████████████████████████████| 3/3 [00:00<00:00,  5.87it/s]\n",
      "100%|████████████████████████████████████████████████████████████████████████████████████| 4/4 [00:00<00:00,  5.39it/s]\n",
      "100%|████████████████████████████████████████████████████████████████████████████████████| 1/1 [00:00<00:00,  5.97it/s]\n",
      "100%|████████████████████████████████████████████████████████████████████████████████████| 4/4 [00:00<00:00,  5.63it/s]\n",
      "100%|████████████████████████████████████████████████████████████████████████████████████| 3/3 [00:00<00:00,  5.66it/s]\n",
      "100%|████████████████████████████████████████████████████████████████████████████████████| 4/4 [00:00<00:00,  5.92it/s]\n",
      "100%|████████████████████████████████████████████████████████████████████████████████████| 4/4 [00:00<00:00,  5.54it/s]\n",
      "100%|████████████████████████████████████████████████████████████████████████████████████| 3/3 [00:00<00:00,  5.98it/s]\n",
      "100%|████████████████████████████████████████████████████████████████████████████████████| 4/4 [00:00<00:00,  5.87it/s]\n",
      "100%|████████████████████████████████████████████████████████████████████████████████████| 3/3 [00:00<00:00,  6.08it/s]\n",
      "100%|████████████████████████████████████████████████████████████████████████████████████| 2/2 [00:00<00:00,  5.71it/s]\n",
      "100%|████████████████████████████████████████████████████████████████████████████████████| 4/4 [00:00<00:00,  5.60it/s]\n",
      "100%|████████████████████████████████████████████████████████████████████████████████████| 2/2 [00:00<00:00,  5.99it/s]\n",
      "100%|████████████████████████████████████████████████████████████████████████████████████| 4/4 [00:00<00:00,  5.65it/s]\n",
      "100%|████████████████████████████████████████████████████████████████████████████████████| 4/4 [00:00<00:00,  5.59it/s]\n",
      "100%|████████████████████████████████████████████████████████████████████████████████████| 3/3 [00:00<00:00,  5.87it/s]\n",
      "100%|████████████████████████████████████████████████████████████████████████████████████| 4/4 [00:00<00:00,  5.78it/s]"
     ]
    },
    {
     "name": "stdout",
     "output_type": "stream",
     "text": [
      "If all the labels are ok, then use the function 'create_training_dataset' to create the training dataset!\n"
     ]
    },
    {
     "name": "stderr",
     "output_type": "stream",
     "text": [
      "\n"
     ]
    }
   ],
   "source": [
    "path_config_file = r'F:\\MysoreData\\nbk\\mouseVideoAnalysis\\Box1\\cam2\\box1_cam2-spencerloggia-2021-02-08\\config.yaml'\n",
    "\n",
    "deeplabcut.check_labels(path_config_file) #this creates a subdirectory with the frames + your labels"
   ]
  },
  {
   "cell_type": "markdown",
   "metadata": {},
   "source": [
    "<h1> Next Steps: </h1>\n",
    "<h2> In order to actually train the network, we must use another notebook that runs in a docker container. This allows tensorflow to communicate properly with GPUs in windows </h2>\n",
    "run the below cell to get the path_config_file location, copy this path. Open the Docker_DLC_GPU notebook in this directory and set the path_config_file variable there to the same thing. "
   ]
  },
  {
   "cell_type": "code",
   "execution_count": 3,
   "metadata": {},
   "outputs": [
    {
     "name": "stdout",
     "output_type": "stream",
     "text": [
      "F:\\MysoreData\\nbk\\mouseVideoAnalysis\\Box1\\cam1\\box1_cam1-spencerloggia-2021-02-07\\config.yaml\n"
     ]
    }
   ],
   "source": [
    "print(path_config_file)"
   ]
  },
  {
   "cell_type": "code",
   "execution_count": null,
   "metadata": {},
   "outputs": [],
   "source": []
  }
 ],
 "metadata": {
  "kernelspec": {
   "display_name": "Python 3",
   "language": "python",
   "name": "python3"
  },
  "language_info": {
   "codemirror_mode": {
    "name": "ipython",
    "version": 3
   },
   "file_extension": ".py",
   "mimetype": "text/x-python",
   "name": "python",
   "nbconvert_exporter": "python",
   "pygments_lexer": "ipython3",
   "version": "3.7.0"
  }
 },
 "nbformat": 4,
 "nbformat_minor": 2
}
