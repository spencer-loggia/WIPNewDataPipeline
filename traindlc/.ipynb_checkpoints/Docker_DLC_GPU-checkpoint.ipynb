{
 "cells": [
  {
   "cell_type": "markdown",
   "metadata": {},
   "source": [
    "<h1> Using Labeled Data to Train a Network, Use The Network to Label New Videos, and Create Trajectories </h1> \n",
    "<p> Use another notebook create a project, extract frames, and label training/testing data </p>"
   ]
  },
  {
   "cell_type": "markdown",
   "metadata": {
    "colab_type": "text",
    "id": "RK255E7YoEIt"
   },
   "source": [
    "# DLC with docker\n",
    "This notebook illustrates how to use the Docker container to:\n",
    "- train a network\n",
    "- evaluate a network\n",
    "- analyze a novel video\n",
    "\n",
    "many of the functions have additional parameters / complexity, see the DLC docs for more inf on each.\n",
    "\n",
    "This assumes you already have a project folder with labeled data! \n"
   ]
  },
  {
   "cell_type": "markdown",
   "metadata": {
    "colab_type": "text",
    "id": "txoddlM8hLKm"
   },
   "source": [
    "## info about the Docker Environment:\n",
    "Docker is essentially a better alternative to virtual machines. It is able to containerize applications in a way that keeps them seperate the OS and other software. \n",
    "\n",
    "For tensorflow / deeplab cut, docker is critical for two reasons. \n",
    "- It 'claims' the GPU, making it closed for use by other processes.\n",
    "- It queries the GPU properly, in some cases tf (and the python kernal itself) does not know how to properly communincate with the GPU on windows systems."
   ]
  },
  {
   "cell_type": "code",
   "execution_count": 1,
   "metadata": {
    "colab": {},
    "colab_type": "code",
    "id": "4C5WRoS9g5Od"
   },
   "outputs": [
    {
     "name": "stdout",
     "output_type": "stream",
     "text": [
      "nvcc: NVIDIA (R) Cuda compiler driver\n",
      "Copyright (c) 2005-2017 NVIDIA Corporation\n",
      "Built on Fri_Sep__1_21:08:32_Central_Daylight_Time_2017\n",
      "Cuda compilation tools, release 9.0, V9.0.176\n"
     ]
    }
   ],
   "source": [
    "# make sure you graphic driver is accessable\n",
    "!nvcc --version"
   ]
  },
  {
   "cell_type": "code",
   "execution_count": 2,
   "metadata": {
    "colab": {},
    "colab_type": "code",
    "id": "HxVNyimFp-PJ"
   },
   "outputs": [
    {
     "name": "stderr",
     "output_type": "stream",
     "text": [
      "f:\\mysoredata\\nbk\\mousevideoanalysis\\dlc_env\\lib\\site-packages\\scipy\\__init__.py:137: UserWarning: NumPy 1.16.5 or above is required for this version of SciPy (detected version 1.16.4)\n",
      "  UserWarning)\n"
     ]
    },
    {
     "data": {
      "text/plain": [
       "'1.14.0'"
      ]
     },
     "execution_count": 2,
     "metadata": {},
     "output_type": "execute_result"
    }
   ],
   "source": [
    "# check the tensorflow version\n",
    "import tensorflow as tf\n",
    "tf.__version__"
   ]
  },
  {
   "cell_type": "markdown",
   "metadata": {},
   "source": [
    "<h1> The following is very important as it allow the current GPU process to grow dynamically </h1>\n",
    "Without this option tf will likely run out of VRAM when trying to update the weight tensor. In theory, these options could cause the GPU to run out of memory entirely, but there is no other way to allow training to complete successfully. "
   ]
  },
  {
   "cell_type": "code",
   "execution_count": 3,
   "metadata": {},
   "outputs": [],
   "source": [
    "#allow video memory growth as network expands to avoid convolutional network errors\n",
    "TF_FORCE_GPU_ALLOW_GROWTH = True\n",
    "config = tf.ConfigProto()\n",
    "config.gpu_options.allow_growth = True\n",
    "session = tf.Session(config=config)"
   ]
  },
  {
   "cell_type": "code",
   "execution_count": 4,
   "metadata": {
    "colab": {},
    "colab_type": "code",
    "id": "Pm_PC1Q8lRrH"
   },
   "outputs": [
    {
     "data": {
      "text/plain": [
       "[name: \"/device:CPU:0\"\n",
       " device_type: \"CPU\"\n",
       " memory_limit: 268435456\n",
       " locality {\n",
       " }\n",
       " incarnation: 802143729825993743,\n",
       " name: \"/device:GPU:0\"\n",
       " device_type: \"GPU\"\n",
       " memory_limit: 6586089472\n",
       " locality {\n",
       "   bus_id: 1\n",
       "   links {\n",
       "   }\n",
       " }\n",
       " incarnation: 16528461277787667422\n",
       " physical_device_desc: \"device: 0, name: GeForce RTX 2080, pci bus id: 0000:41:00.0, compute capability: 7.5\",\n",
       " name: \"/device:GPU:1\"\n",
       " device_type: \"GPU\"\n",
       " memory_limit: 6586089472\n",
       " locality {\n",
       "   bus_id: 1\n",
       "   links {\n",
       "   }\n",
       " }\n",
       " incarnation: 4161680527655938958\n",
       " physical_device_desc: \"device: 1, name: GeForce RTX 2080, pci bus id: 0000:81:00.0, compute capability: 7.5\"]"
      ]
     },
     "execution_count": 4,
     "metadata": {},
     "output_type": "execute_result"
    }
   ],
   "source": [
    "#let's make sure we see a GPU:\n",
    "#tf.test.gpu_device_name()\n",
    "from tensorflow.python.client import device_lib\n",
    "device_lib.list_local_devices()"
   ]
  },
  {
   "cell_type": "markdown",
   "metadata": {},
   "source": [
    "## Start here for training DeepLabCut and analyzing new videos!\n",
    "<p><br>If the first imports fail, there is again - sadly - an issue with you enviroment. Make sure all packages beside DLC are installed via conda. </p> "
   ]
  },
  {
   "cell_type": "code",
   "execution_count": 5,
   "metadata": {
    "colab": {},
    "colab_type": "code",
    "id": "sXufoX6INe6w"
   },
   "outputs": [],
   "source": [
    "#GUIs don't work on in Docker (or the cloud), so label your data locally on your computer! \n",
    "#This notebook is for you to train and run video analysis!\n",
    "import os"
   ]
  },
  {
   "cell_type": "code",
   "execution_count": 6,
   "metadata": {
    "colab": {},
    "colab_type": "code",
    "id": "3K9Ndy1beyfG",
    "scrolled": true
   },
   "outputs": [
    {
     "data": {
      "text/plain": [
       "'2.1.10.1'"
      ]
     },
     "execution_count": 6,
     "metadata": {},
     "output_type": "execute_result"
    }
   ],
   "source": [
    "# now we are ready to train!\n",
    "#should see version 2.0.8\n",
    "import deeplabcut\n",
    "deeplabcut.__version__"
   ]
  },
  {
   "cell_type": "markdown",
   "metadata": {},
   "source": [
    "<h1> change to your path: </h1>\n",
    "<p> this should be the same path as the one in the createDLCproject notebook. The path is the path to the config.yaml file, not the project directory itself </p> "
   ]
  },
  {
   "cell_type": "code",
   "execution_count": 7,
   "metadata": {
    "colab": {},
    "colab_type": "code",
    "id": "Z7ZlDr3wV4D1"
   },
   "outputs": [],
   "source": [
    "path_config_file = r'F:\\MysoreData\\nbk\\mouseVideoAnalysis\\Box1\\cam1\\box1_cam1-spencerloggia-2021-02-07\\config.yaml'"
   ]
  },
  {
   "cell_type": "markdown",
   "metadata": {
    "colab_type": "text",
    "id": "xNi9s1dboEJN"
   },
   "source": [
    "## Create a training dataset\n",
    "This function generates the training data information for DeepCut (which requires a mat file) based on the pandas dataframes that hold label information. The user can set the fraction of the training set size (from all labeled image in the hd5 file) in the config.yaml file. While creating the dataset, the user can create multiple shuffles. \n",
    "\n",
    "After running this script the training dataset is created and saved in the project directory under the subdirectory **'training-datasets'**\n",
    "\n",
    "This function also creates new subdirectories under **dlc-models** and appends the project config.yaml file with the correct path to the training and testing pose configuration file. These files hold the parameters for training the network. Such an example file is provided with the toolbox and named as **pose_cfg.yaml**."
   ]
  },
  {
   "cell_type": "code",
   "execution_count": 8,
   "metadata": {
    "scrolled": true
   },
   "outputs": [
    {
     "ename": "KeyError",
     "evalue": "'No object named df_with_missing in the file'",
     "output_type": "error",
     "traceback": [
      "\u001b[1;31m---------------------------------------------------------------------------\u001b[0m",
      "\u001b[1;31mKeyError\u001b[0m                                  Traceback (most recent call last)",
      "\u001b[1;32m<ipython-input-8-d43c96cb30c9>\u001b[0m in \u001b[0;36m<module>\u001b[1;34m\u001b[0m\n\u001b[1;32m----> 1\u001b[1;33m \u001b[0mdeeplabcut\u001b[0m\u001b[1;33m.\u001b[0m\u001b[0mcreate_training_dataset\u001b[0m\u001b[1;33m(\u001b[0m\u001b[0mpath_config_file\u001b[0m\u001b[1;33m,\u001b[0m \u001b[0mnet_type\u001b[0m\u001b[1;33m=\u001b[0m\u001b[1;34m'resnet_50'\u001b[0m\u001b[1;33m,\u001b[0m \u001b[0maugmenter_type\u001b[0m\u001b[1;33m=\u001b[0m\u001b[1;34m'imgaug'\u001b[0m\u001b[1;33m)\u001b[0m\u001b[1;33m\u001b[0m\u001b[0m\n\u001b[0m",
      "\u001b[1;32mf:\\mysoredata\\nbk\\mousevideoanalysis\\dlc_env\\lib\\site-packages\\deeplabcut\\generate_training_dataset\\trainingsetmanipulation.py\u001b[0m in \u001b[0;36mcreate_training_dataset\u001b[1;34m(config, num_shuffles, Shuffles, windows2linux, userfeedback, trainIndices, testIndices, net_type, augmenter_type)\u001b[0m\n\u001b[0;32m    904\u001b[0m \u001b[1;33m\u001b[0m\u001b[0m\n\u001b[0;32m    905\u001b[0m         Data = merge_annotateddatasets(\n\u001b[1;32m--> 906\u001b[1;33m             \u001b[0mcfg\u001b[0m\u001b[1;33m,\u001b[0m \u001b[0mPath\u001b[0m\u001b[1;33m(\u001b[0m\u001b[0mos\u001b[0m\u001b[1;33m.\u001b[0m\u001b[0mpath\u001b[0m\u001b[1;33m.\u001b[0m\u001b[0mjoin\u001b[0m\u001b[1;33m(\u001b[0m\u001b[0mproject_path\u001b[0m\u001b[1;33m,\u001b[0m \u001b[0mtrainingsetfolder\u001b[0m\u001b[1;33m)\u001b[0m\u001b[1;33m)\u001b[0m\u001b[1;33m,\u001b[0m \u001b[0mwindows2linux\u001b[0m\u001b[1;33m\u001b[0m\u001b[0m\n\u001b[0m\u001b[0;32m    907\u001b[0m         )\n\u001b[0;32m    908\u001b[0m         \u001b[1;32mif\u001b[0m \u001b[0mData\u001b[0m \u001b[1;32mis\u001b[0m \u001b[1;32mNone\u001b[0m\u001b[1;33m:\u001b[0m\u001b[1;33m\u001b[0m\u001b[0m\n",
      "\u001b[1;32mf:\\mysoredata\\nbk\\mousevideoanalysis\\dlc_env\\lib\\site-packages\\deeplabcut\\generate_training_dataset\\trainingsetmanipulation.py\u001b[0m in \u001b[0;36mmerge_annotateddatasets\u001b[1;34m(cfg, trainingsetfolder_full, windows2linux)\u001b[0m\n\u001b[0;32m    602\u001b[0m         )\n\u001b[0;32m    603\u001b[0m         \u001b[1;32mtry\u001b[0m\u001b[1;33m:\u001b[0m\u001b[1;33m\u001b[0m\u001b[0m\n\u001b[1;32m--> 604\u001b[1;33m             \u001b[0mdata\u001b[0m \u001b[1;33m=\u001b[0m \u001b[0mpd\u001b[0m\u001b[1;33m.\u001b[0m\u001b[0mread_hdf\u001b[0m\u001b[1;33m(\u001b[0m\u001b[0mfile_path\u001b[0m\u001b[1;33m,\u001b[0m \u001b[1;34m\"df_with_missing\"\u001b[0m\u001b[1;33m)\u001b[0m\u001b[1;33m\u001b[0m\u001b[0m\n\u001b[0m\u001b[0;32m    605\u001b[0m             \u001b[0mAnnotationData\u001b[0m\u001b[1;33m.\u001b[0m\u001b[0mappend\u001b[0m\u001b[1;33m(\u001b[0m\u001b[0mdata\u001b[0m\u001b[1;33m)\u001b[0m\u001b[1;33m\u001b[0m\u001b[0m\n\u001b[0;32m    606\u001b[0m         \u001b[1;32mexcept\u001b[0m \u001b[0mFileNotFoundError\u001b[0m\u001b[1;33m:\u001b[0m\u001b[1;33m\u001b[0m\u001b[0m\n",
      "\u001b[1;32mf:\\mysoredata\\nbk\\mousevideoanalysis\\dlc_env\\lib\\site-packages\\pandas\\io\\pytables.py\u001b[0m in \u001b[0;36mread_hdf\u001b[1;34m(path_or_buf, key, mode, errors, where, start, stop, columns, iterator, chunksize, **kwargs)\u001b[0m\n\u001b[0;32m    421\u001b[0m             \u001b[0miterator\u001b[0m\u001b[1;33m=\u001b[0m\u001b[0miterator\u001b[0m\u001b[1;33m,\u001b[0m\u001b[1;33m\u001b[0m\u001b[0m\n\u001b[0;32m    422\u001b[0m             \u001b[0mchunksize\u001b[0m\u001b[1;33m=\u001b[0m\u001b[0mchunksize\u001b[0m\u001b[1;33m,\u001b[0m\u001b[1;33m\u001b[0m\u001b[0m\n\u001b[1;32m--> 423\u001b[1;33m             \u001b[0mauto_close\u001b[0m\u001b[1;33m=\u001b[0m\u001b[0mauto_close\u001b[0m\u001b[1;33m,\u001b[0m\u001b[1;33m\u001b[0m\u001b[0m\n\u001b[0m\u001b[0;32m    424\u001b[0m         )\n\u001b[0;32m    425\u001b[0m     \u001b[1;32mexcept\u001b[0m \u001b[1;33m(\u001b[0m\u001b[0mValueError\u001b[0m\u001b[1;33m,\u001b[0m \u001b[0mTypeError\u001b[0m\u001b[1;33m,\u001b[0m \u001b[0mKeyError\u001b[0m\u001b[1;33m)\u001b[0m\u001b[1;33m:\u001b[0m\u001b[1;33m\u001b[0m\u001b[0m\n",
      "\u001b[1;32mf:\\mysoredata\\nbk\\mousevideoanalysis\\dlc_env\\lib\\site-packages\\pandas\\io\\pytables.py\u001b[0m in \u001b[0;36mselect\u001b[1;34m(self, key, where, start, stop, columns, iterator, chunksize, auto_close)\u001b[0m\n\u001b[0;32m    840\u001b[0m         \u001b[0mgroup\u001b[0m \u001b[1;33m=\u001b[0m \u001b[0mself\u001b[0m\u001b[1;33m.\u001b[0m\u001b[0mget_node\u001b[0m\u001b[1;33m(\u001b[0m\u001b[0mkey\u001b[0m\u001b[1;33m)\u001b[0m\u001b[1;33m\u001b[0m\u001b[0m\n\u001b[0;32m    841\u001b[0m         \u001b[1;32mif\u001b[0m \u001b[0mgroup\u001b[0m \u001b[1;32mis\u001b[0m \u001b[1;32mNone\u001b[0m\u001b[1;33m:\u001b[0m\u001b[1;33m\u001b[0m\u001b[0m\n\u001b[1;32m--> 842\u001b[1;33m             \u001b[1;32mraise\u001b[0m \u001b[0mKeyError\u001b[0m\u001b[1;33m(\u001b[0m\u001b[1;34mf\"No object named {key} in the file\"\u001b[0m\u001b[1;33m)\u001b[0m\u001b[1;33m\u001b[0m\u001b[0m\n\u001b[0m\u001b[0;32m    843\u001b[0m \u001b[1;33m\u001b[0m\u001b[0m\n\u001b[0;32m    844\u001b[0m         \u001b[1;31m# create the storer and axes\u001b[0m\u001b[1;33m\u001b[0m\u001b[1;33m\u001b[0m\u001b[0m\n",
      "\u001b[1;31mKeyError\u001b[0m: 'No object named df_with_missing in the file'"
     ]
    }
   ],
   "source": [
    "deeplabcut.create_training_dataset(path_config_file, net_type='resnet_50', augmenter_type='imgaug')"
   ]
  },
  {
   "cell_type": "markdown",
   "metadata": {},
   "source": [
    "### now go edit the pose_cfg.yaml to make display_iters: low (i.e. 10), and save_iters: 500\n",
    "\n",
    "Now it is the time to start training the network!"
   ]
  },
  {
   "cell_type": "markdown",
   "metadata": {
    "colab_type": "text",
    "id": "c4FczXGDoEJU"
   },
   "source": [
    "## Start training\n",
    "This function trains the network for a specific shuffle of the training dataset. "
   ]
  },
  {
   "cell_type": "code",
   "execution_count": null,
   "metadata": {
    "colab": {},
    "colab_type": "code",
    "id": "_pOvDq_2oEJW",
    "scrolled": false
   },
   "outputs": [],
   "source": [
    "#reset in case you started a session before...\n",
    "#tf.reset_default_graph()\n",
    "\n",
    "deeplabcut.train_network(path_config_file, shuffle=1, saveiters=1000, displayiters=10, gputouse=1)\n",
    "\n",
    "#this will run until you stop it (CTRL+C), or hit \"STOP\" icon, or when it hits the end (default, 1.3M iterations). \n",
    "#Whichever you chose, you will see what looks like an error message, but it's not an error - don't worry....\n"
   ]
  },
  {
   "cell_type": "markdown",
   "metadata": {},
   "source": [
    "### A couple tips for possible troubleshooting (1): \n",
    "\n",
    "if you get **permission errors** when you run this step (above), first check if the weights downloaded. As some docker containers might not have privileges for this (it can be user specific). They should be under 'init_weights' (see path in the pose_cfg.yaml file). You can enter the DOCKER in the terminal:"
   ]
  },
  {
   "cell_type": "markdown",
   "metadata": {},
   "source": [
    "see more here: https://github.com/MMathisLab/Docker4DeepLabCut2.0#using-the-docker-for-training-and-video-analysis"
   ]
  },
  {
   "cell_type": "markdown",
   "metadata": {},
   "source": [
    "### Troubleshooting (2): \n",
    "if it appears the training does not start (i.e. \"Starting training...\" does not print immediately),\n",
    "then you have another session running on your GPU. Go check \"nvidia-smi\" and look at the process names. You can only have 1 per GPU!)"
   ]
  },
  {
   "cell_type": "markdown",
   "metadata": {
    "colab_type": "text",
    "id": "xZygsb2DoEJc"
   },
   "source": [
    "## Start evaluating\n",
    "This funtion evaluates a trained model for a specific shuffle/shuffles at a particular state or all the states on the data set (images)\n",
    "and stores the results as .csv file in a subdirectory under **evaluation-results**"
   ]
  },
  {
   "cell_type": "code",
   "execution_count": null,
   "metadata": {
    "colab": {},
    "colab_type": "code",
    "id": "nv4zlbrnoEJg",
    "scrolled": false
   },
   "outputs": [],
   "source": [
    "deeplabcut.evaluate_network(path_config_file)\n",
    "\n",
    "# Here you want to see a low pixel error! Of course, it can only be as good as the labeler, so be sure your labels are good!"
   ]
  },
  {
   "cell_type": "markdown",
   "metadata": {
    "colab_type": "text",
    "id": "BaLBl3TQtrfB"
   },
   "source": [
    "## There is an optional refinement step\n",
    "- if your pixel errors are not low enough, use DLC docs on how to refine yur network!\n",
    "- You will need to adjust the labels outside of DOCKER! (you can use the createDLCproject notebook) \n",
    "-  see DLC protocol instructions on how to refine your data!"
   ]
  },
  {
   "cell_type": "markdown",
   "metadata": {
    "colab_type": "text",
    "id": "OVFLSKKfoEJk"
   },
   "source": [
    "## Start Analyzing videos\n",
    "This function analyzes the new video. The user can choose the best model from the evaluation results and specify the correct snapshot index for the variable **snapshotindex** in the **config.yaml** file. Otherwise, by default the most recent snapshot is used to analyse the video.\n",
    "\n",
    "The results are stored in hd5 file in the same directory where the video resides. "
   ]
  },
  {
   "cell_type": "code",
   "execution_count": null,
   "metadata": {
    "colab": {},
    "colab_type": "code",
    "id": "Y_LZiS_0oEJl",
    "scrolled": false
   },
   "outputs": [
    {
     "name": "stderr",
     "output_type": "stream",
     "text": [
      "WARNING: Logging before flag parsing goes to stderr.\n",
      "W0530 01:40:38.111350 127876 deprecation_wrapper.py:119] From C:\\Users\\pbs-mysorelab\\.conda\\envs\\nbkGPU\\lib\\site-packages\\deeplabcut\\pose_estimation_tensorflow\\predict_videos.py:127: The name tf.reset_default_graph is deprecated. Please use tf.compat.v1.reset_default_graph instead.\n",
      "\n"
     ]
    },
    {
     "name": "stdout",
     "output_type": "stream",
     "text": [
      "Using snapshot-1030000 for model F:\\MysoreData\\nbk\\TEST_50fps_mitg05_042120_cam2-spencer loggia-2020-04-24\\dlc-models\\iteration-0\\TEST_50fps_mitg05_042120_cam2Apr24-trainset95shuffle1\n"
     ]
    },
    {
     "name": "stderr",
     "output_type": "stream",
     "text": [
      "W0530 01:40:38.254388 127876 deprecation_wrapper.py:119] From C:\\Users\\pbs-mysorelab\\.conda\\envs\\nbkGPU\\lib\\site-packages\\deeplabcut\\pose_estimation_tensorflow\\nnet\\predict.py:187: The name tf.placeholder is deprecated. Please use tf.compat.v1.placeholder instead.\n",
      "\n"
     ]
    },
    {
     "name": "stdout",
     "output_type": "stream",
     "text": [
      "Initializing ResNet\n"
     ]
    },
    {
     "name": "stderr",
     "output_type": "stream",
     "text": [
      "W0530 01:40:44.157921 127876 deprecation_wrapper.py:119] From C:\\Users\\pbs-mysorelab\\.conda\\envs\\nbkGPU\\lib\\site-packages\\deeplabcut\\pose_estimation_tensorflow\\nnet\\pose_net.py:62: The name tf.variable_scope is deprecated. Please use tf.compat.v1.variable_scope instead.\n",
      "\n",
      "W0530 01:40:45.488962 127876 deprecation_wrapper.py:119] From C:\\Users\\pbs-mysorelab\\.conda\\envs\\nbkGPU\\lib\\site-packages\\deeplabcut\\pose_estimation_tensorflow\\nnet\\predict.py:191: The name tf.train.Saver is deprecated. Please use tf.compat.v1.train.Saver instead.\n",
      "\n",
      "W0530 01:40:46.036719 127876 deprecation_wrapper.py:119] From C:\\Users\\pbs-mysorelab\\.conda\\envs\\nbkGPU\\lib\\site-packages\\deeplabcut\\pose_estimation_tensorflow\\nnet\\predict.py:192: The name tf.Session is deprecated. Please use tf.compat.v1.Session instead.\n",
      "\n",
      "W0530 01:40:46.155978 127876 deprecation_wrapper.py:119] From C:\\Users\\pbs-mysorelab\\.conda\\envs\\nbkGPU\\lib\\site-packages\\deeplabcut\\pose_estimation_tensorflow\\nnet\\predict.py:194: The name tf.global_variables_initializer is deprecated. Please use tf.compat.v1.global_variables_initializer instead.\n",
      "\n",
      "W0530 01:40:47.451187 127876 deprecation.py:323] From C:\\Users\\pbs-mysorelab\\.conda\\envs\\nbkGPU\\lib\\site-packages\\tensorflow\\python\\training\\saver.py:1276: checkpoint_exists (from tensorflow.python.training.checkpoint_management) is deprecated and will be removed in a future version.\n",
      "Instructions for updating:\n",
      "Use standard file APIs to check for files with this prefix.\n"
     ]
    },
    {
     "name": "stdout",
     "output_type": "stream",
     "text": [
      "Starting to analyze %  F:\\MysoreData\\nbk\\mouse_videos\\mitg05\\05252020\\cam2\\clips\\mitg05-533--05252020095948.avi_clip_1.avi\n",
      "Loading  F:\\MysoreData\\nbk\\mouse_videos\\mitg05\\05252020\\cam2\\clips\\mitg05-533--05252020095948.avi_clip_1.avi\n",
      "Duration of video [s]:  1.67 , recorded with  30.0 fps!\n",
      "Overall # of frames:  50  found with (before cropping) frame dimensions:  768 768\n",
      "Starting to extract posture\n"
     ]
    },
    {
     "name": "stderr",
     "output_type": "stream",
     "text": [
      "60it [00:08,  9.14it/s]                                                                                                "
     ]
    },
    {
     "name": "stdout",
     "output_type": "stream",
     "text": [
      "Detected frames:  50\n"
     ]
    },
    {
     "name": "stderr",
     "output_type": "stream",
     "text": [
      "60it [00:08,  7.08it/s]\n"
     ]
    },
    {
     "name": "stdout",
     "output_type": "stream",
     "text": [
      "Saving results in F:\\MysoreData\\nbk\\mouse_videos\\mitg05\\05252020\\cam2\\clips...\n",
      "Starting to analyze %  F:\\MysoreData\\nbk\\mouse_videos\\mitg05\\05252020\\cam2\\clips\\mitg05-533--05252020095948.avi_clip_10.avi\n",
      "Loading  F:\\MysoreData\\nbk\\mouse_videos\\mitg05\\05252020\\cam2\\clips\\mitg05-533--05252020095948.avi_clip_10.avi\n",
      "Duration of video [s]:  1.4 , recorded with  30.0 fps!\n",
      "Overall # of frames:  42  found with (before cropping) frame dimensions:  768 768\n",
      "Starting to extract posture\n"
     ]
    },
    {
     "name": "stderr",
     "output_type": "stream",
     "text": [
      "50it [00:01, 30.87it/s]                                                                                                "
     ]
    },
    {
     "name": "stdout",
     "output_type": "stream",
     "text": [
      "Detected frames:  42\n"
     ]
    },
    {
     "name": "stderr",
     "output_type": "stream",
     "text": [
      "50it [00:01, 29.07it/s]\n"
     ]
    },
    {
     "name": "stdout",
     "output_type": "stream",
     "text": [
      "Saving results in F:\\MysoreData\\nbk\\mouse_videos\\mitg05\\05252020\\cam2\\clips...\n",
      "Starting to analyze %  F:\\MysoreData\\nbk\\mouse_videos\\mitg05\\05252020\\cam2\\clips\\mitg05-533--05252020095948.avi_clip_100.avi\n",
      "Loading  F:\\MysoreData\\nbk\\mouse_videos\\mitg05\\05252020\\cam2\\clips\\mitg05-533--05252020095948.avi_clip_100.avi\n",
      "Duration of video [s]:  1.57 , recorded with  30.0 fps!\n",
      "Overall # of frames:  47  found with (before cropping) frame dimensions:  768 768\n",
      "Starting to extract posture\n"
     ]
    },
    {
     "name": "stderr",
     "output_type": "stream",
     "text": [
      "50it [00:01, 30.15it/s]                                                                                                "
     ]
    },
    {
     "name": "stdout",
     "output_type": "stream",
     "text": [
      "Detected frames:  47\n"
     ]
    },
    {
     "name": "stderr",
     "output_type": "stream",
     "text": [
      "50it [00:01, 27.89it/s]\n"
     ]
    },
    {
     "name": "stdout",
     "output_type": "stream",
     "text": [
      "Saving results in F:\\MysoreData\\nbk\\mouse_videos\\mitg05\\05252020\\cam2\\clips...\n",
      "Starting to analyze %  F:\\MysoreData\\nbk\\mouse_videos\\mitg05\\05252020\\cam2\\clips\\mitg05-533--05252020095948.avi_clip_101.avi\n",
      "Loading  F:\\MysoreData\\nbk\\mouse_videos\\mitg05\\05252020\\cam2\\clips\\mitg05-533--05252020095948.avi_clip_101.avi\n",
      "Duration of video [s]:  1.47 , recorded with  30.0 fps!\n",
      "Overall # of frames:  44  found with (before cropping) frame dimensions:  768 768\n",
      "Starting to extract posture\n"
     ]
    },
    {
     "name": "stderr",
     "output_type": "stream",
     "text": [
      "50it [00:01, 30.50it/s]                                                                                                "
     ]
    },
    {
     "name": "stdout",
     "output_type": "stream",
     "text": [
      "Detected frames:  44\n"
     ]
    },
    {
     "name": "stderr",
     "output_type": "stream",
     "text": [
      "50it [00:01, 28.45it/s]\n"
     ]
    },
    {
     "name": "stdout",
     "output_type": "stream",
     "text": [
      "Saving results in F:\\MysoreData\\nbk\\mouse_videos\\mitg05\\05252020\\cam2\\clips...\n",
      "Starting to analyze %  F:\\MysoreData\\nbk\\mouse_videos\\mitg05\\05252020\\cam2\\clips\\mitg05-533--05252020095948.avi_clip_102.avi\n",
      "Loading  F:\\MysoreData\\nbk\\mouse_videos\\mitg05\\05252020\\cam2\\clips\\mitg05-533--05252020095948.avi_clip_102.avi\n",
      "Duration of video [s]:  1.43 , recorded with  30.0 fps!\n",
      "Overall # of frames:  43  found with (before cropping) frame dimensions:  768 768\n",
      "Starting to extract posture\n"
     ]
    },
    {
     "name": "stderr",
     "output_type": "stream",
     "text": [
      "50it [00:01, 30.81it/s]                                                                                                "
     ]
    },
    {
     "name": "stdout",
     "output_type": "stream",
     "text": [
      "Detected frames:  43\n"
     ]
    },
    {
     "name": "stderr",
     "output_type": "stream",
     "text": [
      "50it [00:01, 29.09it/s]\n"
     ]
    },
    {
     "name": "stdout",
     "output_type": "stream",
     "text": [
      "Saving results in F:\\MysoreData\\nbk\\mouse_videos\\mitg05\\05252020\\cam2\\clips...\n",
      "Starting to analyze %  F:\\MysoreData\\nbk\\mouse_videos\\mitg05\\05252020\\cam2\\clips\\mitg05-533--05252020095948.avi_clip_103.avi\n",
      "Loading  F:\\MysoreData\\nbk\\mouse_videos\\mitg05\\05252020\\cam2\\clips\\mitg05-533--05252020095948.avi_clip_103.avi\n",
      "Duration of video [s]:  2.5 , recorded with  30.0 fps!\n",
      "Overall # of frames:  75  found with (before cropping) frame dimensions:  768 768\n",
      "Starting to extract posture\n"
     ]
    },
    {
     "name": "stderr",
     "output_type": "stream",
     "text": [
      "80it [00:02, 32.29it/s]                                                                                                "
     ]
    },
    {
     "name": "stdout",
     "output_type": "stream",
     "text": [
      "Detected frames:  75\n"
     ]
    },
    {
     "name": "stderr",
     "output_type": "stream",
     "text": [
      "80it [00:02, 27.54it/s]\n"
     ]
    },
    {
     "name": "stdout",
     "output_type": "stream",
     "text": [
      "Saving results in F:\\MysoreData\\nbk\\mouse_videos\\mitg05\\05252020\\cam2\\clips...\n",
      "Starting to analyze %  F:\\MysoreData\\nbk\\mouse_videos\\mitg05\\05252020\\cam2\\clips\\mitg05-533--05252020095948.avi_clip_104.avi\n",
      "Loading  F:\\MysoreData\\nbk\\mouse_videos\\mitg05\\05252020\\cam2\\clips\\mitg05-533--05252020095948.avi_clip_104.avi\n",
      "Duration of video [s]:  1.43 , recorded with  30.0 fps!\n",
      "Overall # of frames:  43  found with (before cropping) frame dimensions:  768 768\n",
      "Starting to extract posture\n"
     ]
    },
    {
     "name": "stderr",
     "output_type": "stream",
     "text": [
      "50it [00:01, 30.94it/s]                                                                                                "
     ]
    },
    {
     "name": "stdout",
     "output_type": "stream",
     "text": [
      "Detected frames:  43\n"
     ]
    },
    {
     "name": "stderr",
     "output_type": "stream",
     "text": [
      "50it [00:01, 29.07it/s]\n"
     ]
    },
    {
     "name": "stdout",
     "output_type": "stream",
     "text": [
      "Saving results in F:\\MysoreData\\nbk\\mouse_videos\\mitg05\\05252020\\cam2\\clips...\n",
      "Starting to analyze %  F:\\MysoreData\\nbk\\mouse_videos\\mitg05\\05252020\\cam2\\clips\\mitg05-533--05252020095948.avi_clip_105.avi\n",
      "Loading  F:\\MysoreData\\nbk\\mouse_videos\\mitg05\\05252020\\cam2\\clips\\mitg05-533--05252020095948.avi_clip_105.avi\n",
      "Duration of video [s]:  1.43 , recorded with  30.0 fps!\n",
      "Overall # of frames:  43  found with (before cropping) frame dimensions:  768 768\n",
      "Starting to extract posture\n"
     ]
    },
    {
     "name": "stderr",
     "output_type": "stream",
     "text": [
      "50it [00:01, 30.52it/s]                                                                                                "
     ]
    },
    {
     "name": "stdout",
     "output_type": "stream",
     "text": [
      "Detected frames:  43\n"
     ]
    },
    {
     "name": "stderr",
     "output_type": "stream",
     "text": [
      "50it [00:01, 28.62it/s]\n"
     ]
    },
    {
     "name": "stdout",
     "output_type": "stream",
     "text": [
      "Saving results in F:\\MysoreData\\nbk\\mouse_videos\\mitg05\\05252020\\cam2\\clips...\n",
      "Starting to analyze %  F:\\MysoreData\\nbk\\mouse_videos\\mitg05\\05252020\\cam2\\clips\\mitg05-533--05252020095948.avi_clip_106.avi\n",
      "Loading  F:\\MysoreData\\nbk\\mouse_videos\\mitg05\\05252020\\cam2\\clips\\mitg05-533--05252020095948.avi_clip_106.avi\n",
      "Duration of video [s]:  1.43 , recorded with  30.0 fps!\n",
      "Overall # of frames:  43  found with (before cropping) frame dimensions:  768 768\n",
      "Starting to extract posture\n"
     ]
    },
    {
     "name": "stderr",
     "output_type": "stream",
     "text": [
      "50it [00:01, 30.83it/s]                                                                                                "
     ]
    },
    {
     "name": "stdout",
     "output_type": "stream",
     "text": [
      "Detected frames:  43\n"
     ]
    },
    {
     "name": "stderr",
     "output_type": "stream",
     "text": [
      "50it [00:01, 28.72it/s]\n"
     ]
    },
    {
     "name": "stdout",
     "output_type": "stream",
     "text": [
      "Saving results in F:\\MysoreData\\nbk\\mouse_videos\\mitg05\\05252020\\cam2\\clips...\n",
      "Starting to analyze %  F:\\MysoreData\\nbk\\mouse_videos\\mitg05\\05252020\\cam2\\clips\\mitg05-533--05252020095948.avi_clip_107.avi\n",
      "Loading  F:\\MysoreData\\nbk\\mouse_videos\\mitg05\\05252020\\cam2\\clips\\mitg05-533--05252020095948.avi_clip_107.avi\n",
      "Duration of video [s]:  1.47 , recorded with  30.0 fps!\n",
      "Overall # of frames:  44  found with (before cropping) frame dimensions:  768 768\n",
      "Starting to extract posture\n"
     ]
    },
    {
     "name": "stderr",
     "output_type": "stream",
     "text": [
      "50it [00:01, 30.40it/s]                                                                                                "
     ]
    },
    {
     "name": "stdout",
     "output_type": "stream",
     "text": [
      "Detected frames:  44\n"
     ]
    },
    {
     "name": "stderr",
     "output_type": "stream",
     "text": [
      "50it [00:01, 28.24it/s]\n"
     ]
    },
    {
     "name": "stdout",
     "output_type": "stream",
     "text": [
      "Saving results in F:\\MysoreData\\nbk\\mouse_videos\\mitg05\\05252020\\cam2\\clips...\n",
      "Starting to analyze %  F:\\MysoreData\\nbk\\mouse_videos\\mitg05\\05252020\\cam2\\clips\\mitg05-533--05252020095948.avi_clip_108.avi\n",
      "Loading  F:\\MysoreData\\nbk\\mouse_videos\\mitg05\\05252020\\cam2\\clips\\mitg05-533--05252020095948.avi_clip_108.avi\n",
      "Duration of video [s]:  1.53 , recorded with  30.0 fps!\n",
      "Overall # of frames:  46  found with (before cropping) frame dimensions:  768 768\n",
      "Starting to extract posture\n"
     ]
    },
    {
     "name": "stderr",
     "output_type": "stream",
     "text": [
      "50it [00:01, 31.04it/s]                                                                                                "
     ]
    },
    {
     "name": "stdout",
     "output_type": "stream",
     "text": [
      "Detected frames:  46\n"
     ]
    },
    {
     "name": "stderr",
     "output_type": "stream",
     "text": [
      "50it [00:01, 28.35it/s]\n"
     ]
    },
    {
     "name": "stdout",
     "output_type": "stream",
     "text": [
      "Saving results in F:\\MysoreData\\nbk\\mouse_videos\\mitg05\\05252020\\cam2\\clips...\n",
      "Starting to analyze %  F:\\MysoreData\\nbk\\mouse_videos\\mitg05\\05252020\\cam2\\clips\\mitg05-533--05252020095948.avi_clip_109.avi\n",
      "Loading  F:\\MysoreData\\nbk\\mouse_videos\\mitg05\\05252020\\cam2\\clips\\mitg05-533--05252020095948.avi_clip_109.avi\n",
      "Duration of video [s]:  7.73 , recorded with  30.0 fps!\n",
      "Overall # of frames:  232  found with (before cropping) frame dimensions:  768 768\n",
      "Starting to extract posture\n"
     ]
    },
    {
     "name": "stderr",
     "output_type": "stream",
     "text": [
      "240it [00:08, 29.78it/s]                                                                                               "
     ]
    },
    {
     "name": "stdout",
     "output_type": "stream",
     "text": [
      "Detected frames:  232\n"
     ]
    },
    {
     "name": "stderr",
     "output_type": "stream",
     "text": [
      "240it [00:08, 28.44it/s]\n"
     ]
    },
    {
     "name": "stdout",
     "output_type": "stream",
     "text": [
      "Saving results in F:\\MysoreData\\nbk\\mouse_videos\\mitg05\\05252020\\cam2\\clips...\n",
      "Starting to analyze %  F:\\MysoreData\\nbk\\mouse_videos\\mitg05\\05252020\\cam2\\clips\\mitg05-533--05252020095948.avi_clip_11.avi\n",
      "Loading  F:\\MysoreData\\nbk\\mouse_videos\\mitg05\\05252020\\cam2\\clips\\mitg05-533--05252020095948.avi_clip_11.avi\n",
      "Duration of video [s]:  1.53 , recorded with  30.0 fps!\n",
      "Overall # of frames:  46  found with (before cropping) frame dimensions:  768 768\n",
      "Starting to extract posture\n"
     ]
    },
    {
     "name": "stderr",
     "output_type": "stream",
     "text": [
      "50it [00:01, 30.63it/s]                                                                                                "
     ]
    },
    {
     "name": "stdout",
     "output_type": "stream",
     "text": [
      "Detected frames:  46\n"
     ]
    },
    {
     "name": "stderr",
     "output_type": "stream",
     "text": [
      "50it [00:01, 28.49it/s]\n"
     ]
    },
    {
     "name": "stdout",
     "output_type": "stream",
     "text": [
      "Saving results in F:\\MysoreData\\nbk\\mouse_videos\\mitg05\\05252020\\cam2\\clips...\n",
      "Starting to analyze %  F:\\MysoreData\\nbk\\mouse_videos\\mitg05\\05252020\\cam2\\clips\\mitg05-533--05252020095948.avi_clip_110.avi\n",
      "Loading  F:\\MysoreData\\nbk\\mouse_videos\\mitg05\\05252020\\cam2\\clips\\mitg05-533--05252020095948.avi_clip_110.avi\n",
      "Duration of video [s]:  5.43 , recorded with  30.0 fps!\n",
      "Overall # of frames:  163  found with (before cropping) frame dimensions:  768 768\n",
      "Starting to extract posture\n"
     ]
    },
    {
     "name": "stderr",
     "output_type": "stream",
     "text": [
      "170it [00:05, 25.39it/s]                                                                                               "
     ]
    },
    {
     "name": "stdout",
     "output_type": "stream",
     "text": [
      "Detected frames:  163\n"
     ]
    },
    {
     "name": "stderr",
     "output_type": "stream",
     "text": [
      "170it [00:06, 28.19it/s]\n"
     ]
    },
    {
     "name": "stdout",
     "output_type": "stream",
     "text": [
      "Saving results in F:\\MysoreData\\nbk\\mouse_videos\\mitg05\\05252020\\cam2\\clips...\n",
      "Starting to analyze %  F:\\MysoreData\\nbk\\mouse_videos\\mitg05\\05252020\\cam2\\clips\\mitg05-533--05252020095948.avi_clip_111.avi\n",
      "Loading  F:\\MysoreData\\nbk\\mouse_videos\\mitg05\\05252020\\cam2\\clips\\mitg05-533--05252020095948.avi_clip_111.avi\n",
      "Duration of video [s]:  1.47 , recorded with  30.0 fps!\n",
      "Overall # of frames:  44  found with (before cropping) frame dimensions:  768 768\n",
      "Starting to extract posture\n"
     ]
    },
    {
     "name": "stderr",
     "output_type": "stream",
     "text": [
      "50it [00:01, 30.30it/s]                                                                                                "
     ]
    },
    {
     "name": "stdout",
     "output_type": "stream",
     "text": [
      "Detected frames:  44\n"
     ]
    },
    {
     "name": "stderr",
     "output_type": "stream",
     "text": [
      "50it [00:01, 28.57it/s]\n"
     ]
    },
    {
     "name": "stdout",
     "output_type": "stream",
     "text": [
      "Saving results in F:\\MysoreData\\nbk\\mouse_videos\\mitg05\\05252020\\cam2\\clips...\n",
      "Starting to analyze %  F:\\MysoreData\\nbk\\mouse_videos\\mitg05\\05252020\\cam2\\clips\\mitg05-533--05252020095948.avi_clip_112.avi\n",
      "Loading  F:\\MysoreData\\nbk\\mouse_videos\\mitg05\\05252020\\cam2\\clips\\mitg05-533--05252020095948.avi_clip_112.avi\n",
      "Duration of video [s]:  1.53 , recorded with  30.0 fps!\n",
      "Overall # of frames:  46  found with (before cropping) frame dimensions:  768 768\n",
      "Starting to extract posture\n"
     ]
    },
    {
     "name": "stderr",
     "output_type": "stream",
     "text": [
      "50it [00:01, 30.54it/s]                                                                                                "
     ]
    },
    {
     "name": "stdout",
     "output_type": "stream",
     "text": [
      "Detected frames:  46\n"
     ]
    },
    {
     "name": "stderr",
     "output_type": "stream",
     "text": [
      "50it [00:01, 28.56it/s]\n"
     ]
    },
    {
     "name": "stdout",
     "output_type": "stream",
     "text": [
      "Saving results in F:\\MysoreData\\nbk\\mouse_videos\\mitg05\\05252020\\cam2\\clips...\n",
      "Starting to analyze %  F:\\MysoreData\\nbk\\mouse_videos\\mitg05\\05252020\\cam2\\clips\\mitg05-533--05252020095948.avi_clip_113.avi\n",
      "Loading  F:\\MysoreData\\nbk\\mouse_videos\\mitg05\\05252020\\cam2\\clips\\mitg05-533--05252020095948.avi_clip_113.avi\n",
      "Duration of video [s]:  1.5 , recorded with  30.0 fps!\n",
      "Overall # of frames:  45  found with (before cropping) frame dimensions:  768 768\n",
      "Starting to extract posture\n"
     ]
    },
    {
     "name": "stderr",
     "output_type": "stream",
     "text": [
      "50it [00:01, 30.48it/s]                                                                                                "
     ]
    },
    {
     "name": "stdout",
     "output_type": "stream",
     "text": [
      "Detected frames:  45\n"
     ]
    },
    {
     "name": "stderr",
     "output_type": "stream",
     "text": [
      "50it [00:01, 28.32it/s]\n"
     ]
    },
    {
     "name": "stdout",
     "output_type": "stream",
     "text": [
      "Saving results in F:\\MysoreData\\nbk\\mouse_videos\\mitg05\\05252020\\cam2\\clips...\n",
      "Starting to analyze %  F:\\MysoreData\\nbk\\mouse_videos\\mitg05\\05252020\\cam2\\clips\\mitg05-533--05252020095948.avi_clip_114.avi\n",
      "Loading  F:\\MysoreData\\nbk\\mouse_videos\\mitg05\\05252020\\cam2\\clips\\mitg05-533--05252020095948.avi_clip_114.avi\n",
      "Duration of video [s]:  1.53 , recorded with  30.0 fps!\n",
      "Overall # of frames:  46  found with (before cropping) frame dimensions:  768 768\n",
      "Starting to extract posture\n"
     ]
    },
    {
     "name": "stderr",
     "output_type": "stream",
     "text": [
      "50it [00:01, 30.77it/s]                                                                                                "
     ]
    },
    {
     "name": "stdout",
     "output_type": "stream",
     "text": [
      "Detected frames:  46\n"
     ]
    },
    {
     "name": "stderr",
     "output_type": "stream",
     "text": [
      "50it [00:01, 28.42it/s]\n"
     ]
    },
    {
     "name": "stdout",
     "output_type": "stream",
     "text": [
      "Saving results in F:\\MysoreData\\nbk\\mouse_videos\\mitg05\\05252020\\cam2\\clips...\n",
      "Starting to analyze %  F:\\MysoreData\\nbk\\mouse_videos\\mitg05\\05252020\\cam2\\clips\\mitg05-533--05252020095948.avi_clip_115.avi\n",
      "Loading  F:\\MysoreData\\nbk\\mouse_videos\\mitg05\\05252020\\cam2\\clips\\mitg05-533--05252020095948.avi_clip_115.avi\n",
      "Duration of video [s]:  1.43 , recorded with  30.0 fps!\n",
      "Overall # of frames:  43  found with (before cropping) frame dimensions:  768 768\n",
      "Starting to extract posture\n"
     ]
    },
    {
     "name": "stderr",
     "output_type": "stream",
     "text": [
      "50it [00:01, 30.56it/s]                                                                                                "
     ]
    },
    {
     "name": "stdout",
     "output_type": "stream",
     "text": [
      "Detected frames:  43\n"
     ]
    },
    {
     "name": "stderr",
     "output_type": "stream",
     "text": [
      "50it [00:01, 28.64it/s]\n"
     ]
    },
    {
     "name": "stdout",
     "output_type": "stream",
     "text": [
      "Saving results in F:\\MysoreData\\nbk\\mouse_videos\\mitg05\\05252020\\cam2\\clips...\n",
      "Starting to analyze %  F:\\MysoreData\\nbk\\mouse_videos\\mitg05\\05252020\\cam2\\clips\\mitg05-533--05252020095948.avi_clip_116.avi\n",
      "Loading  F:\\MysoreData\\nbk\\mouse_videos\\mitg05\\05252020\\cam2\\clips\\mitg05-533--05252020095948.avi_clip_116.avi\n",
      "Duration of video [s]:  1.53 , recorded with  30.0 fps!\n",
      "Overall # of frames:  46  found with (before cropping) frame dimensions:  768 768\n",
      "Starting to extract posture\n"
     ]
    },
    {
     "name": "stderr",
     "output_type": "stream",
     "text": [
      "50it [00:01, 30.45it/s]                                                                                                "
     ]
    },
    {
     "name": "stdout",
     "output_type": "stream",
     "text": [
      "Detected frames:  46\n"
     ]
    },
    {
     "name": "stderr",
     "output_type": "stream",
     "text": [
      "50it [00:01, 28.26it/s]\n"
     ]
    },
    {
     "name": "stdout",
     "output_type": "stream",
     "text": [
      "Saving results in F:\\MysoreData\\nbk\\mouse_videos\\mitg05\\05252020\\cam2\\clips...\n",
      "Starting to analyze %  F:\\MysoreData\\nbk\\mouse_videos\\mitg05\\05252020\\cam2\\clips\\mitg05-533--05252020095948.avi_clip_117.avi\n",
      "Loading  F:\\MysoreData\\nbk\\mouse_videos\\mitg05\\05252020\\cam2\\clips\\mitg05-533--05252020095948.avi_clip_117.avi\n",
      "Duration of video [s]:  1.43 , recorded with  30.0 fps!\n",
      "Overall # of frames:  43  found with (before cropping) frame dimensions:  768 768\n",
      "Starting to extract posture\n"
     ]
    },
    {
     "name": "stderr",
     "output_type": "stream",
     "text": [
      "50it [00:01, 31.08it/s]                                                                                                "
     ]
    },
    {
     "name": "stdout",
     "output_type": "stream",
     "text": [
      "Detected frames:  43\n"
     ]
    },
    {
     "name": "stderr",
     "output_type": "stream",
     "text": [
      "50it [00:01, 29.19it/s]\n"
     ]
    },
    {
     "name": "stdout",
     "output_type": "stream",
     "text": [
      "Saving results in F:\\MysoreData\\nbk\\mouse_videos\\mitg05\\05252020\\cam2\\clips...\n",
      "Starting to analyze %  F:\\MysoreData\\nbk\\mouse_videos\\mitg05\\05252020\\cam2\\clips\\mitg05-533--05252020095948.avi_clip_118.avi\n",
      "Loading  F:\\MysoreData\\nbk\\mouse_videos\\mitg05\\05252020\\cam2\\clips\\mitg05-533--05252020095948.avi_clip_118.avi\n",
      "Duration of video [s]:  1.43 , recorded with  30.0 fps!\n",
      "Overall # of frames:  43  found with (before cropping) frame dimensions:  768 768\n",
      "Starting to extract posture\n"
     ]
    },
    {
     "name": "stderr",
     "output_type": "stream",
     "text": [
      "50it [00:01, 30.34it/s]                                                                                                "
     ]
    },
    {
     "name": "stdout",
     "output_type": "stream",
     "text": [
      "Detected frames:  43\n"
     ]
    },
    {
     "name": "stderr",
     "output_type": "stream",
     "text": [
      "50it [00:01, 28.75it/s]\n"
     ]
    },
    {
     "name": "stdout",
     "output_type": "stream",
     "text": [
      "Saving results in F:\\MysoreData\\nbk\\mouse_videos\\mitg05\\05252020\\cam2\\clips...\n",
      "Starting to analyze %  F:\\MysoreData\\nbk\\mouse_videos\\mitg05\\05252020\\cam2\\clips\\mitg05-533--05252020095948.avi_clip_119.avi\n",
      "Loading  F:\\MysoreData\\nbk\\mouse_videos\\mitg05\\05252020\\cam2\\clips\\mitg05-533--05252020095948.avi_clip_119.avi\n",
      "Duration of video [s]:  1.33 , recorded with  30.0 fps!\n",
      "Overall # of frames:  40  found with (before cropping) frame dimensions:  768 768\n",
      "Starting to extract posture\n"
     ]
    },
    {
     "name": "stderr",
     "output_type": "stream",
     "text": [
      "50it [00:01, 30.82it/s]                                                                                                "
     ]
    },
    {
     "name": "stdout",
     "output_type": "stream",
     "text": [
      "Detected frames:  40\n"
     ]
    },
    {
     "name": "stderr",
     "output_type": "stream",
     "text": [
      "50it [00:01, 34.00it/s]\n"
     ]
    },
    {
     "name": "stdout",
     "output_type": "stream",
     "text": [
      "Saving results in F:\\MysoreData\\nbk\\mouse_videos\\mitg05\\05252020\\cam2\\clips...\n",
      "Starting to analyze %  F:\\MysoreData\\nbk\\mouse_videos\\mitg05\\05252020\\cam2\\clips\\mitg05-533--05252020095948.avi_clip_12.avi\n",
      "Loading  F:\\MysoreData\\nbk\\mouse_videos\\mitg05\\05252020\\cam2\\clips\\mitg05-533--05252020095948.avi_clip_12.avi\n",
      "Duration of video [s]:  1.47 , recorded with  30.0 fps!\n",
      "Overall # of frames:  44  found with (before cropping) frame dimensions:  768 768\n",
      "Starting to extract posture\n"
     ]
    },
    {
     "name": "stderr",
     "output_type": "stream",
     "text": [
      "50it [00:01, 30.37it/s]                                                                                                "
     ]
    },
    {
     "name": "stdout",
     "output_type": "stream",
     "text": [
      "Detected frames:  44\n"
     ]
    },
    {
     "name": "stderr",
     "output_type": "stream",
     "text": [
      "50it [00:01, 28.26it/s]\n"
     ]
    },
    {
     "name": "stdout",
     "output_type": "stream",
     "text": [
      "Saving results in F:\\MysoreData\\nbk\\mouse_videos\\mitg05\\05252020\\cam2\\clips...\n",
      "Starting to analyze %  F:\\MysoreData\\nbk\\mouse_videos\\mitg05\\05252020\\cam2\\clips\\mitg05-533--05252020095948.avi_clip_120.avi\n",
      "Loading  F:\\MysoreData\\nbk\\mouse_videos\\mitg05\\05252020\\cam2\\clips\\mitg05-533--05252020095948.avi_clip_120.avi\n",
      "Duration of video [s]:  1.5 , recorded with  30.0 fps!\n",
      "Overall # of frames:  45  found with (before cropping) frame dimensions:  768 768\n",
      "Starting to extract posture\n"
     ]
    },
    {
     "name": "stderr",
     "output_type": "stream",
     "text": [
      "50it [00:01, 31.16it/s]                                                                                                "
     ]
    },
    {
     "name": "stdout",
     "output_type": "stream",
     "text": [
      "Detected frames:  45\n"
     ]
    },
    {
     "name": "stderr",
     "output_type": "stream",
     "text": [
      "50it [00:01, 28.51it/s]\n"
     ]
    },
    {
     "name": "stdout",
     "output_type": "stream",
     "text": [
      "Saving results in F:\\MysoreData\\nbk\\mouse_videos\\mitg05\\05252020\\cam2\\clips...\n",
      "Starting to analyze %  F:\\MysoreData\\nbk\\mouse_videos\\mitg05\\05252020\\cam2\\clips\\mitg05-533--05252020095948.avi_clip_121.avi\n",
      "Loading  F:\\MysoreData\\nbk\\mouse_videos\\mitg05\\05252020\\cam2\\clips\\mitg05-533--05252020095948.avi_clip_121.avi\n",
      "Duration of video [s]:  1.4 , recorded with  30.0 fps!\n",
      "Overall # of frames:  42  found with (before cropping) frame dimensions:  768 768\n",
      "Starting to extract posture\n"
     ]
    },
    {
     "name": "stderr",
     "output_type": "stream",
     "text": [
      "50it [00:01, 30.64it/s]                                                                                                "
     ]
    },
    {
     "name": "stdout",
     "output_type": "stream",
     "text": [
      "Detected frames:  42\n"
     ]
    },
    {
     "name": "stderr",
     "output_type": "stream",
     "text": [
      "50it [00:01, 28.74it/s]\n"
     ]
    },
    {
     "name": "stdout",
     "output_type": "stream",
     "text": [
      "Saving results in F:\\MysoreData\\nbk\\mouse_videos\\mitg05\\05252020\\cam2\\clips...\n",
      "Starting to analyze %  F:\\MysoreData\\nbk\\mouse_videos\\mitg05\\05252020\\cam2\\clips\\mitg05-533--05252020095948.avi_clip_122.avi\n",
      "Loading  F:\\MysoreData\\nbk\\mouse_videos\\mitg05\\05252020\\cam2\\clips\\mitg05-533--05252020095948.avi_clip_122.avi\n",
      "Duration of video [s]:  1.9 , recorded with  30.0 fps!\n",
      "Overall # of frames:  57  found with (before cropping) frame dimensions:  768 768\n",
      "Starting to extract posture\n"
     ]
    },
    {
     "name": "stderr",
     "output_type": "stream",
     "text": [
      "60it [00:01, 31.40it/s]                                                                                                "
     ]
    },
    {
     "name": "stdout",
     "output_type": "stream",
     "text": [
      "Detected frames:  57\n"
     ]
    },
    {
     "name": "stderr",
     "output_type": "stream",
     "text": [
      "60it [00:02, 25.82it/s]\n"
     ]
    },
    {
     "name": "stdout",
     "output_type": "stream",
     "text": [
      "Saving results in F:\\MysoreData\\nbk\\mouse_videos\\mitg05\\05252020\\cam2\\clips...\n",
      "Starting to analyze %  F:\\MysoreData\\nbk\\mouse_videos\\mitg05\\05252020\\cam2\\clips\\mitg05-533--05252020095948.avi_clip_123.avi\n",
      "Loading  F:\\MysoreData\\nbk\\mouse_videos\\mitg05\\05252020\\cam2\\clips\\mitg05-533--05252020095948.avi_clip_123.avi\n",
      "Duration of video [s]:  1.4 , recorded with  30.0 fps!\n",
      "Overall # of frames:  42  found with (before cropping) frame dimensions:  768 768\n",
      "Starting to extract posture\n"
     ]
    },
    {
     "name": "stderr",
     "output_type": "stream",
     "text": [
      "50it [00:01, 30.73it/s]                                                                                                "
     ]
    },
    {
     "name": "stdout",
     "output_type": "stream",
     "text": [
      "Detected frames:  42\n"
     ]
    },
    {
     "name": "stderr",
     "output_type": "stream",
     "text": [
      "50it [00:01, 28.76it/s]\n"
     ]
    },
    {
     "name": "stdout",
     "output_type": "stream",
     "text": [
      "Saving results in F:\\MysoreData\\nbk\\mouse_videos\\mitg05\\05252020\\cam2\\clips...\n",
      "Starting to analyze %  F:\\MysoreData\\nbk\\mouse_videos\\mitg05\\05252020\\cam2\\clips\\mitg05-533--05252020095948.avi_clip_124.avi\n",
      "Loading  F:\\MysoreData\\nbk\\mouse_videos\\mitg05\\05252020\\cam2\\clips\\mitg05-533--05252020095948.avi_clip_124.avi\n",
      "Duration of video [s]:  3.37 , recorded with  30.0 fps!\n",
      "Overall # of frames:  101  found with (before cropping) frame dimensions:  768 768\n",
      "Starting to extract posture\n"
     ]
    },
    {
     "name": "stderr",
     "output_type": "stream",
     "text": [
      "110it [00:03, 29.89it/s]                                                                                               "
     ]
    },
    {
     "name": "stdout",
     "output_type": "stream",
     "text": [
      "Detected frames:  101\n"
     ]
    },
    {
     "name": "stderr",
     "output_type": "stream",
     "text": [
      "110it [00:03, 29.29it/s]\n"
     ]
    },
    {
     "name": "stdout",
     "output_type": "stream",
     "text": [
      "Saving results in F:\\MysoreData\\nbk\\mouse_videos\\mitg05\\05252020\\cam2\\clips...\n",
      "Starting to analyze %  F:\\MysoreData\\nbk\\mouse_videos\\mitg05\\05252020\\cam2\\clips\\mitg05-533--05252020095948.avi_clip_125.avi\n",
      "Loading  F:\\MysoreData\\nbk\\mouse_videos\\mitg05\\05252020\\cam2\\clips\\mitg05-533--05252020095948.avi_clip_125.avi\n",
      "Duration of video [s]:  1.47 , recorded with  30.0 fps!\n",
      "Overall # of frames:  44  found with (before cropping) frame dimensions:  768 768\n",
      "Starting to extract posture\n"
     ]
    },
    {
     "name": "stderr",
     "output_type": "stream",
     "text": [
      "50it [00:01, 30.37it/s]                                                                                                "
     ]
    },
    {
     "name": "stdout",
     "output_type": "stream",
     "text": [
      "Detected frames:  44\n"
     ]
    },
    {
     "name": "stderr",
     "output_type": "stream",
     "text": [
      "50it [00:01, 28.61it/s]\n"
     ]
    },
    {
     "name": "stdout",
     "output_type": "stream",
     "text": [
      "Saving results in F:\\MysoreData\\nbk\\mouse_videos\\mitg05\\05252020\\cam2\\clips...\n",
      "Starting to analyze %  F:\\MysoreData\\nbk\\mouse_videos\\mitg05\\05252020\\cam2\\clips\\mitg05-533--05252020095948.avi_clip_126.avi\n",
      "Loading  F:\\MysoreData\\nbk\\mouse_videos\\mitg05\\05252020\\cam2\\clips\\mitg05-533--05252020095948.avi_clip_126.avi\n",
      "Duration of video [s]:  2.8 , recorded with  30.0 fps!\n",
      "Overall # of frames:  84  found with (before cropping) frame dimensions:  768 768\n",
      "Starting to extract posture\n"
     ]
    },
    {
     "name": "stderr",
     "output_type": "stream",
     "text": [
      " 36%|█████████████████████████████▎                                                    | 30/84 [00:00<00:01, 49.50it/s]"
     ]
    }
   ],
   "source": [
    "\n",
    "VIDEO_SOURCE = 'F:\\\\MysoreData\\\\nbk\\\\mouse_videos\\\\mitg05\\\\05252020\\\\cam2\\\\clips'\n",
    "video_all = os.listdir(VIDEO_SOURCE)\n",
    "video = []\n",
    "for i in range(0,len(video_all)):\n",
    "    video.append(VIDEO_SOURCE + '\\\\' + video_all[i])\n",
    "    \n",
    "deeplabcut.analyze_videos(path_config_file,video)"
   ]
  },
  {
   "cell_type": "markdown",
   "metadata": {
    "colab_type": "text",
    "id": "pCrUvQIvoEKD"
   },
   "source": [
    "## Create labeled video\n",
    "This funtion is for visualiztion purpose and can be used to create a video in .mp4 format with labels predicted by the network. This video is saved in the same directory where the original video resides. "
   ]
  },
  {
   "cell_type": "code",
   "execution_count": null,
   "metadata": {
    "colab": {},
    "colab_type": "code",
    "id": "6aDF7Q7KoEKE",
    "scrolled": false
   },
   "outputs": [],
   "source": [
    "deeplabcut.create_labeled_video(path_config_file,video)"
   ]
  },
  {
   "cell_type": "markdown",
   "metadata": {
    "colab_type": "text",
    "id": "8GTiuJESoEKH"
   },
   "source": [
    "## Plot the trajectories of the analyzed videos\n",
    "This function plots the trajectories of all the body parts across the entire video. Each body part is identified by a unique color."
   ]
  },
  {
   "cell_type": "code",
   "execution_count": null,
   "metadata": {
    "colab": {},
    "colab_type": "code",
    "id": "gX21zZbXoEKJ",
    "scrolled": false
   },
   "outputs": [],
   "source": [
    "%matplotlib notebook \n",
    "#for making interactive plots.\n",
    "#deeplabcut.plot_trajectories(path_config_file,videofile_path, plotting=True)\n",
    "\n",
    "deeplabcut.plot_trajectories(path_config_file,video,showfigures=True)"
   ]
  },
  {
   "cell_type": "code",
   "execution_count": null,
   "metadata": {},
   "outputs": [],
   "source": []
  }
 ],
 "metadata": {
  "accelerator": "GPU",
  "colab": {
   "collapsed_sections": [],
   "name": "Colab_TrainNetwork_VideoAnalysis.ipynb",
   "private_outputs": true,
   "provenance": [],
   "toc_visible": true,
   "version": "0.3.2"
  },
  "kernelspec": {
   "display_name": "Python 3",
   "language": "python",
   "name": "python3"
  },
  "language_info": {
   "codemirror_mode": {
    "name": "ipython",
    "version": 3
   },
   "file_extension": ".py",
   "mimetype": "text/x-python",
   "name": "python",
   "nbconvert_exporter": "python",
   "pygments_lexer": "ipython3",
   "version": "3.7.0"
  },
  "varInspector": {
   "cols": {
    "lenName": 16,
    "lenType": 16,
    "lenVar": 40
   },
   "kernels_config": {
    "python": {
     "delete_cmd_postfix": "",
     "delete_cmd_prefix": "del ",
     "library": "var_list.py",
     "varRefreshCmd": "print(var_dic_list())"
    },
    "r": {
     "delete_cmd_postfix": ") ",
     "delete_cmd_prefix": "rm(",
     "library": "var_list.r",
     "varRefreshCmd": "cat(var_dic_list()) "
    }
   },
   "types_to_exclude": [
    "module",
    "function",
    "builtin_function_or_method",
    "instance",
    "_Feature"
   ],
   "window_display": false
  }
 },
 "nbformat": 4,
 "nbformat_minor": 1
}
