{
 "cells": [
  {
   "cell_type": "markdown",
   "metadata": {},
   "source": [
    "<h1> NOTEBOOK TO CREATE 3D DLC PROJECT and CALIBRATE DEEPLAB CUT </h1>\n",
    "\n",
    "Make sure you are running this notebook in properly setup conda enviroment. The nbkGPU enviroment set up on server 2 works properly. Note that while you can calibrate the 3D enviroment in isolation, using it to analyze video data require two pre-trained networks on data from the two cameras in the exact same position as the calibration footage."
   ]
  },
  {
   "cell_type": "code",
   "execution_count": 1,
   "metadata": {},
   "outputs": [],
   "source": [
    "#Errors here mean there are issues with the enviroment dependencies or PATH configuration\n",
    "import numpy as np\n",
    "import deeplabcut\n",
    "import moviepy\n",
    "import cv2\n",
    "from moviepy.editor import *\n",
    "import os\n",
    "import math\n",
    "task = '3D_Box1_ground'\n",
    "experimenter = 'spencer_loggia'"
   ]
  },
  {
   "cell_type": "code",
   "execution_count": 2,
   "metadata": {},
   "outputs": [],
   "source": [
    "import tensorflow as tf"
   ]
  },
  {
   "cell_type": "code",
   "execution_count": 3,
   "metadata": {},
   "outputs": [],
   "source": [
    "#allow video memory growth as network expands to avoid convolutional network errors\n",
    "TF_FORCE_GPU_ALLOW_GROWTH = True\n",
    "config = tf.ConfigProto()\n",
    "config.gpu_options.allow_growth = True\n",
    "session = tf.Session(config=config)"
   ]
  },
  {
   "cell_type": "code",
   "execution_count": 4,
   "metadata": {},
   "outputs": [
    {
     "data": {
      "text/plain": [
       "[name: \"/device:CPU:0\"\n",
       " device_type: \"CPU\"\n",
       " memory_limit: 268435456\n",
       " locality {\n",
       " }\n",
       " incarnation: 4643214641430092034,\n",
       " name: \"/device:GPU:0\"\n",
       " device_type: \"GPU\"\n",
       " memory_limit: 6586089472\n",
       " locality {\n",
       "   bus_id: 1\n",
       "   links {\n",
       "   }\n",
       " }\n",
       " incarnation: 4772067494288617744\n",
       " physical_device_desc: \"device: 0, name: GeForce RTX 2080, pci bus id: 0000:41:00.0, compute capability: 7.5\",\n",
       " name: \"/device:GPU:1\"\n",
       " device_type: \"GPU\"\n",
       " memory_limit: 6586089472\n",
       " locality {\n",
       "   bus_id: 1\n",
       "   links {\n",
       "   }\n",
       " }\n",
       " incarnation: 17486555811201490204\n",
       " physical_device_desc: \"device: 1, name: GeForce RTX 2080, pci bus id: 0000:81:00.0, compute capability: 7.5\"]"
      ]
     },
     "execution_count": 4,
     "metadata": {},
     "output_type": "execute_result"
    }
   ],
   "source": [
    "#let's make sure we see a GPU:\n",
    "#tf.test.gpu_device_name()\n",
    "from tensorflow.python.client import device_lib\n",
    "device_lib.list_local_devices()"
   ]
  },
  {
   "cell_type": "markdown",
   "metadata": {},
   "source": [
    "Create new 3d tracking project (creates a new project directory with a unique config.yaml)"
   ]
  },
  {
   "cell_type": "code",
   "execution_count": 4,
   "metadata": {
    "scrolled": true
   },
   "outputs": [
    {
     "name": "stdout",
     "output_type": "stream",
     "text": [
      "Created \"F:\\MysoreData\\nbk\\mouseVideoAnalysis\\Box1\\3D_Box1_ground-spencer_loggia-2021-02-14-3d\\camera_matrix\"\n",
      "Created \"F:\\MysoreData\\nbk\\mouseVideoAnalysis\\Box1\\3D_Box1_ground-spencer_loggia-2021-02-14-3d\\calibration_images\"\n",
      "Created \"F:\\MysoreData\\nbk\\mouseVideoAnalysis\\Box1\\3D_Box1_ground-spencer_loggia-2021-02-14-3d\\undistortion\"\n",
      "Created \"F:\\MysoreData\\nbk\\mouseVideoAnalysis\\Box1\\3D_Box1_ground-spencer_loggia-2021-02-14-3d\\corners\"\n",
      "Generated \"F:\\MysoreData\\nbk\\mouseVideoAnalysis\\Box1\\3D_Box1_ground-spencer_loggia-2021-02-14-3d\\config.yaml\"\n",
      "\n",
      "A new project with name 3D_Box1_ground-spencer_loggia-2021-02-14-3d is created at F:\\MysoreData\\nbk\\mouseVideoAnalysis\\Box1 and a configurable file (config.yaml) is stored there. If you have not calibrated the cameras, then use the function 'calibrate_camera' to start calibrating the camera otherwise use the function ``triangulate`` to triangulate the dataframe\n"
     ]
    }
   ],
   "source": [
    "path = deeplabcut.create_new_project_3d(task, experimenter, num_cameras=2, working_directory='F:\\\\MysoreData\\\\nbk\\\\mouseVideoAnalysis\\\\Box1\\\\')\n",
    "path = path #r'F:\\MysoreData\\nbk\\mouseVideoAnalysis\\Box1\\3D_calibratations\\3D_06152020-spencer_loggia-2020-06-18-3d\\config.yaml'"
   ]
  },
  {
   "cell_type": "markdown",
   "metadata": {},
   "source": [
    "<h2> A quick note about calibration data </h2>\n",
    "<p> do not rotate the checker board if possible. Make sure you do move it around the working space though. The checker board should be at least 8X6 squares. take at least 30 calibration images, though you may need up to 80. The next cell takes the two directories where images are stored and pairs, renames, and moves the data.\n",
    "    \n",
    "Calibration and labelling will take place in the batch processor"
   ]
  },
  {
   "cell_type": "code",
   "execution_count": null,
   "metadata": {},
   "outputs": [],
   "source": []
  }
 ],
 "metadata": {
  "kernelspec": {
   "display_name": "Python 3",
   "language": "python",
   "name": "python3"
  },
  "language_info": {
   "codemirror_mode": {
    "name": "ipython",
    "version": 3
   },
   "file_extension": ".py",
   "mimetype": "text/x-python",
   "name": "python",
   "nbconvert_exporter": "python",
   "pygments_lexer": "ipython3",
   "version": "3.7.0"
  }
 },
 "nbformat": 4,
 "nbformat_minor": 2
}
