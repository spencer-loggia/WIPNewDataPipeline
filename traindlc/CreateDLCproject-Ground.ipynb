{
 "cells": [
  {
   "cell_type": "markdown",
   "metadata": {},
   "source": [
    "<h1> NOTEBOOK TO CREATE DLC PROJECT, EXTRACT FRAMES & LABEL DATA </h1>\n",
    "\n",
    "make sure you are running this notebook in properly setup conda enviroment. The nbkGPU enviroment set up on server 2 works properly. "
   ]
  },
  {
   "cell_type": "code",
   "execution_count": 1,
   "metadata": {},
   "outputs": [],
   "source": [
    "#Errors here mean there are issues with the enviroment dependencies or PATH configuration\n",
    "import deeplabcut\n",
    "import os\n",
    "from random import sample\n",
    "task = 'box1_cam1_ground'\n",
    "experimenter = 'spencerloggia'"
   ]
  },
  {
   "cell_type": "markdown",
   "metadata": {},
   "source": [
    "Get all videos from the provided video source directory"
   ]
  },
  {
   "cell_type": "code",
   "execution_count": null,
   "metadata": {},
   "outputs": [],
   "source": [
    "BASE_DIR = r'F:\\MysoreData\\nbk\\mouseVideoAnalysis\\Box1\\video_data\\mitg12'\n",
    "videodirs = os.listdir(BASE_DIR)\n",
    "video = []\n",
    "for i, videodir in enumerate(sample(videodirs, 25)):\n",
    "    try:\n",
    "        videos = os.listdir(os.path.join(BASE_DIR, videodir, 'ground'))\n",
    "    except FileNotFoundError:\n",
    "        print('skipping')\n",
    "        continue\n",
    "    videos = [path for path in videos if 'camera-1' in path]\n",
    "    \n",
    "    #print(videos)\n",
    "    try:\n",
    "        for vid in sample(videos, 1):\n",
    "            new_vid_name = vid[0:-4] + '_num' + str(i) + '.avi'\n",
    "            os.rename(os.path.join(BASE_DIR, videodir, 'ground', vid), os.path.join(BASE_DIR, videodir, 'ground', new_vid_name))\n",
    "            video.append(os.path.join(BASE_DIR, videodir, 'ground', new_vid_name))  \n",
    "    except ValueError:\n",
    "        print(\"skipping \" + str(videodir))\n",
    "print(video)\n",
    "num_videos = len(video)"
   ]
  },
  {
   "cell_type": "markdown",
   "metadata": {},
   "source": [
    "Generate the deeplabcut project, change working directory or else it is created in current directory. The output is the path to the config file. "
   ]
  },
  {
   "cell_type": "code",
   "execution_count": null,
   "metadata": {},
   "outputs": [],
   "source": [
    "path_config_file=deeplabcut.create_new_project(task,experimenter,video, working_directory='F:\\\\MysoreData\\\\nbk\\\\mouseVideoAnalysis\\\\Box1\\\\cam1\\\\', copy_videos=True)\n",
    "print(path_config_file)"
   ]
  },
  {
   "cell_type": "markdown",
   "metadata": {},
   "source": [
    "At this point take a moment to edit the config.yaml file in the new project directory. Set the num2pick variable can be set to change number labeled frames per video. Also edit batch_size to change number of labelled images in each set. <br> \n",
    "\n",
    "<h1> Now we can extract frames!</h1><br>\n",
    "<p>This shows you one frame in the DLC gui from each video in your videos array. It asks you to crop the frame to the area you care about. DLC does not recommend croping to an images size greater than 600X800px <br>\n",
    "    Deep lab cut also now selects a number of frames equal to the num2pick configuiration from each video for labelling. These are subdevided into both the training and test sets.<p/>\n",
    "    \n",
    "Make sure that crop parameters for ground state match the mouse tracking network\n",
    "    \n",
    "                                   "
   ]
  },
  {
   "cell_type": "code",
   "execution_count": null,
   "metadata": {
    "scrolled": true
   },
   "outputs": [],
   "source": [
    "#load matplotlib so outputs can be displayed \n",
    "%matplotlib inline \n",
    "path_config_file = r'F:\\MysoreData\\nbk\\mouseVideoAnalysis\\Box1\\cam1\\box1_cam1_ground-spencerloggia-2021-02-10\\config.yaml'\n",
    "deeplabcut.extract_frames(path_config_file,'automatic','uniform', userfeedback=False, crop=True)"
   ]
  },
  {
   "cell_type": "markdown",
   "metadata": {},
   "source": [
    "<h1> Now we label the test and training data! </h1> \n",
    "    \n",
    "Once the labelling gui opens, you may have to expand the bottom menu to make sure all buttons are visable.\n",
    "There will be a folder with the extracted frames for each video. Go into each and right click to place the current label. Skip a label by choosing the next one on the right hand menu.\n",
    "\n",
    "For consistency: BP1: left ear, BP2: right ear, BP3: nose (behind nostrils)"
   ]
  },
  {
   "cell_type": "code",
   "execution_count": null,
   "metadata": {},
   "outputs": [],
   "source": [
    "%gui wx\n",
    "%matplotlib inline \n",
    "path_config_file = r'F:\\MysoreData\\nbk\\mouseVideoAnalysis\\Box1\\cam1\\box1_cam1_ground-spencerloggia-2021-02-10\\config.yaml'\n",
    "deeplabcut.label_frames(path_config_file)"
   ]
  },
  {
   "cell_type": "code",
   "execution_count": null,
   "metadata": {
    "scrolled": true
   },
   "outputs": [],
   "source": [
    "# create collected data \n",
    "data = \"\"\n",
    "path = 'F:\\\\MysoreData\\\\nbk\\\\mouseVideoAnalysis\\\\Box1\\\\cam1\\\\box1_cam1-spencerloggia-2021-02-07\\\\labeled-data'\n",
    "folders = os.listdir(path)\n",
    "first = True \n",
    "for f in folders:\n",
    "    if 'labeled' in f or '.' in f:\n",
    "        continue\n",
    "    file = open(os.path.join(path, f, 'CollectedData_spencerloggia.csv'), 'r')\n",
    "    for i, line in enumerate(file):\n",
    "        if not first:\n",
    "            if i < 3:\n",
    "                continue\n",
    "        first = False\n",
    "        data += line\n",
    "    del f\n",
    "file = open(os.path.join(path,'CollectedData_spencerloggia.csv'), 'w')\n",
    "file.write(data)\n",
    "import pandas as pd\n",
    "df = pd.read_csv(os.path.join(path,'CollectedData_spencerloggia.csv'))\n",
    "df.to_hdf(os.path.join(path,'CollectedData_spencerloggia.h5'), key='df_with_missing')\n",
    "    "
   ]
  },
  {
   "cell_type": "markdown",
   "metadata": {},
   "source": [
    "The last step is just an automatic check of the labelled data. You should see no errors or something has gone wrong. "
   ]
  },
  {
   "cell_type": "code",
   "execution_count": 2,
   "metadata": {},
   "outputs": [
    {
     "name": "stdout",
     "output_type": "stream",
     "text": [
      "Creating images with labels by spencerloggia.\n"
     ]
    },
    {
     "name": "stderr",
     "output_type": "stream",
     "text": [
      "100%|████████████████████████████████████████████████████████████████████████████████████████| 2/2 [00:00<00:00,  7.07it/s]\n",
      "100%|████████████████████████████████████████████████████████████████████████████████████████| 2/2 [00:00<00:00,  8.54it/s]\n",
      "100%|████████████████████████████████████████████████████████████████████████████████████████| 2/2 [00:00<00:00,  8.73it/s]\n",
      "100%|████████████████████████████████████████████████████████████████████████████████████████| 2/2 [00:00<00:00,  7.87it/s]\n",
      "100%|████████████████████████████████████████████████████████████████████████████████████████| 2/2 [00:00<00:00,  8.06it/s]\n",
      "100%|████████████████████████████████████████████████████████████████████████████████████████| 2/2 [00:00<00:00,  7.79it/s]\n",
      "100%|████████████████████████████████████████████████████████████████████████████████████████| 1/1 [00:00<00:00, 10.31it/s]\n",
      "100%|████████████████████████████████████████████████████████████████████████████████████████| 2/2 [00:00<00:00,  8.24it/s]\n",
      "100%|████████████████████████████████████████████████████████████████████████████████████████| 2/2 [00:00<00:00,  7.52it/s]\n",
      "100%|████████████████████████████████████████████████████████████████████████████████████████| 2/2 [00:00<00:00,  7.41it/s]\n",
      "100%|████████████████████████████████████████████████████████████████████████████████████████| 2/2 [00:00<00:00,  8.38it/s]\n",
      "100%|████████████████████████████████████████████████████████████████████████████████████████| 2/2 [00:00<00:00,  7.90it/s]\n",
      "100%|████████████████████████████████████████████████████████████████████████████████████████| 2/2 [00:00<00:00,  7.51it/s]\n",
      "100%|████████████████████████████████████████████████████████████████████████████████████████| 2/2 [00:00<00:00,  8.04it/s]\n",
      "100%|████████████████████████████████████████████████████████████████████████████████████████| 2/2 [00:00<00:00,  8.30it/s]\n",
      "100%|████████████████████████████████████████████████████████████████████████████████████████| 2/2 [00:00<00:00,  7.64it/s]\n",
      "100%|████████████████████████████████████████████████████████████████████████████████████████| 2/2 [00:00<00:00,  7.79it/s]\n",
      "100%|████████████████████████████████████████████████████████████████████████████████████████| 2/2 [00:00<00:00,  7.93it/s]\n",
      "100%|████████████████████████████████████████████████████████████████████████████████████████| 2/2 [00:00<00:00,  8.43it/s]\n",
      "100%|████████████████████████████████████████████████████████████████████████████████████████| 2/2 [00:00<00:00,  8.45it/s]\n",
      "100%|████████████████████████████████████████████████████████████████████████████████████████| 2/2 [00:00<00:00,  8.27it/s]\n",
      "100%|████████████████████████████████████████████████████████████████████████████████████████| 2/2 [00:00<00:00,  7.99it/s]\n",
      "100%|████████████████████████████████████████████████████████████████████████████████████████| 2/2 [00:00<00:00,  8.23it/s]\n",
      "100%|████████████████████████████████████████████████████████████████████████████████████████| 2/2 [00:00<00:00,  7.82it/s]"
     ]
    },
    {
     "name": "stdout",
     "output_type": "stream",
     "text": [
      "If all the labels are ok, then use the function 'create_training_dataset' to create the training dataset!\n"
     ]
    },
    {
     "name": "stderr",
     "output_type": "stream",
     "text": [
      "\n"
     ]
    }
   ],
   "source": [
    "path_config_file = r'F:\\MysoreData\\nbk\\mouseVideoAnalysis\\Box1\\cam1\\box1_cam1_ground-spencerloggia-2021-02-10\\config.yaml'\n",
    "\n",
    "deeplabcut.check_labels(path_config_file) #this creates a subdirectory with the frames + your labels"
   ]
  },
  {
   "cell_type": "markdown",
   "metadata": {},
   "source": [
    "<h1> Next Steps: </h1>\n",
    "<h2> In order to actually train the network, we must use another notebook that runs in a docker container. This allows tensorflow to communicate properly with GPUs in windows </h2>\n",
    "run the below cell to get the path_config_file location, copy this path. Open the Docker_DLC_GPU notebook in this directory and set the path_config_file variable there to the same thing. "
   ]
  },
  {
   "cell_type": "code",
   "execution_count": null,
   "metadata": {},
   "outputs": [],
   "source": [
    "print(path_config_file)"
   ]
  },
  {
   "cell_type": "code",
   "execution_count": null,
   "metadata": {},
   "outputs": [],
   "source": []
  }
 ],
 "metadata": {
  "kernelspec": {
   "display_name": "Python 3",
   "language": "python",
   "name": "python3"
  },
  "language_info": {
   "codemirror_mode": {
    "name": "ipython",
    "version": 3
   },
   "file_extension": ".py",
   "mimetype": "text/x-python",
   "name": "python",
   "nbconvert_exporter": "python",
   "pygments_lexer": "ipython3",
   "version": "3.7.0"
  }
 },
 "nbformat": 4,
 "nbformat_minor": 2
}
