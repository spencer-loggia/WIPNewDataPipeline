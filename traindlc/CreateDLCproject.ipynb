{
 "cells": [
  {
   "cell_type": "markdown",
   "metadata": {},
   "source": [
    "<h1> NOTEBOOK TO CREATE DLC PROJECT, EXTRACT FRAMES & LABEL DATA </h1>\n",
    "\n",
    "make sure you are running this notebook in properly setup conda enviroment. The nbkGPU enviroment set up on server 2 works properly. "
   ]
  },
  {
   "cell_type": "code",
   "execution_count": 1,
   "metadata": {},
   "outputs": [],
   "source": [
    "#Errors here mean there are issues with the enviroment dependencies or PATH configuration\n",
    "import deeplabcut\n",
    "import os\n",
    "from random import sample\n",
    "task = 'box1_cam2'\n",
    "experimenter = 'spencerloggia'"
   ]
  },
  {
   "cell_type": "markdown",
   "metadata": {},
   "source": [
    "Get all videos from the provided video source directory"
   ]
  },
  {
   "cell_type": "code",
   "execution_count": 2,
   "metadata": {},
   "outputs": [
    {
     "name": "stdout",
     "output_type": "stream",
     "text": [
      "skipping box1_mitg12_07072020113838\n",
      "skipping box1_mitg12_07122020112326\n",
      "skipping box1_mitg12_08262020102726\n",
      "['F:\\\\MysoreData\\\\nbk\\\\mouseVideoAnalysis\\\\Box1\\\\video_data\\\\mitg12\\\\box1_mitg12_10072020104701\\\\camera-2_clip-25.avi', 'F:\\\\MysoreData\\\\nbk\\\\mouseVideoAnalysis\\\\Box1\\\\video_data\\\\mitg12\\\\box1_mitg12_10072020104701\\\\camera-2_clip-52.avi', 'F:\\\\MysoreData\\\\nbk\\\\mouseVideoAnalysis\\\\Box1\\\\video_data\\\\mitg12\\\\box1_mitg12_10072020104701\\\\camera-2_clip-75.avi', 'F:\\\\MysoreData\\\\nbk\\\\mouseVideoAnalysis\\\\Box1\\\\video_data\\\\mitg12\\\\box1_mitg12_10072020104701\\\\camera-2_clip-42.avi', 'F:\\\\MysoreData\\\\nbk\\\\mouseVideoAnalysis\\\\Box1\\\\video_data\\\\mitg12\\\\box1_mitg12_10072020104701\\\\camera-2_clip-113.avi', 'F:\\\\MysoreData\\\\nbk\\\\mouseVideoAnalysis\\\\Box1\\\\video_data\\\\mitg12\\\\box1_mitg12_10072020104701\\\\camera-2_clip-91.avi', 'F:\\\\MysoreData\\\\nbk\\\\mouseVideoAnalysis\\\\Box1\\\\video_data\\\\mitg12\\\\box1_mitg12_10072020104701\\\\camera-2_clip-104.avi', 'F:\\\\MysoreData\\\\nbk\\\\mouseVideoAnalysis\\\\Box1\\\\video_data\\\\mitg12\\\\box1_mitg12_10072020104701\\\\camera-2_clip-64.avi', 'F:\\\\MysoreData\\\\nbk\\\\mouseVideoAnalysis\\\\Box1\\\\video_data\\\\mitg12\\\\box1_mitg12_10072020104701\\\\camera-2_clip-39.avi', 'F:\\\\MysoreData\\\\nbk\\\\mouseVideoAnalysis\\\\Box1\\\\video_data\\\\mitg12\\\\box1_mitg12_10072020104701\\\\camera-2_clip-99.avi', 'F:\\\\MysoreData\\\\nbk\\\\mouseVideoAnalysis\\\\Box1\\\\video_data\\\\mitg12\\\\box1_mitg12_09232020105351\\\\camera-2_clip-84.avi', 'F:\\\\MysoreData\\\\nbk\\\\mouseVideoAnalysis\\\\Box1\\\\video_data\\\\mitg12\\\\box1_mitg12_09232020105351\\\\camera-2_clip-47.avi', 'F:\\\\MysoreData\\\\nbk\\\\mouseVideoAnalysis\\\\Box1\\\\video_data\\\\mitg12\\\\box1_mitg12_09232020105351\\\\camera-2_clip-91.avi', 'F:\\\\MysoreData\\\\nbk\\\\mouseVideoAnalysis\\\\Box1\\\\video_data\\\\mitg12\\\\box1_mitg12_09232020105351\\\\camera-2_clip-62.avi', 'F:\\\\MysoreData\\\\nbk\\\\mouseVideoAnalysis\\\\Box1\\\\video_data\\\\mitg12\\\\box1_mitg12_09232020105351\\\\camera-2_clip-123.avi', 'F:\\\\MysoreData\\\\nbk\\\\mouseVideoAnalysis\\\\Box1\\\\video_data\\\\mitg12\\\\box1_mitg12_09232020105351\\\\camera-2_clip-0.avi', 'F:\\\\MysoreData\\\\nbk\\\\mouseVideoAnalysis\\\\Box1\\\\video_data\\\\mitg12\\\\box1_mitg12_09232020105351\\\\camera-2_clip-1.avi', 'F:\\\\MysoreData\\\\nbk\\\\mouseVideoAnalysis\\\\Box1\\\\video_data\\\\mitg12\\\\box1_mitg12_09232020105351\\\\camera-2_clip-119.avi', 'F:\\\\MysoreData\\\\nbk\\\\mouseVideoAnalysis\\\\Box1\\\\video_data\\\\mitg12\\\\box1_mitg12_09232020105351\\\\camera-2_clip-149.avi', 'F:\\\\MysoreData\\\\nbk\\\\mouseVideoAnalysis\\\\Box1\\\\video_data\\\\mitg12\\\\box1_mitg12_09232020105351\\\\camera-2_clip-16.avi', 'F:\\\\MysoreData\\\\nbk\\\\mouseVideoAnalysis\\\\Box1\\\\video_data\\\\mitg12\\\\box1_mitg12_10052020104254\\\\camera-2_clip-4.avi', 'F:\\\\MysoreData\\\\nbk\\\\mouseVideoAnalysis\\\\Box1\\\\video_data\\\\mitg12\\\\box1_mitg12_10052020104254\\\\camera-2_clip-6.avi', 'F:\\\\MysoreData\\\\nbk\\\\mouseVideoAnalysis\\\\Box1\\\\video_data\\\\mitg12\\\\box1_mitg12_10052020104254\\\\camera-2_clip-8.avi', 'F:\\\\MysoreData\\\\nbk\\\\mouseVideoAnalysis\\\\Box1\\\\video_data\\\\mitg12\\\\box1_mitg12_10052020104254\\\\camera-2_clip-10.avi', 'F:\\\\MysoreData\\\\nbk\\\\mouseVideoAnalysis\\\\Box1\\\\video_data\\\\mitg12\\\\box1_mitg12_10052020104254\\\\camera-2_clip-5.avi', 'F:\\\\MysoreData\\\\nbk\\\\mouseVideoAnalysis\\\\Box1\\\\video_data\\\\mitg12\\\\box1_mitg12_10052020104254\\\\camera-2_clip-2.avi', 'F:\\\\MysoreData\\\\nbk\\\\mouseVideoAnalysis\\\\Box1\\\\video_data\\\\mitg12\\\\box1_mitg12_10052020104254\\\\camera-2_clip-7.avi', 'F:\\\\MysoreData\\\\nbk\\\\mouseVideoAnalysis\\\\Box1\\\\video_data\\\\mitg12\\\\box1_mitg12_10052020104254\\\\camera-2_clip-0.avi', 'F:\\\\MysoreData\\\\nbk\\\\mouseVideoAnalysis\\\\Box1\\\\video_data\\\\mitg12\\\\box1_mitg12_10052020104254\\\\camera-2_clip-9.avi', 'F:\\\\MysoreData\\\\nbk\\\\mouseVideoAnalysis\\\\Box1\\\\video_data\\\\mitg12\\\\box1_mitg12_10052020104254\\\\camera-2_clip-3.avi', 'F:\\\\MysoreData\\\\nbk\\\\mouseVideoAnalysis\\\\Box1\\\\video_data\\\\mitg12\\\\box1_mitg12_10012020105216\\\\camera-2_clip-139.avi', 'F:\\\\MysoreData\\\\nbk\\\\mouseVideoAnalysis\\\\Box1\\\\video_data\\\\mitg12\\\\box1_mitg12_10012020105216\\\\camera-2_clip-140.avi', 'F:\\\\MysoreData\\\\nbk\\\\mouseVideoAnalysis\\\\Box1\\\\video_data\\\\mitg12\\\\box1_mitg12_10012020105216\\\\camera-2_clip-25.avi', 'F:\\\\MysoreData\\\\nbk\\\\mouseVideoAnalysis\\\\Box1\\\\video_data\\\\mitg12\\\\box1_mitg12_10012020105216\\\\camera-2_clip-11.avi', 'F:\\\\MysoreData\\\\nbk\\\\mouseVideoAnalysis\\\\Box1\\\\video_data\\\\mitg12\\\\box1_mitg12_10012020105216\\\\camera-2_clip-115.avi', 'F:\\\\MysoreData\\\\nbk\\\\mouseVideoAnalysis\\\\Box1\\\\video_data\\\\mitg12\\\\box1_mitg12_10012020105216\\\\camera-2_clip-31.avi', 'F:\\\\MysoreData\\\\nbk\\\\mouseVideoAnalysis\\\\Box1\\\\video_data\\\\mitg12\\\\box1_mitg12_10012020105216\\\\camera-2_clip-76.avi', 'F:\\\\MysoreData\\\\nbk\\\\mouseVideoAnalysis\\\\Box1\\\\video_data\\\\mitg12\\\\box1_mitg12_10012020105216\\\\camera-2_clip-83.avi', 'F:\\\\MysoreData\\\\nbk\\\\mouseVideoAnalysis\\\\Box1\\\\video_data\\\\mitg12\\\\box1_mitg12_10012020105216\\\\camera-2_clip-62.avi', 'F:\\\\MysoreData\\\\nbk\\\\mouseVideoAnalysis\\\\Box1\\\\video_data\\\\mitg12\\\\box1_mitg12_10012020105216\\\\camera-2_clip-118.avi', 'F:\\\\MysoreData\\\\nbk\\\\mouseVideoAnalysis\\\\Box1\\\\video_data\\\\mitg12\\\\box1_mitg12_10262020112023\\\\camera-2_clip-130.avi', 'F:\\\\MysoreData\\\\nbk\\\\mouseVideoAnalysis\\\\Box1\\\\video_data\\\\mitg12\\\\box1_mitg12_10262020112023\\\\camera-2_clip-56.avi', 'F:\\\\MysoreData\\\\nbk\\\\mouseVideoAnalysis\\\\Box1\\\\video_data\\\\mitg12\\\\box1_mitg12_10262020112023\\\\camera-2_clip-84.avi', 'F:\\\\MysoreData\\\\nbk\\\\mouseVideoAnalysis\\\\Box1\\\\video_data\\\\mitg12\\\\box1_mitg12_10262020112023\\\\camera-2_clip-64.avi', 'F:\\\\MysoreData\\\\nbk\\\\mouseVideoAnalysis\\\\Box1\\\\video_data\\\\mitg12\\\\box1_mitg12_10262020112023\\\\camera-2_clip-100.avi', 'F:\\\\MysoreData\\\\nbk\\\\mouseVideoAnalysis\\\\Box1\\\\video_data\\\\mitg12\\\\box1_mitg12_10262020112023\\\\camera-2_clip-19.avi', 'F:\\\\MysoreData\\\\nbk\\\\mouseVideoAnalysis\\\\Box1\\\\video_data\\\\mitg12\\\\box1_mitg12_10262020112023\\\\camera-2_clip-48.avi', 'F:\\\\MysoreData\\\\nbk\\\\mouseVideoAnalysis\\\\Box1\\\\video_data\\\\mitg12\\\\box1_mitg12_10262020112023\\\\camera-2_clip-13.avi', 'F:\\\\MysoreData\\\\nbk\\\\mouseVideoAnalysis\\\\Box1\\\\video_data\\\\mitg12\\\\box1_mitg12_10262020112023\\\\camera-2_clip-112.avi', 'F:\\\\MysoreData\\\\nbk\\\\mouseVideoAnalysis\\\\Box1\\\\video_data\\\\mitg12\\\\box1_mitg12_10262020112023\\\\camera-2_clip-10.avi', 'F:\\\\MysoreData\\\\nbk\\\\mouseVideoAnalysis\\\\Box1\\\\video_data\\\\mitg12\\\\box1_mitg12_10042020105144\\\\camera-2_clip-101.avi', 'F:\\\\MysoreData\\\\nbk\\\\mouseVideoAnalysis\\\\Box1\\\\video_data\\\\mitg12\\\\box1_mitg12_10042020105144\\\\camera-2_clip-12.avi', 'F:\\\\MysoreData\\\\nbk\\\\mouseVideoAnalysis\\\\Box1\\\\video_data\\\\mitg12\\\\box1_mitg12_10042020105144\\\\camera-2_clip-110.avi', 'F:\\\\MysoreData\\\\nbk\\\\mouseVideoAnalysis\\\\Box1\\\\video_data\\\\mitg12\\\\box1_mitg12_10042020105144\\\\camera-2_clip-161.avi', 'F:\\\\MysoreData\\\\nbk\\\\mouseVideoAnalysis\\\\Box1\\\\video_data\\\\mitg12\\\\box1_mitg12_10042020105144\\\\camera-2_clip-34.avi', 'F:\\\\MysoreData\\\\nbk\\\\mouseVideoAnalysis\\\\Box1\\\\video_data\\\\mitg12\\\\box1_mitg12_10042020105144\\\\camera-2_clip-88.avi', 'F:\\\\MysoreData\\\\nbk\\\\mouseVideoAnalysis\\\\Box1\\\\video_data\\\\mitg12\\\\box1_mitg12_10042020105144\\\\camera-2_clip-60.avi', 'F:\\\\MysoreData\\\\nbk\\\\mouseVideoAnalysis\\\\Box1\\\\video_data\\\\mitg12\\\\box1_mitg12_10042020105144\\\\camera-2_clip-142.avi', 'F:\\\\MysoreData\\\\nbk\\\\mouseVideoAnalysis\\\\Box1\\\\video_data\\\\mitg12\\\\box1_mitg12_10042020105144\\\\camera-2_clip-32.avi', 'F:\\\\MysoreData\\\\nbk\\\\mouseVideoAnalysis\\\\Box1\\\\video_data\\\\mitg12\\\\box1_mitg12_10042020105144\\\\camera-2_clip-103.avi', 'F:\\\\MysoreData\\\\nbk\\\\mouseVideoAnalysis\\\\Box1\\\\video_data\\\\mitg12\\\\box1_mitg12_09262020120433\\\\camera-2_clip-8.avi', 'F:\\\\MysoreData\\\\nbk\\\\mouseVideoAnalysis\\\\Box1\\\\video_data\\\\mitg12\\\\box1_mitg12_09262020120433\\\\camera-2_clip-7.avi', 'F:\\\\MysoreData\\\\nbk\\\\mouseVideoAnalysis\\\\Box1\\\\video_data\\\\mitg12\\\\box1_mitg12_09262020120433\\\\camera-2_clip-3.avi', 'F:\\\\MysoreData\\\\nbk\\\\mouseVideoAnalysis\\\\Box1\\\\video_data\\\\mitg12\\\\box1_mitg12_09262020120433\\\\camera-2_clip-1.avi', 'F:\\\\MysoreData\\\\nbk\\\\mouseVideoAnalysis\\\\Box1\\\\video_data\\\\mitg12\\\\box1_mitg12_09262020120433\\\\camera-2_clip-6.avi', 'F:\\\\MysoreData\\\\nbk\\\\mouseVideoAnalysis\\\\Box1\\\\video_data\\\\mitg12\\\\box1_mitg12_09262020120433\\\\camera-2_clip-12.avi', 'F:\\\\MysoreData\\\\nbk\\\\mouseVideoAnalysis\\\\Box1\\\\video_data\\\\mitg12\\\\box1_mitg12_09262020120433\\\\camera-2_clip-2.avi', 'F:\\\\MysoreData\\\\nbk\\\\mouseVideoAnalysis\\\\Box1\\\\video_data\\\\mitg12\\\\box1_mitg12_09262020120433\\\\camera-2_clip-4.avi', 'F:\\\\MysoreData\\\\nbk\\\\mouseVideoAnalysis\\\\Box1\\\\video_data\\\\mitg12\\\\box1_mitg12_09262020120433\\\\camera-2_clip-10.avi', 'F:\\\\MysoreData\\\\nbk\\\\mouseVideoAnalysis\\\\Box1\\\\video_data\\\\mitg12\\\\box1_mitg12_09262020120433\\\\camera-2_clip-11.avi', 'F:\\\\MysoreData\\\\nbk\\\\mouseVideoAnalysis\\\\Box1\\\\video_data\\\\mitg12\\\\box1_mitg12_10062020110023\\\\camera-2_clip-36.avi', 'F:\\\\MysoreData\\\\nbk\\\\mouseVideoAnalysis\\\\Box1\\\\video_data\\\\mitg12\\\\box1_mitg12_10062020110023\\\\camera-2_clip-8.avi', 'F:\\\\MysoreData\\\\nbk\\\\mouseVideoAnalysis\\\\Box1\\\\video_data\\\\mitg12\\\\box1_mitg12_10062020110023\\\\camera-2_clip-58.avi', 'F:\\\\MysoreData\\\\nbk\\\\mouseVideoAnalysis\\\\Box1\\\\video_data\\\\mitg12\\\\box1_mitg12_10062020110023\\\\camera-2_clip-44.avi', 'F:\\\\MysoreData\\\\nbk\\\\mouseVideoAnalysis\\\\Box1\\\\video_data\\\\mitg12\\\\box1_mitg12_10062020110023\\\\camera-2_clip-2.avi', 'F:\\\\MysoreData\\\\nbk\\\\mouseVideoAnalysis\\\\Box1\\\\video_data\\\\mitg12\\\\box1_mitg12_10062020110023\\\\camera-2_clip-0.avi', 'F:\\\\MysoreData\\\\nbk\\\\mouseVideoAnalysis\\\\Box1\\\\video_data\\\\mitg12\\\\box1_mitg12_10062020110023\\\\camera-2_clip-14.avi', 'F:\\\\MysoreData\\\\nbk\\\\mouseVideoAnalysis\\\\Box1\\\\video_data\\\\mitg12\\\\box1_mitg12_10062020110023\\\\camera-2_clip-56.avi', 'F:\\\\MysoreData\\\\nbk\\\\mouseVideoAnalysis\\\\Box1\\\\video_data\\\\mitg12\\\\box1_mitg12_10062020110023\\\\camera-2_clip-22.avi', 'F:\\\\MysoreData\\\\nbk\\\\mouseVideoAnalysis\\\\Box1\\\\video_data\\\\mitg12\\\\box1_mitg12_10062020110023\\\\camera-2_clip-11.avi', 'F:\\\\MysoreData\\\\nbk\\\\mouseVideoAnalysis\\\\Box1\\\\video_data\\\\mitg12\\\\box1_mitg12_09162020105947\\\\camera-2_clip-170.avi', 'F:\\\\MysoreData\\\\nbk\\\\mouseVideoAnalysis\\\\Box1\\\\video_data\\\\mitg12\\\\box1_mitg12_09162020105947\\\\camera-2_clip-55.avi', 'F:\\\\MysoreData\\\\nbk\\\\mouseVideoAnalysis\\\\Box1\\\\video_data\\\\mitg12\\\\box1_mitg12_09162020105947\\\\camera-2_clip-71.avi', 'F:\\\\MysoreData\\\\nbk\\\\mouseVideoAnalysis\\\\Box1\\\\video_data\\\\mitg12\\\\box1_mitg12_09162020105947\\\\camera-2_clip-1.avi', 'F:\\\\MysoreData\\\\nbk\\\\mouseVideoAnalysis\\\\Box1\\\\video_data\\\\mitg12\\\\box1_mitg12_09162020105947\\\\camera-2_clip-78.avi', 'F:\\\\MysoreData\\\\nbk\\\\mouseVideoAnalysis\\\\Box1\\\\video_data\\\\mitg12\\\\box1_mitg12_09162020105947\\\\camera-2_clip-129.avi', 'F:\\\\MysoreData\\\\nbk\\\\mouseVideoAnalysis\\\\Box1\\\\video_data\\\\mitg12\\\\box1_mitg12_09162020105947\\\\camera-2_clip-119.avi', 'F:\\\\MysoreData\\\\nbk\\\\mouseVideoAnalysis\\\\Box1\\\\video_data\\\\mitg12\\\\box1_mitg12_09162020105947\\\\camera-2_clip-146.avi', 'F:\\\\MysoreData\\\\nbk\\\\mouseVideoAnalysis\\\\Box1\\\\video_data\\\\mitg12\\\\box1_mitg12_09162020105947\\\\camera-2_clip-58.avi', 'F:\\\\MysoreData\\\\nbk\\\\mouseVideoAnalysis\\\\Box1\\\\video_data\\\\mitg12\\\\box1_mitg12_09162020105947\\\\camera-2_clip-96.avi', 'F:\\\\MysoreData\\\\nbk\\\\mouseVideoAnalysis\\\\Box1\\\\video_data\\\\mitg12\\\\box1_mitg12_10252020111020\\\\camera-2_clip-128.avi', 'F:\\\\MysoreData\\\\nbk\\\\mouseVideoAnalysis\\\\Box1\\\\video_data\\\\mitg12\\\\box1_mitg12_10252020111020\\\\camera-2_clip-108.avi', 'F:\\\\MysoreData\\\\nbk\\\\mouseVideoAnalysis\\\\Box1\\\\video_data\\\\mitg12\\\\box1_mitg12_10252020111020\\\\camera-2_clip-83.avi', 'F:\\\\MysoreData\\\\nbk\\\\mouseVideoAnalysis\\\\Box1\\\\video_data\\\\mitg12\\\\box1_mitg12_10252020111020\\\\camera-2_clip-39.avi', 'F:\\\\MysoreData\\\\nbk\\\\mouseVideoAnalysis\\\\Box1\\\\video_data\\\\mitg12\\\\box1_mitg12_10252020111020\\\\camera-2_clip-93.avi', 'F:\\\\MysoreData\\\\nbk\\\\mouseVideoAnalysis\\\\Box1\\\\video_data\\\\mitg12\\\\box1_mitg12_10252020111020\\\\camera-2_clip-43.avi', 'F:\\\\MysoreData\\\\nbk\\\\mouseVideoAnalysis\\\\Box1\\\\video_data\\\\mitg12\\\\box1_mitg12_10252020111020\\\\camera-2_clip-96.avi', 'F:\\\\MysoreData\\\\nbk\\\\mouseVideoAnalysis\\\\Box1\\\\video_data\\\\mitg12\\\\box1_mitg12_10252020111020\\\\camera-2_clip-51.avi', 'F:\\\\MysoreData\\\\nbk\\\\mouseVideoAnalysis\\\\Box1\\\\video_data\\\\mitg12\\\\box1_mitg12_10252020111020\\\\camera-2_clip-12.avi', 'F:\\\\MysoreData\\\\nbk\\\\mouseVideoAnalysis\\\\Box1\\\\video_data\\\\mitg12\\\\box1_mitg12_10252020111020\\\\camera-2_clip-124.avi', 'F:\\\\MysoreData\\\\nbk\\\\mouseVideoAnalysis\\\\Box1\\\\video_data\\\\mitg12\\\\box1_mitg12_10272020103204\\\\camera-2_clip-80.avi', 'F:\\\\MysoreData\\\\nbk\\\\mouseVideoAnalysis\\\\Box1\\\\video_data\\\\mitg12\\\\box1_mitg12_10272020103204\\\\camera-2_clip-70.avi', 'F:\\\\MysoreData\\\\nbk\\\\mouseVideoAnalysis\\\\Box1\\\\video_data\\\\mitg12\\\\box1_mitg12_10272020103204\\\\camera-2_clip-30.avi', 'F:\\\\MysoreData\\\\nbk\\\\mouseVideoAnalysis\\\\Box1\\\\video_data\\\\mitg12\\\\box1_mitg12_10272020103204\\\\camera-2_clip-73.avi', 'F:\\\\MysoreData\\\\nbk\\\\mouseVideoAnalysis\\\\Box1\\\\video_data\\\\mitg12\\\\box1_mitg12_10272020103204\\\\camera-2_clip-57.avi', 'F:\\\\MysoreData\\\\nbk\\\\mouseVideoAnalysis\\\\Box1\\\\video_data\\\\mitg12\\\\box1_mitg12_10272020103204\\\\camera-2_clip-86.avi', 'F:\\\\MysoreData\\\\nbk\\\\mouseVideoAnalysis\\\\Box1\\\\video_data\\\\mitg12\\\\box1_mitg12_10272020103204\\\\camera-2_clip-32.avi', 'F:\\\\MysoreData\\\\nbk\\\\mouseVideoAnalysis\\\\Box1\\\\video_data\\\\mitg12\\\\box1_mitg12_10272020103204\\\\camera-2_clip-69.avi', 'F:\\\\MysoreData\\\\nbk\\\\mouseVideoAnalysis\\\\Box1\\\\video_data\\\\mitg12\\\\box1_mitg12_10272020103204\\\\camera-2_clip-22.avi', 'F:\\\\MysoreData\\\\nbk\\\\mouseVideoAnalysis\\\\Box1\\\\video_data\\\\mitg12\\\\box1_mitg12_10272020103204\\\\camera-2_clip-63.avi', 'F:\\\\MysoreData\\\\nbk\\\\mouseVideoAnalysis\\\\Box1\\\\video_data\\\\mitg12\\\\box1_mitg12_09212020110941\\\\camera-2_clip-91.avi', 'F:\\\\MysoreData\\\\nbk\\\\mouseVideoAnalysis\\\\Box1\\\\video_data\\\\mitg12\\\\box1_mitg12_09212020110941\\\\camera-2_clip-135.avi', 'F:\\\\MysoreData\\\\nbk\\\\mouseVideoAnalysis\\\\Box1\\\\video_data\\\\mitg12\\\\box1_mitg12_09212020110941\\\\camera-2_clip-42.avi', 'F:\\\\MysoreData\\\\nbk\\\\mouseVideoAnalysis\\\\Box1\\\\video_data\\\\mitg12\\\\box1_mitg12_09212020110941\\\\camera-2_clip-118.avi', 'F:\\\\MysoreData\\\\nbk\\\\mouseVideoAnalysis\\\\Box1\\\\video_data\\\\mitg12\\\\box1_mitg12_09212020110941\\\\camera-2_clip-117.avi', 'F:\\\\MysoreData\\\\nbk\\\\mouseVideoAnalysis\\\\Box1\\\\video_data\\\\mitg12\\\\box1_mitg12_09212020110941\\\\camera-2_clip-162.avi', 'F:\\\\MysoreData\\\\nbk\\\\mouseVideoAnalysis\\\\Box1\\\\video_data\\\\mitg12\\\\box1_mitg12_09212020110941\\\\camera-2_clip-53.avi', 'F:\\\\MysoreData\\\\nbk\\\\mouseVideoAnalysis\\\\Box1\\\\video_data\\\\mitg12\\\\box1_mitg12_09212020110941\\\\camera-2_clip-73.avi', 'F:\\\\MysoreData\\\\nbk\\\\mouseVideoAnalysis\\\\Box1\\\\video_data\\\\mitg12\\\\box1_mitg12_09212020110941\\\\camera-2_clip-144.avi', 'F:\\\\MysoreData\\\\nbk\\\\mouseVideoAnalysis\\\\Box1\\\\video_data\\\\mitg12\\\\box1_mitg12_09212020110941\\\\camera-2_clip-96.avi', 'F:\\\\MysoreData\\\\nbk\\\\mouseVideoAnalysis\\\\Box1\\\\video_data\\\\mitg12\\\\box1_mitg12_10022020113613\\\\camera-2_clip-11.avi', 'F:\\\\MysoreData\\\\nbk\\\\mouseVideoAnalysis\\\\Box1\\\\video_data\\\\mitg12\\\\box1_mitg12_10022020113613\\\\camera-2_clip-137.avi', 'F:\\\\MysoreData\\\\nbk\\\\mouseVideoAnalysis\\\\Box1\\\\video_data\\\\mitg12\\\\box1_mitg12_10022020113613\\\\camera-2_clip-105.avi', 'F:\\\\MysoreData\\\\nbk\\\\mouseVideoAnalysis\\\\Box1\\\\video_data\\\\mitg12\\\\box1_mitg12_10022020113613\\\\camera-2_clip-7.avi', 'F:\\\\MysoreData\\\\nbk\\\\mouseVideoAnalysis\\\\Box1\\\\video_data\\\\mitg12\\\\box1_mitg12_10022020113613\\\\camera-2_clip-13.avi', 'F:\\\\MysoreData\\\\nbk\\\\mouseVideoAnalysis\\\\Box1\\\\video_data\\\\mitg12\\\\box1_mitg12_10022020113613\\\\camera-2_clip-101.avi', 'F:\\\\MysoreData\\\\nbk\\\\mouseVideoAnalysis\\\\Box1\\\\video_data\\\\mitg12\\\\box1_mitg12_10022020113613\\\\camera-2_clip-6.avi', 'F:\\\\MysoreData\\\\nbk\\\\mouseVideoAnalysis\\\\Box1\\\\video_data\\\\mitg12\\\\box1_mitg12_10022020113613\\\\camera-2_clip-73.avi', 'F:\\\\MysoreData\\\\nbk\\\\mouseVideoAnalysis\\\\Box1\\\\video_data\\\\mitg12\\\\box1_mitg12_10022020113613\\\\camera-2_clip-77.avi', 'F:\\\\MysoreData\\\\nbk\\\\mouseVideoAnalysis\\\\Box1\\\\video_data\\\\mitg12\\\\box1_mitg12_10022020113613\\\\camera-2_clip-80.avi', 'F:\\\\MysoreData\\\\nbk\\\\mouseVideoAnalysis\\\\Box1\\\\video_data\\\\mitg12\\\\box1_mitg12_09172020104932\\\\camera-2_clip-10.avi', 'F:\\\\MysoreData\\\\nbk\\\\mouseVideoAnalysis\\\\Box1\\\\video_data\\\\mitg12\\\\box1_mitg12_09172020104932\\\\camera-2_clip-6.avi', 'F:\\\\MysoreData\\\\nbk\\\\mouseVideoAnalysis\\\\Box1\\\\video_data\\\\mitg12\\\\box1_mitg12_09172020104932\\\\camera-2_clip-12.avi', 'F:\\\\MysoreData\\\\nbk\\\\mouseVideoAnalysis\\\\Box1\\\\video_data\\\\mitg12\\\\box1_mitg12_09172020104932\\\\camera-2_clip-4.avi', 'F:\\\\MysoreData\\\\nbk\\\\mouseVideoAnalysis\\\\Box1\\\\video_data\\\\mitg12\\\\box1_mitg12_09172020104932\\\\camera-2_clip-5.avi', 'F:\\\\MysoreData\\\\nbk\\\\mouseVideoAnalysis\\\\Box1\\\\video_data\\\\mitg12\\\\box1_mitg12_09172020104932\\\\camera-2_clip-0.avi', 'F:\\\\MysoreData\\\\nbk\\\\mouseVideoAnalysis\\\\Box1\\\\video_data\\\\mitg12\\\\box1_mitg12_09172020104932\\\\camera-2_clip-1.avi', 'F:\\\\MysoreData\\\\nbk\\\\mouseVideoAnalysis\\\\Box1\\\\video_data\\\\mitg12\\\\box1_mitg12_09172020104932\\\\camera-2_clip-7.avi', 'F:\\\\MysoreData\\\\nbk\\\\mouseVideoAnalysis\\\\Box1\\\\video_data\\\\mitg12\\\\box1_mitg12_09172020104932\\\\camera-2_clip-11.avi', 'F:\\\\MysoreData\\\\nbk\\\\mouseVideoAnalysis\\\\Box1\\\\video_data\\\\mitg12\\\\box1_mitg12_09172020104932\\\\camera-2_clip-8.avi', 'F:\\\\MysoreData\\\\nbk\\\\mouseVideoAnalysis\\\\Box1\\\\video_data\\\\mitg12\\\\box1_mitg12_07192020112321\\\\camera-2_clip-146.avi', 'F:\\\\MysoreData\\\\nbk\\\\mouseVideoAnalysis\\\\Box1\\\\video_data\\\\mitg12\\\\box1_mitg12_07192020112321\\\\camera-2_clip-95.avi', 'F:\\\\MysoreData\\\\nbk\\\\mouseVideoAnalysis\\\\Box1\\\\video_data\\\\mitg12\\\\box1_mitg12_07192020112321\\\\camera-2_clip-161.avi', 'F:\\\\MysoreData\\\\nbk\\\\mouseVideoAnalysis\\\\Box1\\\\video_data\\\\mitg12\\\\box1_mitg12_07192020112321\\\\camera-2_clip-96.avi', 'F:\\\\MysoreData\\\\nbk\\\\mouseVideoAnalysis\\\\Box1\\\\video_data\\\\mitg12\\\\box1_mitg12_07192020112321\\\\camera-2_clip-64.avi', 'F:\\\\MysoreData\\\\nbk\\\\mouseVideoAnalysis\\\\Box1\\\\video_data\\\\mitg12\\\\box1_mitg12_07192020112321\\\\camera-2_clip-159.avi', 'F:\\\\MysoreData\\\\nbk\\\\mouseVideoAnalysis\\\\Box1\\\\video_data\\\\mitg12\\\\box1_mitg12_07192020112321\\\\camera-2_clip-27.avi', 'F:\\\\MysoreData\\\\nbk\\\\mouseVideoAnalysis\\\\Box1\\\\video_data\\\\mitg12\\\\box1_mitg12_07192020112321\\\\camera-2_clip-45.avi', 'F:\\\\MysoreData\\\\nbk\\\\mouseVideoAnalysis\\\\Box1\\\\video_data\\\\mitg12\\\\box1_mitg12_07192020112321\\\\camera-2_clip-110.avi', 'F:\\\\MysoreData\\\\nbk\\\\mouseVideoAnalysis\\\\Box1\\\\video_data\\\\mitg12\\\\box1_mitg12_07192020112321\\\\camera-2_clip-118.avi', 'F:\\\\MysoreData\\\\nbk\\\\mouseVideoAnalysis\\\\Box1\\\\video_data\\\\mitg12\\\\box1_mitg12_09202020110449\\\\camera-2_clip-143.avi', 'F:\\\\MysoreData\\\\nbk\\\\mouseVideoAnalysis\\\\Box1\\\\video_data\\\\mitg12\\\\box1_mitg12_09202020110449\\\\camera-2_clip-137.avi', 'F:\\\\MysoreData\\\\nbk\\\\mouseVideoAnalysis\\\\Box1\\\\video_data\\\\mitg12\\\\box1_mitg12_09202020110449\\\\camera-2_clip-115.avi', 'F:\\\\MysoreData\\\\nbk\\\\mouseVideoAnalysis\\\\Box1\\\\video_data\\\\mitg12\\\\box1_mitg12_09202020110449\\\\camera-2_clip-37.avi', 'F:\\\\MysoreData\\\\nbk\\\\mouseVideoAnalysis\\\\Box1\\\\video_data\\\\mitg12\\\\box1_mitg12_09202020110449\\\\camera-2_clip-18.avi', 'F:\\\\MysoreData\\\\nbk\\\\mouseVideoAnalysis\\\\Box1\\\\video_data\\\\mitg12\\\\box1_mitg12_09202020110449\\\\camera-2_clip-78.avi', 'F:\\\\MysoreData\\\\nbk\\\\mouseVideoAnalysis\\\\Box1\\\\video_data\\\\mitg12\\\\box1_mitg12_09202020110449\\\\camera-2_clip-46.avi', 'F:\\\\MysoreData\\\\nbk\\\\mouseVideoAnalysis\\\\Box1\\\\video_data\\\\mitg12\\\\box1_mitg12_09202020110449\\\\camera-2_clip-146.avi', 'F:\\\\MysoreData\\\\nbk\\\\mouseVideoAnalysis\\\\Box1\\\\video_data\\\\mitg12\\\\box1_mitg12_09202020110449\\\\camera-2_clip-150.avi', 'F:\\\\MysoreData\\\\nbk\\\\mouseVideoAnalysis\\\\Box1\\\\video_data\\\\mitg12\\\\box1_mitg12_09202020110449\\\\camera-2_clip-139.avi', 'F:\\\\MysoreData\\\\nbk\\\\mouseVideoAnalysis\\\\Box1\\\\video_data\\\\mitg12\\\\box1_mitg12_09272020104906\\\\camera-2_clip-15.avi', 'F:\\\\MysoreData\\\\nbk\\\\mouseVideoAnalysis\\\\Box1\\\\video_data\\\\mitg12\\\\box1_mitg12_09272020104906\\\\camera-2_clip-19.avi', 'F:\\\\MysoreData\\\\nbk\\\\mouseVideoAnalysis\\\\Box1\\\\video_data\\\\mitg12\\\\box1_mitg12_09272020104906\\\\camera-2_clip-68.avi', 'F:\\\\MysoreData\\\\nbk\\\\mouseVideoAnalysis\\\\Box1\\\\video_data\\\\mitg12\\\\box1_mitg12_09272020104906\\\\camera-2_clip-26.avi', 'F:\\\\MysoreData\\\\nbk\\\\mouseVideoAnalysis\\\\Box1\\\\video_data\\\\mitg12\\\\box1_mitg12_09272020104906\\\\camera-2_clip-87.avi', 'F:\\\\MysoreData\\\\nbk\\\\mouseVideoAnalysis\\\\Box1\\\\video_data\\\\mitg12\\\\box1_mitg12_09272020104906\\\\camera-2_clip-74.avi', 'F:\\\\MysoreData\\\\nbk\\\\mouseVideoAnalysis\\\\Box1\\\\video_data\\\\mitg12\\\\box1_mitg12_09272020104906\\\\camera-2_clip-101.avi', 'F:\\\\MysoreData\\\\nbk\\\\mouseVideoAnalysis\\\\Box1\\\\video_data\\\\mitg12\\\\box1_mitg12_09272020104906\\\\camera-2_clip-50.avi', 'F:\\\\MysoreData\\\\nbk\\\\mouseVideoAnalysis\\\\Box1\\\\video_data\\\\mitg12\\\\box1_mitg12_09272020104906\\\\camera-2_clip-20.avi', 'F:\\\\MysoreData\\\\nbk\\\\mouseVideoAnalysis\\\\Box1\\\\video_data\\\\mitg12\\\\box1_mitg12_09272020104906\\\\camera-2_clip-72.avi', 'F:\\\\MysoreData\\\\nbk\\\\mouseVideoAnalysis\\\\Box1\\\\video_data\\\\mitg12\\\\box1_mitg12_09282020111244\\\\camera-2_clip-12.avi', 'F:\\\\MysoreData\\\\nbk\\\\mouseVideoAnalysis\\\\Box1\\\\video_data\\\\mitg12\\\\box1_mitg12_09282020111244\\\\camera-2_clip-69.avi', 'F:\\\\MysoreData\\\\nbk\\\\mouseVideoAnalysis\\\\Box1\\\\video_data\\\\mitg12\\\\box1_mitg12_09282020111244\\\\camera-2_clip-31.avi', 'F:\\\\MysoreData\\\\nbk\\\\mouseVideoAnalysis\\\\Box1\\\\video_data\\\\mitg12\\\\box1_mitg12_09282020111244\\\\camera-2_clip-116.avi', 'F:\\\\MysoreData\\\\nbk\\\\mouseVideoAnalysis\\\\Box1\\\\video_data\\\\mitg12\\\\box1_mitg12_09282020111244\\\\camera-2_clip-105.avi', 'F:\\\\MysoreData\\\\nbk\\\\mouseVideoAnalysis\\\\Box1\\\\video_data\\\\mitg12\\\\box1_mitg12_09282020111244\\\\camera-2_clip-37.avi', 'F:\\\\MysoreData\\\\nbk\\\\mouseVideoAnalysis\\\\Box1\\\\video_data\\\\mitg12\\\\box1_mitg12_09282020111244\\\\camera-2_clip-49.avi', 'F:\\\\MysoreData\\\\nbk\\\\mouseVideoAnalysis\\\\Box1\\\\video_data\\\\mitg12\\\\box1_mitg12_09282020111244\\\\camera-2_clip-68.avi', 'F:\\\\MysoreData\\\\nbk\\\\mouseVideoAnalysis\\\\Box1\\\\video_data\\\\mitg12\\\\box1_mitg12_09282020111244\\\\camera-2_clip-62.avi', 'F:\\\\MysoreData\\\\nbk\\\\mouseVideoAnalysis\\\\Box1\\\\video_data\\\\mitg12\\\\box1_mitg12_09282020111244\\\\camera-2_clip-131.avi', 'F:\\\\MysoreData\\\\nbk\\\\mouseVideoAnalysis\\\\Box1\\\\video_data\\\\mitg12\\\\box1_mitg12_09222020104548\\\\camera-2_clip-84.avi', 'F:\\\\MysoreData\\\\nbk\\\\mouseVideoAnalysis\\\\Box1\\\\video_data\\\\mitg12\\\\box1_mitg12_09222020104548\\\\camera-2_clip-8.avi', 'F:\\\\MysoreData\\\\nbk\\\\mouseVideoAnalysis\\\\Box1\\\\video_data\\\\mitg12\\\\box1_mitg12_09222020104548\\\\camera-2_clip-29.avi', 'F:\\\\MysoreData\\\\nbk\\\\mouseVideoAnalysis\\\\Box1\\\\video_data\\\\mitg12\\\\box1_mitg12_09222020104548\\\\camera-2_clip-30.avi', 'F:\\\\MysoreData\\\\nbk\\\\mouseVideoAnalysis\\\\Box1\\\\video_data\\\\mitg12\\\\box1_mitg12_09222020104548\\\\camera-2_clip-3.avi', 'F:\\\\MysoreData\\\\nbk\\\\mouseVideoAnalysis\\\\Box1\\\\video_data\\\\mitg12\\\\box1_mitg12_09222020104548\\\\camera-2_clip-135.avi', 'F:\\\\MysoreData\\\\nbk\\\\mouseVideoAnalysis\\\\Box1\\\\video_data\\\\mitg12\\\\box1_mitg12_09222020104548\\\\camera-2_clip-66.avi', 'F:\\\\MysoreData\\\\nbk\\\\mouseVideoAnalysis\\\\Box1\\\\video_data\\\\mitg12\\\\box1_mitg12_09222020104548\\\\camera-2_clip-117.avi', 'F:\\\\MysoreData\\\\nbk\\\\mouseVideoAnalysis\\\\Box1\\\\video_data\\\\mitg12\\\\box1_mitg12_09222020104548\\\\camera-2_clip-35.avi', 'F:\\\\MysoreData\\\\nbk\\\\mouseVideoAnalysis\\\\Box1\\\\video_data\\\\mitg12\\\\box1_mitg12_09222020104548\\\\camera-2_clip-109.avi']\n"
     ]
    }
   ],
   "source": [
    "BASE_DIR = r'F:\\MysoreData\\nbk\\mouseVideoAnalysis\\Box1\\video_data\\mitg12'\n",
    "videodirs = os.listdir(BASE_DIR)\n",
    "video = []\n",
    "for videodir in sample(videodirs, 22):\n",
    "    videos = os.listdir(os.path.join(BASE_DIR, videodir))\n",
    "    videos = [path for path in videos if 'camera-2' in path and 'ground' not in path and ('.avi' in path)]\n",
    "    #print(videos)\n",
    "    try:\n",
    "        for vid in sample(videos, 10):\n",
    "            video.append(os.path.join(BASE_DIR, videodir, vid))  \n",
    "    except ValueError:\n",
    "        print(\"skipping \" + str(videodir))\n",
    "print(video)\n",
    "num_videos = len(video)"
   ]
  },
  {
   "cell_type": "markdown",
   "metadata": {},
   "source": [
    "Generate the deeplabcut project, change working directory or else it is created in current directory. The output is the path to the config file. "
   ]
  },
  {
   "cell_type": "code",
   "execution_count": 3,
   "metadata": {},
   "outputs": [
    {
     "name": "stdout",
     "output_type": "stream",
     "text": [
      "Created \"F:\\MysoreData\\nbk\\mouseVideoAnalysis\\Box1\\cam2\\box1_cam2-spencerloggia-2021-03-27\\videos\"\n",
      "Created \"F:\\MysoreData\\nbk\\mouseVideoAnalysis\\Box1\\cam2\\box1_cam2-spencerloggia-2021-03-27\\labeled-data\"\n",
      "Created \"F:\\MysoreData\\nbk\\mouseVideoAnalysis\\Box1\\cam2\\box1_cam2-spencerloggia-2021-03-27\\training-datasets\"\n",
      "Created \"F:\\MysoreData\\nbk\\mouseVideoAnalysis\\Box1\\cam2\\box1_cam2-spencerloggia-2021-03-27\\dlc-models\"\n",
      "Copying the videos\n",
      "F:\\MysoreData\\nbk\\mouseVideoAnalysis\\Box1\\cam2\\box1_cam2-spencerloggia-2021-03-27\\videos\\camera-2_clip-25.avi\n",
      "F:\\MysoreData\\nbk\\mouseVideoAnalysis\\Box1\\cam2\\box1_cam2-spencerloggia-2021-03-27\\videos\\camera-2_clip-52.avi\n",
      "F:\\MysoreData\\nbk\\mouseVideoAnalysis\\Box1\\cam2\\box1_cam2-spencerloggia-2021-03-27\\videos\\camera-2_clip-75.avi\n",
      "F:\\MysoreData\\nbk\\mouseVideoAnalysis\\Box1\\cam2\\box1_cam2-spencerloggia-2021-03-27\\videos\\camera-2_clip-42.avi\n",
      "F:\\MysoreData\\nbk\\mouseVideoAnalysis\\Box1\\cam2\\box1_cam2-spencerloggia-2021-03-27\\videos\\camera-2_clip-113.avi\n",
      "F:\\MysoreData\\nbk\\mouseVideoAnalysis\\Box1\\cam2\\box1_cam2-spencerloggia-2021-03-27\\videos\\camera-2_clip-91.avi\n",
      "F:\\MysoreData\\nbk\\mouseVideoAnalysis\\Box1\\cam2\\box1_cam2-spencerloggia-2021-03-27\\videos\\camera-2_clip-104.avi\n",
      "F:\\MysoreData\\nbk\\mouseVideoAnalysis\\Box1\\cam2\\box1_cam2-spencerloggia-2021-03-27\\videos\\camera-2_clip-64.avi\n",
      "F:\\MysoreData\\nbk\\mouseVideoAnalysis\\Box1\\cam2\\box1_cam2-spencerloggia-2021-03-27\\videos\\camera-2_clip-39.avi\n",
      "F:\\MysoreData\\nbk\\mouseVideoAnalysis\\Box1\\cam2\\box1_cam2-spencerloggia-2021-03-27\\videos\\camera-2_clip-99.avi\n",
      "F:\\MysoreData\\nbk\\mouseVideoAnalysis\\Box1\\cam2\\box1_cam2-spencerloggia-2021-03-27\\videos\\camera-2_clip-84.avi\n",
      "F:\\MysoreData\\nbk\\mouseVideoAnalysis\\Box1\\cam2\\box1_cam2-spencerloggia-2021-03-27\\videos\\camera-2_clip-47.avi\n",
      "F:\\MysoreData\\nbk\\mouseVideoAnalysis\\Box1\\cam2\\box1_cam2-spencerloggia-2021-03-27\\videos\\camera-2_clip-91.avi\n",
      "F:\\MysoreData\\nbk\\mouseVideoAnalysis\\Box1\\cam2\\box1_cam2-spencerloggia-2021-03-27\\videos\\camera-2_clip-62.avi\n",
      "F:\\MysoreData\\nbk\\mouseVideoAnalysis\\Box1\\cam2\\box1_cam2-spencerloggia-2021-03-27\\videos\\camera-2_clip-123.avi\n",
      "F:\\MysoreData\\nbk\\mouseVideoAnalysis\\Box1\\cam2\\box1_cam2-spencerloggia-2021-03-27\\videos\\camera-2_clip-0.avi\n",
      "F:\\MysoreData\\nbk\\mouseVideoAnalysis\\Box1\\cam2\\box1_cam2-spencerloggia-2021-03-27\\videos\\camera-2_clip-1.avi\n",
      "F:\\MysoreData\\nbk\\mouseVideoAnalysis\\Box1\\cam2\\box1_cam2-spencerloggia-2021-03-27\\videos\\camera-2_clip-119.avi\n",
      "F:\\MysoreData\\nbk\\mouseVideoAnalysis\\Box1\\cam2\\box1_cam2-spencerloggia-2021-03-27\\videos\\camera-2_clip-149.avi\n",
      "F:\\MysoreData\\nbk\\mouseVideoAnalysis\\Box1\\cam2\\box1_cam2-spencerloggia-2021-03-27\\videos\\camera-2_clip-16.avi\n",
      "F:\\MysoreData\\nbk\\mouseVideoAnalysis\\Box1\\cam2\\box1_cam2-spencerloggia-2021-03-27\\videos\\camera-2_clip-4.avi\n",
      "F:\\MysoreData\\nbk\\mouseVideoAnalysis\\Box1\\cam2\\box1_cam2-spencerloggia-2021-03-27\\videos\\camera-2_clip-6.avi\n",
      "F:\\MysoreData\\nbk\\mouseVideoAnalysis\\Box1\\cam2\\box1_cam2-spencerloggia-2021-03-27\\videos\\camera-2_clip-8.avi\n",
      "F:\\MysoreData\\nbk\\mouseVideoAnalysis\\Box1\\cam2\\box1_cam2-spencerloggia-2021-03-27\\videos\\camera-2_clip-10.avi\n",
      "F:\\MysoreData\\nbk\\mouseVideoAnalysis\\Box1\\cam2\\box1_cam2-spencerloggia-2021-03-27\\videos\\camera-2_clip-5.avi\n",
      "F:\\MysoreData\\nbk\\mouseVideoAnalysis\\Box1\\cam2\\box1_cam2-spencerloggia-2021-03-27\\videos\\camera-2_clip-2.avi\n",
      "F:\\MysoreData\\nbk\\mouseVideoAnalysis\\Box1\\cam2\\box1_cam2-spencerloggia-2021-03-27\\videos\\camera-2_clip-7.avi\n",
      "F:\\MysoreData\\nbk\\mouseVideoAnalysis\\Box1\\cam2\\box1_cam2-spencerloggia-2021-03-27\\videos\\camera-2_clip-0.avi\n",
      "F:\\MysoreData\\nbk\\mouseVideoAnalysis\\Box1\\cam2\\box1_cam2-spencerloggia-2021-03-27\\videos\\camera-2_clip-9.avi\n",
      "F:\\MysoreData\\nbk\\mouseVideoAnalysis\\Box1\\cam2\\box1_cam2-spencerloggia-2021-03-27\\videos\\camera-2_clip-3.avi\n",
      "F:\\MysoreData\\nbk\\mouseVideoAnalysis\\Box1\\cam2\\box1_cam2-spencerloggia-2021-03-27\\videos\\camera-2_clip-139.avi\n",
      "F:\\MysoreData\\nbk\\mouseVideoAnalysis\\Box1\\cam2\\box1_cam2-spencerloggia-2021-03-27\\videos\\camera-2_clip-140.avi\n",
      "F:\\MysoreData\\nbk\\mouseVideoAnalysis\\Box1\\cam2\\box1_cam2-spencerloggia-2021-03-27\\videos\\camera-2_clip-25.avi\n",
      "F:\\MysoreData\\nbk\\mouseVideoAnalysis\\Box1\\cam2\\box1_cam2-spencerloggia-2021-03-27\\videos\\camera-2_clip-11.avi\n",
      "F:\\MysoreData\\nbk\\mouseVideoAnalysis\\Box1\\cam2\\box1_cam2-spencerloggia-2021-03-27\\videos\\camera-2_clip-115.avi\n",
      "F:\\MysoreData\\nbk\\mouseVideoAnalysis\\Box1\\cam2\\box1_cam2-spencerloggia-2021-03-27\\videos\\camera-2_clip-31.avi\n",
      "F:\\MysoreData\\nbk\\mouseVideoAnalysis\\Box1\\cam2\\box1_cam2-spencerloggia-2021-03-27\\videos\\camera-2_clip-76.avi\n",
      "F:\\MysoreData\\nbk\\mouseVideoAnalysis\\Box1\\cam2\\box1_cam2-spencerloggia-2021-03-27\\videos\\camera-2_clip-83.avi\n",
      "F:\\MysoreData\\nbk\\mouseVideoAnalysis\\Box1\\cam2\\box1_cam2-spencerloggia-2021-03-27\\videos\\camera-2_clip-62.avi\n",
      "F:\\MysoreData\\nbk\\mouseVideoAnalysis\\Box1\\cam2\\box1_cam2-spencerloggia-2021-03-27\\videos\\camera-2_clip-118.avi\n",
      "F:\\MysoreData\\nbk\\mouseVideoAnalysis\\Box1\\cam2\\box1_cam2-spencerloggia-2021-03-27\\videos\\camera-2_clip-130.avi\n",
      "F:\\MysoreData\\nbk\\mouseVideoAnalysis\\Box1\\cam2\\box1_cam2-spencerloggia-2021-03-27\\videos\\camera-2_clip-56.avi\n",
      "F:\\MysoreData\\nbk\\mouseVideoAnalysis\\Box1\\cam2\\box1_cam2-spencerloggia-2021-03-27\\videos\\camera-2_clip-84.avi\n",
      "F:\\MysoreData\\nbk\\mouseVideoAnalysis\\Box1\\cam2\\box1_cam2-spencerloggia-2021-03-27\\videos\\camera-2_clip-64.avi\n",
      "F:\\MysoreData\\nbk\\mouseVideoAnalysis\\Box1\\cam2\\box1_cam2-spencerloggia-2021-03-27\\videos\\camera-2_clip-100.avi\n",
      "F:\\MysoreData\\nbk\\mouseVideoAnalysis\\Box1\\cam2\\box1_cam2-spencerloggia-2021-03-27\\videos\\camera-2_clip-19.avi\n",
      "F:\\MysoreData\\nbk\\mouseVideoAnalysis\\Box1\\cam2\\box1_cam2-spencerloggia-2021-03-27\\videos\\camera-2_clip-48.avi\n",
      "F:\\MysoreData\\nbk\\mouseVideoAnalysis\\Box1\\cam2\\box1_cam2-spencerloggia-2021-03-27\\videos\\camera-2_clip-13.avi\n",
      "F:\\MysoreData\\nbk\\mouseVideoAnalysis\\Box1\\cam2\\box1_cam2-spencerloggia-2021-03-27\\videos\\camera-2_clip-112.avi\n",
      "F:\\MysoreData\\nbk\\mouseVideoAnalysis\\Box1\\cam2\\box1_cam2-spencerloggia-2021-03-27\\videos\\camera-2_clip-10.avi\n",
      "F:\\MysoreData\\nbk\\mouseVideoAnalysis\\Box1\\cam2\\box1_cam2-spencerloggia-2021-03-27\\videos\\camera-2_clip-101.avi\n",
      "F:\\MysoreData\\nbk\\mouseVideoAnalysis\\Box1\\cam2\\box1_cam2-spencerloggia-2021-03-27\\videos\\camera-2_clip-12.avi\n",
      "F:\\MysoreData\\nbk\\mouseVideoAnalysis\\Box1\\cam2\\box1_cam2-spencerloggia-2021-03-27\\videos\\camera-2_clip-110.avi\n",
      "F:\\MysoreData\\nbk\\mouseVideoAnalysis\\Box1\\cam2\\box1_cam2-spencerloggia-2021-03-27\\videos\\camera-2_clip-161.avi\n",
      "F:\\MysoreData\\nbk\\mouseVideoAnalysis\\Box1\\cam2\\box1_cam2-spencerloggia-2021-03-27\\videos\\camera-2_clip-34.avi\n",
      "F:\\MysoreData\\nbk\\mouseVideoAnalysis\\Box1\\cam2\\box1_cam2-spencerloggia-2021-03-27\\videos\\camera-2_clip-88.avi\n",
      "F:\\MysoreData\\nbk\\mouseVideoAnalysis\\Box1\\cam2\\box1_cam2-spencerloggia-2021-03-27\\videos\\camera-2_clip-60.avi\n",
      "F:\\MysoreData\\nbk\\mouseVideoAnalysis\\Box1\\cam2\\box1_cam2-spencerloggia-2021-03-27\\videos\\camera-2_clip-142.avi\n",
      "F:\\MysoreData\\nbk\\mouseVideoAnalysis\\Box1\\cam2\\box1_cam2-spencerloggia-2021-03-27\\videos\\camera-2_clip-32.avi\n",
      "F:\\MysoreData\\nbk\\mouseVideoAnalysis\\Box1\\cam2\\box1_cam2-spencerloggia-2021-03-27\\videos\\camera-2_clip-103.avi\n",
      "F:\\MysoreData\\nbk\\mouseVideoAnalysis\\Box1\\cam2\\box1_cam2-spencerloggia-2021-03-27\\videos\\camera-2_clip-8.avi\n",
      "F:\\MysoreData\\nbk\\mouseVideoAnalysis\\Box1\\cam2\\box1_cam2-spencerloggia-2021-03-27\\videos\\camera-2_clip-7.avi\n",
      "F:\\MysoreData\\nbk\\mouseVideoAnalysis\\Box1\\cam2\\box1_cam2-spencerloggia-2021-03-27\\videos\\camera-2_clip-3.avi\n",
      "F:\\MysoreData\\nbk\\mouseVideoAnalysis\\Box1\\cam2\\box1_cam2-spencerloggia-2021-03-27\\videos\\camera-2_clip-1.avi\n",
      "F:\\MysoreData\\nbk\\mouseVideoAnalysis\\Box1\\cam2\\box1_cam2-spencerloggia-2021-03-27\\videos\\camera-2_clip-6.avi\n",
      "F:\\MysoreData\\nbk\\mouseVideoAnalysis\\Box1\\cam2\\box1_cam2-spencerloggia-2021-03-27\\videos\\camera-2_clip-12.avi\n",
      "F:\\MysoreData\\nbk\\mouseVideoAnalysis\\Box1\\cam2\\box1_cam2-spencerloggia-2021-03-27\\videos\\camera-2_clip-2.avi\n",
      "F:\\MysoreData\\nbk\\mouseVideoAnalysis\\Box1\\cam2\\box1_cam2-spencerloggia-2021-03-27\\videos\\camera-2_clip-4.avi\n",
      "F:\\MysoreData\\nbk\\mouseVideoAnalysis\\Box1\\cam2\\box1_cam2-spencerloggia-2021-03-27\\videos\\camera-2_clip-10.avi\n",
      "F:\\MysoreData\\nbk\\mouseVideoAnalysis\\Box1\\cam2\\box1_cam2-spencerloggia-2021-03-27\\videos\\camera-2_clip-11.avi\n",
      "F:\\MysoreData\\nbk\\mouseVideoAnalysis\\Box1\\cam2\\box1_cam2-spencerloggia-2021-03-27\\videos\\camera-2_clip-36.avi\n",
      "F:\\MysoreData\\nbk\\mouseVideoAnalysis\\Box1\\cam2\\box1_cam2-spencerloggia-2021-03-27\\videos\\camera-2_clip-8.avi\n",
      "F:\\MysoreData\\nbk\\mouseVideoAnalysis\\Box1\\cam2\\box1_cam2-spencerloggia-2021-03-27\\videos\\camera-2_clip-58.avi\n",
      "F:\\MysoreData\\nbk\\mouseVideoAnalysis\\Box1\\cam2\\box1_cam2-spencerloggia-2021-03-27\\videos\\camera-2_clip-44.avi\n",
      "F:\\MysoreData\\nbk\\mouseVideoAnalysis\\Box1\\cam2\\box1_cam2-spencerloggia-2021-03-27\\videos\\camera-2_clip-2.avi\n",
      "F:\\MysoreData\\nbk\\mouseVideoAnalysis\\Box1\\cam2\\box1_cam2-spencerloggia-2021-03-27\\videos\\camera-2_clip-0.avi\n"
     ]
    },
    {
     "name": "stdout",
     "output_type": "stream",
     "text": [
      "F:\\MysoreData\\nbk\\mouseVideoAnalysis\\Box1\\cam2\\box1_cam2-spencerloggia-2021-03-27\\videos\\camera-2_clip-14.avi\n",
      "F:\\MysoreData\\nbk\\mouseVideoAnalysis\\Box1\\cam2\\box1_cam2-spencerloggia-2021-03-27\\videos\\camera-2_clip-56.avi\n",
      "F:\\MysoreData\\nbk\\mouseVideoAnalysis\\Box1\\cam2\\box1_cam2-spencerloggia-2021-03-27\\videos\\camera-2_clip-22.avi\n",
      "F:\\MysoreData\\nbk\\mouseVideoAnalysis\\Box1\\cam2\\box1_cam2-spencerloggia-2021-03-27\\videos\\camera-2_clip-11.avi\n",
      "F:\\MysoreData\\nbk\\mouseVideoAnalysis\\Box1\\cam2\\box1_cam2-spencerloggia-2021-03-27\\videos\\camera-2_clip-170.avi\n",
      "F:\\MysoreData\\nbk\\mouseVideoAnalysis\\Box1\\cam2\\box1_cam2-spencerloggia-2021-03-27\\videos\\camera-2_clip-55.avi\n",
      "F:\\MysoreData\\nbk\\mouseVideoAnalysis\\Box1\\cam2\\box1_cam2-spencerloggia-2021-03-27\\videos\\camera-2_clip-71.avi\n",
      "F:\\MysoreData\\nbk\\mouseVideoAnalysis\\Box1\\cam2\\box1_cam2-spencerloggia-2021-03-27\\videos\\camera-2_clip-1.avi\n",
      "F:\\MysoreData\\nbk\\mouseVideoAnalysis\\Box1\\cam2\\box1_cam2-spencerloggia-2021-03-27\\videos\\camera-2_clip-78.avi\n",
      "F:\\MysoreData\\nbk\\mouseVideoAnalysis\\Box1\\cam2\\box1_cam2-spencerloggia-2021-03-27\\videos\\camera-2_clip-129.avi\n",
      "F:\\MysoreData\\nbk\\mouseVideoAnalysis\\Box1\\cam2\\box1_cam2-spencerloggia-2021-03-27\\videos\\camera-2_clip-119.avi\n",
      "F:\\MysoreData\\nbk\\mouseVideoAnalysis\\Box1\\cam2\\box1_cam2-spencerloggia-2021-03-27\\videos\\camera-2_clip-146.avi\n",
      "F:\\MysoreData\\nbk\\mouseVideoAnalysis\\Box1\\cam2\\box1_cam2-spencerloggia-2021-03-27\\videos\\camera-2_clip-58.avi\n",
      "F:\\MysoreData\\nbk\\mouseVideoAnalysis\\Box1\\cam2\\box1_cam2-spencerloggia-2021-03-27\\videos\\camera-2_clip-96.avi\n",
      "F:\\MysoreData\\nbk\\mouseVideoAnalysis\\Box1\\cam2\\box1_cam2-spencerloggia-2021-03-27\\videos\\camera-2_clip-128.avi\n",
      "F:\\MysoreData\\nbk\\mouseVideoAnalysis\\Box1\\cam2\\box1_cam2-spencerloggia-2021-03-27\\videos\\camera-2_clip-108.avi\n",
      "F:\\MysoreData\\nbk\\mouseVideoAnalysis\\Box1\\cam2\\box1_cam2-spencerloggia-2021-03-27\\videos\\camera-2_clip-83.avi\n",
      "F:\\MysoreData\\nbk\\mouseVideoAnalysis\\Box1\\cam2\\box1_cam2-spencerloggia-2021-03-27\\videos\\camera-2_clip-39.avi\n",
      "F:\\MysoreData\\nbk\\mouseVideoAnalysis\\Box1\\cam2\\box1_cam2-spencerloggia-2021-03-27\\videos\\camera-2_clip-93.avi\n",
      "F:\\MysoreData\\nbk\\mouseVideoAnalysis\\Box1\\cam2\\box1_cam2-spencerloggia-2021-03-27\\videos\\camera-2_clip-43.avi\n",
      "F:\\MysoreData\\nbk\\mouseVideoAnalysis\\Box1\\cam2\\box1_cam2-spencerloggia-2021-03-27\\videos\\camera-2_clip-96.avi\n",
      "F:\\MysoreData\\nbk\\mouseVideoAnalysis\\Box1\\cam2\\box1_cam2-spencerloggia-2021-03-27\\videos\\camera-2_clip-51.avi\n",
      "F:\\MysoreData\\nbk\\mouseVideoAnalysis\\Box1\\cam2\\box1_cam2-spencerloggia-2021-03-27\\videos\\camera-2_clip-12.avi\n",
      "F:\\MysoreData\\nbk\\mouseVideoAnalysis\\Box1\\cam2\\box1_cam2-spencerloggia-2021-03-27\\videos\\camera-2_clip-124.avi\n",
      "F:\\MysoreData\\nbk\\mouseVideoAnalysis\\Box1\\cam2\\box1_cam2-spencerloggia-2021-03-27\\videos\\camera-2_clip-80.avi\n",
      "F:\\MysoreData\\nbk\\mouseVideoAnalysis\\Box1\\cam2\\box1_cam2-spencerloggia-2021-03-27\\videos\\camera-2_clip-70.avi\n",
      "F:\\MysoreData\\nbk\\mouseVideoAnalysis\\Box1\\cam2\\box1_cam2-spencerloggia-2021-03-27\\videos\\camera-2_clip-30.avi\n",
      "F:\\MysoreData\\nbk\\mouseVideoAnalysis\\Box1\\cam2\\box1_cam2-spencerloggia-2021-03-27\\videos\\camera-2_clip-73.avi\n",
      "F:\\MysoreData\\nbk\\mouseVideoAnalysis\\Box1\\cam2\\box1_cam2-spencerloggia-2021-03-27\\videos\\camera-2_clip-57.avi\n",
      "F:\\MysoreData\\nbk\\mouseVideoAnalysis\\Box1\\cam2\\box1_cam2-spencerloggia-2021-03-27\\videos\\camera-2_clip-86.avi\n",
      "F:\\MysoreData\\nbk\\mouseVideoAnalysis\\Box1\\cam2\\box1_cam2-spencerloggia-2021-03-27\\videos\\camera-2_clip-32.avi\n",
      "F:\\MysoreData\\nbk\\mouseVideoAnalysis\\Box1\\cam2\\box1_cam2-spencerloggia-2021-03-27\\videos\\camera-2_clip-69.avi\n",
      "F:\\MysoreData\\nbk\\mouseVideoAnalysis\\Box1\\cam2\\box1_cam2-spencerloggia-2021-03-27\\videos\\camera-2_clip-22.avi\n",
      "F:\\MysoreData\\nbk\\mouseVideoAnalysis\\Box1\\cam2\\box1_cam2-spencerloggia-2021-03-27\\videos\\camera-2_clip-63.avi\n",
      "F:\\MysoreData\\nbk\\mouseVideoAnalysis\\Box1\\cam2\\box1_cam2-spencerloggia-2021-03-27\\videos\\camera-2_clip-91.avi\n",
      "F:\\MysoreData\\nbk\\mouseVideoAnalysis\\Box1\\cam2\\box1_cam2-spencerloggia-2021-03-27\\videos\\camera-2_clip-135.avi\n",
      "F:\\MysoreData\\nbk\\mouseVideoAnalysis\\Box1\\cam2\\box1_cam2-spencerloggia-2021-03-27\\videos\\camera-2_clip-42.avi\n",
      "F:\\MysoreData\\nbk\\mouseVideoAnalysis\\Box1\\cam2\\box1_cam2-spencerloggia-2021-03-27\\videos\\camera-2_clip-118.avi\n",
      "F:\\MysoreData\\nbk\\mouseVideoAnalysis\\Box1\\cam2\\box1_cam2-spencerloggia-2021-03-27\\videos\\camera-2_clip-117.avi\n",
      "F:\\MysoreData\\nbk\\mouseVideoAnalysis\\Box1\\cam2\\box1_cam2-spencerloggia-2021-03-27\\videos\\camera-2_clip-162.avi\n",
      "F:\\MysoreData\\nbk\\mouseVideoAnalysis\\Box1\\cam2\\box1_cam2-spencerloggia-2021-03-27\\videos\\camera-2_clip-53.avi\n",
      "F:\\MysoreData\\nbk\\mouseVideoAnalysis\\Box1\\cam2\\box1_cam2-spencerloggia-2021-03-27\\videos\\camera-2_clip-73.avi\n",
      "F:\\MysoreData\\nbk\\mouseVideoAnalysis\\Box1\\cam2\\box1_cam2-spencerloggia-2021-03-27\\videos\\camera-2_clip-144.avi\n",
      "F:\\MysoreData\\nbk\\mouseVideoAnalysis\\Box1\\cam2\\box1_cam2-spencerloggia-2021-03-27\\videos\\camera-2_clip-96.avi\n",
      "F:\\MysoreData\\nbk\\mouseVideoAnalysis\\Box1\\cam2\\box1_cam2-spencerloggia-2021-03-27\\videos\\camera-2_clip-11.avi\n",
      "F:\\MysoreData\\nbk\\mouseVideoAnalysis\\Box1\\cam2\\box1_cam2-spencerloggia-2021-03-27\\videos\\camera-2_clip-137.avi\n",
      "F:\\MysoreData\\nbk\\mouseVideoAnalysis\\Box1\\cam2\\box1_cam2-spencerloggia-2021-03-27\\videos\\camera-2_clip-105.avi\n",
      "F:\\MysoreData\\nbk\\mouseVideoAnalysis\\Box1\\cam2\\box1_cam2-spencerloggia-2021-03-27\\videos\\camera-2_clip-7.avi\n",
      "F:\\MysoreData\\nbk\\mouseVideoAnalysis\\Box1\\cam2\\box1_cam2-spencerloggia-2021-03-27\\videos\\camera-2_clip-13.avi\n",
      "F:\\MysoreData\\nbk\\mouseVideoAnalysis\\Box1\\cam2\\box1_cam2-spencerloggia-2021-03-27\\videos\\camera-2_clip-101.avi\n",
      "F:\\MysoreData\\nbk\\mouseVideoAnalysis\\Box1\\cam2\\box1_cam2-spencerloggia-2021-03-27\\videos\\camera-2_clip-6.avi\n",
      "F:\\MysoreData\\nbk\\mouseVideoAnalysis\\Box1\\cam2\\box1_cam2-spencerloggia-2021-03-27\\videos\\camera-2_clip-73.avi\n",
      "F:\\MysoreData\\nbk\\mouseVideoAnalysis\\Box1\\cam2\\box1_cam2-spencerloggia-2021-03-27\\videos\\camera-2_clip-77.avi\n",
      "F:\\MysoreData\\nbk\\mouseVideoAnalysis\\Box1\\cam2\\box1_cam2-spencerloggia-2021-03-27\\videos\\camera-2_clip-80.avi\n",
      "F:\\MysoreData\\nbk\\mouseVideoAnalysis\\Box1\\cam2\\box1_cam2-spencerloggia-2021-03-27\\videos\\camera-2_clip-10.avi\n",
      "F:\\MysoreData\\nbk\\mouseVideoAnalysis\\Box1\\cam2\\box1_cam2-spencerloggia-2021-03-27\\videos\\camera-2_clip-6.avi\n",
      "F:\\MysoreData\\nbk\\mouseVideoAnalysis\\Box1\\cam2\\box1_cam2-spencerloggia-2021-03-27\\videos\\camera-2_clip-12.avi\n",
      "F:\\MysoreData\\nbk\\mouseVideoAnalysis\\Box1\\cam2\\box1_cam2-spencerloggia-2021-03-27\\videos\\camera-2_clip-4.avi\n",
      "F:\\MysoreData\\nbk\\mouseVideoAnalysis\\Box1\\cam2\\box1_cam2-spencerloggia-2021-03-27\\videos\\camera-2_clip-5.avi\n",
      "F:\\MysoreData\\nbk\\mouseVideoAnalysis\\Box1\\cam2\\box1_cam2-spencerloggia-2021-03-27\\videos\\camera-2_clip-0.avi\n",
      "F:\\MysoreData\\nbk\\mouseVideoAnalysis\\Box1\\cam2\\box1_cam2-spencerloggia-2021-03-27\\videos\\camera-2_clip-1.avi\n",
      "F:\\MysoreData\\nbk\\mouseVideoAnalysis\\Box1\\cam2\\box1_cam2-spencerloggia-2021-03-27\\videos\\camera-2_clip-7.avi\n",
      "F:\\MysoreData\\nbk\\mouseVideoAnalysis\\Box1\\cam2\\box1_cam2-spencerloggia-2021-03-27\\videos\\camera-2_clip-11.avi\n",
      "F:\\MysoreData\\nbk\\mouseVideoAnalysis\\Box1\\cam2\\box1_cam2-spencerloggia-2021-03-27\\videos\\camera-2_clip-8.avi\n",
      "F:\\MysoreData\\nbk\\mouseVideoAnalysis\\Box1\\cam2\\box1_cam2-spencerloggia-2021-03-27\\videos\\camera-2_clip-146.avi\n",
      "F:\\MysoreData\\nbk\\mouseVideoAnalysis\\Box1\\cam2\\box1_cam2-spencerloggia-2021-03-27\\videos\\camera-2_clip-95.avi\n",
      "F:\\MysoreData\\nbk\\mouseVideoAnalysis\\Box1\\cam2\\box1_cam2-spencerloggia-2021-03-27\\videos\\camera-2_clip-161.avi\n",
      "F:\\MysoreData\\nbk\\mouseVideoAnalysis\\Box1\\cam2\\box1_cam2-spencerloggia-2021-03-27\\videos\\camera-2_clip-96.avi\n",
      "F:\\MysoreData\\nbk\\mouseVideoAnalysis\\Box1\\cam2\\box1_cam2-spencerloggia-2021-03-27\\videos\\camera-2_clip-64.avi\n",
      "F:\\MysoreData\\nbk\\mouseVideoAnalysis\\Box1\\cam2\\box1_cam2-spencerloggia-2021-03-27\\videos\\camera-2_clip-159.avi\n",
      "F:\\MysoreData\\nbk\\mouseVideoAnalysis\\Box1\\cam2\\box1_cam2-spencerloggia-2021-03-27\\videos\\camera-2_clip-27.avi\n",
      "F:\\MysoreData\\nbk\\mouseVideoAnalysis\\Box1\\cam2\\box1_cam2-spencerloggia-2021-03-27\\videos\\camera-2_clip-45.avi\n",
      "F:\\MysoreData\\nbk\\mouseVideoAnalysis\\Box1\\cam2\\box1_cam2-spencerloggia-2021-03-27\\videos\\camera-2_clip-110.avi\n",
      "F:\\MysoreData\\nbk\\mouseVideoAnalysis\\Box1\\cam2\\box1_cam2-spencerloggia-2021-03-27\\videos\\camera-2_clip-118.avi\n",
      "F:\\MysoreData\\nbk\\mouseVideoAnalysis\\Box1\\cam2\\box1_cam2-spencerloggia-2021-03-27\\videos\\camera-2_clip-143.avi\n",
      "F:\\MysoreData\\nbk\\mouseVideoAnalysis\\Box1\\cam2\\box1_cam2-spencerloggia-2021-03-27\\videos\\camera-2_clip-137.avi\n",
      "F:\\MysoreData\\nbk\\mouseVideoAnalysis\\Box1\\cam2\\box1_cam2-spencerloggia-2021-03-27\\videos\\camera-2_clip-115.avi\n"
     ]
    },
    {
     "name": "stdout",
     "output_type": "stream",
     "text": [
      "F:\\MysoreData\\nbk\\mouseVideoAnalysis\\Box1\\cam2\\box1_cam2-spencerloggia-2021-03-27\\videos\\camera-2_clip-37.avi\n",
      "F:\\MysoreData\\nbk\\mouseVideoAnalysis\\Box1\\cam2\\box1_cam2-spencerloggia-2021-03-27\\videos\\camera-2_clip-18.avi\n",
      "F:\\MysoreData\\nbk\\mouseVideoAnalysis\\Box1\\cam2\\box1_cam2-spencerloggia-2021-03-27\\videos\\camera-2_clip-78.avi\n",
      "F:\\MysoreData\\nbk\\mouseVideoAnalysis\\Box1\\cam2\\box1_cam2-spencerloggia-2021-03-27\\videos\\camera-2_clip-46.avi\n",
      "F:\\MysoreData\\nbk\\mouseVideoAnalysis\\Box1\\cam2\\box1_cam2-spencerloggia-2021-03-27\\videos\\camera-2_clip-146.avi\n",
      "F:\\MysoreData\\nbk\\mouseVideoAnalysis\\Box1\\cam2\\box1_cam2-spencerloggia-2021-03-27\\videos\\camera-2_clip-150.avi\n",
      "F:\\MysoreData\\nbk\\mouseVideoAnalysis\\Box1\\cam2\\box1_cam2-spencerloggia-2021-03-27\\videos\\camera-2_clip-139.avi\n",
      "F:\\MysoreData\\nbk\\mouseVideoAnalysis\\Box1\\cam2\\box1_cam2-spencerloggia-2021-03-27\\videos\\camera-2_clip-15.avi\n",
      "F:\\MysoreData\\nbk\\mouseVideoAnalysis\\Box1\\cam2\\box1_cam2-spencerloggia-2021-03-27\\videos\\camera-2_clip-19.avi\n",
      "F:\\MysoreData\\nbk\\mouseVideoAnalysis\\Box1\\cam2\\box1_cam2-spencerloggia-2021-03-27\\videos\\camera-2_clip-68.avi\n",
      "F:\\MysoreData\\nbk\\mouseVideoAnalysis\\Box1\\cam2\\box1_cam2-spencerloggia-2021-03-27\\videos\\camera-2_clip-26.avi\n",
      "F:\\MysoreData\\nbk\\mouseVideoAnalysis\\Box1\\cam2\\box1_cam2-spencerloggia-2021-03-27\\videos\\camera-2_clip-87.avi\n",
      "F:\\MysoreData\\nbk\\mouseVideoAnalysis\\Box1\\cam2\\box1_cam2-spencerloggia-2021-03-27\\videos\\camera-2_clip-74.avi\n",
      "F:\\MysoreData\\nbk\\mouseVideoAnalysis\\Box1\\cam2\\box1_cam2-spencerloggia-2021-03-27\\videos\\camera-2_clip-101.avi\n",
      "F:\\MysoreData\\nbk\\mouseVideoAnalysis\\Box1\\cam2\\box1_cam2-spencerloggia-2021-03-27\\videos\\camera-2_clip-50.avi\n",
      "F:\\MysoreData\\nbk\\mouseVideoAnalysis\\Box1\\cam2\\box1_cam2-spencerloggia-2021-03-27\\videos\\camera-2_clip-20.avi\n",
      "F:\\MysoreData\\nbk\\mouseVideoAnalysis\\Box1\\cam2\\box1_cam2-spencerloggia-2021-03-27\\videos\\camera-2_clip-72.avi\n",
      "F:\\MysoreData\\nbk\\mouseVideoAnalysis\\Box1\\cam2\\box1_cam2-spencerloggia-2021-03-27\\videos\\camera-2_clip-12.avi\n",
      "F:\\MysoreData\\nbk\\mouseVideoAnalysis\\Box1\\cam2\\box1_cam2-spencerloggia-2021-03-27\\videos\\camera-2_clip-69.avi\n",
      "F:\\MysoreData\\nbk\\mouseVideoAnalysis\\Box1\\cam2\\box1_cam2-spencerloggia-2021-03-27\\videos\\camera-2_clip-31.avi\n",
      "F:\\MysoreData\\nbk\\mouseVideoAnalysis\\Box1\\cam2\\box1_cam2-spencerloggia-2021-03-27\\videos\\camera-2_clip-116.avi\n",
      "F:\\MysoreData\\nbk\\mouseVideoAnalysis\\Box1\\cam2\\box1_cam2-spencerloggia-2021-03-27\\videos\\camera-2_clip-105.avi\n",
      "F:\\MysoreData\\nbk\\mouseVideoAnalysis\\Box1\\cam2\\box1_cam2-spencerloggia-2021-03-27\\videos\\camera-2_clip-37.avi\n",
      "F:\\MysoreData\\nbk\\mouseVideoAnalysis\\Box1\\cam2\\box1_cam2-spencerloggia-2021-03-27\\videos\\camera-2_clip-49.avi\n",
      "F:\\MysoreData\\nbk\\mouseVideoAnalysis\\Box1\\cam2\\box1_cam2-spencerloggia-2021-03-27\\videos\\camera-2_clip-68.avi\n",
      "F:\\MysoreData\\nbk\\mouseVideoAnalysis\\Box1\\cam2\\box1_cam2-spencerloggia-2021-03-27\\videos\\camera-2_clip-62.avi\n",
      "F:\\MysoreData\\nbk\\mouseVideoAnalysis\\Box1\\cam2\\box1_cam2-spencerloggia-2021-03-27\\videos\\camera-2_clip-131.avi\n",
      "F:\\MysoreData\\nbk\\mouseVideoAnalysis\\Box1\\cam2\\box1_cam2-spencerloggia-2021-03-27\\videos\\camera-2_clip-84.avi\n",
      "F:\\MysoreData\\nbk\\mouseVideoAnalysis\\Box1\\cam2\\box1_cam2-spencerloggia-2021-03-27\\videos\\camera-2_clip-8.avi\n",
      "F:\\MysoreData\\nbk\\mouseVideoAnalysis\\Box1\\cam2\\box1_cam2-spencerloggia-2021-03-27\\videos\\camera-2_clip-29.avi\n",
      "F:\\MysoreData\\nbk\\mouseVideoAnalysis\\Box1\\cam2\\box1_cam2-spencerloggia-2021-03-27\\videos\\camera-2_clip-30.avi\n",
      "F:\\MysoreData\\nbk\\mouseVideoAnalysis\\Box1\\cam2\\box1_cam2-spencerloggia-2021-03-27\\videos\\camera-2_clip-3.avi\n",
      "F:\\MysoreData\\nbk\\mouseVideoAnalysis\\Box1\\cam2\\box1_cam2-spencerloggia-2021-03-27\\videos\\camera-2_clip-135.avi\n",
      "F:\\MysoreData\\nbk\\mouseVideoAnalysis\\Box1\\cam2\\box1_cam2-spencerloggia-2021-03-27\\videos\\camera-2_clip-66.avi\n",
      "F:\\MysoreData\\nbk\\mouseVideoAnalysis\\Box1\\cam2\\box1_cam2-spencerloggia-2021-03-27\\videos\\camera-2_clip-117.avi\n",
      "F:\\MysoreData\\nbk\\mouseVideoAnalysis\\Box1\\cam2\\box1_cam2-spencerloggia-2021-03-27\\videos\\camera-2_clip-35.avi\n",
      "F:\\MysoreData\\nbk\\mouseVideoAnalysis\\Box1\\cam2\\box1_cam2-spencerloggia-2021-03-27\\videos\\camera-2_clip-109.avi\n",
      "Generated \"F:\\MysoreData\\nbk\\mouseVideoAnalysis\\Box1\\cam2\\box1_cam2-spencerloggia-2021-03-27\\config.yaml\"\n",
      "\n",
      "A new project with name box1_cam2-spencerloggia-2021-03-27 is created at F:\\MysoreData\\nbk\\mouseVideoAnalysis\\Box1\\cam2 and a configurable file (config.yaml) is stored there. Change the parameters in this file to adapt to your project's needs.\n",
      " Once you have changed the configuration file, use the function 'extract_frames' to select frames for labeling.\n",
      ". [OPTIONAL] Use the function 'add_new_videos' to add new videos to your project (at any stage).\n",
      "F:\\MysoreData\\nbk\\mouseVideoAnalysis\\Box1\\cam2\\box1_cam2-spencerloggia-2021-03-27\\config.yaml\n"
     ]
    }
   ],
   "source": [
    "path_config_file=deeplabcut.create_new_project(task,experimenter,video, working_directory='F:\\\\MysoreData\\\\nbk\\\\mouseVideoAnalysis\\\\Box1\\\\cam2\\\\', copy_videos=True)\n",
    "print(path_config_file)"
   ]
  },
  {
   "cell_type": "markdown",
   "metadata": {},
   "source": [
    "At this point take a moment to edit the config.yaml file in the new project directory. Set the num2pick variable can be set to change number labeled frames per video. Also edit batch_size to change number of labelled images in each set. <br> \n",
    "\n",
    "<h1> Now we can extract frames!</h1><br>\n",
    "<p>This shows you one frame in the DLC gui from each video in your videos array. It asks you to crop the frame to the area you care about. DLC does not recommend croping to an images size greater than 600X800px <br>\n",
    "    Deep lab cut also now selects a number of frames equal to the num2pick configuiration from each video for labelling. These are subdevided into both the training and test sets.<p/>\n",
    "    \n",
    "                                   "
   ]
  },
  {
   "cell_type": "code",
   "execution_count": 4,
   "metadata": {
    "scrolled": true
   },
   "outputs": [
    {
     "name": "stdout",
     "output_type": "stream",
     "text": [
      "Config file read successfully.\n",
      "Extracting frames based on uniform ...\n",
      "Uniformly extracting of frames from 0.87  seconds to 2.25  seconds.\n",
      "Extracting frames based on uniform ...\n",
      "Uniformly extracting of frames from 0.87  seconds to 2.25  seconds.\n",
      "Extracting frames based on uniform ...\n",
      "Uniformly extracting of frames from 0.87  seconds to 2.25  seconds.\n",
      "Extracting frames based on uniform ...\n",
      "Uniformly extracting of frames from 0.87  seconds to 2.25  seconds.\n",
      "Extracting frames based on uniform ...\n",
      "Uniformly extracting of frames from 0.87  seconds to 2.25  seconds.\n",
      "Extracting frames based on uniform ...\n",
      "Uniformly extracting of frames from 0.87  seconds to 2.25  seconds.\n",
      "Extracting frames based on uniform ...\n",
      "Uniformly extracting of frames from 0.87  seconds to 2.25  seconds.\n",
      "Extracting frames based on uniform ...\n",
      "Uniformly extracting of frames from 0.87  seconds to 2.25  seconds.\n",
      "Extracting frames based on uniform ...\n",
      "Uniformly extracting of frames from 0.87  seconds to 2.25  seconds.\n",
      "Extracting frames based on uniform ...\n",
      "Uniformly extracting of frames from 0.87  seconds to 2.25  seconds.\n",
      "Extracting frames based on uniform ...\n",
      "Uniformly extracting of frames from 0.87  seconds to 2.25  seconds.\n",
      "Extracting frames based on uniform ...\n",
      "Uniformly extracting of frames from 0.87  seconds to 2.25  seconds.\n",
      "Extracting frames based on uniform ...\n",
      "Uniformly extracting of frames from 0.87  seconds to 2.25  seconds.\n",
      "Extracting frames based on uniform ...\n",
      "Uniformly extracting of frames from 0.87  seconds to 2.25  seconds.\n",
      "Extracting frames based on uniform ...\n",
      "Uniformly extracting of frames from 0.87  seconds to 2.25  seconds.\n",
      "Extracting frames based on uniform ...\n",
      "Uniformly extracting of frames from 0.87  seconds to 2.25  seconds.\n",
      "Extracting frames based on uniform ...\n",
      "Uniformly extracting of frames from 0.87  seconds to 2.25  seconds.\n",
      "Extracting frames based on uniform ...\n",
      "Uniformly extracting of frames from 0.87  seconds to 2.25  seconds.\n",
      "Extracting frames based on uniform ...\n",
      "Uniformly extracting of frames from 0.87  seconds to 2.25  seconds.\n",
      "Extracting frames based on uniform ...\n",
      "Uniformly extracting of frames from 0.87  seconds to 2.25  seconds.\n",
      "Extracting frames based on uniform ...\n",
      "Uniformly extracting of frames from 0.87  seconds to 2.25  seconds.\n",
      "Extracting frames based on uniform ...\n",
      "Uniformly extracting of frames from 0.87  seconds to 2.25  seconds.\n",
      "Extracting frames based on uniform ...\n",
      "Uniformly extracting of frames from 0.87  seconds to 2.25  seconds.\n",
      "Extracting frames based on uniform ...\n",
      "Uniformly extracting of frames from 0.87  seconds to 2.25  seconds.\n",
      "Extracting frames based on uniform ...\n",
      "Uniformly extracting of frames from 0.87  seconds to 2.25  seconds.\n",
      "Extracting frames based on uniform ...\n",
      "Uniformly extracting of frames from 0.87  seconds to 2.25  seconds.\n",
      "Extracting frames based on uniform ...\n",
      "Uniformly extracting of frames from 0.87  seconds to 2.25  seconds.\n",
      "Extracting frames based on uniform ...\n",
      "Uniformly extracting of frames from 0.87  seconds to 2.25  seconds.\n",
      "Extracting frames based on uniform ...\n",
      "Uniformly extracting of frames from 0.87  seconds to 2.25  seconds.\n",
      "Extracting frames based on uniform ...\n",
      "Uniformly extracting of frames from 0.87  seconds to 2.25  seconds.\n",
      "Extracting frames based on uniform ...\n",
      "Uniformly extracting of frames from 0.87  seconds to 2.25  seconds.\n",
      "Extracting frames based on uniform ...\n",
      "Uniformly extracting of frames from 0.87  seconds to 2.25  seconds.\n",
      "Extracting frames based on uniform ...\n",
      "Uniformly extracting of frames from 0.87  seconds to 2.25  seconds.\n",
      "Extracting frames based on uniform ...\n",
      "Uniformly extracting of frames from 0.87  seconds to 2.25  seconds.\n",
      "Extracting frames based on uniform ...\n",
      "Uniformly extracting of frames from 0.87  seconds to 2.25  seconds.\n",
      "Extracting frames based on uniform ...\n",
      "Uniformly extracting of frames from 0.87  seconds to 2.25  seconds.\n",
      "Extracting frames based on uniform ...\n",
      "Uniformly extracting of frames from 0.87  seconds to 2.25  seconds.\n",
      "Extracting frames based on uniform ...\n",
      "Uniformly extracting of frames from 0.87  seconds to 2.25  seconds.\n",
      "Extracting frames based on uniform ...\n",
      "Uniformly extracting of frames from 0.87  seconds to 2.25  seconds.\n",
      "Extracting frames based on uniform ...\n",
      "Uniformly extracting of frames from 0.87  seconds to 2.25  seconds.\n",
      "Extracting frames based on uniform ...\n",
      "Uniformly extracting of frames from 0.87  seconds to 2.25  seconds.\n",
      "Extracting frames based on uniform ...\n",
      "Uniformly extracting of frames from 0.87  seconds to 2.25  seconds.\n",
      "Extracting frames based on uniform ...\n",
      "Uniformly extracting of frames from 0.87  seconds to 2.25  seconds.\n",
      "Extracting frames based on uniform ...\n",
      "Uniformly extracting of frames from 0.87  seconds to 2.25  seconds.\n",
      "Extracting frames based on uniform ...\n",
      "Uniformly extracting of frames from 0.87  seconds to 2.25  seconds.\n",
      "Extracting frames based on uniform ...\n",
      "Uniformly extracting of frames from 0.87  seconds to 2.25  seconds.\n",
      "Extracting frames based on uniform ...\n",
      "Uniformly extracting of frames from 0.87  seconds to 2.25  seconds.\n",
      "Extracting frames based on uniform ...\n",
      "Uniformly extracting of frames from 0.87  seconds to 2.25  seconds.\n",
      "Extracting frames based on uniform ...\n",
      "Uniformly extracting of frames from 0.87  seconds to 2.25  seconds.\n",
      "Extracting frames based on uniform ...\n",
      "Uniformly extracting of frames from 0.87  seconds to 2.25  seconds.\n",
      "Extracting frames based on uniform ...\n",
      "Uniformly extracting of frames from 0.87  seconds to 2.25  seconds.\n",
      "Extracting frames based on uniform ...\n",
      "Uniformly extracting of frames from 0.87  seconds to 2.25  seconds.\n",
      "Extracting frames based on uniform ...\n",
      "Uniformly extracting of frames from 0.87  seconds to 2.25  seconds.\n",
      "Extracting frames based on uniform ...\n",
      "Uniformly extracting of frames from 0.87  seconds to 2.25  seconds.\n",
      "Extracting frames based on uniform ...\n",
      "Uniformly extracting of frames from 0.87  seconds to 2.25  seconds.\n",
      "Extracting frames based on uniform ...\n",
      "Uniformly extracting of frames from 0.87  seconds to 2.25  seconds.\n",
      "Extracting frames based on uniform ...\n",
      "Uniformly extracting of frames from 0.87  seconds to 2.25  seconds.\n",
      "Extracting frames based on uniform ...\n",
      "Uniformly extracting of frames from 0.87  seconds to 2.25  seconds.\n",
      "Extracting frames based on uniform ...\n",
      "Uniformly extracting of frames from 0.87  seconds to 2.25  seconds.\n",
      "Extracting frames based on uniform ...\n",
      "Uniformly extracting of frames from 0.87  seconds to 2.25  seconds.\n",
      "Extracting frames based on uniform ...\n",
      "Uniformly extracting of frames from 0.87  seconds to 2.25  seconds.\n",
      "Extracting frames based on uniform ...\n",
      "Uniformly extracting of frames from 0.87  seconds to 2.25  seconds.\n",
      "Extracting frames based on uniform ...\n",
      "Uniformly extracting of frames from 0.87  seconds to 2.25  seconds.\n",
      "Extracting frames based on uniform ...\n",
      "Uniformly extracting of frames from 0.87  seconds to 2.25  seconds.\n",
      "Extracting frames based on uniform ...\n",
      "Uniformly extracting of frames from 0.87  seconds to 2.25  seconds.\n",
      "Extracting frames based on uniform ...\n",
      "Uniformly extracting of frames from 0.87  seconds to 2.25  seconds.\n",
      "Extracting frames based on uniform ...\n",
      "Uniformly extracting of frames from 0.87  seconds to 2.25  seconds.\n",
      "Extracting frames based on uniform ...\n",
      "Uniformly extracting of frames from 0.87  seconds to 2.25  seconds.\n",
      "Extracting frames based on uniform ...\n",
      "Uniformly extracting of frames from 0.87  seconds to 2.25  seconds.\n",
      "Extracting frames based on uniform ...\n",
      "Uniformly extracting of frames from 0.87  seconds to 2.25  seconds.\n",
      "Extracting frames based on uniform ...\n",
      "Uniformly extracting of frames from 0.87  seconds to 2.25  seconds.\n",
      "Extracting frames based on uniform ...\n",
      "Uniformly extracting of frames from 0.87  seconds to 2.25  seconds.\n",
      "Extracting frames based on uniform ...\n",
      "Uniformly extracting of frames from 0.87  seconds to 2.25  seconds.\n",
      "Extracting frames based on uniform ...\n",
      "Uniformly extracting of frames from 0.87  seconds to 2.25  seconds.\n",
      "Extracting frames based on uniform ...\n",
      "Uniformly extracting of frames from 0.87  seconds to 2.25  seconds.\n",
      "Extracting frames based on uniform ...\n",
      "Uniformly extracting of frames from 0.87  seconds to 2.25  seconds.\n",
      "Extracting frames based on uniform ...\n",
      "Uniformly extracting of frames from 0.87  seconds to 2.25  seconds.\n"
     ]
    },
    {
     "name": "stdout",
     "output_type": "stream",
     "text": [
      "Extracting frames based on uniform ...\n",
      "Uniformly extracting of frames from 0.87  seconds to 2.25  seconds.\n",
      "Extracting frames based on uniform ...\n",
      "Uniformly extracting of frames from 0.87  seconds to 2.25  seconds.\n",
      "Extracting frames based on uniform ...\n",
      "Uniformly extracting of frames from 0.87  seconds to 2.25  seconds.\n",
      "Extracting frames based on uniform ...\n",
      "Uniformly extracting of frames from 0.87  seconds to 2.25  seconds.\n",
      "Extracting frames based on uniform ...\n",
      "Uniformly extracting of frames from 0.87  seconds to 2.25  seconds.\n",
      "Extracting frames based on uniform ...\n",
      "Uniformly extracting of frames from 0.87  seconds to 2.25  seconds.\n",
      "Extracting frames based on uniform ...\n",
      "Uniformly extracting of frames from 0.87  seconds to 2.25  seconds.\n",
      "Extracting frames based on uniform ...\n",
      "Uniformly extracting of frames from 0.87  seconds to 2.25  seconds.\n",
      "Extracting frames based on uniform ...\n",
      "Uniformly extracting of frames from 0.87  seconds to 2.25  seconds.\n",
      "Extracting frames based on uniform ...\n",
      "Uniformly extracting of frames from 0.87  seconds to 2.25  seconds.\n",
      "Extracting frames based on uniform ...\n",
      "Uniformly extracting of frames from 0.87  seconds to 2.25  seconds.\n",
      "Extracting frames based on uniform ...\n",
      "Uniformly extracting of frames from 0.87  seconds to 2.25  seconds.\n",
      "Extracting frames based on uniform ...\n",
      "Uniformly extracting of frames from 0.87  seconds to 2.25  seconds.\n",
      "Extracting frames based on uniform ...\n",
      "Uniformly extracting of frames from 0.87  seconds to 2.25  seconds.\n",
      "Extracting frames based on uniform ...\n",
      "Uniformly extracting of frames from 0.87  seconds to 2.25  seconds.\n",
      "Extracting frames based on uniform ...\n",
      "Uniformly extracting of frames from 0.87  seconds to 2.25  seconds.\n",
      "Extracting frames based on uniform ...\n",
      "Uniformly extracting of frames from 0.87  seconds to 2.25  seconds.\n",
      "Extracting frames based on uniform ...\n",
      "Uniformly extracting of frames from 0.87  seconds to 2.25  seconds.\n",
      "Extracting frames based on uniform ...\n",
      "Uniformly extracting of frames from 0.87  seconds to 2.25  seconds.\n",
      "Extracting frames based on uniform ...\n",
      "Uniformly extracting of frames from 0.87  seconds to 2.25  seconds.\n",
      "Extracting frames based on uniform ...\n",
      "Uniformly extracting of frames from 0.87  seconds to 2.25  seconds.\n",
      "Extracting frames based on uniform ...\n",
      "Uniformly extracting of frames from 0.87  seconds to 2.25  seconds.\n",
      "Extracting frames based on uniform ...\n",
      "Uniformly extracting of frames from 0.87  seconds to 2.25  seconds.\n",
      "Extracting frames based on uniform ...\n",
      "Uniformly extracting of frames from 0.87  seconds to 2.25  seconds.\n",
      "Extracting frames based on uniform ...\n",
      "Uniformly extracting of frames from 0.87  seconds to 2.25  seconds.\n",
      "Extracting frames based on uniform ...\n",
      "Uniformly extracting of frames from 0.87  seconds to 2.25  seconds.\n",
      "Extracting frames based on uniform ...\n",
      "Uniformly extracting of frames from 0.87  seconds to 2.25  seconds.\n",
      "Extracting frames based on uniform ...\n",
      "Uniformly extracting of frames from 0.87  seconds to 2.25  seconds.\n",
      "Extracting frames based on uniform ...\n",
      "Uniformly extracting of frames from 0.87  seconds to 2.25  seconds.\n",
      "Extracting frames based on uniform ...\n",
      "Uniformly extracting of frames from 0.87  seconds to 2.25  seconds.\n",
      "Extracting frames based on uniform ...\n",
      "Uniformly extracting of frames from 0.87  seconds to 2.25  seconds.\n",
      "Extracting frames based on uniform ...\n",
      "Uniformly extracting of frames from 0.87  seconds to 2.25  seconds.\n",
      "Extracting frames based on uniform ...\n",
      "Uniformly extracting of frames from 0.87  seconds to 2.25  seconds.\n",
      "Extracting frames based on uniform ...\n",
      "Uniformly extracting of frames from 0.87  seconds to 2.25  seconds.\n",
      "Frames were successfully extracted, for the videos of interest.\n",
      "\n",
      "You can now label the frames using the function 'label_frames' (if you extracted enough frames for all videos).\n"
     ]
    }
   ],
   "source": [
    "#load matplotlib so outputs can be displayed \n",
    "%matplotlib inline \n",
    "path_config_file = r'F:\\MysoreData\\nbk\\mouseVideoAnalysis\\Box1\\cam2\\box1_cam2-spencerloggia-2021-03-27\\config.yaml'\n",
    "deeplabcut.extract_frames(path_config_file,'automatic','uniform', userfeedback=False, crop=True)"
   ]
  },
  {
   "cell_type": "markdown",
   "metadata": {},
   "source": [
    "<h1> Now we label the test and training data! </h1> \n",
    "    \n",
    "Once the labelling gui opens, you may have to expand the bottom menu to make sure all buttons are visable.\n",
    "There will be a folder with the extracted frames for each video. Go into each and right click to place the current label. Skip a label by choosing the next one on the right hand menu.\n",
    "\n",
    "For consistency: BP1: left ear, BP2: right ear, BP3: nose (tip)"
   ]
  },
  {
   "cell_type": "code",
   "execution_count": null,
   "metadata": {},
   "outputs": [
    {
     "name": "stdout",
     "output_type": "stream",
     "text": [
      "You can now check the labels, using 'check_labels' before proceeding. Then, you can use the function 'create_training_dataset' to create the training dataset.\n"
     ]
    }
   ],
   "source": [
    "%gui wx\n",
    "%matplotlib inline \n",
    "path_config_file = r'F:\\MysoreData\\nbk\\mouseVideoAnalysis\\Box1\\cam2\\box1_cam2-spencerloggia-2021-03-27\\config.yaml'\n",
    "deeplabcut.label_frames(path_config_file)"
   ]
  },
  {
   "cell_type": "code",
   "execution_count": null,
   "metadata": {
    "scrolled": true
   },
   "outputs": [],
   "source": [
    "# create collected data \n",
    "data = \"\"\n",
    "path = r'F:\\MysoreData\\nbk\\mouseVideoAnalysis\\Box1\\cam1\\box1_cam1-spencerloggia-2021-03-18\\config.yaml'\n",
    "folders = os.listdir(path)\n",
    "first = True \n",
    "for f in folders:\n",
    "    if 'labeled' in f or '.' in f:\n",
    "        continue\n",
    "    file = open(os.path.join(path, f, 'CollectedData_spencerloggia.csv'), 'r')\n",
    "    for i, line in enumerate(file):\n",
    "        if not first:\n",
    "            if i < 3:\n",
    "                continue\n",
    "        first = False\n",
    "        data += line\n",
    "    del f\n",
    "file = open(os.path.join(path,'CollectedData_spencerloggia.csv'), 'w')\n",
    "file.write(data)\n",
    "import pandas as pd\n",
    "df = pd.read_csv(os.path.join(path,'CollectedData_spencerloggia.csv'))\n",
    "df.to_hdf(os.path.join(path,'CollectedData_spencerloggia.h5'), key='df_with_missing')\n",
    "    "
   ]
  },
  {
   "cell_type": "markdown",
   "metadata": {},
   "source": [
    "The last step is just an automatic check of the labelled data. You should see no errors or something has gone wrong. "
   ]
  },
  {
   "cell_type": "code",
   "execution_count": 2,
   "metadata": {},
   "outputs": [
    {
     "name": "stdout",
     "output_type": "stream",
     "text": [
      "Creating images with labels by spencerloggia.\n"
     ]
    },
    {
     "name": "stderr",
     "output_type": "stream",
     "text": [
      "100%|█████████████████████████████████████████████████████████████████████████████████████████████████████████████████████████████████████████████████████████████████████████████████████████████████████████████████████████████████████████████████████████████████████████████████████████| 4/4 [00:00<00:00,  4.62it/s]\n",
      "100%|█████████████████████████████████████████████████████████████████████████████████████████████████████████████████████████████████████████████████████████████████████████████████████████████████████████████████████████████████████████████████████████████████████████████████████████| 4/4 [00:00<00:00,  4.88it/s]\n",
      "100%|█████████████████████████████████████████████████████████████████████████████████████████████████████████████████████████████████████████████████████████████████████████████████████████████████████████████████████████████████████████████████████████████████████████████████████████| 2/2 [00:00<00:00,  4.94it/s]\n",
      "100%|█████████████████████████████████████████████████████████████████████████████████████████████████████████████████████████████████████████████████████████████████████████████████████████████████████████████████████████████████████████████████████████████████████████████████████████| 4/4 [00:00<00:00,  4.67it/s]\n",
      "100%|█████████████████████████████████████████████████████████████████████████████████████████████████████████████████████████████████████████████████████████████████████████████████████████████████████████████████████████████████████████████████████████████████████████████████████████| 4/4 [00:00<00:00,  4.75it/s]\n",
      "100%|█████████████████████████████████████████████████████████████████████████████████████████████████████████████████████████████████████████████████████████████████████████████████████████████████████████████████████████████████████████████████████████████████████████████████████████| 4/4 [00:00<00:00,  4.85it/s]\n",
      "100%|█████████████████████████████████████████████████████████████████████████████████████████████████████████████████████████████████████████████████████████████████████████████████████████████████████████████████████████████████████████████████████████████████████████████████████████| 4/4 [00:00<00:00,  4.74it/s]\n",
      "100%|█████████████████████████████████████████████████████████████████████████████████████████████████████████████████████████████████████████████████████████████████████████████████████████████████████████████████████████████████████████████████████████████████████████████████████████| 3/3 [00:00<00:00,  4.61it/s]\n",
      "  0%|                                                                                                                                                                                                                                                                                                 | 0/4 [00:00<?, ?it/s]"
     ]
    },
    {
     "name": "stdout",
     "output_type": "stream",
     "text": [
      "Attention: F:\\MysoreData\\nbk\\mouseVideoAnalysis\\Box1\\cam2\\box1_cam2-spencerloggia-2021-03-27\\labeled-data\\camera-2_clip-39 does not appear to have labeled data!\n"
     ]
    },
    {
     "name": "stderr",
     "output_type": "stream",
     "text": [
      "100%|█████████████████████████████████████████████████████████████████████████████████████████████████████████████████████████████████████████████████████████████████████████████████████████████████████████████████████████████████████████████████████████████████████████████████████████| 4/4 [00:00<00:00,  4.47it/s]\n",
      "100%|█████████████████████████████████████████████████████████████████████████████████████████████████████████████████████████████████████████████████████████████████████████████████████████████████████████████████████████████████████████████████████████████████████████████████████████| 4/4 [00:00<00:00,  4.70it/s]\n",
      "100%|█████████████████████████████████████████████████████████████████████████████████████████████████████████████████████████████████████████████████████████████████████████████████████████████████████████████████████████████████████████████████████████████████████████████████████████| 4/4 [00:00<00:00,  4.67it/s]\n",
      "100%|█████████████████████████████████████████████████████████████████████████████████████████████████████████████████████████████████████████████████████████████████████████████████████████████████████████████████████████████████████████████████████████████████████████████████████████| 3/3 [00:00<00:00,  4.72it/s]\n",
      "100%|█████████████████████████████████████████████████████████████████████████████████████████████████████████████████████████████████████████████████████████████████████████████████████████████████████████████████████████████████████████████████████████████████████████████████████████| 3/3 [00:00<00:00,  4.49it/s]\n",
      "100%|█████████████████████████████████████████████████████████████████████████████████████████████████████████████████████████████████████████████████████████████████████████████████████████████████████████████████████████████████████████████████████████████████████████████████████████| 1/1 [00:00<00:00,  4.79it/s]\n",
      "100%|█████████████████████████████████████████████████████████████████████████████████████████████████████████████████████████████████████████████████████████████████████████████████████████████████████████████████████████████████████████████████████████████████████████████████████████| 3/3 [00:00<00:00,  4.42it/s]\n",
      "100%|█████████████████████████████████████████████████████████████████████████████████████████████████████████████████████████████████████████████████████████████████████████████████████████████████████████████████████████████████████████████████████████████████████████████████████████| 3/3 [00:00<00:00,  4.51it/s]\n",
      "100%|█████████████████████████████████████████████████████████████████████████████████████████████████████████████████████████████████████████████████████████████████████████████████████████████████████████████████████████████████████████████████████████████████████████████████████████| 4/4 [00:00<00:00,  4.59it/s]\n",
      "100%|█████████████████████████████████████████████████████████████████████████████████████████████████████████████████████████████████████████████████████████████████████████████████████████████████████████████████████████████████████████████████████████████████████████████████████████| 4/4 [00:00<00:00,  4.52it/s]\n",
      "100%|█████████████████████████████████████████████████████████████████████████████████████████████████████████████████████████████████████████████████████████████████████████████████████████████████████████████████████████████████████████████████████████████████████████████████████████| 2/2 [00:00<00:00,  4.65it/s]\n",
      "  0%|                                                                                                                                                                                                                                                                                                 | 0/4 [00:00<?, ?it/s]"
     ]
    },
    {
     "name": "stdout",
     "output_type": "stream",
     "text": [
      "Attention: F:\\MysoreData\\nbk\\mouseVideoAnalysis\\Box1\\cam2\\box1_cam2-spencerloggia-2021-03-27\\labeled-data\\camera-2_clip-6 does not appear to have labeled data!\n"
     ]
    },
    {
     "name": "stderr",
     "output_type": "stream",
     "text": [
      "100%|█████████████████████████████████████████████████████████████████████████████████████████████████████████████████████████████████████████████████████████████████████████████████████████████████████████████████████████████████████████████████████████████████████████████████████████| 4/4 [00:00<00:00,  4.49it/s]\n",
      "100%|█████████████████████████████████████████████████████████████████████████████████████████████████████████████████████████████████████████████████████████████████████████████████████████████████████████████████████████████████████████████████████████████████████████████████████████| 1/1 [00:00<00:00,  4.44it/s]\n",
      "100%|█████████████████████████████████████████████████████████████████████████████████████████████████████████████████████████████████████████████████████████████████████████████████████████████████████████████████████████████████████████████████████████████████████████████████████████| 2/2 [00:00<00:00,  4.89it/s]\n",
      "100%|█████████████████████████████████████████████████████████████████████████████████████████████████████████████████████████████████████████████████████████████████████████████████████████████████████████████████████████████████████████████████████████████████████████████████████████| 2/2 [00:00<00:00,  4.01it/s]\n",
      "100%|█████████████████████████████████████████████████████████████████████████████████████████████████████████████████████████████████████████████████████████████████████████████████████████████████████████████████████████████████████████████████████████████████████████████████████████| 3/3 [00:00<00:00,  4.76it/s]\n",
      "100%|█████████████████████████████████████████████████████████████████████████████████████████████████████████████████████████████████████████████████████████████████████████████████████████████████████████████████████████████████████████████████████████████████████████████████████████| 4/4 [00:00<00:00,  4.50it/s]\n",
      "100%|█████████████████████████████████████████████████████████████████████████████████████████████████████████████████████████████████████████████████████████████████████████████████████████████████████████████████████████████████████████████████████████████████████████████████████████| 3/3 [00:00<00:00,  4.73it/s]\n",
      "100%|█████████████████████████████████████████████████████████████████████████████████████████████████████████████████████████████████████████████████████████████████████████████████████████████████████████████████████████████████████████████████████████████████████████████████████████| 3/3 [00:00<00:00,  4.57it/s]\n",
      "100%|█████████████████████████████████████████████████████████████████████████████████████████████████████████████████████████████████████████████████████████████████████████████████████████████████████████████████████████████████████████████████████████████████████████████████████████| 4/4 [00:00<00:00,  4.33it/s]\n",
      "100%|█████████████████████████████████████████████████████████████████████████████████████████████████████████████████████████████████████████████████████████████████████████████████████████████████████████████████████████████████████████████████████████████████████████████████████████| 4/4 [00:00<00:00,  4.62it/s]\n",
      "100%|█████████████████████████████████████████████████████████████████████████████████████████████████████████████████████████████████████████████████████████████████████████████████████████████████████████████████████████████████████████████████████████████████████████████████████████| 2/2 [00:00<00:00,  4.59it/s]\n",
      "100%|█████████████████████████████████████████████████████████████████████████████████████████████████████████████████████████████████████████████████████████████████████████████████████████████████████████████████████████████████████████████████████████████████████████████████████████| 3/3 [00:00<00:00,  4.83it/s]\n",
      "100%|█████████████████████████████████████████████████████████████████████████████████████████████████████████████████████████████████████████████████████████████████████████████████████████████████████████████████████████████████████████████████████████████████████████████████████████| 4/4 [00:00<00:00,  4.58it/s]\n",
      "100%|█████████████████████████████████████████████████████████████████████████████████████████████████████████████████████████████████████████████████████████████████████████████████████████████████████████████████████████████████████████████████████████████████████████████████████████| 1/1 [00:00<00:00,  4.42it/s]\n",
      "100%|█████████████████████████████████████████████████████████████████████████████████████████████████████████████████████████████████████████████████████████████████████████████████████████████████████████████████████████████████████████████████████████████████████████████████████████| 4/4 [00:00<00:00,  4.60it/s]\n",
      "100%|█████████████████████████████████████████████████████████████████████████████████████████████████████████████████████████████████████████████████████████████████████████████████████████████████████████████████████████████████████████████████████████████████████████████████████████| 4/4 [00:00<00:00,  4.37it/s]\n",
      "100%|█████████████████████████████████████████████████████████████████████████████████████████████████████████████████████████████████████████████████████████████████████████████████████████████████████████████████████████████████████████████████████████████████████████████████████████| 4/4 [00:00<00:00,  4.80it/s]\n",
      "100%|█████████████████████████████████████████████████████████████████████████████████████████████████████████████████████████████████████████████████████████████████████████████████████████████████████████████████████████████████████████████████████████████████████████████████████████| 2/2 [00:00<00:00,  4.40it/s]\n",
      "100%|█████████████████████████████████████████████████████████████████████████████████████████████████████████████████████████████████████████████████████████████████████████████████████████████████████████████████████████████████████████████████████████████████████████████████████████| 4/4 [00:00<00:00,  4.32it/s]\n",
      "100%|█████████████████████████████████████████████████████████████████████████████████████████████████████████████████████████████████████████████████████████████████████████████████████████████████████████████████████████████████████████████████████████████████████████████████████████| 4/4 [00:00<00:00,  4.46it/s]\n",
      "100%|█████████████████████████████████████████████████████████████████████████████████████████████████████████████████████████████████████████████████████████████████████████████████████████████████████████████████████████████████████████████████████████████████████████████████████████| 4/4 [00:00<00:00,  4.68it/s]\n",
      "100%|█████████████████████████████████████████████████████████████████████████████████████████████████████████████████████████████████████████████████████████████████████████████████████████████████████████████████████████████████████████████████████████████████████████████████████████| 3/3 [00:00<00:00,  4.50it/s]\n",
      "100%|█████████████████████████████████████████████████████████████████████████████████████████████████████████████████████████████████████████████████████████████████████████████████████████████████████████████████████████████████████████████████████████████████████████████████████████| 3/3 [00:00<00:00,  4.21it/s]\n",
      "100%|█████████████████████████████████████████████████████████████████████████████████████████████████████████████████████████████████████████████████████████████████████████████████████████████████████████████████████████████████████████████████████████████████████████████████████████| 2/2 [00:00<00:00,  4.87it/s]\n",
      "100%|█████████████████████████████████████████████████████████████████████████████████████████████████████████████████████████████████████████████████████████████████████████████████████████████████████████████████████████████████████████████████████████████████████████████████████████| 2/2 [00:00<00:00,  4.77it/s]\n"
     ]
    },
    {
     "name": "stderr",
     "output_type": "stream",
     "text": [
      "100%|█████████████████████████████████████████████████████████████████████████████████████████████████████████████████████████████████████████████████████████████████████████████████████████████████████████████████████████████████████████████████████████████████████████████████████████| 2/2 [00:00<00:00,  4.82it/s]\n",
      "100%|█████████████████████████████████████████████████████████████████████████████████████████████████████████████████████████████████████████████████████████████████████████████████████████████████████████████████████████████████████████████████████████████████████████████████████████| 3/3 [00:00<00:00,  4.92it/s]\n"
     ]
    },
    {
     "name": "stdout",
     "output_type": "stream",
     "text": [
      "Attention: F:\\MysoreData\\nbk\\mouseVideoAnalysis\\Box1\\cam2\\box1_cam2-spencerloggia-2021-03-27\\labeled-data\\camera-2_clip-88 does not appear to have labeled data!\n"
     ]
    },
    {
     "name": "stderr",
     "output_type": "stream",
     "text": [
      "100%|█████████████████████████████████████████████████████████████████████████████████████████████████████████████████████████████████████████████████████████████████████████████████████████████████████████████████████████████████████████████████████████████████████████████████████████| 3/3 [00:00<00:00,  4.33it/s]\n",
      "100%|█████████████████████████████████████████████████████████████████████████████████████████████████████████████████████████████████████████████████████████████████████████████████████████████████████████████████████████████████████████████████████████████████████████████████████████| 4/4 [00:00<00:00,  4.52it/s]\n",
      "100%|█████████████████████████████████████████████████████████████████████████████████████████████████████████████████████████████████████████████████████████████████████████████████████████████████████████████████████████████████████████████████████████████████████████████████████████| 4/4 [00:00<00:00,  4.63it/s]\n",
      "100%|█████████████████████████████████████████████████████████████████████████████████████████████████████████████████████████████████████████████████████████████████████████████████████████████████████████████████████████████████████████████████████████████████████████████████████████| 4/4 [00:00<00:00,  4.40it/s]\n",
      "100%|█████████████████████████████████████████████████████████████████████████████████████████████████████████████████████████████████████████████████████████████████████████████████████████████████████████████████████████████████████████████████████████████████████████████████████████| 3/3 [00:00<00:00,  4.57it/s]\n",
      "100%|█████████████████████████████████████████████████████████████████████████████████████████████████████████████████████████████████████████████████████████████████████████████████████████████████████████████████████████████████████████████████████████████████████████████████████████| 1/1 [00:00<00:00,  4.68it/s]\n",
      "100%|█████████████████████████████████████████████████████████████████████████████████████████████████████████████████████████████████████████████████████████████████████████████████████████████████████████████████████████████████████████████████████████████████████████████████████████| 1/1 [00:00<00:00,  4.77it/s]\n",
      "100%|█████████████████████████████████████████████████████████████████████████████████████████████████████████████████████████████████████████████████████████████████████████████████████████████████████████████████████████████████████████████████████████████████████████████████████████| 4/4 [00:00<00:00,  4.69it/s]\n",
      "100%|█████████████████████████████████████████████████████████████████████████████████████████████████████████████████████████████████████████████████████████████████████████████████████████████████████████████████████████████████████████████████████████████████████████████████████████| 4/4 [00:00<00:00,  4.17it/s]\n",
      "100%|█████████████████████████████████████████████████████████████████████████████████████████████████████████████████████████████████████████████████████████████████████████████████████████████████████████████████████████████████████████████████████████████████████████████████████████| 3/3 [00:00<00:00,  4.92it/s]\n",
      "100%|█████████████████████████████████████████████████████████████████████████████████████████████████████████████████████████████████████████████████████████████████████████████████████████████████████████████████████████████████████████████████████████████████████████████████████████| 3/3 [00:00<00:00,  4.46it/s]\n",
      "100%|█████████████████████████████████████████████████████████████████████████████████████████████████████████████████████████████████████████████████████████████████████████████████████████████████████████████████████████████████████████████████████████████████████████████████████████| 2/2 [00:00<00:00,  4.53it/s]\n",
      "100%|█████████████████████████████████████████████████████████████████████████████████████████████████████████████████████████████████████████████████████████████████████████████████████████████████████████████████████████████████████████████████████████████████████████████████████████| 3/3 [00:00<00:00,  4.53it/s]\n",
      "100%|█████████████████████████████████████████████████████████████████████████████████████████████████████████████████████████████████████████████████████████████████████████████████████████████████████████████████████████████████████████████████████████████████████████████████████████| 4/4 [00:00<00:00,  4.79it/s]\n",
      "100%|█████████████████████████████████████████████████████████████████████████████████████████████████████████████████████████████████████████████████████████████████████████████████████████████████████████████████████████████████████████████████████████████████████████████████████████| 4/4 [00:00<00:00,  4.55it/s]\n",
      "100%|█████████████████████████████████████████████████████████████████████████████████████████████████████████████████████████████████████████████████████████████████████████████████████████████████████████████████████████████████████████████████████████████████████████████████████████| 2/2 [00:00<00:00,  4.65it/s]\n",
      "100%|█████████████████████████████████████████████████████████████████████████████████████████████████████████████████████████████████████████████████████████████████████████████████████████████████████████████████████████████████████████████████████████████████████████████████████████| 2/2 [00:00<00:00,  4.86it/s]\n",
      "100%|█████████████████████████████████████████████████████████████████████████████████████████████████████████████████████████████████████████████████████████████████████████████████████████████████████████████████████████████████████████████████████████████████████████████████████████| 4/4 [00:00<00:00,  4.76it/s]\n",
      "100%|█████████████████████████████████████████████████████████████████████████████████████████████████████████████████████████████████████████████████████████████████████████████████████████████████████████████████████████████████████████████████████████████████████████████████████████| 4/4 [00:00<00:00,  5.08it/s]\n",
      "100%|█████████████████████████████████████████████████████████████████████████████████████████████████████████████████████████████████████████████████████████████████████████████████████████████████████████████████████████████████████████████████████████████████████████████████████████| 2/2 [00:00<00:00,  4.74it/s]\n",
      "100%|█████████████████████████████████████████████████████████████████████████████████████████████████████████████████████████████████████████████████████████████████████████████████████████████████████████████████████████████████████████████████████████████████████████████████████████| 4/4 [00:00<00:00,  4.77it/s]\n",
      "100%|█████████████████████████████████████████████████████████████████████████████████████████████████████████████████████████████████████████████████████████████████████████████████████████████████████████████████████████████████████████████████████████████████████████████████████████| 4/4 [00:00<00:00,  4.63it/s]\n",
      "100%|█████████████████████████████████████████████████████████████████████████████████████████████████████████████████████████████████████████████████████████████████████████████████████████████████████████████████████████████████████████████████████████████████████████████████████████| 4/4 [00:00<00:00,  4.82it/s]\n",
      "  0%|                                                                                                                                                                                                                                                                                                 | 0/3 [00:00<?, ?it/s]"
     ]
    },
    {
     "name": "stdout",
     "output_type": "stream",
     "text": [
      "failed on F:\\MysoreData\\nbk\\mouseVideoAnalysis\\Box1\\cam2\\box1_cam2-spencerloggia-2021-03-27\\labeled-data\\camera-2_clip-70\\CollectedData_spencerloggia.h5\n"
     ]
    },
    {
     "name": "stderr",
     "output_type": "stream",
     "text": [
      "100%|█████████████████████████████████████████████████████████████████████████████████████████████████████████████████████████████████████████████████████████████████████████████████████████████████████████████████████████████████████████████████████████████████████████████████████████| 3/3 [00:00<00:00,  4.28it/s]\n",
      "100%|█████████████████████████████████████████████████████████████████████████████████████████████████████████████████████████████████████████████████████████████████████████████████████████████████████████████████████████████████████████████████████████████████████████████████████████| 4/4 [00:00<00:00,  4.83it/s]\n",
      "100%|█████████████████████████████████████████████████████████████████████████████████████████████████████████████████████████████████████████████████████████████████████████████████████████████████████████████████████████████████████████████████████████████████████████████████████████| 3/3 [00:00<00:00,  4.72it/s]\n",
      "100%|█████████████████████████████████████████████████████████████████████████████████████████████████████████████████████████████████████████████████████████████████████████████████████████████████████████████████████████████████████████████████████████████████████████████████████████| 4/4 [00:00<00:00,  4.49it/s]\n",
      "100%|█████████████████████████████████████████████████████████████████████████████████████████████████████████████████████████████████████████████████████████████████████████████████████████████████████████████████████████████████████████████████████████████████████████████████████████| 3/3 [00:00<00:00,  4.35it/s]\n",
      "  0%|                                                                                                                                                                                                                                                                                                 | 0/4 [00:00<?, ?it/s]"
     ]
    },
    {
     "name": "stdout",
     "output_type": "stream",
     "text": [
      "Attention: F:\\MysoreData\\nbk\\mouseVideoAnalysis\\Box1\\cam2\\box1_cam2-spencerloggia-2021-03-27\\labeled-data\\camera-2_clip-63 does not appear to have labeled data!\n"
     ]
    },
    {
     "name": "stderr",
     "output_type": "stream",
     "text": [
      "100%|█████████████████████████████████████████████████████████████████████████████████████████████████████████████████████████████████████████████████████████████████████████████████████████████████████████████████████████████████████████████████████████████████████████████████████████| 4/4 [00:00<00:00,  4.81it/s]\n",
      "100%|█████████████████████████████████████████████████████████████████████████████████████████████████████████████████████████████████████████████████████████████████████████████████████████████████████████████████████████████████████████████████████████████████████████████████████████| 4/4 [00:00<00:00,  4.66it/s]\n",
      "100%|█████████████████████████████████████████████████████████████████████████████████████████████████████████████████████████████████████████████████████████████████████████████████████████████████████████████████████████████████████████████████████████████████████████████████████████| 2/2 [00:00<00:00,  5.02it/s]\n",
      "  0%|                                                                                                                                                                                                                                                                                                 | 0/3 [00:00<?, ?it/s]"
     ]
    },
    {
     "name": "stdout",
     "output_type": "stream",
     "text": [
      "Attention: F:\\MysoreData\\nbk\\mouseVideoAnalysis\\Box1\\cam2\\box1_cam2-spencerloggia-2021-03-27\\labeled-data\\camera-2_clip-53 does not appear to have labeled data!\n",
      "Attention: F:\\MysoreData\\nbk\\mouseVideoAnalysis\\Box1\\cam2\\box1_cam2-spencerloggia-2021-03-27\\labeled-data\\camera-2_clip-144 does not appear to have labeled data!\n"
     ]
    },
    {
     "name": "stderr",
     "output_type": "stream",
     "text": [
      "100%|█████████████████████████████████████████████████████████████████████████████████████████████████████████████████████████████████████████████████████████████████████████████████████████████████████████████████████████████████████████████████████████████████████████████████████████| 3/3 [00:00<00:00,  4.65it/s]\n",
      "100%|█████████████████████████████████████████████████████████████████████████████████████████████████████████████████████████████████████████████████████████████████████████████████████████████████████████████████████████████████████████████████████████████████████████████████████████| 1/1 [00:00<00:00,  4.93it/s]\n",
      "100%|█████████████████████████████████████████████████████████████████████████████████████████████████████████████████████████████████████████████████████████████████████████████████████████████████████████████████████████████████████████████████████████████████████████████████████████| 4/4 [00:00<00:00,  4.73it/s]\n",
      "100%|█████████████████████████████████████████████████████████████████████████████████████████████████████████████████████████████████████████████████████████████████████████████████████████████████████████████████████████████████████████████████████████████████████████████████████████| 4/4 [00:00<00:00,  4.61it/s]\n",
      "100%|█████████████████████████████████████████████████████████████████████████████████████████████████████████████████████████████████████████████████████████████████████████████████████████████████████████████████████████████████████████████████████████████████████████████████████████| 4/4 [00:00<00:00,  4.38it/s]\n",
      "100%|█████████████████████████████████████████████████████████████████████████████████████████████████████████████████████████████████████████████████████████████████████████████████████████████████████████████████████████████████████████████████████████████████████████████████████████| 2/2 [00:00<00:00,  4.87it/s]\n",
      "100%|█████████████████████████████████████████████████████████████████████████████████████████████████████████████████████████████████████████████████████████████████████████████████████████████████████████████████████████████████████████████████████████████████████████████████████████| 3/3 [00:00<00:00,  4.35it/s]\n",
      "100%|█████████████████████████████████████████████████████████████████████████████████████████████████████████████████████████████████████████████████████████████████████████████████████████████████████████████████████████████████████████████████████████████████████████████████████████| 4/4 [00:00<00:00,  4.73it/s]\n",
      "100%|█████████████████████████████████████████████████████████████████████████████████████████████████████████████████████████████████████████████████████████████████████████████████████████████████████████████████████████████████████████████████████████████████████████████████████████| 4/4 [00:00<00:00,  4.58it/s]\n",
      "100%|█████████████████████████████████████████████████████████████████████████████████████████████████████████████████████████████████████████████████████████████████████████████████████████████████████████████████████████████████████████████████████████████████████████████████████████| 3/3 [00:00<00:00,  4.57it/s]\n",
      "100%|█████████████████████████████████████████████████████████████████████████████████████████████████████████████████████████████████████████████████████████████████████████████████████████████████████████████████████████████████████████████████████████████████████████████████████████| 1/1 [00:00<00:00,  4.74it/s]\n",
      "100%|█████████████████████████████████████████████████████████████████████████████████████████████████████████████████████████████████████████████████████████████████████████████████████████████████████████████████████████████████████████████████████████████████████████████████████████| 4/4 [00:00<00:00,  4.52it/s]\n",
      "100%|█████████████████████████████████████████████████████████████████████████████████████████████████████████████████████████████████████████████████████████████████████████████████████████████████████████████████████████████████████████████████████████████████████████████████████████| 3/3 [00:00<00:00,  4.57it/s]\n",
      "100%|█████████████████████████████████████████████████████████████████████████████████████████████████████████████████████████████████████████████████████████████████████████████████████████████████████████████████████████████████████████████████████████████████████████████████████████| 3/3 [00:00<00:00,  4.61it/s]\n",
      "100%|█████████████████████████████████████████████████████████████████████████████████████████████████████████████████████████████████████████████████████████████████████████████████████████████████████████████████████████████████████████████████████████████████████████████████████████| 4/4 [00:00<00:00,  4.58it/s]\n",
      "100%|█████████████████████████████████████████████████████████████████████████████████████████████████████████████████████████████████████████████████████████████████████████████████████████████████████████████████████████████████████████████████████████████████████████████████████████| 4/4 [00:00<00:00,  4.60it/s]\n",
      "  0%|                                                                                                                                                                                                                                                                                                 | 0/4 [00:00<?, ?it/s]"
     ]
    },
    {
     "name": "stdout",
     "output_type": "stream",
     "text": [
      "Attention: F:\\MysoreData\\nbk\\mouseVideoAnalysis\\Box1\\cam2\\box1_cam2-spencerloggia-2021-03-27\\labeled-data\\camera-2_clip-74 does not appear to have labeled data!\n"
     ]
    },
    {
     "name": "stderr",
     "output_type": "stream",
     "text": [
      "100%|█████████████████████████████████████████████████████████████████████████████████████████████████████████████████████████████████████████████████████████████████████████████████████████████████████████████████████████████████████████████████████████████████████████████████████████| 4/4 [00:00<00:00,  4.64it/s]\n",
      "100%|█████████████████████████████████████████████████████████████████████████████████████████████████████████████████████████████████████████████████████████████████████████████████████████████████████████████████████████████████████████████████████████████████████████████████████████| 4/4 [00:00<00:00,  4.49it/s]\n",
      "100%|█████████████████████████████████████████████████████████████████████████████████████████████████████████████████████████████████████████████████████████████████████████████████████████████████████████████████████████████████████████████████████████████████████████████████████████| 4/4 [00:00<00:00,  4.77it/s]\n",
      "100%|█████████████████████████████████████████████████████████████████████████████████████████████████████████████████████████████████████████████████████████████████████████████████████████████████████████████████████████████████████████████████████████████████████████████████████████| 3/3 [00:00<00:00,  4.54it/s]\n",
      "100%|█████████████████████████████████████████████████████████████████████████████████████████████████████████████████████████████████████████████████████████████████████████████████████████████████████████████████████████████████████████████████████████████████████████████████████████| 2/2 [00:00<00:00,  4.38it/s]\n",
      "100%|█████████████████████████████████████████████████████████████████████████████████████████████████████████████████████████████████████████████████████████████████████████████████████████████████████████████████████████████████████████████████████████████████████████████████████████| 2/2 [00:00<00:00,  4.84it/s]\n",
      "100%|█████████████████████████████████████████████████████████████████████████████████████████████████████████████████████████████████████████████████████████████████████████████████████████████████████████████████████████████████████████████████████████████████████████████████████████| 2/2 [00:00<00:00,  4.53it/s]\n",
      "100%|█████████████████████████████████████████████████████████████████████████████████████████████████████████████████████████████████████████████████████████████████████████████████████████████████████████████████████████████████████████████████████████████████████████████████████████| 3/3 [00:00<00:00,  4.55it/s]\n",
      "100%|█████████████████████████████████████████████████████████████████████████████████████████████████████████████████████████████████████████████████████████████████████████████████████████████████████████████████████████████████████████████████████████████████████████████████████████| 3/3 [00:00<00:00,  5.14it/s]\n",
      "100%|█████████████████████████████████████████████████████████████████████████████████████████████████████████████████████████████████████████████████████████████████████████████████████████████████████████████████████████████████████████████████████████████████████████████████████████| 4/4 [00:00<00:00,  4.85it/s]"
     ]
    },
    {
     "name": "stdout",
     "output_type": "stream",
     "text": [
      "If all the labels are ok, then use the function 'create_training_dataset' to create the training dataset!\n"
     ]
    },
    {
     "name": "stderr",
     "output_type": "stream",
     "text": [
      "\n"
     ]
    }
   ],
   "source": [
    "path_config_file = r'F:\\MysoreData\\nbk\\mouseVideoAnalysis\\Box1\\cam2\\box1_cam2-spencerloggia-2021-03-27\\config.yaml'\n",
    "\n",
    "deeplabcut.check_labels(path_config_file) #this creates a subdirectory with the frames + your labels"
   ]
  },
  {
   "cell_type": "markdown",
   "metadata": {},
   "source": [
    "<h1> Next Steps: </h1>\n",
    "<h2> In order to actually train the network, we must use another notebook that runs in a docker container. This allows tensorflow to communicate properly with GPUs in windows </h2>\n",
    "run the below cell to get the path_config_file location, copy this path. Open the Docker_DLC_GPU notebook in this directory and set the path_config_file variable there to the same thing. "
   ]
  },
  {
   "cell_type": "code",
   "execution_count": 3,
   "metadata": {},
   "outputs": [
    {
     "name": "stdout",
     "output_type": "stream",
     "text": [
      "F:\\MysoreData\\nbk\\mouseVideoAnalysis\\Box1\\cam1\\box1_cam1-spencerloggia-2021-03-18\\config.yaml\n"
     ]
    }
   ],
   "source": [
    "print(path_config_file)"
   ]
  },
  {
   "cell_type": "code",
   "execution_count": null,
   "metadata": {},
   "outputs": [],
   "source": []
  }
 ],
 "metadata": {
  "kernelspec": {
   "display_name": "Python 3",
   "language": "python",
   "name": "python3"
  },
  "language_info": {
   "codemirror_mode": {
    "name": "ipython",
    "version": 3
   },
   "file_extension": ".py",
   "mimetype": "text/x-python",
   "name": "python",
   "nbconvert_exporter": "python",
   "pygments_lexer": "ipython3",
   "version": "3.7.0"
  }
 },
 "nbformat": 4,
 "nbformat_minor": 2
}
