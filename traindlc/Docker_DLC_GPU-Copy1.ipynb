{
 "cells": [
  {
   "cell_type": "markdown",
   "metadata": {},
   "source": [
    "<h1> Using Labeled Data to Train a Network, Use The Network to Label New Videos, and Create Trajectories </h1> \n",
    "<p> Use another notebook create a project, extract frames, and label training/testing data </p>"
   ]
  },
  {
   "cell_type": "markdown",
   "metadata": {
    "colab_type": "text",
    "id": "RK255E7YoEIt"
   },
   "source": [
    "# DLC with docker\n",
    "This notebook illustrates how to use the Docker container to:\n",
    "- train a network\n",
    "- evaluate a network\n",
    "- analyze a novel video\n",
    "\n",
    "many of the functions have additional parameters / complexity, see the DLC docs for more inf on each.\n",
    "\n",
    "This assumes you already have a project folder with labeled data! \n"
   ]
  },
  {
   "cell_type": "markdown",
   "metadata": {
    "colab_type": "text",
    "id": "txoddlM8hLKm"
   },
   "source": [
    "## info about the Docker Environment:\n",
    "Docker is essentially a better alternative to virtual machines. It is able to containerize applications in a way that keeps them seperate the OS and other software. \n",
    "\n",
    "For tensorflow / deeplab cut, docker is critical for two reasons. \n",
    "- It 'claims' the GPU, making it closed for use by other processes.\n",
    "- It queries the GPU properly, in some cases tf (and the python kernal itself) does not know how to properly communincate with the GPU on windows systems."
   ]
  },
  {
   "cell_type": "code",
   "execution_count": 1,
   "metadata": {
    "colab": {},
    "colab_type": "code",
    "id": "4C5WRoS9g5Od",
    "scrolled": true
   },
   "outputs": [
    {
     "name": "stdout",
     "output_type": "stream",
     "text": [
      "nvcc: NVIDIA (R) Cuda compiler driver\n",
      "Copyright (c) 2005-2017 NVIDIA Corporation\n",
      "Built on Fri_Sep__1_21:08:32_Central_Daylight_Time_2017\n",
      "Cuda compilation tools, release 9.0, V9.0.176\n"
     ]
    }
   ],
   "source": [
    "# make sure you graphic driver is accessable\n",
    "!nvcc --version"
   ]
  },
  {
   "cell_type": "code",
   "execution_count": 2,
   "metadata": {
    "colab": {},
    "colab_type": "code",
    "id": "HxVNyimFp-PJ",
    "scrolled": true
   },
   "outputs": [
    {
     "data": {
      "text/plain": [
       "'1.14.0'"
      ]
     },
     "execution_count": 2,
     "metadata": {},
     "output_type": "execute_result"
    }
   ],
   "source": [
    "# check the tensorflow version\n",
    "import tensorflow as tf\n",
    "tf.__version__"
   ]
  },
  {
   "cell_type": "markdown",
   "metadata": {},
   "source": [
    "<h1> The following is very important as it allow the current GPU process to grow dynamically </h1>\n",
    "Without this option tf will likely run out of VRAM when trying to update the weight tensor. In theory, these options could cause the GPU to run out of memory entirely, but there is no other way to allow training to complete successfully. "
   ]
  },
  {
   "cell_type": "code",
   "execution_count": 3,
   "metadata": {
    "scrolled": true
   },
   "outputs": [],
   "source": [
    "#allow video memory growth as network expands to avoid convolutional network errors\n",
    "TF_FORCE_GPU_ALLOW_GROWTH = True\n",
    "config = tf.ConfigProto()\n",
    "config.gpu_options.allow_growth = True\n",
    "session = tf.Session(config=config)"
   ]
  },
  {
   "cell_type": "code",
   "execution_count": 4,
   "metadata": {
    "colab": {},
    "colab_type": "code",
    "id": "Pm_PC1Q8lRrH",
    "scrolled": true
   },
   "outputs": [
    {
     "data": {
      "text/plain": [
       "[name: \"/device:CPU:0\"\n",
       " device_type: \"CPU\"\n",
       " memory_limit: 268435456\n",
       " locality {\n",
       " }\n",
       " incarnation: 1821059278069672080,\n",
       " name: \"/device:GPU:0\"\n",
       " device_type: \"GPU\"\n",
       " memory_limit: 6586089472\n",
       " locality {\n",
       "   bus_id: 1\n",
       "   links {\n",
       "   }\n",
       " }\n",
       " incarnation: 13108276726800131037\n",
       " physical_device_desc: \"device: 0, name: GeForce RTX 2080, pci bus id: 0000:41:00.0, compute capability: 7.5\",\n",
       " name: \"/device:GPU:1\"\n",
       " device_type: \"GPU\"\n",
       " memory_limit: 6586089472\n",
       " locality {\n",
       "   bus_id: 1\n",
       "   links {\n",
       "   }\n",
       " }\n",
       " incarnation: 9321209878509759292\n",
       " physical_device_desc: \"device: 1, name: GeForce RTX 2080, pci bus id: 0000:81:00.0, compute capability: 7.5\"]"
      ]
     },
     "execution_count": 4,
     "metadata": {},
     "output_type": "execute_result"
    }
   ],
   "source": [
    "#let's make sure we see a GPU:\n",
    "#tf.test.gpu_device_name()\n",
    "from tensorflow.python.client import device_lib\n",
    "device_lib.list_local_devices()"
   ]
  },
  {
   "cell_type": "markdown",
   "metadata": {},
   "source": [
    "## Start here for training DeepLabCut and analyzing new videos!\n",
    "<p><br>If the first imports fail, there is again - sadly - an issue with you enviroment. Make sure all packages beside DLC are installed via conda. </p> "
   ]
  },
  {
   "cell_type": "code",
   "execution_count": 5,
   "metadata": {
    "colab": {},
    "colab_type": "code",
    "id": "sXufoX6INe6w",
    "scrolled": true
   },
   "outputs": [],
   "source": [
    "#GUIs don't work on in Docker (or the cloud), so label your data locally on your computer! \n",
    "#This notebook is for you to train and run video analysis!\n",
    "import os"
   ]
  },
  {
   "cell_type": "code",
   "execution_count": 6,
   "metadata": {
    "colab": {},
    "colab_type": "code",
    "id": "3K9Ndy1beyfG",
    "scrolled": false
   },
   "outputs": [
    {
     "data": {
      "text/plain": [
       "'2.1.10.1'"
      ]
     },
     "execution_count": 6,
     "metadata": {},
     "output_type": "execute_result"
    }
   ],
   "source": [
    "# now we are ready to train!\n",
    "#should see version 2.0.8\n",
    "import deeplabcut\n",
    "deeplabcut.__version__"
   ]
  },
  {
   "cell_type": "markdown",
   "metadata": {},
   "source": [
    "<h1> change to your path: </h1>\n",
    "<p> this should be the same path as the one in the createDLCproject notebook. The path is the path to the config.yaml file, not the project directory itself </p> "
   ]
  },
  {
   "cell_type": "code",
   "execution_count": 7,
   "metadata": {
    "colab": {},
    "colab_type": "code",
    "id": "Z7ZlDr3wV4D1",
    "scrolled": true
   },
   "outputs": [],
   "source": [
    "path_config_file = r'F:\\MysoreData\\nbk\\mouseVideoAnalysis\\Box1\\cam2\\box1_cam2-spencerloggia-2021-02-08\\config.yaml'\n"
   ]
  },
  {
   "cell_type": "markdown",
   "metadata": {
    "colab_type": "text",
    "id": "xNi9s1dboEJN"
   },
   "source": [
    "## Create a training dataset\n",
    "This function generates the training data information for DeepCut (which requires a mat file) based on the pandas dataframes that hold label information. The user can set the fraction of the training set size (from all labeled image in the hd5 file) in the config.yaml file. While creating the dataset, the user can create multiple shuffles. \n",
    "\n",
    "After running this script the training dataset is created and saved in the project directory under the subdirectory **'training-datasets'**\n",
    "\n",
    "This function also creates new subdirectories under **dlc-models** and appends the project config.yaml file with the correct path to the training and testing pose configuration file. These files hold the parameters for training the network. Such an example file is provided with the toolbox and named as **pose_cfg.yaml**."
   ]
  },
  {
   "cell_type": "code",
   "execution_count": null,
   "metadata": {
    "scrolled": false
   },
   "outputs": [],
   "source": [
    "deeplabcut.create_training_dataset(path_config_file, net_type='resnet_50', augmenter_type='imgaug')"
   ]
  },
  {
   "cell_type": "markdown",
   "metadata": {},
   "source": [
    "### now go edit the pose_cfg.yaml to make display_iters: low (i.e. 10), and save_iters: 500\n",
    "\n",
    "Now it is the time to start training the network!"
   ]
  },
  {
   "cell_type": "markdown",
   "metadata": {
    "colab_type": "text",
    "id": "c4FczXGDoEJU"
   },
   "source": [
    "## Start training\n",
    "This function trains the network for a specific shuffle of the training dataset. "
   ]
  },
  {
   "cell_type": "code",
   "execution_count": null,
   "metadata": {
    "colab": {},
    "colab_type": "code",
    "id": "_pOvDq_2oEJW",
    "scrolled": true
   },
   "outputs": [],
   "source": [
    "#reset in case you started a session before...\n",
    "#tf.reset_default_graph()\n",
    "\n",
    "deeplabcut.train_network(path_config_file, shuffle=1, saveiters=1000, displayiters=10, gputouse=0)\n",
    "\n",
    "#this will run until you stop it (CTRL+C), or hit \"STOP\" icon, or when it hits the end (default, 1.3M iterations). \n",
    "#Whichever you chose, you will see what looks like an error message, but it's not an error - don't worry....\n"
   ]
  },
  {
   "cell_type": "markdown",
   "metadata": {},
   "source": [
    "### A couple tips for possible troubleshooting (1): \n",
    "\n",
    "if you get **permission errors** when you run this step (above), first check if the weights downloaded. As some docker containers might not have privileges for this (it can be user specific). They should be under 'init_weights' (see path in the pose_cfg.yaml file). You can enter the DOCKER in the terminal:"
   ]
  },
  {
   "cell_type": "markdown",
   "metadata": {},
   "source": [
    "see more here: https://github.com/MMathisLab/Docker4DeepLabCut2.0#using-the-docker-for-training-and-video-analysis"
   ]
  },
  {
   "cell_type": "markdown",
   "metadata": {},
   "source": [
    "### Troubleshooting (2): \n",
    "if it appears the training does not start (i.e. \"Starting training...\" does not print immediately),\n",
    "then you have another session running on your GPU. Go check \"nvidia-smi\" and look at the process names. You can only have 1 per GPU!)"
   ]
  },
  {
   "cell_type": "markdown",
   "metadata": {
    "colab_type": "text",
    "id": "xZygsb2DoEJc"
   },
   "source": [
    "## Start evaluating\n",
    "This funtion evaluates a trained model for a specific shuffle/shuffles at a particular state or all the states on the data set (images)\n",
    "and stores the results as .csv file in a subdirectory under **evaluation-results**"
   ]
  },
  {
   "cell_type": "code",
   "execution_count": null,
   "metadata": {
    "colab": {},
    "colab_type": "code",
    "id": "nv4zlbrnoEJg",
    "scrolled": true
   },
   "outputs": [],
   "source": [
    "deeplabcut.evaluate_network(path_config_file)\n",
    "\n",
    "# Here you want to see a low pixel error! Of course, it can only be as good as the labeler, so be sure your labels are good!"
   ]
  },
  {
   "cell_type": "markdown",
   "metadata": {
    "colab_type": "text",
    "id": "BaLBl3TQtrfB"
   },
   "source": [
    "## There is an optional refinement step\n",
    "- if your pixel errors are not low enough, use DLC docs on how to refine yur network!\n",
    "- You will need to adjust the labels outside of DOCKER! (you can use the createDLCproject notebook) \n",
    "-  see DLC protocol instructions on how to refine your data!"
   ]
  },
  {
   "cell_type": "markdown",
   "metadata": {
    "colab_type": "text",
    "id": "OVFLSKKfoEJk"
   },
   "source": [
    "## Start Analyzing videos\n",
    "This function analyzes the new video. The user can choose the best model from the evaluation results and specify the correct snapshot index for the variable **snapshotindex** in the **config.yaml** file. Otherwise, by default the most recent snapshot is used to analyse the video.\n",
    "\n",
    "The results are stored in hd5 file in the same directory where the video resides. "
   ]
  },
  {
   "cell_type": "code",
   "execution_count": 8,
   "metadata": {
    "colab": {},
    "colab_type": "code",
    "id": "Y_LZiS_0oEJl",
    "scrolled": true
   },
   "outputs": [
    {
     "name": "stdout",
     "output_type": "stream",
     "text": [
      "Using snapshot-561000 for model F:\\MysoreData\\nbk\\mouseVideoAnalysis\\Box1\\cam2\\box1_cam2-spencerloggia-2021-02-08\\dlc-models\\iteration-0\\box1_cam2Feb8-trainset95shuffle1\n",
      "Initializing ResNet\n",
      "WARNING: Entity <bound method Conv.call of <tensorflow.python.layers.convolutional.Conv2D object at 0x0000022ACBB4DB00>> could not be transformed and will be executed as-is. Please report this to the AutgoGraph team. When filing the bug, set the verbosity to 10 (on Linux, `export AUTOGRAPH_VERBOSITY=10`) and attach the full output. Cause: converting <bound method Conv.call of <tensorflow.python.layers.convolutional.Conv2D object at 0x0000022ACBB4DB00>>: AssertionError: Bad argument number for Name: 3, expecting 4\n",
      "WARNING: Entity <bound method BatchNormalization.call of <tensorflow.python.layers.normalization.BatchNormalization object at 0x0000022ACBB86EF0>> could not be transformed and will be executed as-is. Please report this to the AutgoGraph team. When filing the bug, set the verbosity to 10 (on Linux, `export AUTOGRAPH_VERBOSITY=10`) and attach the full output. Cause: converting <bound method BatchNormalization.call of <tensorflow.python.layers.normalization.BatchNormalization object at 0x0000022ACBB86EF0>>: AssertionError: Bad argument number for Name: 3, expecting 4\n",
      "WARNING: Entity <bound method Pooling2D.call of <tensorflow.python.layers.pooling.MaxPooling2D object at 0x0000022ACBB86C18>> could not be transformed and will be executed as-is. Please report this to the AutgoGraph team. When filing the bug, set the verbosity to 10 (on Linux, `export AUTOGRAPH_VERBOSITY=10`) and attach the full output. Cause: converting <bound method Pooling2D.call of <tensorflow.python.layers.pooling.MaxPooling2D object at 0x0000022ACBB86C18>>: AssertionError: Bad argument number for Name: 3, expecting 4\n",
      "WARNING: Entity <bound method Conv.call of <tensorflow.python.layers.convolutional.Conv2D object at 0x0000022ACBC688D0>> could not be transformed and will be executed as-is. Please report this to the AutgoGraph team. When filing the bug, set the verbosity to 10 (on Linux, `export AUTOGRAPH_VERBOSITY=10`) and attach the full output. Cause: converting <bound method Conv.call of <tensorflow.python.layers.convolutional.Conv2D object at 0x0000022ACBC688D0>>: AssertionError: Bad argument number for Name: 3, expecting 4\n",
      "WARNING: Entity <bound method BatchNormalization.call of <tensorflow.python.layers.normalization.BatchNormalization object at 0x0000022ACBC6C710>> could not be transformed and will be executed as-is. Please report this to the AutgoGraph team. When filing the bug, set the verbosity to 10 (on Linux, `export AUTOGRAPH_VERBOSITY=10`) and attach the full output. Cause: converting <bound method BatchNormalization.call of <tensorflow.python.layers.normalization.BatchNormalization object at 0x0000022ACBC6C710>>: AssertionError: Bad argument number for Name: 3, expecting 4\n",
      "WARNING: Entity <bound method Conv.call of <tensorflow.python.layers.convolutional.Conv2D object at 0x0000022ACBC68EB8>> could not be transformed and will be executed as-is. Please report this to the AutgoGraph team. When filing the bug, set the verbosity to 10 (on Linux, `export AUTOGRAPH_VERBOSITY=10`) and attach the full output. Cause: converting <bound method Conv.call of <tensorflow.python.layers.convolutional.Conv2D object at 0x0000022ACBC68EB8>>: AssertionError: Bad argument number for Name: 3, expecting 4\n",
      "WARNING: Entity <bound method BatchNormalization.call of <tensorflow.python.layers.normalization.BatchNormalization object at 0x0000022ACBC4C358>> could not be transformed and will be executed as-is. Please report this to the AutgoGraph team. When filing the bug, set the verbosity to 10 (on Linux, `export AUTOGRAPH_VERBOSITY=10`) and attach the full output. Cause: converting <bound method BatchNormalization.call of <tensorflow.python.layers.normalization.BatchNormalization object at 0x0000022ACBC4C358>>: AssertionError: Bad argument number for Name: 3, expecting 4\n",
      "WARNING: Entity <bound method Conv.call of <tensorflow.python.layers.convolutional.Conv2D object at 0x0000022ACBC68240>> could not be transformed and will be executed as-is. Please report this to the AutgoGraph team. When filing the bug, set the verbosity to 10 (on Linux, `export AUTOGRAPH_VERBOSITY=10`) and attach the full output. Cause: converting <bound method Conv.call of <tensorflow.python.layers.convolutional.Conv2D object at 0x0000022ACBC68240>>: AssertionError: Bad argument number for Name: 3, expecting 4\n",
      "WARNING: Entity <bound method BatchNormalization.call of <tensorflow.python.layers.normalization.BatchNormalization object at 0x0000022ACBBC22E8>> could not be transformed and will be executed as-is. Please report this to the AutgoGraph team. When filing the bug, set the verbosity to 10 (on Linux, `export AUTOGRAPH_VERBOSITY=10`) and attach the full output. Cause: converting <bound method BatchNormalization.call of <tensorflow.python.layers.normalization.BatchNormalization object at 0x0000022ACBBC22E8>>: AssertionError: Bad argument number for Name: 3, expecting 4\n",
      "WARNING: Entity <bound method Conv.call of <tensorflow.python.layers.convolutional.Conv2D object at 0x0000022ACBC68A90>> could not be transformed and will be executed as-is. Please report this to the AutgoGraph team. When filing the bug, set the verbosity to 10 (on Linux, `export AUTOGRAPH_VERBOSITY=10`) and attach the full output. Cause: converting <bound method Conv.call of <tensorflow.python.layers.convolutional.Conv2D object at 0x0000022ACBC68A90>>: AssertionError: Bad argument number for Name: 3, expecting 4\n",
      "WARNING: Entity <bound method BatchNormalization.call of <tensorflow.python.layers.normalization.BatchNormalization object at 0x0000022ACBBC2400>> could not be transformed and will be executed as-is. Please report this to the AutgoGraph team. When filing the bug, set the verbosity to 10 (on Linux, `export AUTOGRAPH_VERBOSITY=10`) and attach the full output. Cause: converting <bound method BatchNormalization.call of <tensorflow.python.layers.normalization.BatchNormalization object at 0x0000022ACBBC2400>>: AssertionError: Bad argument number for Name: 3, expecting 4\n",
      "WARNING: Entity <bound method Conv.call of <tensorflow.python.layers.convolutional.Conv2D object at 0x0000022ACBC680F0>> could not be transformed and will be executed as-is. Please report this to the AutgoGraph team. When filing the bug, set the verbosity to 10 (on Linux, `export AUTOGRAPH_VERBOSITY=10`) and attach the full output. Cause: converting <bound method Conv.call of <tensorflow.python.layers.convolutional.Conv2D object at 0x0000022ACBC680F0>>: AssertionError: Bad argument number for Name: 3, expecting 4\n",
      "WARNING: Entity <bound method BatchNormalization.call of <tensorflow.python.layers.normalization.BatchNormalization object at 0x0000022ACBBC2828>> could not be transformed and will be executed as-is. Please report this to the AutgoGraph team. When filing the bug, set the verbosity to 10 (on Linux, `export AUTOGRAPH_VERBOSITY=10`) and attach the full output. Cause: converting <bound method BatchNormalization.call of <tensorflow.python.layers.normalization.BatchNormalization object at 0x0000022ACBBC2828>>: AssertionError: Bad argument number for Name: 3, expecting 4\n",
      "WARNING: Entity <bound method Conv.call of <tensorflow.python.layers.convolutional.Conv2D object at 0x0000022ACBD62AC8>> could not be transformed and will be executed as-is. Please report this to the AutgoGraph team. When filing the bug, set the verbosity to 10 (on Linux, `export AUTOGRAPH_VERBOSITY=10`) and attach the full output. Cause: converting <bound method Conv.call of <tensorflow.python.layers.convolutional.Conv2D object at 0x0000022ACBD62AC8>>: AssertionError: Bad argument number for Name: 3, expecting 4\n",
      "WARNING: Entity <bound method BatchNormalization.call of <tensorflow.python.layers.normalization.BatchNormalization object at 0x0000022ACBC4C748>> could not be transformed and will be executed as-is. Please report this to the AutgoGraph team. When filing the bug, set the verbosity to 10 (on Linux, `export AUTOGRAPH_VERBOSITY=10`) and attach the full output. Cause: converting <bound method BatchNormalization.call of <tensorflow.python.layers.normalization.BatchNormalization object at 0x0000022ACBC4C748>>: AssertionError: Bad argument number for Name: 3, expecting 4\n",
      "WARNING: Entity <bound method Conv.call of <tensorflow.python.layers.convolutional.Conv2D object at 0x0000022ACBD30B38>> could not be transformed and will be executed as-is. Please report this to the AutgoGraph team. When filing the bug, set the verbosity to 10 (on Linux, `export AUTOGRAPH_VERBOSITY=10`) and attach the full output. Cause: converting <bound method Conv.call of <tensorflow.python.layers.convolutional.Conv2D object at 0x0000022ACBD30B38>>: AssertionError: Bad argument number for Name: 3, expecting 4\n"
     ]
    },
    {
     "name": "stdout",
     "output_type": "stream",
     "text": [
      "WARNING: Entity <bound method BatchNormalization.call of <tensorflow.python.layers.normalization.BatchNormalization object at 0x0000022ACBBC20F0>> could not be transformed and will be executed as-is. Please report this to the AutgoGraph team. When filing the bug, set the verbosity to 10 (on Linux, `export AUTOGRAPH_VERBOSITY=10`) and attach the full output. Cause: converting <bound method BatchNormalization.call of <tensorflow.python.layers.normalization.BatchNormalization object at 0x0000022ACBBC20F0>>: AssertionError: Bad argument number for Name: 3, expecting 4\n",
      "WARNING: Entity <bound method Pooling2D.call of <tensorflow.python.layers.pooling.MaxPooling2D object at 0x0000022ACBC68B38>> could not be transformed and will be executed as-is. Please report this to the AutgoGraph team. When filing the bug, set the verbosity to 10 (on Linux, `export AUTOGRAPH_VERBOSITY=10`) and attach the full output. Cause: converting <bound method Pooling2D.call of <tensorflow.python.layers.pooling.MaxPooling2D object at 0x0000022ACBC68B38>>: AssertionError: Bad argument number for Name: 3, expecting 4\n",
      "WARNING: Entity <bound method Conv.call of <tensorflow.python.layers.convolutional.Conv2D object at 0x0000022ACBDB4828>> could not be transformed and will be executed as-is. Please report this to the AutgoGraph team. When filing the bug, set the verbosity to 10 (on Linux, `export AUTOGRAPH_VERBOSITY=10`) and attach the full output. Cause: converting <bound method Conv.call of <tensorflow.python.layers.convolutional.Conv2D object at 0x0000022ACBDB4828>>: AssertionError: Bad argument number for Name: 3, expecting 4\n",
      "WARNING: Entity <bound method BatchNormalization.call of <tensorflow.python.layers.normalization.BatchNormalization object at 0x0000022ACBBC2550>> could not be transformed and will be executed as-is. Please report this to the AutgoGraph team. When filing the bug, set the verbosity to 10 (on Linux, `export AUTOGRAPH_VERBOSITY=10`) and attach the full output. Cause: converting <bound method BatchNormalization.call of <tensorflow.python.layers.normalization.BatchNormalization object at 0x0000022ACBBC2550>>: AssertionError: Bad argument number for Name: 3, expecting 4\n",
      "WARNING: Entity <bound method Conv.call of <tensorflow.python.layers.convolutional.Conv2D object at 0x0000022ACBCFCCC0>> could not be transformed and will be executed as-is. Please report this to the AutgoGraph team. When filing the bug, set the verbosity to 10 (on Linux, `export AUTOGRAPH_VERBOSITY=10`) and attach the full output. Cause: converting <bound method Conv.call of <tensorflow.python.layers.convolutional.Conv2D object at 0x0000022ACBCFCCC0>>: AssertionError: Bad argument number for Name: 3, expecting 4\n",
      "WARNING: Entity <bound method BatchNormalization.call of <tensorflow.python.layers.normalization.BatchNormalization object at 0x0000022ACBFE0F60>> could not be transformed and will be executed as-is. Please report this to the AutgoGraph team. When filing the bug, set the verbosity to 10 (on Linux, `export AUTOGRAPH_VERBOSITY=10`) and attach the full output. Cause: converting <bound method BatchNormalization.call of <tensorflow.python.layers.normalization.BatchNormalization object at 0x0000022ACBFE0F60>>: AssertionError: Bad argument number for Name: 3, expecting 4\n",
      "WARNING: Entity <bound method Conv.call of <tensorflow.python.layers.convolutional.Conv2D object at 0x0000022ACBF93C88>> could not be transformed and will be executed as-is. Please report this to the AutgoGraph team. When filing the bug, set the verbosity to 10 (on Linux, `export AUTOGRAPH_VERBOSITY=10`) and attach the full output. Cause: converting <bound method Conv.call of <tensorflow.python.layers.convolutional.Conv2D object at 0x0000022ACBF93C88>>: AssertionError: Bad argument number for Name: 3, expecting 4\n",
      "WARNING: Entity <bound method BatchNormalization.call of <tensorflow.python.layers.normalization.BatchNormalization object at 0x0000022ACC02B2E8>> could not be transformed and will be executed as-is. Please report this to the AutgoGraph team. When filing the bug, set the verbosity to 10 (on Linux, `export AUTOGRAPH_VERBOSITY=10`) and attach the full output. Cause: converting <bound method BatchNormalization.call of <tensorflow.python.layers.normalization.BatchNormalization object at 0x0000022ACC02B2E8>>: AssertionError: Bad argument number for Name: 3, expecting 4\n",
      "WARNING: Entity <bound method Conv.call of <tensorflow.python.layers.convolutional.Conv2D object at 0x0000022ACB92FA58>> could not be transformed and will be executed as-is. Please report this to the AutgoGraph team. When filing the bug, set the verbosity to 10 (on Linux, `export AUTOGRAPH_VERBOSITY=10`) and attach the full output. Cause: converting <bound method Conv.call of <tensorflow.python.layers.convolutional.Conv2D object at 0x0000022ACB92FA58>>: AssertionError: Bad argument number for Name: 3, expecting 4\n",
      "WARNING: Entity <bound method BatchNormalization.call of <tensorflow.python.layers.normalization.BatchNormalization object at 0x0000022ACBCFCDA0>> could not be transformed and will be executed as-is. Please report this to the AutgoGraph team. When filing the bug, set the verbosity to 10 (on Linux, `export AUTOGRAPH_VERBOSITY=10`) and attach the full output. Cause: converting <bound method BatchNormalization.call of <tensorflow.python.layers.normalization.BatchNormalization object at 0x0000022ACBCFCDA0>>: AssertionError: Bad argument number for Name: 3, expecting 4\n",
      "WARNING: Entity <bound method Conv.call of <tensorflow.python.layers.convolutional.Conv2D object at 0x0000022ACBBC2400>> could not be transformed and will be executed as-is. Please report this to the AutgoGraph team. When filing the bug, set the verbosity to 10 (on Linux, `export AUTOGRAPH_VERBOSITY=10`) and attach the full output. Cause: converting <bound method Conv.call of <tensorflow.python.layers.convolutional.Conv2D object at 0x0000022ACBBC2400>>: AssertionError: Bad argument number for Name: 3, expecting 4\n",
      "WARNING: Entity <bound method BatchNormalization.call of <tensorflow.python.layers.normalization.BatchNormalization object at 0x0000022ACC0F9390>> could not be transformed and will be executed as-is. Please report this to the AutgoGraph team. When filing the bug, set the verbosity to 10 (on Linux, `export AUTOGRAPH_VERBOSITY=10`) and attach the full output. Cause: converting <bound method BatchNormalization.call of <tensorflow.python.layers.normalization.BatchNormalization object at 0x0000022ACC0F9390>>: AssertionError: Bad argument number for Name: 3, expecting 4\n",
      "WARNING: Entity <bound method Conv.call of <tensorflow.python.layers.convolutional.Conv2D object at 0x0000022ACBFE0A20>> could not be transformed and will be executed as-is. Please report this to the AutgoGraph team. When filing the bug, set the verbosity to 10 (on Linux, `export AUTOGRAPH_VERBOSITY=10`) and attach the full output. Cause: converting <bound method Conv.call of <tensorflow.python.layers.convolutional.Conv2D object at 0x0000022ACBFE0A20>>: AssertionError: Bad argument number for Name: 3, expecting 4\n",
      "WARNING: Entity <bound method BatchNormalization.call of <tensorflow.python.layers.normalization.BatchNormalization object at 0x0000022ACBCFCE48>> could not be transformed and will be executed as-is. Please report this to the AutgoGraph team. When filing the bug, set the verbosity to 10 (on Linux, `export AUTOGRAPH_VERBOSITY=10`) and attach the full output. Cause: converting <bound method BatchNormalization.call of <tensorflow.python.layers.normalization.BatchNormalization object at 0x0000022ACBCFCE48>>: AssertionError: Bad argument number for Name: 3, expecting 4\n",
      "WARNING: Entity <bound method Conv.call of <tensorflow.python.layers.convolutional.Conv2D object at 0x0000022ACC0A1F28>> could not be transformed and will be executed as-is. Please report this to the AutgoGraph team. When filing the bug, set the verbosity to 10 (on Linux, `export AUTOGRAPH_VERBOSITY=10`) and attach the full output. Cause: converting <bound method Conv.call of <tensorflow.python.layers.convolutional.Conv2D object at 0x0000022ACC0A1F28>>: AssertionError: Bad argument number for Name: 3, expecting 4\n",
      "WARNING: Entity <bound method BatchNormalization.call of <tensorflow.python.layers.normalization.BatchNormalization object at 0x0000022ACC1CD780>> could not be transformed and will be executed as-is. Please report this to the AutgoGraph team. When filing the bug, set the verbosity to 10 (on Linux, `export AUTOGRAPH_VERBOSITY=10`) and attach the full output. Cause: converting <bound method BatchNormalization.call of <tensorflow.python.layers.normalization.BatchNormalization object at 0x0000022ACC1CD780>>: AssertionError: Bad argument number for Name: 3, expecting 4\n"
     ]
    },
    {
     "name": "stdout",
     "output_type": "stream",
     "text": [
      "WARNING: Entity <bound method Conv.call of <tensorflow.python.layers.convolutional.Conv2D object at 0x0000022ACBBC2400>> could not be transformed and will be executed as-is. Please report this to the AutgoGraph team. When filing the bug, set the verbosity to 10 (on Linux, `export AUTOGRAPH_VERBOSITY=10`) and attach the full output. Cause: converting <bound method Conv.call of <tensorflow.python.layers.convolutional.Conv2D object at 0x0000022ACBBC2400>>: AssertionError: Bad argument number for Name: 3, expecting 4\n",
      "WARNING: Entity <bound method BatchNormalization.call of <tensorflow.python.layers.normalization.BatchNormalization object at 0x0000022ACC17FEB8>> could not be transformed and will be executed as-is. Please report this to the AutgoGraph team. When filing the bug, set the verbosity to 10 (on Linux, `export AUTOGRAPH_VERBOSITY=10`) and attach the full output. Cause: converting <bound method BatchNormalization.call of <tensorflow.python.layers.normalization.BatchNormalization object at 0x0000022ACC17FEB8>>: AssertionError: Bad argument number for Name: 3, expecting 4\n",
      "WARNING: Entity <bound method Conv.call of <tensorflow.python.layers.convolutional.Conv2D object at 0x0000022ACC168B00>> could not be transformed and will be executed as-is. Please report this to the AutgoGraph team. When filing the bug, set the verbosity to 10 (on Linux, `export AUTOGRAPH_VERBOSITY=10`) and attach the full output. Cause: converting <bound method Conv.call of <tensorflow.python.layers.convolutional.Conv2D object at 0x0000022ACC168B00>>: AssertionError: Bad argument number for Name: 3, expecting 4\n",
      "WARNING: Entity <bound method BatchNormalization.call of <tensorflow.python.layers.normalization.BatchNormalization object at 0x0000022ACBEC6E10>> could not be transformed and will be executed as-is. Please report this to the AutgoGraph team. When filing the bug, set the verbosity to 10 (on Linux, `export AUTOGRAPH_VERBOSITY=10`) and attach the full output. Cause: converting <bound method BatchNormalization.call of <tensorflow.python.layers.normalization.BatchNormalization object at 0x0000022ACBEC6E10>>: AssertionError: Bad argument number for Name: 3, expecting 4\n",
      "WARNING: Entity <bound method Conv.call of <tensorflow.python.layers.convolutional.Conv2D object at 0x0000022ACC168940>> could not be transformed and will be executed as-is. Please report this to the AutgoGraph team. When filing the bug, set the verbosity to 10 (on Linux, `export AUTOGRAPH_VERBOSITY=10`) and attach the full output. Cause: converting <bound method Conv.call of <tensorflow.python.layers.convolutional.Conv2D object at 0x0000022ACC168940>>: AssertionError: Bad argument number for Name: 3, expecting 4\n",
      "WARNING: Entity <bound method BatchNormalization.call of <tensorflow.python.layers.normalization.BatchNormalization object at 0x0000022ACBF93D68>> could not be transformed and will be executed as-is. Please report this to the AutgoGraph team. When filing the bug, set the verbosity to 10 (on Linux, `export AUTOGRAPH_VERBOSITY=10`) and attach the full output. Cause: converting <bound method BatchNormalization.call of <tensorflow.python.layers.normalization.BatchNormalization object at 0x0000022ACBF93D68>>: AssertionError: Bad argument number for Name: 3, expecting 4\n",
      "WARNING: Entity <bound method Conv.call of <tensorflow.python.layers.convolutional.Conv2D object at 0x0000022ACC168940>> could not be transformed and will be executed as-is. Please report this to the AutgoGraph team. When filing the bug, set the verbosity to 10 (on Linux, `export AUTOGRAPH_VERBOSITY=10`) and attach the full output. Cause: converting <bound method Conv.call of <tensorflow.python.layers.convolutional.Conv2D object at 0x0000022ACC168940>>: AssertionError: Bad argument number for Name: 3, expecting 4\n",
      "WARNING: Entity <bound method BatchNormalization.call of <tensorflow.python.layers.normalization.BatchNormalization object at 0x0000022ACC38DA90>> could not be transformed and will be executed as-is. Please report this to the AutgoGraph team. When filing the bug, set the verbosity to 10 (on Linux, `export AUTOGRAPH_VERBOSITY=10`) and attach the full output. Cause: converting <bound method BatchNormalization.call of <tensorflow.python.layers.normalization.BatchNormalization object at 0x0000022ACC38DA90>>: AssertionError: Bad argument number for Name: 3, expecting 4\n",
      "WARNING: Entity <bound method Conv.call of <tensorflow.python.layers.convolutional.Conv2D object at 0x0000022ACC26CB70>> could not be transformed and will be executed as-is. Please report this to the AutgoGraph team. When filing the bug, set the verbosity to 10 (on Linux, `export AUTOGRAPH_VERBOSITY=10`) and attach the full output. Cause: converting <bound method Conv.call of <tensorflow.python.layers.convolutional.Conv2D object at 0x0000022ACC26CB70>>: AssertionError: Bad argument number for Name: 3, expecting 4\n",
      "WARNING: Entity <bound method BatchNormalization.call of <tensorflow.python.layers.normalization.BatchNormalization object at 0x0000022ACBFFDC18>> could not be transformed and will be executed as-is. Please report this to the AutgoGraph team. When filing the bug, set the verbosity to 10 (on Linux, `export AUTOGRAPH_VERBOSITY=10`) and attach the full output. Cause: converting <bound method BatchNormalization.call of <tensorflow.python.layers.normalization.BatchNormalization object at 0x0000022ACBFFDC18>>: AssertionError: Bad argument number for Name: 3, expecting 4\n",
      "WARNING: Entity <bound method Conv.call of <tensorflow.python.layers.convolutional.Conv2D object at 0x0000022ACC3AE6D8>> could not be transformed and will be executed as-is. Please report this to the AutgoGraph team. When filing the bug, set the verbosity to 10 (on Linux, `export AUTOGRAPH_VERBOSITY=10`) and attach the full output. Cause: converting <bound method Conv.call of <tensorflow.python.layers.convolutional.Conv2D object at 0x0000022ACC3AE6D8>>: AssertionError: Bad argument number for Name: 3, expecting 4\n",
      "WARNING: Entity <bound method BatchNormalization.call of <tensorflow.python.layers.normalization.BatchNormalization object at 0x0000022ACBFFD860>> could not be transformed and will be executed as-is. Please report this to the AutgoGraph team. When filing the bug, set the verbosity to 10 (on Linux, `export AUTOGRAPH_VERBOSITY=10`) and attach the full output. Cause: converting <bound method BatchNormalization.call of <tensorflow.python.layers.normalization.BatchNormalization object at 0x0000022ACBFFD860>>: AssertionError: Bad argument number for Name: 3, expecting 4\n",
      "WARNING: Entity <bound method Pooling2D.call of <tensorflow.python.layers.pooling.MaxPooling2D object at 0x0000022ACC3F49B0>> could not be transformed and will be executed as-is. Please report this to the AutgoGraph team. When filing the bug, set the verbosity to 10 (on Linux, `export AUTOGRAPH_VERBOSITY=10`) and attach the full output. Cause: converting <bound method Pooling2D.call of <tensorflow.python.layers.pooling.MaxPooling2D object at 0x0000022ACC3F49B0>>: AssertionError: Bad argument number for Name: 3, expecting 4\n",
      "WARNING: Entity <bound method Conv.call of <tensorflow.python.layers.convolutional.Conv2D object at 0x0000022ACC26CE48>> could not be transformed and will be executed as-is. Please report this to the AutgoGraph team. When filing the bug, set the verbosity to 10 (on Linux, `export AUTOGRAPH_VERBOSITY=10`) and attach the full output. Cause: converting <bound method Conv.call of <tensorflow.python.layers.convolutional.Conv2D object at 0x0000022ACC26CE48>>: AssertionError: Bad argument number for Name: 3, expecting 4\n",
      "WARNING: Entity <bound method BatchNormalization.call of <tensorflow.python.layers.normalization.BatchNormalization object at 0x0000022ACC28E940>> could not be transformed and will be executed as-is. Please report this to the AutgoGraph team. When filing the bug, set the verbosity to 10 (on Linux, `export AUTOGRAPH_VERBOSITY=10`) and attach the full output. Cause: converting <bound method BatchNormalization.call of <tensorflow.python.layers.normalization.BatchNormalization object at 0x0000022ACC28E940>>: AssertionError: Bad argument number for Name: 3, expecting 4\n",
      "WARNING: Entity <bound method Conv.call of <tensorflow.python.layers.convolutional.Conv2D object at 0x0000022ACC45FAC8>> could not be transformed and will be executed as-is. Please report this to the AutgoGraph team. When filing the bug, set the verbosity to 10 (on Linux, `export AUTOGRAPH_VERBOSITY=10`) and attach the full output. Cause: converting <bound method Conv.call of <tensorflow.python.layers.convolutional.Conv2D object at 0x0000022ACC45FAC8>>: AssertionError: Bad argument number for Name: 3, expecting 4\n"
     ]
    },
    {
     "name": "stdout",
     "output_type": "stream",
     "text": [
      "WARNING: Entity <bound method BatchNormalization.call of <tensorflow.python.layers.normalization.BatchNormalization object at 0x0000022ACC4807F0>> could not be transformed and will be executed as-is. Please report this to the AutgoGraph team. When filing the bug, set the verbosity to 10 (on Linux, `export AUTOGRAPH_VERBOSITY=10`) and attach the full output. Cause: converting <bound method BatchNormalization.call of <tensorflow.python.layers.normalization.BatchNormalization object at 0x0000022ACC4807F0>>: AssertionError: Bad argument number for Name: 3, expecting 4\n",
      "WARNING: Entity <bound method Conv.call of <tensorflow.python.layers.convolutional.Conv2D object at 0x0000022ACC480A58>> could not be transformed and will be executed as-is. Please report this to the AutgoGraph team. When filing the bug, set the verbosity to 10 (on Linux, `export AUTOGRAPH_VERBOSITY=10`) and attach the full output. Cause: converting <bound method Conv.call of <tensorflow.python.layers.convolutional.Conv2D object at 0x0000022ACC480A58>>: AssertionError: Bad argument number for Name: 3, expecting 4\n",
      "WARNING: Entity <bound method BatchNormalization.call of <tensorflow.python.layers.normalization.BatchNormalization object at 0x0000022ACC50E5F8>> could not be transformed and will be executed as-is. Please report this to the AutgoGraph team. When filing the bug, set the verbosity to 10 (on Linux, `export AUTOGRAPH_VERBOSITY=10`) and attach the full output. Cause: converting <bound method BatchNormalization.call of <tensorflow.python.layers.normalization.BatchNormalization object at 0x0000022ACC50E5F8>>: AssertionError: Bad argument number for Name: 3, expecting 4\n",
      "WARNING: Entity <bound method Conv.call of <tensorflow.python.layers.convolutional.Conv2D object at 0x0000022ACC49DE80>> could not be transformed and will be executed as-is. Please report this to the AutgoGraph team. When filing the bug, set the verbosity to 10 (on Linux, `export AUTOGRAPH_VERBOSITY=10`) and attach the full output. Cause: converting <bound method Conv.call of <tensorflow.python.layers.convolutional.Conv2D object at 0x0000022ACC49DE80>>: AssertionError: Bad argument number for Name: 3, expecting 4\n",
      "WARNING: Entity <bound method BatchNormalization.call of <tensorflow.python.layers.normalization.BatchNormalization object at 0x0000022ACC17FC50>> could not be transformed and will be executed as-is. Please report this to the AutgoGraph team. When filing the bug, set the verbosity to 10 (on Linux, `export AUTOGRAPH_VERBOSITY=10`) and attach the full output. Cause: converting <bound method BatchNormalization.call of <tensorflow.python.layers.normalization.BatchNormalization object at 0x0000022ACC17FC50>>: AssertionError: Bad argument number for Name: 3, expecting 4\n",
      "WARNING: Entity <bound method Conv.call of <tensorflow.python.layers.convolutional.Conv2D object at 0x0000022ACC49DF28>> could not be transformed and will be executed as-is. Please report this to the AutgoGraph team. When filing the bug, set the verbosity to 10 (on Linux, `export AUTOGRAPH_VERBOSITY=10`) and attach the full output. Cause: converting <bound method Conv.call of <tensorflow.python.layers.convolutional.Conv2D object at 0x0000022ACC49DF28>>: AssertionError: Bad argument number for Name: 3, expecting 4\n",
      "WARNING: Entity <bound method BatchNormalization.call of <tensorflow.python.layers.normalization.BatchNormalization object at 0x0000022ACC28E860>> could not be transformed and will be executed as-is. Please report this to the AutgoGraph team. When filing the bug, set the verbosity to 10 (on Linux, `export AUTOGRAPH_VERBOSITY=10`) and attach the full output. Cause: converting <bound method BatchNormalization.call of <tensorflow.python.layers.normalization.BatchNormalization object at 0x0000022ACC28E860>>: AssertionError: Bad argument number for Name: 3, expecting 4\n",
      "WARNING: Entity <bound method Conv.call of <tensorflow.python.layers.convolutional.Conv2D object at 0x0000022ACC52F940>> could not be transformed and will be executed as-is. Please report this to the AutgoGraph team. When filing the bug, set the verbosity to 10 (on Linux, `export AUTOGRAPH_VERBOSITY=10`) and attach the full output. Cause: converting <bound method Conv.call of <tensorflow.python.layers.convolutional.Conv2D object at 0x0000022ACC52F940>>: AssertionError: Bad argument number for Name: 3, expecting 4\n",
      "WARNING: Entity <bound method BatchNormalization.call of <tensorflow.python.layers.normalization.BatchNormalization object at 0x0000022ACC56B390>> could not be transformed and will be executed as-is. Please report this to the AutgoGraph team. When filing the bug, set the verbosity to 10 (on Linux, `export AUTOGRAPH_VERBOSITY=10`) and attach the full output. Cause: converting <bound method BatchNormalization.call of <tensorflow.python.layers.normalization.BatchNormalization object at 0x0000022ACC56B390>>: AssertionError: Bad argument number for Name: 3, expecting 4\n",
      "WARNING: Entity <bound method Conv.call of <tensorflow.python.layers.convolutional.Conv2D object at 0x0000022ACC52F780>> could not be transformed and will be executed as-is. Please report this to the AutgoGraph team. When filing the bug, set the verbosity to 10 (on Linux, `export AUTOGRAPH_VERBOSITY=10`) and attach the full output. Cause: converting <bound method Conv.call of <tensorflow.python.layers.convolutional.Conv2D object at 0x0000022ACC52F780>>: AssertionError: Bad argument number for Name: 3, expecting 4\n",
      "WARNING: Entity <bound method BatchNormalization.call of <tensorflow.python.layers.normalization.BatchNormalization object at 0x0000022ACC56BE48>> could not be transformed and will be executed as-is. Please report this to the AutgoGraph team. When filing the bug, set the verbosity to 10 (on Linux, `export AUTOGRAPH_VERBOSITY=10`) and attach the full output. Cause: converting <bound method BatchNormalization.call of <tensorflow.python.layers.normalization.BatchNormalization object at 0x0000022ACC56BE48>>: AssertionError: Bad argument number for Name: 3, expecting 4\n",
      "WARNING: Entity <bound method Conv.call of <tensorflow.python.layers.convolutional.Conv2D object at 0x0000022ACC54D860>> could not be transformed and will be executed as-is. Please report this to the AutgoGraph team. When filing the bug, set the verbosity to 10 (on Linux, `export AUTOGRAPH_VERBOSITY=10`) and attach the full output. Cause: converting <bound method Conv.call of <tensorflow.python.layers.convolutional.Conv2D object at 0x0000022ACC54D860>>: AssertionError: Bad argument number for Name: 3, expecting 4\n",
      "WARNING: Entity <bound method BatchNormalization.call of <tensorflow.python.layers.normalization.BatchNormalization object at 0x0000022ACC4C7F60>> could not be transformed and will be executed as-is. Please report this to the AutgoGraph team. When filing the bug, set the verbosity to 10 (on Linux, `export AUTOGRAPH_VERBOSITY=10`) and attach the full output. Cause: converting <bound method BatchNormalization.call of <tensorflow.python.layers.normalization.BatchNormalization object at 0x0000022ACC4C7F60>>: AssertionError: Bad argument number for Name: 3, expecting 4\n",
      "WARNING: Entity <bound method Conv.call of <tensorflow.python.layers.convolutional.Conv2D object at 0x0000022ACC4C7F60>> could not be transformed and will be executed as-is. Please report this to the AutgoGraph team. When filing the bug, set the verbosity to 10 (on Linux, `export AUTOGRAPH_VERBOSITY=10`) and attach the full output. Cause: converting <bound method Conv.call of <tensorflow.python.layers.convolutional.Conv2D object at 0x0000022ACC4C7F60>>: AssertionError: Bad argument number for Name: 3, expecting 4\n",
      "WARNING: Entity <bound method BatchNormalization.call of <tensorflow.python.layers.normalization.BatchNormalization object at 0x0000022ACC78A7B8>> could not be transformed and will be executed as-is. Please report this to the AutgoGraph team. When filing the bug, set the verbosity to 10 (on Linux, `export AUTOGRAPH_VERBOSITY=10`) and attach the full output. Cause: converting <bound method BatchNormalization.call of <tensorflow.python.layers.normalization.BatchNormalization object at 0x0000022ACC78A7B8>>: AssertionError: Bad argument number for Name: 3, expecting 4\n"
     ]
    },
    {
     "name": "stdout",
     "output_type": "stream",
     "text": [
      "WARNING: Entity <bound method Conv.call of <tensorflow.python.layers.convolutional.Conv2D object at 0x0000022ACC427358>> could not be transformed and will be executed as-is. Please report this to the AutgoGraph team. When filing the bug, set the verbosity to 10 (on Linux, `export AUTOGRAPH_VERBOSITY=10`) and attach the full output. Cause: converting <bound method Conv.call of <tensorflow.python.layers.convolutional.Conv2D object at 0x0000022ACC427358>>: AssertionError: Bad argument number for Name: 3, expecting 4\n",
      "WARNING: Entity <bound method BatchNormalization.call of <tensorflow.python.layers.normalization.BatchNormalization object at 0x0000022ACBC685C0>> could not be transformed and will be executed as-is. Please report this to the AutgoGraph team. When filing the bug, set the verbosity to 10 (on Linux, `export AUTOGRAPH_VERBOSITY=10`) and attach the full output. Cause: converting <bound method BatchNormalization.call of <tensorflow.python.layers.normalization.BatchNormalization object at 0x0000022ACBC685C0>>: AssertionError: Bad argument number for Name: 3, expecting 4\n",
      "WARNING: Entity <bound method Conv.call of <tensorflow.python.layers.convolutional.Conv2D object at 0x0000022A6B344DA0>> could not be transformed and will be executed as-is. Please report this to the AutgoGraph team. When filing the bug, set the verbosity to 10 (on Linux, `export AUTOGRAPH_VERBOSITY=10`) and attach the full output. Cause: converting <bound method Conv.call of <tensorflow.python.layers.convolutional.Conv2D object at 0x0000022A6B344DA0>>: AssertionError: Bad argument number for Name: 3, expecting 4\n",
      "WARNING: Entity <bound method BatchNormalization.call of <tensorflow.python.layers.normalization.BatchNormalization object at 0x0000022ACBC4CD68>> could not be transformed and will be executed as-is. Please report this to the AutgoGraph team. When filing the bug, set the verbosity to 10 (on Linux, `export AUTOGRAPH_VERBOSITY=10`) and attach the full output. Cause: converting <bound method BatchNormalization.call of <tensorflow.python.layers.normalization.BatchNormalization object at 0x0000022ACBC4CD68>>: AssertionError: Bad argument number for Name: 3, expecting 4\n",
      "WARNING: Entity <bound method Conv.call of <tensorflow.python.layers.convolutional.Conv2D object at 0x0000022ACBC683C8>> could not be transformed and will be executed as-is. Please report this to the AutgoGraph team. When filing the bug, set the verbosity to 10 (on Linux, `export AUTOGRAPH_VERBOSITY=10`) and attach the full output. Cause: converting <bound method Conv.call of <tensorflow.python.layers.convolutional.Conv2D object at 0x0000022ACBC683C8>>: AssertionError: Bad argument number for Name: 3, expecting 4\n",
      "WARNING: Entity <bound method BatchNormalization.call of <tensorflow.python.layers.normalization.BatchNormalization object at 0x0000022ACC78A3C8>> could not be transformed and will be executed as-is. Please report this to the AutgoGraph team. When filing the bug, set the verbosity to 10 (on Linux, `export AUTOGRAPH_VERBOSITY=10`) and attach the full output. Cause: converting <bound method BatchNormalization.call of <tensorflow.python.layers.normalization.BatchNormalization object at 0x0000022ACC78A3C8>>: AssertionError: Bad argument number for Name: 3, expecting 4\n",
      "WARNING: Entity <bound method Conv.call of <tensorflow.python.layers.convolutional.Conv2D object at 0x0000022ACBD74630>> could not be transformed and will be executed as-is. Please report this to the AutgoGraph team. When filing the bug, set the verbosity to 10 (on Linux, `export AUTOGRAPH_VERBOSITY=10`) and attach the full output. Cause: converting <bound method Conv.call of <tensorflow.python.layers.convolutional.Conv2D object at 0x0000022ACBD74630>>: AssertionError: Bad argument number for Name: 3, expecting 4\n",
      "WARNING: Entity <bound method BatchNormalization.call of <tensorflow.python.layers.normalization.BatchNormalization object at 0x0000022ACC56B5F8>> could not be transformed and will be executed as-is. Please report this to the AutgoGraph team. When filing the bug, set the verbosity to 10 (on Linux, `export AUTOGRAPH_VERBOSITY=10`) and attach the full output. Cause: converting <bound method BatchNormalization.call of <tensorflow.python.layers.normalization.BatchNormalization object at 0x0000022ACC56B5F8>>: AssertionError: Bad argument number for Name: 3, expecting 4\n",
      "WARNING: Entity <bound method Conv.call of <tensorflow.python.layers.convolutional.Conv2D object at 0x0000022ACBC4FAC8>> could not be transformed and will be executed as-is. Please report this to the AutgoGraph team. When filing the bug, set the verbosity to 10 (on Linux, `export AUTOGRAPH_VERBOSITY=10`) and attach the full output. Cause: converting <bound method Conv.call of <tensorflow.python.layers.convolutional.Conv2D object at 0x0000022ACBC4FAC8>>: AssertionError: Bad argument number for Name: 3, expecting 4\n",
      "WARNING: Entity <bound method BatchNormalization.call of <tensorflow.python.layers.normalization.BatchNormalization object at 0x0000022ACC71CCC0>> could not be transformed and will be executed as-is. Please report this to the AutgoGraph team. When filing the bug, set the verbosity to 10 (on Linux, `export AUTOGRAPH_VERBOSITY=10`) and attach the full output. Cause: converting <bound method BatchNormalization.call of <tensorflow.python.layers.normalization.BatchNormalization object at 0x0000022ACC71CCC0>>: AssertionError: Bad argument number for Name: 3, expecting 4\n",
      "WARNING: Entity <bound method Conv.call of <tensorflow.python.layers.convolutional.Conv2D object at 0x0000022ACC71CCC0>> could not be transformed and will be executed as-is. Please report this to the AutgoGraph team. When filing the bug, set the verbosity to 10 (on Linux, `export AUTOGRAPH_VERBOSITY=10`) and attach the full output. Cause: converting <bound method Conv.call of <tensorflow.python.layers.convolutional.Conv2D object at 0x0000022ACC71CCC0>>: AssertionError: Bad argument number for Name: 3, expecting 4\n",
      "WARNING: Entity <bound method BatchNormalization.call of <tensorflow.python.layers.normalization.BatchNormalization object at 0x0000022ACC78AE48>> could not be transformed and will be executed as-is. Please report this to the AutgoGraph team. When filing the bug, set the verbosity to 10 (on Linux, `export AUTOGRAPH_VERBOSITY=10`) and attach the full output. Cause: converting <bound method BatchNormalization.call of <tensorflow.python.layers.normalization.BatchNormalization object at 0x0000022ACC78AE48>>: AssertionError: Bad argument number for Name: 3, expecting 4\n",
      "WARNING: Entity <bound method Conv.call of <tensorflow.python.layers.convolutional.Conv2D object at 0x0000022ACC8EFB00>> could not be transformed and will be executed as-is. Please report this to the AutgoGraph team. When filing the bug, set the verbosity to 10 (on Linux, `export AUTOGRAPH_VERBOSITY=10`) and attach the full output. Cause: converting <bound method Conv.call of <tensorflow.python.layers.convolutional.Conv2D object at 0x0000022ACC8EFB00>>: AssertionError: Bad argument number for Name: 3, expecting 4\n",
      "WARNING: Entity <bound method BatchNormalization.call of <tensorflow.python.layers.normalization.BatchNormalization object at 0x0000022ACC819E80>> could not be transformed and will be executed as-is. Please report this to the AutgoGraph team. When filing the bug, set the verbosity to 10 (on Linux, `export AUTOGRAPH_VERBOSITY=10`) and attach the full output. Cause: converting <bound method BatchNormalization.call of <tensorflow.python.layers.normalization.BatchNormalization object at 0x0000022ACC819E80>>: AssertionError: Bad argument number for Name: 3, expecting 4\n",
      "WARNING: Entity <bound method Conv.call of <tensorflow.python.layers.convolutional.Conv2D object at 0x0000022ACC50E828>> could not be transformed and will be executed as-is. Please report this to the AutgoGraph team. When filing the bug, set the verbosity to 10 (on Linux, `export AUTOGRAPH_VERBOSITY=10`) and attach the full output. Cause: converting <bound method Conv.call of <tensorflow.python.layers.convolutional.Conv2D object at 0x0000022ACC50E828>>: AssertionError: Bad argument number for Name: 3, expecting 4\n",
      "WARNING: Entity <bound method BatchNormalization.call of <tensorflow.python.layers.normalization.BatchNormalization object at 0x0000022ACC63D898>> could not be transformed and will be executed as-is. Please report this to the AutgoGraph team. When filing the bug, set the verbosity to 10 (on Linux, `export AUTOGRAPH_VERBOSITY=10`) and attach the full output. Cause: converting <bound method BatchNormalization.call of <tensorflow.python.layers.normalization.BatchNormalization object at 0x0000022ACC63D898>>: AssertionError: Bad argument number for Name: 3, expecting 4\n"
     ]
    },
    {
     "name": "stdout",
     "output_type": "stream",
     "text": [
      "WARNING: Entity <bound method Conv.call of <tensorflow.python.layers.convolutional.Conv2D object at 0x0000022ACCA28668>> could not be transformed and will be executed as-is. Please report this to the AutgoGraph team. When filing the bug, set the verbosity to 10 (on Linux, `export AUTOGRAPH_VERBOSITY=10`) and attach the full output. Cause: converting <bound method Conv.call of <tensorflow.python.layers.convolutional.Conv2D object at 0x0000022ACCA28668>>: AssertionError: Bad argument number for Name: 3, expecting 4\n",
      "WARNING: Entity <bound method BatchNormalization.call of <tensorflow.python.layers.normalization.BatchNormalization object at 0x0000022ACC63D908>> could not be transformed and will be executed as-is. Please report this to the AutgoGraph team. When filing the bug, set the verbosity to 10 (on Linux, `export AUTOGRAPH_VERBOSITY=10`) and attach the full output. Cause: converting <bound method BatchNormalization.call of <tensorflow.python.layers.normalization.BatchNormalization object at 0x0000022ACC63D908>>: AssertionError: Bad argument number for Name: 3, expecting 4\n",
      "WARNING: Entity <bound method Conv.call of <tensorflow.python.layers.convolutional.Conv2D object at 0x0000022ACC71CCC0>> could not be transformed and will be executed as-is. Please report this to the AutgoGraph team. When filing the bug, set the verbosity to 10 (on Linux, `export AUTOGRAPH_VERBOSITY=10`) and attach the full output. Cause: converting <bound method Conv.call of <tensorflow.python.layers.convolutional.Conv2D object at 0x0000022ACC71CCC0>>: AssertionError: Bad argument number for Name: 3, expecting 4\n",
      "WARNING: Entity <bound method BatchNormalization.call of <tensorflow.python.layers.normalization.BatchNormalization object at 0x0000022ACC63D2E8>> could not be transformed and will be executed as-is. Please report this to the AutgoGraph team. When filing the bug, set the verbosity to 10 (on Linux, `export AUTOGRAPH_VERBOSITY=10`) and attach the full output. Cause: converting <bound method BatchNormalization.call of <tensorflow.python.layers.normalization.BatchNormalization object at 0x0000022ACC63D2E8>>: AssertionError: Bad argument number for Name: 3, expecting 4\n",
      "WARNING: Entity <bound method Conv.call of <tensorflow.python.layers.convolutional.Conv2D object at 0x0000022ACBC83898>> could not be transformed and will be executed as-is. Please report this to the AutgoGraph team. When filing the bug, set the verbosity to 10 (on Linux, `export AUTOGRAPH_VERBOSITY=10`) and attach the full output. Cause: converting <bound method Conv.call of <tensorflow.python.layers.convolutional.Conv2D object at 0x0000022ACBC83898>>: AssertionError: Bad argument number for Name: 3, expecting 4\n",
      "WARNING: Entity <bound method BatchNormalization.call of <tensorflow.python.layers.normalization.BatchNormalization object at 0x0000022ACCCE6F98>> could not be transformed and will be executed as-is. Please report this to the AutgoGraph team. When filing the bug, set the verbosity to 10 (on Linux, `export AUTOGRAPH_VERBOSITY=10`) and attach the full output. Cause: converting <bound method BatchNormalization.call of <tensorflow.python.layers.normalization.BatchNormalization object at 0x0000022ACCCE6F98>>: AssertionError: Bad argument number for Name: 3, expecting 4\n",
      "WARNING: Entity <bound method Conv.call of <tensorflow.python.layers.convolutional.Conv2D object at 0x0000022ACCAAE3C8>> could not be transformed and will be executed as-is. Please report this to the AutgoGraph team. When filing the bug, set the verbosity to 10 (on Linux, `export AUTOGRAPH_VERBOSITY=10`) and attach the full output. Cause: converting <bound method Conv.call of <tensorflow.python.layers.convolutional.Conv2D object at 0x0000022ACCAAE3C8>>: AssertionError: Bad argument number for Name: 3, expecting 4\n",
      "WARNING: Entity <bound method BatchNormalization.call of <tensorflow.python.layers.normalization.BatchNormalization object at 0x0000022ACCD1E390>> could not be transformed and will be executed as-is. Please report this to the AutgoGraph team. When filing the bug, set the verbosity to 10 (on Linux, `export AUTOGRAPH_VERBOSITY=10`) and attach the full output. Cause: converting <bound method BatchNormalization.call of <tensorflow.python.layers.normalization.BatchNormalization object at 0x0000022ACCD1E390>>: AssertionError: Bad argument number for Name: 3, expecting 4\n",
      "WARNING: Entity <bound method Conv.call of <tensorflow.python.layers.convolutional.Conv2D object at 0x0000022ACCD1EE10>> could not be transformed and will be executed as-is. Please report this to the AutgoGraph team. When filing the bug, set the verbosity to 10 (on Linux, `export AUTOGRAPH_VERBOSITY=10`) and attach the full output. Cause: converting <bound method Conv.call of <tensorflow.python.layers.convolutional.Conv2D object at 0x0000022ACCD1EE10>>: AssertionError: Bad argument number for Name: 3, expecting 4\n",
      "WARNING: Entity <bound method BatchNormalization.call of <tensorflow.python.layers.normalization.BatchNormalization object at 0x0000022ACC9CC278>> could not be transformed and will be executed as-is. Please report this to the AutgoGraph team. When filing the bug, set the verbosity to 10 (on Linux, `export AUTOGRAPH_VERBOSITY=10`) and attach the full output. Cause: converting <bound method BatchNormalization.call of <tensorflow.python.layers.normalization.BatchNormalization object at 0x0000022ACC9CC278>>: AssertionError: Bad argument number for Name: 3, expecting 4\n",
      "WARNING: Entity <bound method Conv.call of <tensorflow.python.layers.convolutional.Conv2D object at 0x0000022ACBC83898>> could not be transformed and will be executed as-is. Please report this to the AutgoGraph team. When filing the bug, set the verbosity to 10 (on Linux, `export AUTOGRAPH_VERBOSITY=10`) and attach the full output. Cause: converting <bound method Conv.call of <tensorflow.python.layers.convolutional.Conv2D object at 0x0000022ACBC83898>>: AssertionError: Bad argument number for Name: 3, expecting 4\n",
      "WARNING: Entity <bound method BatchNormalization.call of <tensorflow.python.layers.normalization.BatchNormalization object at 0x0000022ACCE20A58>> could not be transformed and will be executed as-is. Please report this to the AutgoGraph team. When filing the bug, set the verbosity to 10 (on Linux, `export AUTOGRAPH_VERBOSITY=10`) and attach the full output. Cause: converting <bound method BatchNormalization.call of <tensorflow.python.layers.normalization.BatchNormalization object at 0x0000022ACCE20A58>>: AssertionError: Bad argument number for Name: 3, expecting 4\n",
      "WARNING: Entity <bound method Conv.call of <tensorflow.python.layers.convolutional.Conv2D object at 0x0000022ACCC98F98>> could not be transformed and will be executed as-is. Please report this to the AutgoGraph team. When filing the bug, set the verbosity to 10 (on Linux, `export AUTOGRAPH_VERBOSITY=10`) and attach the full output. Cause: converting <bound method Conv.call of <tensorflow.python.layers.convolutional.Conv2D object at 0x0000022ACCC98F98>>: AssertionError: Bad argument number for Name: 3, expecting 4\n",
      "WARNING: Entity <bound method BatchNormalization.call of <tensorflow.python.layers.normalization.BatchNormalization object at 0x0000022ACCDB3898>> could not be transformed and will be executed as-is. Please report this to the AutgoGraph team. When filing the bug, set the verbosity to 10 (on Linux, `export AUTOGRAPH_VERBOSITY=10`) and attach the full output. Cause: converting <bound method BatchNormalization.call of <tensorflow.python.layers.normalization.BatchNormalization object at 0x0000022ACCDB3898>>: AssertionError: Bad argument number for Name: 3, expecting 4\n",
      "WARNING: Entity <bound method Conv.call of <tensorflow.python.layers.convolutional.Conv2D object at 0x0000022ACCD5F4A8>> could not be transformed and will be executed as-is. Please report this to the AutgoGraph team. When filing the bug, set the verbosity to 10 (on Linux, `export AUTOGRAPH_VERBOSITY=10`) and attach the full output. Cause: converting <bound method Conv.call of <tensorflow.python.layers.convolutional.Conv2D object at 0x0000022ACCD5F4A8>>: AssertionError: Bad argument number for Name: 3, expecting 4\n",
      "WARNING: Entity <bound method BatchNormalization.call of <tensorflow.python.layers.normalization.BatchNormalization object at 0x0000022ACCE71C88>> could not be transformed and will be executed as-is. Please report this to the AutgoGraph team. When filing the bug, set the verbosity to 10 (on Linux, `export AUTOGRAPH_VERBOSITY=10`) and attach the full output. Cause: converting <bound method BatchNormalization.call of <tensorflow.python.layers.normalization.BatchNormalization object at 0x0000022ACCE71C88>>: AssertionError: Bad argument number for Name: 3, expecting 4\n"
     ]
    },
    {
     "name": "stdout",
     "output_type": "stream",
     "text": [
      "WARNING: Entity <bound method Conv.call of <tensorflow.python.layers.convolutional.Conv2D object at 0x0000022ACC9CC278>> could not be transformed and will be executed as-is. Please report this to the AutgoGraph team. When filing the bug, set the verbosity to 10 (on Linux, `export AUTOGRAPH_VERBOSITY=10`) and attach the full output. Cause: converting <bound method Conv.call of <tensorflow.python.layers.convolutional.Conv2D object at 0x0000022ACC9CC278>>: AssertionError: Bad argument number for Name: 3, expecting 4\n",
      "WARNING: Entity <bound method BatchNormalization.call of <tensorflow.python.layers.normalization.BatchNormalization object at 0x0000022ACCB71B38>> could not be transformed and will be executed as-is. Please report this to the AutgoGraph team. When filing the bug, set the verbosity to 10 (on Linux, `export AUTOGRAPH_VERBOSITY=10`) and attach the full output. Cause: converting <bound method BatchNormalization.call of <tensorflow.python.layers.normalization.BatchNormalization object at 0x0000022ACCB71B38>>: AssertionError: Bad argument number for Name: 3, expecting 4\n",
      "WARNING: Entity <bound method Conv.call of <tensorflow.python.layers.convolutional.Conv2D object at 0x0000022ACCEF6C50>> could not be transformed and will be executed as-is. Please report this to the AutgoGraph team. When filing the bug, set the verbosity to 10 (on Linux, `export AUTOGRAPH_VERBOSITY=10`) and attach the full output. Cause: converting <bound method Conv.call of <tensorflow.python.layers.convolutional.Conv2D object at 0x0000022ACCEF6C50>>: AssertionError: Bad argument number for Name: 3, expecting 4\n",
      "WARNING: Entity <bound method BatchNormalization.call of <tensorflow.python.layers.normalization.BatchNormalization object at 0x0000022ACCBF64E0>> could not be transformed and will be executed as-is. Please report this to the AutgoGraph team. When filing the bug, set the verbosity to 10 (on Linux, `export AUTOGRAPH_VERBOSITY=10`) and attach the full output. Cause: converting <bound method BatchNormalization.call of <tensorflow.python.layers.normalization.BatchNormalization object at 0x0000022ACCBF64E0>>: AssertionError: Bad argument number for Name: 3, expecting 4\n",
      "WARNING: Entity <bound method Conv.call of <tensorflow.python.layers.convolutional.Conv2D object at 0x0000022ACCF85FD0>> could not be transformed and will be executed as-is. Please report this to the AutgoGraph team. When filing the bug, set the verbosity to 10 (on Linux, `export AUTOGRAPH_VERBOSITY=10`) and attach the full output. Cause: converting <bound method Conv.call of <tensorflow.python.layers.convolutional.Conv2D object at 0x0000022ACCF85FD0>>: AssertionError: Bad argument number for Name: 3, expecting 4\n",
      "WARNING: Entity <bound method BatchNormalization.call of <tensorflow.python.layers.normalization.BatchNormalization object at 0x0000022ACCBF6D30>> could not be transformed and will be executed as-is. Please report this to the AutgoGraph team. When filing the bug, set the verbosity to 10 (on Linux, `export AUTOGRAPH_VERBOSITY=10`) and attach the full output. Cause: converting <bound method BatchNormalization.call of <tensorflow.python.layers.normalization.BatchNormalization object at 0x0000022ACCBF6D30>>: AssertionError: Bad argument number for Name: 3, expecting 4\n",
      "WARNING: Entity <bound method Conv.call of <tensorflow.python.layers.convolutional.Conv2D object at 0x0000022ACCF85240>> could not be transformed and will be executed as-is. Please report this to the AutgoGraph team. When filing the bug, set the verbosity to 10 (on Linux, `export AUTOGRAPH_VERBOSITY=10`) and attach the full output. Cause: converting <bound method Conv.call of <tensorflow.python.layers.convolutional.Conv2D object at 0x0000022ACCF85240>>: AssertionError: Bad argument number for Name: 3, expecting 4\n",
      "WARNING: Entity <bound method BatchNormalization.call of <tensorflow.python.layers.normalization.BatchNormalization object at 0x0000022ACCE51E80>> could not be transformed and will be executed as-is. Please report this to the AutgoGraph team. When filing the bug, set the verbosity to 10 (on Linux, `export AUTOGRAPH_VERBOSITY=10`) and attach the full output. Cause: converting <bound method BatchNormalization.call of <tensorflow.python.layers.normalization.BatchNormalization object at 0x0000022ACCE51E80>>: AssertionError: Bad argument number for Name: 3, expecting 4\n",
      "WARNING: Entity <bound method Conv.call of <tensorflow.python.layers.convolutional.Conv2D object at 0x0000022ACCF85240>> could not be transformed and will be executed as-is. Please report this to the AutgoGraph team. When filing the bug, set the verbosity to 10 (on Linux, `export AUTOGRAPH_VERBOSITY=10`) and attach the full output. Cause: converting <bound method Conv.call of <tensorflow.python.layers.convolutional.Conv2D object at 0x0000022ACCF85240>>: AssertionError: Bad argument number for Name: 3, expecting 4\n",
      "WARNING: Entity <bound method BatchNormalization.call of <tensorflow.python.layers.normalization.BatchNormalization object at 0x0000022ACD0B6400>> could not be transformed and will be executed as-is. Please report this to the AutgoGraph team. When filing the bug, set the verbosity to 10 (on Linux, `export AUTOGRAPH_VERBOSITY=10`) and attach the full output. Cause: converting <bound method BatchNormalization.call of <tensorflow.python.layers.normalization.BatchNormalization object at 0x0000022ACD0B6400>>: AssertionError: Bad argument number for Name: 3, expecting 4\n",
      "WARNING: Entity <bound method Conv.call of <tensorflow.python.layers.convolutional.Conv2D object at 0x0000022ACD0EE390>> could not be transformed and will be executed as-is. Please report this to the AutgoGraph team. When filing the bug, set the verbosity to 10 (on Linux, `export AUTOGRAPH_VERBOSITY=10`) and attach the full output. Cause: converting <bound method Conv.call of <tensorflow.python.layers.convolutional.Conv2D object at 0x0000022ACD0EE390>>: AssertionError: Bad argument number for Name: 3, expecting 4\n",
      "WARNING: Entity <bound method BatchNormalization.call of <tensorflow.python.layers.normalization.BatchNormalization object at 0x0000022ACD3119B0>> could not be transformed and will be executed as-is. Please report this to the AutgoGraph team. When filing the bug, set the verbosity to 10 (on Linux, `export AUTOGRAPH_VERBOSITY=10`) and attach the full output. Cause: converting <bound method BatchNormalization.call of <tensorflow.python.layers.normalization.BatchNormalization object at 0x0000022ACD3119B0>>: AssertionError: Bad argument number for Name: 3, expecting 4\n",
      "WARNING: Entity <bound method Conv.call of <tensorflow.python.layers.convolutional.Conv2D object at 0x0000022ACCF85240>> could not be transformed and will be executed as-is. Please report this to the AutgoGraph team. When filing the bug, set the verbosity to 10 (on Linux, `export AUTOGRAPH_VERBOSITY=10`) and attach the full output. Cause: converting <bound method Conv.call of <tensorflow.python.layers.convolutional.Conv2D object at 0x0000022ACCF85240>>: AssertionError: Bad argument number for Name: 3, expecting 4\n",
      "WARNING: Entity <bound method BatchNormalization.call of <tensorflow.python.layers.normalization.BatchNormalization object at 0x0000022ACD2BE240>> could not be transformed and will be executed as-is. Please report this to the AutgoGraph team. When filing the bug, set the verbosity to 10 (on Linux, `export AUTOGRAPH_VERBOSITY=10`) and attach the full output. Cause: converting <bound method BatchNormalization.call of <tensorflow.python.layers.normalization.BatchNormalization object at 0x0000022ACD2BE240>>: AssertionError: Bad argument number for Name: 3, expecting 4\n",
      "WARNING: Entity <bound method Conv2DTranspose.call of <tensorflow.python.layers.convolutional.Conv2DTranspose object at 0x0000022ACBB86F98>> could not be transformed and will be executed as-is. Please report this to the AutgoGraph team. When filing the bug, set the verbosity to 10 (on Linux, `export AUTOGRAPH_VERBOSITY=10`) and attach the full output. Cause: converting <bound method Conv2DTranspose.call of <tensorflow.python.layers.convolutional.Conv2DTranspose object at 0x0000022ACBB86F98>>: AttributeError: module 'gast' has no attribute 'Index'\n",
      "WARNING: Entity <bound method Conv2DTranspose.call of <tensorflow.python.layers.convolutional.Conv2DTranspose object at 0x0000022ACD37DAC8>> could not be transformed and will be executed as-is. Please report this to the AutgoGraph team. When filing the bug, set the verbosity to 10 (on Linux, `export AUTOGRAPH_VERBOSITY=10`) and attach the full output. Cause: converting <bound method Conv2DTranspose.call of <tensorflow.python.layers.convolutional.Conv2DTranspose object at 0x0000022ACD37DAC8>>: AttributeError: module 'gast' has no attribute 'Index'\n"
     ]
    },
    {
     "name": "stderr",
     "output_type": "stream",
     "text": [
      "\r",
      "  0%|                                                                                           | 0/90 [00:00<?, ?it/s]"
     ]
    },
    {
     "name": "stdout",
     "output_type": "stream",
     "text": [
      "Starting to analyze %  F:\\MysoreData\\nbk\\mouseVideoAnalysis\\Box1\\cam2\\test_labels\\camera-2_clip-0.avi\n",
      "F:\\MysoreData\\nbk\\mouseVideoAnalysis\\Box1\\cam2\\test_labels  already exists!\n",
      "Loading  F:\\MysoreData\\nbk\\mouseVideoAnalysis\\Box1\\cam2\\test_labels\\camera-2_clip-0.avi\n",
      "Duration of video [s]:  3.0 , recorded with  30.0 fps!\n",
      "Overall # of frames:  90  found with (before cropping) frame dimensions:  720 720\n",
      "Starting to extract posture\n"
     ]
    },
    {
     "name": "stderr",
     "output_type": "stream",
     "text": [
      "100it [00:08, 11.78it/s]                                                                                               \n"
     ]
    },
    {
     "name": "stdout",
     "output_type": "stream",
     "text": [
      "Saving results in F:\\MysoreData\\nbk\\mouseVideoAnalysis\\Box1\\cam2\\test_labels...\n",
      "Starting to analyze %  F:\\MysoreData\\nbk\\mouseVideoAnalysis\\Box1\\cam2\\test_labels\\camera-2_clip-1.avi\n",
      "F:\\MysoreData\\nbk\\mouseVideoAnalysis\\Box1\\cam2\\test_labels  already exists!\n",
      "Loading  F:\\MysoreData\\nbk\\mouseVideoAnalysis\\Box1\\cam2\\test_labels\\camera-2_clip-1.avi\n",
      "Duration of video [s]: "
     ]
    },
    {
     "name": "stderr",
     "output_type": "stream",
     "text": [
      "100it [00:03, 31.47it/s]                                                                                               \n",
      "  0%|                                                                                           | 0/90 [00:00<?, ?it/s]"
     ]
    },
    {
     "name": "stdout",
     "output_type": "stream",
     "text": [
      " 3.0 , recorded with  30.0 fps!\n",
      "Overall # of frames:  90  found with (before cropping) frame dimensions:  720 720\n",
      "Starting to extract posture\n",
      "Saving results in F:\\MysoreData\\nbk\\mouseVideoAnalysis\\Box1\\cam2\\test_labels...\n",
      "Starting to analyze %  F:\\MysoreData\\nbk\\mouseVideoAnalysis\\Box1\\cam2\\test_labels\\camera-2_clip-10.avi\n",
      "F:\\MysoreData\\nbk\\mouseVideoAnalysis\\Box1\\cam2\\test_labels  already exists!\n",
      "Loading  F:\\MysoreData\\nbk\\mouseVideoAnalysis\\Box1\\cam2\\test_labels\\camera-2_clip-10.avi\n",
      "Duration of video [s]:  3.0 , recorded with  30.0 fps!\n",
      "Overall # of frames:  90  found with (before cropping) frame dimensions:  720 720\n",
      "Starting to extract posture\n"
     ]
    },
    {
     "name": "stderr",
     "output_type": "stream",
     "text": [
      "100it [00:03, 32.64it/s]                                                                                               \n",
      "  0%|                                                                                           | 0/90 [00:00<?, ?it/s]"
     ]
    },
    {
     "name": "stdout",
     "output_type": "stream",
     "text": [
      "Saving results in F:\\MysoreData\\nbk\\mouseVideoAnalysis\\Box1\\cam2\\test_labels...\n",
      "Starting to analyze %  F:\\MysoreData\\nbk\\mouseVideoAnalysis\\Box1\\cam2\\test_labels\\camera-2_clip-100.avi\n",
      "F:\\MysoreData\\nbk\\mouseVideoAnalysis\\Box1\\cam2\\test_labels  already exists!\n",
      "Loading  F:\\MysoreData\\nbk\\mouseVideoAnalysis\\Box1\\cam2\\test_labels\\camera-2_clip-100.avi\n",
      "Duration of video [s]:  3.0 , recorded with  30.0 fps!\n",
      "Overall # of frames:  90  found with (before cropping) frame dimensions:  720 720\n",
      "Starting to extract posture\n"
     ]
    },
    {
     "name": "stderr",
     "output_type": "stream",
     "text": [
      "100it [00:02, 33.64it/s]                                                                                               \n",
      "  0%|                                                                                           | 0/90 [00:00<?, ?it/s]"
     ]
    },
    {
     "name": "stdout",
     "output_type": "stream",
     "text": [
      "Saving results in F:\\MysoreData\\nbk\\mouseVideoAnalysis\\Box1\\cam2\\test_labels...\n",
      "Starting to analyze %  F:\\MysoreData\\nbk\\mouseVideoAnalysis\\Box1\\cam2\\test_labels\\camera-2_clip-101.avi\n",
      "F:\\MysoreData\\nbk\\mouseVideoAnalysis\\Box1\\cam2\\test_labels  already exists!\n",
      "Loading  F:\\MysoreData\\nbk\\mouseVideoAnalysis\\Box1\\cam2\\test_labels\\camera-2_clip-101.avi\n",
      "Duration of video [s]:  3.0 , recorded with  30.0 fps!\n",
      "Overall # of frames:  90  found with (before cropping) frame dimensions:  720 720\n",
      "Starting to extract posture\n"
     ]
    },
    {
     "name": "stderr",
     "output_type": "stream",
     "text": [
      "100it [00:02, 33.75it/s]                                                                                               \n",
      "  0%|                                                                                           | 0/90 [00:00<?, ?it/s]"
     ]
    },
    {
     "name": "stdout",
     "output_type": "stream",
     "text": [
      "Saving results in F:\\MysoreData\\nbk\\mouseVideoAnalysis\\Box1\\cam2\\test_labels...\n",
      "Starting to analyze %  F:\\MysoreData\\nbk\\mouseVideoAnalysis\\Box1\\cam2\\test_labels\\camera-2_clip-102.avi\n",
      "F:\\MysoreData\\nbk\\mouseVideoAnalysis\\Box1\\cam2\\test_labels  already exists!\n",
      "Loading  F:\\MysoreData\\nbk\\mouseVideoAnalysis\\Box1\\cam2\\test_labels\\camera-2_clip-102.avi\n",
      "Duration of video [s]:  3.0 , recorded with  30.0 fps!\n",
      "Overall # of frames:  90  found with (before cropping) frame dimensions:  720 720\n",
      "Starting to extract posture\n"
     ]
    },
    {
     "name": "stderr",
     "output_type": "stream",
     "text": [
      "100it [00:02, 33.89it/s]                                                                                               \n",
      "  0%|                                                                                           | 0/90 [00:00<?, ?it/s]"
     ]
    },
    {
     "name": "stdout",
     "output_type": "stream",
     "text": [
      "Saving results in F:\\MysoreData\\nbk\\mouseVideoAnalysis\\Box1\\cam2\\test_labels...\n",
      "Starting to analyze %  F:\\MysoreData\\nbk\\mouseVideoAnalysis\\Box1\\cam2\\test_labels\\camera-2_clip-103.avi\n",
      "F:\\MysoreData\\nbk\\mouseVideoAnalysis\\Box1\\cam2\\test_labels  already exists!\n",
      "Loading  F:\\MysoreData\\nbk\\mouseVideoAnalysis\\Box1\\cam2\\test_labels\\camera-2_clip-103.avi\n",
      "Duration of video [s]:  3.0 , recorded with  30.0 fps!\n",
      "Overall # of frames:  90  found with (before cropping) frame dimensions:  720 720\n",
      "Starting to extract posture\n"
     ]
    },
    {
     "name": "stderr",
     "output_type": "stream",
     "text": [
      "100it [00:02, 33.68it/s]                                                                                               \n",
      "  0%|                                                                                           | 0/90 [00:00<?, ?it/s]"
     ]
    },
    {
     "name": "stdout",
     "output_type": "stream",
     "text": [
      "Saving results in F:\\MysoreData\\nbk\\mouseVideoAnalysis\\Box1\\cam2\\test_labels...\n",
      "Starting to analyze %  F:\\MysoreData\\nbk\\mouseVideoAnalysis\\Box1\\cam2\\test_labels\\camera-2_clip-104.avi\n",
      "F:\\MysoreData\\nbk\\mouseVideoAnalysis\\Box1\\cam2\\test_labels  already exists!\n",
      "Loading  F:\\MysoreData\\nbk\\mouseVideoAnalysis\\Box1\\cam2\\test_labels\\camera-2_clip-104.avi\n",
      "Duration of video [s]:  3.0 , recorded with  30.0 fps!\n",
      "Overall # of frames:  90  found with (before cropping) frame dimensions:  720 720\n",
      "Starting to extract posture\n"
     ]
    },
    {
     "name": "stderr",
     "output_type": "stream",
     "text": [
      "100it [00:03, 27.25it/s]                                                                                               \n",
      "  0%|                                                                                           | 0/90 [00:00<?, ?it/s]"
     ]
    },
    {
     "name": "stdout",
     "output_type": "stream",
     "text": [
      "Saving results in F:\\MysoreData\\nbk\\mouseVideoAnalysis\\Box1\\cam2\\test_labels...\n",
      "Starting to analyze %  F:\\MysoreData\\nbk\\mouseVideoAnalysis\\Box1\\cam2\\test_labels\\camera-2_clip-105.avi\n",
      "F:\\MysoreData\\nbk\\mouseVideoAnalysis\\Box1\\cam2\\test_labels  already exists!\n",
      "Loading  F:\\MysoreData\\nbk\\mouseVideoAnalysis\\Box1\\cam2\\test_labels\\camera-2_clip-105.avi\n",
      "Duration of video [s]:  3.0 , recorded with  30.0 fps!\n",
      "Overall # of frames:  90  found with (before cropping) frame dimensions:  720 720\n",
      "Starting to extract posture\n"
     ]
    },
    {
     "name": "stderr",
     "output_type": "stream",
     "text": [
      "100it [00:02, 33.75it/s]                                                                                               \n",
      "  0%|                                                                                           | 0/90 [00:00<?, ?it/s]"
     ]
    },
    {
     "name": "stdout",
     "output_type": "stream",
     "text": [
      "Saving results in F:\\MysoreData\\nbk\\mouseVideoAnalysis\\Box1\\cam2\\test_labels...\n",
      "Starting to analyze %  F:\\MysoreData\\nbk\\mouseVideoAnalysis\\Box1\\cam2\\test_labels\\camera-2_clip-106.avi\n",
      "F:\\MysoreData\\nbk\\mouseVideoAnalysis\\Box1\\cam2\\test_labels  already exists!\n",
      "Loading  F:\\MysoreData\\nbk\\mouseVideoAnalysis\\Box1\\cam2\\test_labels\\camera-2_clip-106.avi\n",
      "Duration of video [s]:  3.0 , recorded with  30.0 fps!\n",
      "Overall # of frames:  90  found with (before cropping) frame dimensions:  720 720\n",
      "Starting to extract posture\n"
     ]
    },
    {
     "name": "stderr",
     "output_type": "stream",
     "text": [
      "100it [00:02, 33.42it/s]                                                                                               \n",
      "  0%|                                                                                           | 0/90 [00:00<?, ?it/s]"
     ]
    },
    {
     "name": "stdout",
     "output_type": "stream",
     "text": [
      "Saving results in F:\\MysoreData\\nbk\\mouseVideoAnalysis\\Box1\\cam2\\test_labels...\n",
      "Starting to analyze %  F:\\MysoreData\\nbk\\mouseVideoAnalysis\\Box1\\cam2\\test_labels\\camera-2_clip-107.avi\n",
      "F:\\MysoreData\\nbk\\mouseVideoAnalysis\\Box1\\cam2\\test_labels  already exists!\n",
      "Loading  F:\\MysoreData\\nbk\\mouseVideoAnalysis\\Box1\\cam2\\test_labels\\camera-2_clip-107.avi\n",
      "Duration of video [s]:  3.0 , recorded with  30.0 fps!\n",
      "Overall # of frames:  90  found with (before cropping) frame dimensions:  720 720\n",
      "Starting to extract posture\n"
     ]
    },
    {
     "name": "stderr",
     "output_type": "stream",
     "text": [
      "100it [00:02, 34.20it/s]                                                                                               \n",
      "  0%|                                                                                           | 0/90 [00:00<?, ?it/s]"
     ]
    },
    {
     "name": "stdout",
     "output_type": "stream",
     "text": [
      "Saving results in F:\\MysoreData\\nbk\\mouseVideoAnalysis\\Box1\\cam2\\test_labels...\n",
      "Starting to analyze %  F:\\MysoreData\\nbk\\mouseVideoAnalysis\\Box1\\cam2\\test_labels\\camera-2_clip-108.avi\n",
      "F:\\MysoreData\\nbk\\mouseVideoAnalysis\\Box1\\cam2\\test_labels  already exists!\n",
      "Loading  F:\\MysoreData\\nbk\\mouseVideoAnalysis\\Box1\\cam2\\test_labels\\camera-2_clip-108.avi\n",
      "Duration of video [s]:  3.0 , recorded with  30.0 fps!\n",
      "Overall # of frames:  90  found with (before cropping) frame dimensions:  720 720\n",
      "Starting to extract posture\n"
     ]
    },
    {
     "name": "stderr",
     "output_type": "stream",
     "text": [
      "100it [00:02, 34.09it/s]                                                                                               \n",
      "  0%|                                                                                           | 0/90 [00:00<?, ?it/s]"
     ]
    },
    {
     "name": "stdout",
     "output_type": "stream",
     "text": [
      "Saving results in F:\\MysoreData\\nbk\\mouseVideoAnalysis\\Box1\\cam2\\test_labels...\n",
      "Starting to analyze %  F:\\MysoreData\\nbk\\mouseVideoAnalysis\\Box1\\cam2\\test_labels\\camera-2_clip-109.avi\n",
      "F:\\MysoreData\\nbk\\mouseVideoAnalysis\\Box1\\cam2\\test_labels  already exists!\n",
      "Loading  F:\\MysoreData\\nbk\\mouseVideoAnalysis\\Box1\\cam2\\test_labels\\camera-2_clip-109.avi\n",
      "Duration of video [s]:  3.0 , recorded with  30.0 fps!\n",
      "Overall # of frames:  90  found with (before cropping) frame dimensions:  720 720\n",
      "Starting to extract posture\n"
     ]
    },
    {
     "name": "stderr",
     "output_type": "stream",
     "text": [
      "100it [00:02, 34.40it/s]                                                                                               \n",
      "  0%|                                                                                           | 0/90 [00:00<?, ?it/s]"
     ]
    },
    {
     "name": "stdout",
     "output_type": "stream",
     "text": [
      "Saving results in F:\\MysoreData\\nbk\\mouseVideoAnalysis\\Box1\\cam2\\test_labels...\n",
      "Starting to analyze %  F:\\MysoreData\\nbk\\mouseVideoAnalysis\\Box1\\cam2\\test_labels\\camera-2_clip-11.avi\n",
      "F:\\MysoreData\\nbk\\mouseVideoAnalysis\\Box1\\cam2\\test_labels  already exists!\n",
      "Loading  F:\\MysoreData\\nbk\\mouseVideoAnalysis\\Box1\\cam2\\test_labels\\camera-2_clip-11.avi\n",
      "Duration of video [s]:  3.0 , recorded with  30.0 fps!\n",
      "Overall # of frames:  90  found with (before cropping) frame dimensions:  720 720\n",
      "Starting to extract posture\n"
     ]
    },
    {
     "name": "stderr",
     "output_type": "stream",
     "text": [
      "100it [00:02, 33.72it/s]                                                                                               \n",
      "  0%|                                                                                           | 0/90 [00:00<?, ?it/s]"
     ]
    },
    {
     "name": "stdout",
     "output_type": "stream",
     "text": [
      "Saving results in F:\\MysoreData\\nbk\\mouseVideoAnalysis\\Box1\\cam2\\test_labels...\n",
      "Starting to analyze %  F:\\MysoreData\\nbk\\mouseVideoAnalysis\\Box1\\cam2\\test_labels\\camera-2_clip-110.avi\n",
      "F:\\MysoreData\\nbk\\mouseVideoAnalysis\\Box1\\cam2\\test_labels  already exists!\n",
      "Loading  F:\\MysoreData\\nbk\\mouseVideoAnalysis\\Box1\\cam2\\test_labels\\camera-2_clip-110.avi\n",
      "Duration of video [s]:  3.0 , recorded with  30.0 fps!\n",
      "Overall # of frames:  90  found with (before cropping) frame dimensions:  720 720\n",
      "Starting to extract posture\n"
     ]
    },
    {
     "name": "stderr",
     "output_type": "stream",
     "text": [
      "100it [00:02, 34.12it/s]                                                                                               \n",
      "  0%|                                                                                           | 0/90 [00:00<?, ?it/s]"
     ]
    },
    {
     "name": "stdout",
     "output_type": "stream",
     "text": [
      "Saving results in F:\\MysoreData\\nbk\\mouseVideoAnalysis\\Box1\\cam2\\test_labels...\n",
      "Starting to analyze %  F:\\MysoreData\\nbk\\mouseVideoAnalysis\\Box1\\cam2\\test_labels\\camera-2_clip-111.avi\n",
      "F:\\MysoreData\\nbk\\mouseVideoAnalysis\\Box1\\cam2\\test_labels  already exists!\n",
      "Loading  F:\\MysoreData\\nbk\\mouseVideoAnalysis\\Box1\\cam2\\test_labels\\camera-2_clip-111.avi\n",
      "Duration of video [s]:  3.0 , recorded with  30.0 fps!\n",
      "Overall # of frames:  90  found with (before cropping) frame dimensions:  720 720\n",
      "Starting to extract posture\n"
     ]
    },
    {
     "name": "stderr",
     "output_type": "stream",
     "text": [
      "100it [00:03, 30.95it/s]                                                                                               \n",
      "  0%|                                                                                           | 0/90 [00:00<?, ?it/s]"
     ]
    },
    {
     "name": "stdout",
     "output_type": "stream",
     "text": [
      "Saving results in F:\\MysoreData\\nbk\\mouseVideoAnalysis\\Box1\\cam2\\test_labels...\n",
      "Starting to analyze %  F:\\MysoreData\\nbk\\mouseVideoAnalysis\\Box1\\cam2\\test_labels\\camera-2_clip-112.avi\n",
      "F:\\MysoreData\\nbk\\mouseVideoAnalysis\\Box1\\cam2\\test_labels  already exists!\n",
      "Loading  F:\\MysoreData\\nbk\\mouseVideoAnalysis\\Box1\\cam2\\test_labels\\camera-2_clip-112.avi\n",
      "Duration of video [s]:  3.0 , recorded with  30.0 fps!\n",
      "Overall # of frames:  90  found with (before cropping) frame dimensions:  720 720\n",
      "Starting to extract posture\n"
     ]
    },
    {
     "name": "stderr",
     "output_type": "stream",
     "text": [
      "100it [00:03, 29.74it/s]                                                                                               \n",
      "  0%|                                                                                           | 0/90 [00:00<?, ?it/s]"
     ]
    },
    {
     "name": "stdout",
     "output_type": "stream",
     "text": [
      "Saving results in F:\\MysoreData\\nbk\\mouseVideoAnalysis\\Box1\\cam2\\test_labels...\n",
      "Starting to analyze %  F:\\MysoreData\\nbk\\mouseVideoAnalysis\\Box1\\cam2\\test_labels\\camera-2_clip-113.avi\n",
      "F:\\MysoreData\\nbk\\mouseVideoAnalysis\\Box1\\cam2\\test_labels  already exists!\n",
      "Loading  F:\\MysoreData\\nbk\\mouseVideoAnalysis\\Box1\\cam2\\test_labels\\camera-2_clip-113.avi\n",
      "Duration of video [s]:  3.0 , recorded with  30.0 fps!\n",
      "Overall # of frames:  90  found with (before cropping) frame dimensions:  720 720\n",
      "Starting to extract posture\n"
     ]
    },
    {
     "name": "stderr",
     "output_type": "stream",
     "text": [
      "100it [00:02, 34.11it/s]                                                                                               \n",
      "  0%|                                                                                           | 0/90 [00:00<?, ?it/s]"
     ]
    },
    {
     "name": "stdout",
     "output_type": "stream",
     "text": [
      "Saving results in F:\\MysoreData\\nbk\\mouseVideoAnalysis\\Box1\\cam2\\test_labels...\n",
      "Starting to analyze %  F:\\MysoreData\\nbk\\mouseVideoAnalysis\\Box1\\cam2\\test_labels\\camera-2_clip-114.avi\n",
      "F:\\MysoreData\\nbk\\mouseVideoAnalysis\\Box1\\cam2\\test_labels  already exists!\n",
      "Loading  F:\\MysoreData\\nbk\\mouseVideoAnalysis\\Box1\\cam2\\test_labels\\camera-2_clip-114.avi\n",
      "Duration of video [s]:  3.0 , recorded with  30.0 fps!\n",
      "Overall # of frames:  90  found with (before cropping) frame dimensions:  720 720\n",
      "Starting to extract posture\n"
     ]
    },
    {
     "name": "stderr",
     "output_type": "stream",
     "text": [
      "100it [00:02, 34.02it/s]                                                                                               \n",
      "  0%|                                                                                           | 0/90 [00:00<?, ?it/s]"
     ]
    },
    {
     "name": "stdout",
     "output_type": "stream",
     "text": [
      "Saving results in F:\\MysoreData\\nbk\\mouseVideoAnalysis\\Box1\\cam2\\test_labels...\n",
      "Starting to analyze %  F:\\MysoreData\\nbk\\mouseVideoAnalysis\\Box1\\cam2\\test_labels\\camera-2_clip-115.avi\n",
      "F:\\MysoreData\\nbk\\mouseVideoAnalysis\\Box1\\cam2\\test_labels  already exists!\n",
      "Loading  F:\\MysoreData\\nbk\\mouseVideoAnalysis\\Box1\\cam2\\test_labels\\camera-2_clip-115.avi\n",
      "Duration of video [s]:  3.0 , recorded with  30.0 fps!\n",
      "Overall # of frames:  90  found with (before cropping) frame dimensions:  720 720\n",
      "Starting to extract posture\n"
     ]
    },
    {
     "name": "stderr",
     "output_type": "stream",
     "text": [
      "100it [00:02, 34.07it/s]                                                                                               \n",
      "  0%|                                                                                           | 0/90 [00:00<?, ?it/s]"
     ]
    },
    {
     "name": "stdout",
     "output_type": "stream",
     "text": [
      "Saving results in F:\\MysoreData\\nbk\\mouseVideoAnalysis\\Box1\\cam2\\test_labels...\n",
      "Starting to analyze %  F:\\MysoreData\\nbk\\mouseVideoAnalysis\\Box1\\cam2\\test_labels\\camera-2_clip-116.avi\n",
      "F:\\MysoreData\\nbk\\mouseVideoAnalysis\\Box1\\cam2\\test_labels  already exists!\n",
      "Loading  F:\\MysoreData\\nbk\\mouseVideoAnalysis\\Box1\\cam2\\test_labels\\camera-2_clip-116.avi\n",
      "Duration of video [s]:  3.0 , recorded with  30.0 fps!\n",
      "Overall # of frames:  90  found with (before cropping) frame dimensions:  720 720\n",
      "Starting to extract posture\n"
     ]
    },
    {
     "name": "stderr",
     "output_type": "stream",
     "text": [
      "100it [00:02, 34.05it/s]                                                                                               \n",
      "  0%|                                                                                           | 0/90 [00:00<?, ?it/s]"
     ]
    },
    {
     "name": "stdout",
     "output_type": "stream",
     "text": [
      "Saving results in F:\\MysoreData\\nbk\\mouseVideoAnalysis\\Box1\\cam2\\test_labels...\n",
      "Starting to analyze %  F:\\MysoreData\\nbk\\mouseVideoAnalysis\\Box1\\cam2\\test_labels\\camera-2_clip-117.avi\n",
      "F:\\MysoreData\\nbk\\mouseVideoAnalysis\\Box1\\cam2\\test_labels  already exists!\n",
      "Loading  F:\\MysoreData\\nbk\\mouseVideoAnalysis\\Box1\\cam2\\test_labels\\camera-2_clip-117.avi\n",
      "Duration of video [s]:  3.0 , recorded with  30.0 fps!\n",
      "Overall # of frames:  90  found with (before cropping) frame dimensions:  720 720\n",
      "Starting to extract posture\n"
     ]
    },
    {
     "name": "stderr",
     "output_type": "stream",
     "text": [
      "100it [00:02, 34.02it/s]                                                                                               \n",
      "  0%|                                                                                           | 0/90 [00:00<?, ?it/s]"
     ]
    },
    {
     "name": "stdout",
     "output_type": "stream",
     "text": [
      "Saving results in F:\\MysoreData\\nbk\\mouseVideoAnalysis\\Box1\\cam2\\test_labels...\n",
      "Starting to analyze %  F:\\MysoreData\\nbk\\mouseVideoAnalysis\\Box1\\cam2\\test_labels\\camera-2_clip-118.avi\n",
      "F:\\MysoreData\\nbk\\mouseVideoAnalysis\\Box1\\cam2\\test_labels  already exists!\n",
      "Loading  F:\\MysoreData\\nbk\\mouseVideoAnalysis\\Box1\\cam2\\test_labels\\camera-2_clip-118.avi\n",
      "Duration of video [s]:  3.0 , recorded with  30.0 fps!\n",
      "Overall # of frames:  90  found with (before cropping) frame dimensions:  720 720\n",
      "Starting to extract posture\n"
     ]
    },
    {
     "name": "stderr",
     "output_type": "stream",
     "text": [
      "100it [00:02, 33.84it/s]                                                                                               \n",
      "  0%|                                                                                           | 0/90 [00:00<?, ?it/s]"
     ]
    },
    {
     "name": "stdout",
     "output_type": "stream",
     "text": [
      "Saving results in F:\\MysoreData\\nbk\\mouseVideoAnalysis\\Box1\\cam2\\test_labels...\n",
      "Starting to analyze %  F:\\MysoreData\\nbk\\mouseVideoAnalysis\\Box1\\cam2\\test_labels\\camera-2_clip-119.avi\n",
      "F:\\MysoreData\\nbk\\mouseVideoAnalysis\\Box1\\cam2\\test_labels  already exists!\n",
      "Loading  F:\\MysoreData\\nbk\\mouseVideoAnalysis\\Box1\\cam2\\test_labels\\camera-2_clip-119.avi\n",
      "Duration of video [s]:  3.0 , recorded with  30.0 fps!\n",
      "Overall # of frames:  90  found with (before cropping) frame dimensions:  720 720\n",
      "Starting to extract posture\n"
     ]
    },
    {
     "name": "stderr",
     "output_type": "stream",
     "text": [
      "100it [00:02, 34.29it/s]                                                                                               \n",
      "  0%|                                                                                           | 0/90 [00:00<?, ?it/s]"
     ]
    },
    {
     "name": "stdout",
     "output_type": "stream",
     "text": [
      "Saving results in F:\\MysoreData\\nbk\\mouseVideoAnalysis\\Box1\\cam2\\test_labels...\n",
      "Starting to analyze %  F:\\MysoreData\\nbk\\mouseVideoAnalysis\\Box1\\cam2\\test_labels\\camera-2_clip-12.avi\n",
      "F:\\MysoreData\\nbk\\mouseVideoAnalysis\\Box1\\cam2\\test_labels  already exists!\n",
      "Loading  F:\\MysoreData\\nbk\\mouseVideoAnalysis\\Box1\\cam2\\test_labels\\camera-2_clip-12.avi\n",
      "Duration of video [s]:  3.0 , recorded with  30.0 fps!\n",
      "Overall # of frames:  90  found with (before cropping) frame dimensions:  720 720\n",
      "Starting to extract posture\n"
     ]
    },
    {
     "name": "stderr",
     "output_type": "stream",
     "text": [
      "100it [00:03, 30.83it/s]                                                                                               \n",
      "  0%|                                                                                           | 0/90 [00:00<?, ?it/s]"
     ]
    },
    {
     "name": "stdout",
     "output_type": "stream",
     "text": [
      "Saving results in F:\\MysoreData\\nbk\\mouseVideoAnalysis\\Box1\\cam2\\test_labels...\n",
      "Starting to analyze %  F:\\MysoreData\\nbk\\mouseVideoAnalysis\\Box1\\cam2\\test_labels\\camera-2_clip-120.avi\n",
      "F:\\MysoreData\\nbk\\mouseVideoAnalysis\\Box1\\cam2\\test_labels  already exists!\n",
      "Loading  F:\\MysoreData\\nbk\\mouseVideoAnalysis\\Box1\\cam2\\test_labels\\camera-2_clip-120.avi\n",
      "Duration of video [s]:  3.0 , recorded with  30.0 fps!\n",
      "Overall # of frames:  90  found with (before cropping) frame dimensions:  720 720\n",
      "Starting to extract posture\n"
     ]
    },
    {
     "name": "stderr",
     "output_type": "stream",
     "text": [
      "100it [00:03, 26.39it/s]                                                                                               \n",
      "  0%|                                                                                           | 0/90 [00:00<?, ?it/s]"
     ]
    },
    {
     "name": "stdout",
     "output_type": "stream",
     "text": [
      "Saving results in F:\\MysoreData\\nbk\\mouseVideoAnalysis\\Box1\\cam2\\test_labels...\n",
      "Starting to analyze %  F:\\MysoreData\\nbk\\mouseVideoAnalysis\\Box1\\cam2\\test_labels\\camera-2_clip-121.avi\n",
      "F:\\MysoreData\\nbk\\mouseVideoAnalysis\\Box1\\cam2\\test_labels  already exists!\n",
      "Loading  F:\\MysoreData\\nbk\\mouseVideoAnalysis\\Box1\\cam2\\test_labels\\camera-2_clip-121.avi\n",
      "Duration of video [s]:  3.0 , recorded with  30.0 fps!\n",
      "Overall # of frames:  90  found with (before cropping) frame dimensions:  720 720\n",
      "Starting to extract posture\n"
     ]
    },
    {
     "name": "stderr",
     "output_type": "stream",
     "text": [
      "100it [00:03, 29.80it/s]                                                                                               \n",
      "  0%|                                                                                           | 0/90 [00:00<?, ?it/s]"
     ]
    },
    {
     "name": "stdout",
     "output_type": "stream",
     "text": [
      "Saving results in F:\\MysoreData\\nbk\\mouseVideoAnalysis\\Box1\\cam2\\test_labels...\n",
      "Starting to analyze %  F:\\MysoreData\\nbk\\mouseVideoAnalysis\\Box1\\cam2\\test_labels\\camera-2_clip-122.avi\n",
      "F:\\MysoreData\\nbk\\mouseVideoAnalysis\\Box1\\cam2\\test_labels  already exists!\n",
      "Loading  F:\\MysoreData\\nbk\\mouseVideoAnalysis\\Box1\\cam2\\test_labels\\camera-2_clip-122.avi\n",
      "Duration of video [s]:  3.0 , recorded with  30.0 fps!\n",
      "Overall # of frames:  90  found with (before cropping) frame dimensions:  720 720\n",
      "Starting to extract posture\n"
     ]
    },
    {
     "name": "stderr",
     "output_type": "stream",
     "text": [
      "100it [00:03, 26.02it/s]                                                                                               \n",
      "  0%|                                                                                           | 0/90 [00:00<?, ?it/s]"
     ]
    },
    {
     "name": "stdout",
     "output_type": "stream",
     "text": [
      "Saving results in F:\\MysoreData\\nbk\\mouseVideoAnalysis\\Box1\\cam2\\test_labels...\n",
      "Starting to analyze %  F:\\MysoreData\\nbk\\mouseVideoAnalysis\\Box1\\cam2\\test_labels\\camera-2_clip-123.avi\n",
      "F:\\MysoreData\\nbk\\mouseVideoAnalysis\\Box1\\cam2\\test_labels  already exists!\n",
      "Loading  F:\\MysoreData\\nbk\\mouseVideoAnalysis\\Box1\\cam2\\test_labels\\camera-2_clip-123.avi\n",
      "Duration of video [s]:  3.0 , recorded with  30.0 fps!\n",
      "Overall # of frames:  90  found with (before cropping) frame dimensions:  720 720\n",
      "Starting to extract posture\n"
     ]
    },
    {
     "name": "stderr",
     "output_type": "stream",
     "text": [
      "100it [00:02, 33.57it/s]                                                                                               \n",
      "  0%|                                                                                           | 0/90 [00:00<?, ?it/s]"
     ]
    },
    {
     "name": "stdout",
     "output_type": "stream",
     "text": [
      "Saving results in F:\\MysoreData\\nbk\\mouseVideoAnalysis\\Box1\\cam2\\test_labels...\n",
      "Starting to analyze %  F:\\MysoreData\\nbk\\mouseVideoAnalysis\\Box1\\cam2\\test_labels\\camera-2_clip-124.avi\n",
      "F:\\MysoreData\\nbk\\mouseVideoAnalysis\\Box1\\cam2\\test_labels  already exists!\n",
      "Loading  F:\\MysoreData\\nbk\\mouseVideoAnalysis\\Box1\\cam2\\test_labels\\camera-2_clip-124.avi\n",
      "Duration of video [s]:  3.0 , recorded with  30.0 fps!\n",
      "Overall # of frames:  90  found with (before cropping) frame dimensions:  720 720\n",
      "Starting to extract posture\n"
     ]
    },
    {
     "name": "stderr",
     "output_type": "stream",
     "text": [
      "100it [00:02, 34.58it/s]                                                                                               \n",
      "  0%|                                                                                           | 0/90 [00:00<?, ?it/s]"
     ]
    },
    {
     "name": "stdout",
     "output_type": "stream",
     "text": [
      "Saving results in F:\\MysoreData\\nbk\\mouseVideoAnalysis\\Box1\\cam2\\test_labels...\n",
      "Starting to analyze %  F:\\MysoreData\\nbk\\mouseVideoAnalysis\\Box1\\cam2\\test_labels\\camera-2_clip-125.avi\n",
      "F:\\MysoreData\\nbk\\mouseVideoAnalysis\\Box1\\cam2\\test_labels  already exists!\n",
      "Loading  F:\\MysoreData\\nbk\\mouseVideoAnalysis\\Box1\\cam2\\test_labels\\camera-2_clip-125.avi\n",
      "Duration of video [s]:  3.0 , recorded with  30.0 fps!\n",
      "Overall # of frames:  90  found with (before cropping) frame dimensions:  720 720\n",
      "Starting to extract posture\n"
     ]
    },
    {
     "name": "stderr",
     "output_type": "stream",
     "text": [
      "100it [00:02, 34.59it/s]                                                                                               \n",
      "  0%|                                                                                           | 0/90 [00:00<?, ?it/s]"
     ]
    },
    {
     "name": "stdout",
     "output_type": "stream",
     "text": [
      "Saving results in F:\\MysoreData\\nbk\\mouseVideoAnalysis\\Box1\\cam2\\test_labels...\n",
      "Starting to analyze %  F:\\MysoreData\\nbk\\mouseVideoAnalysis\\Box1\\cam2\\test_labels\\camera-2_clip-126.avi\n",
      "F:\\MysoreData\\nbk\\mouseVideoAnalysis\\Box1\\cam2\\test_labels  already exists!\n",
      "Loading  F:\\MysoreData\\nbk\\mouseVideoAnalysis\\Box1\\cam2\\test_labels\\camera-2_clip-126.avi\n",
      "Duration of video [s]:  3.0 , recorded with  30.0 fps!\n",
      "Overall # of frames:  90  found with (before cropping) frame dimensions:  720 720\n",
      "Starting to extract posture\n"
     ]
    },
    {
     "name": "stderr",
     "output_type": "stream",
     "text": [
      "100it [00:02, 34.41it/s]                                                                                               \n",
      "  0%|                                                                                           | 0/90 [00:00<?, ?it/s]"
     ]
    },
    {
     "name": "stdout",
     "output_type": "stream",
     "text": [
      "Saving results in F:\\MysoreData\\nbk\\mouseVideoAnalysis\\Box1\\cam2\\test_labels...\n",
      "Starting to analyze %  F:\\MysoreData\\nbk\\mouseVideoAnalysis\\Box1\\cam2\\test_labels\\camera-2_clip-127.avi\n",
      "F:\\MysoreData\\nbk\\mouseVideoAnalysis\\Box1\\cam2\\test_labels  already exists!\n",
      "Loading  F:\\MysoreData\\nbk\\mouseVideoAnalysis\\Box1\\cam2\\test_labels\\camera-2_clip-127.avi\n",
      "Duration of video [s]:  3.0 , recorded with  30.0 fps!\n",
      "Overall # of frames:  90  found with (before cropping) frame dimensions:  720 720\n",
      "Starting to extract posture\n"
     ]
    },
    {
     "name": "stderr",
     "output_type": "stream",
     "text": [
      "100it [00:02, 34.27it/s]                                                                                               \n",
      "  0%|                                                                                           | 0/90 [00:00<?, ?it/s]"
     ]
    },
    {
     "name": "stdout",
     "output_type": "stream",
     "text": [
      "Saving results in F:\\MysoreData\\nbk\\mouseVideoAnalysis\\Box1\\cam2\\test_labels...\n",
      "Starting to analyze %  F:\\MysoreData\\nbk\\mouseVideoAnalysis\\Box1\\cam2\\test_labels\\camera-2_clip-128.avi\n",
      "F:\\MysoreData\\nbk\\mouseVideoAnalysis\\Box1\\cam2\\test_labels  already exists!\n",
      "Loading  F:\\MysoreData\\nbk\\mouseVideoAnalysis\\Box1\\cam2\\test_labels\\camera-2_clip-128.avi\n",
      "Duration of video [s]:  3.0 , recorded with  30.0 fps!\n",
      "Overall # of frames:  90  found with (before cropping) frame dimensions:  720 720\n",
      "Starting to extract posture\n"
     ]
    },
    {
     "name": "stderr",
     "output_type": "stream",
     "text": [
      "100it [00:03, 32.47it/s]                                                                                               \n",
      "  0%|                                                                                           | 0/90 [00:00<?, ?it/s]"
     ]
    },
    {
     "name": "stdout",
     "output_type": "stream",
     "text": [
      "Saving results in F:\\MysoreData\\nbk\\mouseVideoAnalysis\\Box1\\cam2\\test_labels...\n",
      "Starting to analyze %  F:\\MysoreData\\nbk\\mouseVideoAnalysis\\Box1\\cam2\\test_labels\\camera-2_clip-129.avi\n",
      "F:\\MysoreData\\nbk\\mouseVideoAnalysis\\Box1\\cam2\\test_labels  already exists!\n",
      "Loading  F:\\MysoreData\\nbk\\mouseVideoAnalysis\\Box1\\cam2\\test_labels\\camera-2_clip-129.avi\n",
      "Duration of video [s]:  3.0 , recorded with  30.0 fps!\n",
      "Overall # of frames:  90  found with (before cropping) frame dimensions:  720 720\n",
      "Starting to extract posture\n"
     ]
    },
    {
     "name": "stderr",
     "output_type": "stream",
     "text": [
      "100it [00:03, 29.91it/s]                                                                                               \n",
      "  0%|                                                                                           | 0/90 [00:00<?, ?it/s]"
     ]
    },
    {
     "name": "stdout",
     "output_type": "stream",
     "text": [
      "Saving results in F:\\MysoreData\\nbk\\mouseVideoAnalysis\\Box1\\cam2\\test_labels...\n",
      "Starting to analyze %  F:\\MysoreData\\nbk\\mouseVideoAnalysis\\Box1\\cam2\\test_labels\\camera-2_clip-13.avi\n",
      "F:\\MysoreData\\nbk\\mouseVideoAnalysis\\Box1\\cam2\\test_labels  already exists!\n",
      "Loading  F:\\MysoreData\\nbk\\mouseVideoAnalysis\\Box1\\cam2\\test_labels\\camera-2_clip-13.avi\n",
      "Duration of video [s]:  3.0 , recorded with  30.0 fps!\n",
      "Overall # of frames:  90  found with (before cropping) frame dimensions:  720 720\n",
      "Starting to extract posture\n"
     ]
    },
    {
     "name": "stderr",
     "output_type": "stream",
     "text": [
      "100it [00:03, 30.17it/s]                                                                                               \n",
      "  0%|                                                                                           | 0/90 [00:00<?, ?it/s]"
     ]
    },
    {
     "name": "stdout",
     "output_type": "stream",
     "text": [
      "Saving results in F:\\MysoreData\\nbk\\mouseVideoAnalysis\\Box1\\cam2\\test_labels...\n",
      "Starting to analyze %  F:\\MysoreData\\nbk\\mouseVideoAnalysis\\Box1\\cam2\\test_labels\\camera-2_clip-130.avi\n",
      "F:\\MysoreData\\nbk\\mouseVideoAnalysis\\Box1\\cam2\\test_labels  already exists!\n",
      "Loading  F:\\MysoreData\\nbk\\mouseVideoAnalysis\\Box1\\cam2\\test_labels\\camera-2_clip-130.avi\n",
      "Duration of video [s]:  3.0 , recorded with  30.0 fps!\n",
      "Overall # of frames:  90  found with (before cropping) frame dimensions:  720 720\n",
      "Starting to extract posture\n"
     ]
    },
    {
     "name": "stderr",
     "output_type": "stream",
     "text": [
      "100it [00:03, 29.50it/s]                                                                                               \n",
      "  0%|                                                                                           | 0/90 [00:00<?, ?it/s]"
     ]
    },
    {
     "name": "stdout",
     "output_type": "stream",
     "text": [
      "Saving results in F:\\MysoreData\\nbk\\mouseVideoAnalysis\\Box1\\cam2\\test_labels...\n",
      "Starting to analyze %  F:\\MysoreData\\nbk\\mouseVideoAnalysis\\Box1\\cam2\\test_labels\\camera-2_clip-131.avi\n",
      "F:\\MysoreData\\nbk\\mouseVideoAnalysis\\Box1\\cam2\\test_labels  already exists!\n",
      "Loading  F:\\MysoreData\\nbk\\mouseVideoAnalysis\\Box1\\cam2\\test_labels\\camera-2_clip-131.avi\n",
      "Duration of video [s]:  3.0 , recorded with  30.0 fps!\n",
      "Overall # of frames:  90  found with (before cropping) frame dimensions:  720 720\n",
      "Starting to extract posture\n"
     ]
    },
    {
     "name": "stderr",
     "output_type": "stream",
     "text": [
      "100it [00:03, 31.25it/s]                                                                                               \n",
      "  0%|                                                                                           | 0/90 [00:00<?, ?it/s]"
     ]
    },
    {
     "name": "stdout",
     "output_type": "stream",
     "text": [
      "Saving results in F:\\MysoreData\\nbk\\mouseVideoAnalysis\\Box1\\cam2\\test_labels...\n",
      "Starting to analyze %  F:\\MysoreData\\nbk\\mouseVideoAnalysis\\Box1\\cam2\\test_labels\\camera-2_clip-132.avi\n",
      "F:\\MysoreData\\nbk\\mouseVideoAnalysis\\Box1\\cam2\\test_labels  already exists!\n",
      "Loading  F:\\MysoreData\\nbk\\mouseVideoAnalysis\\Box1\\cam2\\test_labels\\camera-2_clip-132.avi\n",
      "Duration of video [s]:  3.0 , recorded with  30.0 fps!\n",
      "Overall # of frames:  90  found with (before cropping) frame dimensions:  720 720\n",
      "Starting to extract posture\n"
     ]
    },
    {
     "name": "stderr",
     "output_type": "stream",
     "text": [
      "100it [00:03, 30.10it/s]                                                                                               \n",
      "  0%|                                                                                           | 0/90 [00:00<?, ?it/s]"
     ]
    },
    {
     "name": "stdout",
     "output_type": "stream",
     "text": [
      "Saving results in F:\\MysoreData\\nbk\\mouseVideoAnalysis\\Box1\\cam2\\test_labels...\n",
      "Starting to analyze %  F:\\MysoreData\\nbk\\mouseVideoAnalysis\\Box1\\cam2\\test_labels\\camera-2_clip-133.avi\n",
      "F:\\MysoreData\\nbk\\mouseVideoAnalysis\\Box1\\cam2\\test_labels  already exists!\n",
      "Loading  F:\\MysoreData\\nbk\\mouseVideoAnalysis\\Box1\\cam2\\test_labels\\camera-2_clip-133.avi\n",
      "Duration of video [s]:  3.0 , recorded with  30.0 fps!\n",
      "Overall # of frames:  90  found with (before cropping) frame dimensions:  720 720\n",
      "Starting to extract posture\n"
     ]
    },
    {
     "name": "stderr",
     "output_type": "stream",
     "text": [
      "100it [00:03, 30.87it/s]                                                                                               \n",
      "  0%|                                                                                           | 0/90 [00:00<?, ?it/s]"
     ]
    },
    {
     "name": "stdout",
     "output_type": "stream",
     "text": [
      "Saving results in F:\\MysoreData\\nbk\\mouseVideoAnalysis\\Box1\\cam2\\test_labels...\n",
      "Starting to analyze %  F:\\MysoreData\\nbk\\mouseVideoAnalysis\\Box1\\cam2\\test_labels\\camera-2_clip-134.avi\n",
      "F:\\MysoreData\\nbk\\mouseVideoAnalysis\\Box1\\cam2\\test_labels  already exists!\n",
      "Loading  F:\\MysoreData\\nbk\\mouseVideoAnalysis\\Box1\\cam2\\test_labels\\camera-2_clip-134.avi\n",
      "Duration of video [s]:  3.0 , recorded with  30.0 fps!\n",
      "Overall # of frames:  90  found with (before cropping) frame dimensions:  720 720\n",
      "Starting to extract posture\n"
     ]
    },
    {
     "name": "stderr",
     "output_type": "stream",
     "text": [
      "100it [00:03, 33.32it/s]                                                                                               \n",
      "  0%|                                                                                           | 0/90 [00:00<?, ?it/s]"
     ]
    },
    {
     "name": "stdout",
     "output_type": "stream",
     "text": [
      "Saving results in F:\\MysoreData\\nbk\\mouseVideoAnalysis\\Box1\\cam2\\test_labels...\n",
      "Starting to analyze %  F:\\MysoreData\\nbk\\mouseVideoAnalysis\\Box1\\cam2\\test_labels\\camera-2_clip-135.avi\n",
      "F:\\MysoreData\\nbk\\mouseVideoAnalysis\\Box1\\cam2\\test_labels  already exists!\n",
      "Loading  F:\\MysoreData\\nbk\\mouseVideoAnalysis\\Box1\\cam2\\test_labels\\camera-2_clip-135.avi\n",
      "Duration of video [s]:  3.0 , recorded with  30.0 fps!\n",
      "Overall # of frames:  90  found with (before cropping) frame dimensions:  720 720\n",
      "Starting to extract posture\n"
     ]
    },
    {
     "name": "stderr",
     "output_type": "stream",
     "text": [
      "100it [00:03, 32.44it/s]                                                                                               \n",
      "  0%|                                                                                           | 0/90 [00:00<?, ?it/s]"
     ]
    },
    {
     "name": "stdout",
     "output_type": "stream",
     "text": [
      "Saving results in F:\\MysoreData\\nbk\\mouseVideoAnalysis\\Box1\\cam2\\test_labels...\n",
      "Starting to analyze %  F:\\MysoreData\\nbk\\mouseVideoAnalysis\\Box1\\cam2\\test_labels\\camera-2_clip-136.avi\n",
      "F:\\MysoreData\\nbk\\mouseVideoAnalysis\\Box1\\cam2\\test_labels  already exists!\n",
      "Loading  F:\\MysoreData\\nbk\\mouseVideoAnalysis\\Box1\\cam2\\test_labels\\camera-2_clip-136.avi\n",
      "Duration of video [s]:  3.0 , recorded with  30.0 fps!\n",
      "Overall # of frames:  90  found with (before cropping) frame dimensions:  720 720\n",
      "Starting to extract posture\n"
     ]
    },
    {
     "name": "stderr",
     "output_type": "stream",
     "text": [
      "100it [00:02, 34.16it/s]                                                                                               \n",
      "  0%|                                                                                           | 0/90 [00:00<?, ?it/s]"
     ]
    },
    {
     "name": "stdout",
     "output_type": "stream",
     "text": [
      "Saving results in F:\\MysoreData\\nbk\\mouseVideoAnalysis\\Box1\\cam2\\test_labels...\n",
      "Starting to analyze %  F:\\MysoreData\\nbk\\mouseVideoAnalysis\\Box1\\cam2\\test_labels\\camera-2_clip-137.avi\n",
      "F:\\MysoreData\\nbk\\mouseVideoAnalysis\\Box1\\cam2\\test_labels  already exists!\n",
      "Loading  F:\\MysoreData\\nbk\\mouseVideoAnalysis\\Box1\\cam2\\test_labels\\camera-2_clip-137.avi\n",
      "Duration of video [s]:  3.0 , recorded with  30.0 fps!\n",
      "Overall # of frames:  90  found with (before cropping) frame dimensions:  720 720\n",
      "Starting to extract posture\n"
     ]
    },
    {
     "name": "stderr",
     "output_type": "stream",
     "text": [
      "100it [00:02, 34.26it/s]                                                                                               \n",
      "  0%|                                                                                           | 0/90 [00:00<?, ?it/s]"
     ]
    },
    {
     "name": "stdout",
     "output_type": "stream",
     "text": [
      "Saving results in F:\\MysoreData\\nbk\\mouseVideoAnalysis\\Box1\\cam2\\test_labels...\n",
      "Starting to analyze %  F:\\MysoreData\\nbk\\mouseVideoAnalysis\\Box1\\cam2\\test_labels\\camera-2_clip-138.avi\n",
      "F:\\MysoreData\\nbk\\mouseVideoAnalysis\\Box1\\cam2\\test_labels  already exists!\n",
      "Loading  F:\\MysoreData\\nbk\\mouseVideoAnalysis\\Box1\\cam2\\test_labels\\camera-2_clip-138.avi\n",
      "Duration of video [s]:  3.0 , recorded with  30.0 fps!\n",
      "Overall # of frames:  90  found with (before cropping) frame dimensions:  720 720\n",
      "Starting to extract posture\n"
     ]
    },
    {
     "name": "stderr",
     "output_type": "stream",
     "text": [
      "100it [00:03, 29.61it/s]                                                                                               \n"
     ]
    },
    {
     "name": "stdout",
     "output_type": "stream",
     "text": [
      "Saving results in F:\\MysoreData\\nbk\\mouseVideoAnalysis\\Box1\\cam2\\test_labels...\n",
      "Starting to analyze %  F:\\MysoreData\\nbk\\mouseVideoAnalysis\\Box1\\cam2\\test_labels\\camera-2_clip-139.avi\n",
      "F:\\MysoreData\\nbk\\mouseVideoAnalysis\\Box1\\cam2\\test_labels  already exists!\n",
      "Loading  F:\\MysoreData\\nbk\\mouseVideoAnalysis\\Box1\\cam2\\test_labels\\camera-2_clip-139.avi\n"
     ]
    },
    {
     "name": "stderr",
     "output_type": "stream",
     "text": [
      "\r",
      "  0%|                                                                                           | 0/90 [00:00<?, ?it/s]"
     ]
    },
    {
     "name": "stdout",
     "output_type": "stream",
     "text": [
      "Duration of video [s]:  3.0 , recorded with  30.0 fps!\n",
      "Overall # of frames:  90  found with (before cropping) frame dimensions:  720 720\n",
      "Starting to extract posture\n"
     ]
    },
    {
     "name": "stderr",
     "output_type": "stream",
     "text": [
      "100it [00:03, 31.81it/s]                                                                                               \n",
      "  0%|                                                                                           | 0/90 [00:00<?, ?it/s]"
     ]
    },
    {
     "name": "stdout",
     "output_type": "stream",
     "text": [
      "Saving results in F:\\MysoreData\\nbk\\mouseVideoAnalysis\\Box1\\cam2\\test_labels...\n",
      "Starting to analyze %  F:\\MysoreData\\nbk\\mouseVideoAnalysis\\Box1\\cam2\\test_labels\\camera-2_clip-14.avi\n",
      "F:\\MysoreData\\nbk\\mouseVideoAnalysis\\Box1\\cam2\\test_labels  already exists!\n",
      "Loading  F:\\MysoreData\\nbk\\mouseVideoAnalysis\\Box1\\cam2\\test_labels\\camera-2_clip-14.avi\n",
      "Duration of video [s]:  3.0 , recorded with  30.0 fps!\n",
      "Overall # of frames:  90  found with (before cropping) frame dimensions:  720 720\n",
      "Starting to extract posture\n"
     ]
    },
    {
     "name": "stderr",
     "output_type": "stream",
     "text": [
      "100it [00:02, 34.24it/s]                                                                                               \n",
      "  0%|                                                                                           | 0/90 [00:00<?, ?it/s]"
     ]
    },
    {
     "name": "stdout",
     "output_type": "stream",
     "text": [
      "Saving results in F:\\MysoreData\\nbk\\mouseVideoAnalysis\\Box1\\cam2\\test_labels...\n",
      "Starting to analyze %  F:\\MysoreData\\nbk\\mouseVideoAnalysis\\Box1\\cam2\\test_labels\\camera-2_clip-140.avi\n",
      "F:\\MysoreData\\nbk\\mouseVideoAnalysis\\Box1\\cam2\\test_labels  already exists!\n",
      "Loading  F:\\MysoreData\\nbk\\mouseVideoAnalysis\\Box1\\cam2\\test_labels\\camera-2_clip-140.avi\n",
      "Duration of video [s]:  3.0 , recorded with  30.0 fps!\n",
      "Overall # of frames:  90  found with (before cropping) frame dimensions:  720 720\n",
      "Starting to extract posture\n"
     ]
    },
    {
     "name": "stderr",
     "output_type": "stream",
     "text": [
      "100it [00:02, 34.46it/s]                                                                                               \n",
      "  0%|                                                                                           | 0/90 [00:00<?, ?it/s]"
     ]
    },
    {
     "name": "stdout",
     "output_type": "stream",
     "text": [
      "Saving results in F:\\MysoreData\\nbk\\mouseVideoAnalysis\\Box1\\cam2\\test_labels...\n",
      "Starting to analyze %  F:\\MysoreData\\nbk\\mouseVideoAnalysis\\Box1\\cam2\\test_labels\\camera-2_clip-15.avi\n",
      "F:\\MysoreData\\nbk\\mouseVideoAnalysis\\Box1\\cam2\\test_labels  already exists!\n",
      "Loading  F:\\MysoreData\\nbk\\mouseVideoAnalysis\\Box1\\cam2\\test_labels\\camera-2_clip-15.avi\n",
      "Duration of video [s]:  3.0 , recorded with  30.0 fps!\n",
      "Overall # of frames:  90  found with (before cropping) frame dimensions:  720 720\n",
      "Starting to extract posture\n"
     ]
    },
    {
     "name": "stderr",
     "output_type": "stream",
     "text": [
      "100it [00:02, 34.24it/s]                                                                                               \n",
      "  0%|                                                                                           | 0/90 [00:00<?, ?it/s]"
     ]
    },
    {
     "name": "stdout",
     "output_type": "stream",
     "text": [
      "Saving results in F:\\MysoreData\\nbk\\mouseVideoAnalysis\\Box1\\cam2\\test_labels...\n",
      "Starting to analyze %  F:\\MysoreData\\nbk\\mouseVideoAnalysis\\Box1\\cam2\\test_labels\\camera-2_clip-16.avi\n",
      "F:\\MysoreData\\nbk\\mouseVideoAnalysis\\Box1\\cam2\\test_labels  already exists!\n",
      "Loading  F:\\MysoreData\\nbk\\mouseVideoAnalysis\\Box1\\cam2\\test_labels\\camera-2_clip-16.avi\n",
      "Duration of video [s]:  3.0 , recorded with  30.0 fps!\n",
      "Overall # of frames:  90  found with (before cropping) frame dimensions:  720 720\n",
      "Starting to extract posture\n"
     ]
    },
    {
     "name": "stderr",
     "output_type": "stream",
     "text": [
      "100it [00:02, 34.10it/s]                                                                                               \n",
      "  0%|                                                                                           | 0/90 [00:00<?, ?it/s]"
     ]
    },
    {
     "name": "stdout",
     "output_type": "stream",
     "text": [
      "Saving results in F:\\MysoreData\\nbk\\mouseVideoAnalysis\\Box1\\cam2\\test_labels...\n",
      "Starting to analyze %  F:\\MysoreData\\nbk\\mouseVideoAnalysis\\Box1\\cam2\\test_labels\\camera-2_clip-17.avi\n",
      "F:\\MysoreData\\nbk\\mouseVideoAnalysis\\Box1\\cam2\\test_labels  already exists!\n",
      "Loading  F:\\MysoreData\\nbk\\mouseVideoAnalysis\\Box1\\cam2\\test_labels\\camera-2_clip-17.avi\n",
      "Duration of video [s]:  3.0 , recorded with  30.0 fps!\n",
      "Overall # of frames:  90  found with (before cropping) frame dimensions:  720 720\n",
      "Starting to extract posture\n"
     ]
    },
    {
     "name": "stderr",
     "output_type": "stream",
     "text": [
      "100it [00:02, 34.07it/s]                                                                                               \n",
      "  0%|                                                                                           | 0/90 [00:00<?, ?it/s]"
     ]
    },
    {
     "name": "stdout",
     "output_type": "stream",
     "text": [
      "Saving results in F:\\MysoreData\\nbk\\mouseVideoAnalysis\\Box1\\cam2\\test_labels...\n",
      "Starting to analyze %  F:\\MysoreData\\nbk\\mouseVideoAnalysis\\Box1\\cam2\\test_labels\\camera-2_clip-18.avi\n",
      "F:\\MysoreData\\nbk\\mouseVideoAnalysis\\Box1\\cam2\\test_labels  already exists!\n",
      "Loading  F:\\MysoreData\\nbk\\mouseVideoAnalysis\\Box1\\cam2\\test_labels\\camera-2_clip-18.avi\n",
      "Duration of video [s]:  3.0 , recorded with  30.0 fps!\n",
      "Overall # of frames:  90  found with (before cropping) frame dimensions:  720 720\n",
      "Starting to extract posture\n"
     ]
    },
    {
     "name": "stderr",
     "output_type": "stream",
     "text": [
      "100it [00:02, 33.96it/s]                                                                                               \n",
      "  0%|                                                                                           | 0/90 [00:00<?, ?it/s]"
     ]
    },
    {
     "name": "stdout",
     "output_type": "stream",
     "text": [
      "Saving results in F:\\MysoreData\\nbk\\mouseVideoAnalysis\\Box1\\cam2\\test_labels...\n",
      "Starting to analyze %  F:\\MysoreData\\nbk\\mouseVideoAnalysis\\Box1\\cam2\\test_labels\\camera-2_clip-19.avi\n",
      "F:\\MysoreData\\nbk\\mouseVideoAnalysis\\Box1\\cam2\\test_labels  already exists!\n",
      "Loading  F:\\MysoreData\\nbk\\mouseVideoAnalysis\\Box1\\cam2\\test_labels\\camera-2_clip-19.avi\n",
      "Duration of video [s]:  3.0 , recorded with  30.0 fps!\n",
      "Overall # of frames:  90  found with (before cropping) frame dimensions:  720 720\n",
      "Starting to extract posture\n"
     ]
    },
    {
     "name": "stderr",
     "output_type": "stream",
     "text": [
      "100it [00:03, 30.83it/s]                                                                                               \n"
     ]
    },
    {
     "name": "stdout",
     "output_type": "stream",
     "text": [
      "Saving results in F:\\MysoreData\\nbk\\mouseVideoAnalysis\\Box1\\cam2\\test_labels...\n",
      "Starting to analyze %  F:\\MysoreData\\nbk\\mouseVideoAnalysis\\Box1\\cam2\\test_labels\\camera-2_clip-2.avi\n",
      "F:\\MysoreData\\nbk\\mouseVideoAnalysis\\Box1\\cam2\\test_labels  already exists!\n",
      "Loading  F:\\MysoreData\\nbk\\mouseVideoAnalysis\\Box1\\cam2\\test_labels\\camera-2_clip-2.avi\n"
     ]
    },
    {
     "name": "stderr",
     "output_type": "stream",
     "text": [
      "\r",
      "  0%|                                                                                           | 0/90 [00:00<?, ?it/s]"
     ]
    },
    {
     "name": "stdout",
     "output_type": "stream",
     "text": [
      "Duration of video [s]:  3.0 , recorded with  30.0 fps!\n",
      "Overall # of frames:  90  found with (before cropping) frame dimensions:  720 720\n",
      "Starting to extract posture\n"
     ]
    },
    {
     "name": "stderr",
     "output_type": "stream",
     "text": [
      "100it [00:03, 29.20it/s]                                                                                               \n",
      "  0%|                                                                                           | 0/90 [00:00<?, ?it/s]"
     ]
    },
    {
     "name": "stdout",
     "output_type": "stream",
     "text": [
      "Saving results in F:\\MysoreData\\nbk\\mouseVideoAnalysis\\Box1\\cam2\\test_labels...\n",
      "Starting to analyze %  F:\\MysoreData\\nbk\\mouseVideoAnalysis\\Box1\\cam2\\test_labels\\camera-2_clip-20.avi\n",
      "F:\\MysoreData\\nbk\\mouseVideoAnalysis\\Box1\\cam2\\test_labels  already exists!\n",
      "Loading  F:\\MysoreData\\nbk\\mouseVideoAnalysis\\Box1\\cam2\\test_labels\\camera-2_clip-20.avi\n",
      "Duration of video [s]:  3.0 , recorded with  30.0 fps!\n",
      "Overall # of frames:  90  found with (before cropping) frame dimensions:  720 720\n",
      "Starting to extract posture\n"
     ]
    },
    {
     "name": "stderr",
     "output_type": "stream",
     "text": [
      "100it [00:02, 34.32it/s]                                                                                               \n",
      "  0%|                                                                                           | 0/90 [00:00<?, ?it/s]"
     ]
    },
    {
     "name": "stdout",
     "output_type": "stream",
     "text": [
      "Saving results in F:\\MysoreData\\nbk\\mouseVideoAnalysis\\Box1\\cam2\\test_labels...\n",
      "Starting to analyze %  F:\\MysoreData\\nbk\\mouseVideoAnalysis\\Box1\\cam2\\test_labels\\camera-2_clip-21.avi\n",
      "F:\\MysoreData\\nbk\\mouseVideoAnalysis\\Box1\\cam2\\test_labels  already exists!\n",
      "Loading  F:\\MysoreData\\nbk\\mouseVideoAnalysis\\Box1\\cam2\\test_labels\\camera-2_clip-21.avi\n",
      "Duration of video [s]:  3.0 , recorded with  30.0 fps!\n",
      "Overall # of frames:  90  found with (before cropping) frame dimensions:  720 720\n",
      "Starting to extract posture\n"
     ]
    },
    {
     "name": "stderr",
     "output_type": "stream",
     "text": [
      "100it [00:02, 34.29it/s]                                                                                               \n",
      "  0%|                                                                                           | 0/90 [00:00<?, ?it/s]"
     ]
    },
    {
     "name": "stdout",
     "output_type": "stream",
     "text": [
      "Saving results in F:\\MysoreData\\nbk\\mouseVideoAnalysis\\Box1\\cam2\\test_labels...\n",
      "Starting to analyze %  F:\\MysoreData\\nbk\\mouseVideoAnalysis\\Box1\\cam2\\test_labels\\camera-2_clip-22.avi\n",
      "F:\\MysoreData\\nbk\\mouseVideoAnalysis\\Box1\\cam2\\test_labels  already exists!\n",
      "Loading  F:\\MysoreData\\nbk\\mouseVideoAnalysis\\Box1\\cam2\\test_labels\\camera-2_clip-22.avi\n",
      "Duration of video [s]:  3.0 , recorded with  30.0 fps!\n",
      "Overall # of frames:  90  found with (before cropping) frame dimensions:  720 720\n",
      "Starting to extract posture\n"
     ]
    },
    {
     "name": "stderr",
     "output_type": "stream",
     "text": [
      "100it [00:02, 34.22it/s]                                                                                               \n",
      "  0%|                                                                                           | 0/90 [00:00<?, ?it/s]"
     ]
    },
    {
     "name": "stdout",
     "output_type": "stream",
     "text": [
      "Saving results in F:\\MysoreData\\nbk\\mouseVideoAnalysis\\Box1\\cam2\\test_labels...\n",
      "Starting to analyze %  F:\\MysoreData\\nbk\\mouseVideoAnalysis\\Box1\\cam2\\test_labels\\camera-2_clip-23.avi\n",
      "F:\\MysoreData\\nbk\\mouseVideoAnalysis\\Box1\\cam2\\test_labels  already exists!\n",
      "Loading  F:\\MysoreData\\nbk\\mouseVideoAnalysis\\Box1\\cam2\\test_labels\\camera-2_clip-23.avi\n",
      "Duration of video [s]:  3.0 , recorded with  30.0 fps!\n",
      "Overall # of frames:  90  found with (before cropping) frame dimensions:  720 720\n",
      "Starting to extract posture\n"
     ]
    },
    {
     "name": "stderr",
     "output_type": "stream",
     "text": [
      "100it [00:02, 34.11it/s]                                                                                               \n",
      "  0%|                                                                                           | 0/90 [00:00<?, ?it/s]"
     ]
    },
    {
     "name": "stdout",
     "output_type": "stream",
     "text": [
      "Saving results in F:\\MysoreData\\nbk\\mouseVideoAnalysis\\Box1\\cam2\\test_labels...\n",
      "Starting to analyze %  F:\\MysoreData\\nbk\\mouseVideoAnalysis\\Box1\\cam2\\test_labels\\camera-2_clip-24.avi\n",
      "F:\\MysoreData\\nbk\\mouseVideoAnalysis\\Box1\\cam2\\test_labels  already exists!\n",
      "Loading  F:\\MysoreData\\nbk\\mouseVideoAnalysis\\Box1\\cam2\\test_labels\\camera-2_clip-24.avi\n",
      "Duration of video [s]:  3.0 , recorded with  30.0 fps!\n",
      "Overall # of frames:  90  found with (before cropping) frame dimensions:  720 720\n",
      "Starting to extract posture\n"
     ]
    },
    {
     "name": "stderr",
     "output_type": "stream",
     "text": [
      "100it [00:02, 34.12it/s]                                                                                               \n",
      "  0%|                                                                                           | 0/90 [00:00<?, ?it/s]"
     ]
    },
    {
     "name": "stdout",
     "output_type": "stream",
     "text": [
      "Saving results in F:\\MysoreData\\nbk\\mouseVideoAnalysis\\Box1\\cam2\\test_labels...\n",
      "Starting to analyze %  F:\\MysoreData\\nbk\\mouseVideoAnalysis\\Box1\\cam2\\test_labels\\camera-2_clip-25.avi\n",
      "F:\\MysoreData\\nbk\\mouseVideoAnalysis\\Box1\\cam2\\test_labels  already exists!\n",
      "Loading  F:\\MysoreData\\nbk\\mouseVideoAnalysis\\Box1\\cam2\\test_labels\\camera-2_clip-25.avi\n",
      "Duration of video [s]:  3.0 , recorded with  30.0 fps!\n",
      "Overall # of frames:  90  found with (before cropping) frame dimensions:  720 720\n",
      "Starting to extract posture\n"
     ]
    },
    {
     "name": "stderr",
     "output_type": "stream",
     "text": [
      "100it [00:02, 34.48it/s]                                                                                               \n",
      "  0%|                                                                                           | 0/90 [00:00<?, ?it/s]"
     ]
    },
    {
     "name": "stdout",
     "output_type": "stream",
     "text": [
      "Saving results in F:\\MysoreData\\nbk\\mouseVideoAnalysis\\Box1\\cam2\\test_labels...\n",
      "Starting to analyze %  F:\\MysoreData\\nbk\\mouseVideoAnalysis\\Box1\\cam2\\test_labels\\camera-2_clip-26.avi\n",
      "F:\\MysoreData\\nbk\\mouseVideoAnalysis\\Box1\\cam2\\test_labels  already exists!\n",
      "Loading  F:\\MysoreData\\nbk\\mouseVideoAnalysis\\Box1\\cam2\\test_labels\\camera-2_clip-26.avi\n",
      "Duration of video [s]:  3.0 , recorded with  30.0 fps!\n",
      "Overall # of frames:  90  found with (before cropping) frame dimensions:  720 720\n",
      "Starting to extract posture\n"
     ]
    },
    {
     "name": "stderr",
     "output_type": "stream",
     "text": [
      "100it [00:02, 34.06it/s]                                                                                               \n",
      "  0%|                                                                                           | 0/90 [00:00<?, ?it/s]"
     ]
    },
    {
     "name": "stdout",
     "output_type": "stream",
     "text": [
      "Saving results in F:\\MysoreData\\nbk\\mouseVideoAnalysis\\Box1\\cam2\\test_labels...\n",
      "Starting to analyze %  F:\\MysoreData\\nbk\\mouseVideoAnalysis\\Box1\\cam2\\test_labels\\camera-2_clip-27.avi\n",
      "F:\\MysoreData\\nbk\\mouseVideoAnalysis\\Box1\\cam2\\test_labels  already exists!\n",
      "Loading  F:\\MysoreData\\nbk\\mouseVideoAnalysis\\Box1\\cam2\\test_labels\\camera-2_clip-27.avi\n",
      "Duration of video [s]:  3.0 , recorded with  30.0 fps!\n",
      "Overall # of frames:  90  found with (before cropping) frame dimensions:  720 720\n",
      "Starting to extract posture\n"
     ]
    },
    {
     "name": "stderr",
     "output_type": "stream",
     "text": [
      "100it [00:03, 30.73it/s]                                                                                               \n"
     ]
    },
    {
     "name": "stdout",
     "output_type": "stream",
     "text": [
      "Saving results in F:\\MysoreData\\nbk\\mouseVideoAnalysis\\Box1\\cam2\\test_labels...\n",
      "Starting to analyze %  F:\\MysoreData\\nbk\\mouseVideoAnalysis\\Box1\\cam2\\test_labels\\camera-2_clip-28.avi\n",
      "F:\\MysoreData\\nbk\\mouseVideoAnalysis\\Box1\\cam2\\test_labels  already exists!\n",
      "Loading  F:\\MysoreData\\nbk\\mouseVideoAnalysis\\Box1\\cam2\\test_labels\\camera-2_clip-28.avi\n"
     ]
    },
    {
     "name": "stderr",
     "output_type": "stream",
     "text": [
      "\r",
      "  0%|                                                                                           | 0/90 [00:00<?, ?it/s]"
     ]
    },
    {
     "name": "stdout",
     "output_type": "stream",
     "text": [
      "Duration of video [s]:  3.0 , recorded with  30.0 fps!\n",
      "Overall # of frames:  90  found with (before cropping) frame dimensions:  720 720\n",
      "Starting to extract posture\n"
     ]
    },
    {
     "name": "stderr",
     "output_type": "stream",
     "text": [
      "100it [00:03, 27.22it/s]                                                                                               \n",
      "  0%|                                                                                           | 0/90 [00:00<?, ?it/s]"
     ]
    },
    {
     "name": "stdout",
     "output_type": "stream",
     "text": [
      "Saving results in F:\\MysoreData\\nbk\\mouseVideoAnalysis\\Box1\\cam2\\test_labels...\n",
      "Starting to analyze %  F:\\MysoreData\\nbk\\mouseVideoAnalysis\\Box1\\cam2\\test_labels\\camera-2_clip-29.avi\n",
      "F:\\MysoreData\\nbk\\mouseVideoAnalysis\\Box1\\cam2\\test_labels  already exists!\n",
      "Loading  F:\\MysoreData\\nbk\\mouseVideoAnalysis\\Box1\\cam2\\test_labels\\camera-2_clip-29.avi\n",
      "Duration of video [s]:  3.0 , recorded with  30.0 fps!\n",
      "Overall # of frames:  90  found with (before cropping) frame dimensions:  720 720\n",
      "Starting to extract posture\n"
     ]
    },
    {
     "name": "stderr",
     "output_type": "stream",
     "text": [
      "100it [00:03, 28.19it/s]                                                                                               \n",
      "  0%|                                                                                           | 0/90 [00:00<?, ?it/s]"
     ]
    },
    {
     "name": "stdout",
     "output_type": "stream",
     "text": [
      "Saving results in F:\\MysoreData\\nbk\\mouseVideoAnalysis\\Box1\\cam2\\test_labels...\n",
      "Starting to analyze %  F:\\MysoreData\\nbk\\mouseVideoAnalysis\\Box1\\cam2\\test_labels\\camera-2_clip-3.avi\n",
      "F:\\MysoreData\\nbk\\mouseVideoAnalysis\\Box1\\cam2\\test_labels  already exists!\n",
      "Loading  F:\\MysoreData\\nbk\\mouseVideoAnalysis\\Box1\\cam2\\test_labels\\camera-2_clip-3.avi\n",
      "Duration of video [s]:  3.0 , recorded with  30.0 fps!\n",
      "Overall # of frames:  90  found with (before cropping) frame dimensions:  720 720\n",
      "Starting to extract posture\n"
     ]
    },
    {
     "name": "stderr",
     "output_type": "stream",
     "text": [
      "100it [00:03, 27.81it/s]                                                                                               \n",
      "  0%|                                                                                           | 0/90 [00:00<?, ?it/s]"
     ]
    },
    {
     "name": "stdout",
     "output_type": "stream",
     "text": [
      "Saving results in F:\\MysoreData\\nbk\\mouseVideoAnalysis\\Box1\\cam2\\test_labels...\n",
      "Starting to analyze %  F:\\MysoreData\\nbk\\mouseVideoAnalysis\\Box1\\cam2\\test_labels\\camera-2_clip-30.avi\n",
      "F:\\MysoreData\\nbk\\mouseVideoAnalysis\\Box1\\cam2\\test_labels  already exists!\n",
      "Loading  F:\\MysoreData\\nbk\\mouseVideoAnalysis\\Box1\\cam2\\test_labels\\camera-2_clip-30.avi\n",
      "Duration of video [s]:  3.0 , recorded with  30.0 fps!\n",
      "Overall # of frames:  90  found with (before cropping) frame dimensions:  720 720\n",
      "Starting to extract posture\n"
     ]
    },
    {
     "name": "stderr",
     "output_type": "stream",
     "text": [
      "100it [00:02, 33.97it/s]                                                                                               \n",
      "  0%|                                                                                           | 0/90 [00:00<?, ?it/s]"
     ]
    },
    {
     "name": "stdout",
     "output_type": "stream",
     "text": [
      "Saving results in F:\\MysoreData\\nbk\\mouseVideoAnalysis\\Box1\\cam2\\test_labels...\n",
      "Starting to analyze %  F:\\MysoreData\\nbk\\mouseVideoAnalysis\\Box1\\cam2\\test_labels\\camera-2_clip-31.avi\n",
      "F:\\MysoreData\\nbk\\mouseVideoAnalysis\\Box1\\cam2\\test_labels  already exists!\n",
      "Loading  F:\\MysoreData\\nbk\\mouseVideoAnalysis\\Box1\\cam2\\test_labels\\camera-2_clip-31.avi\n",
      "Duration of video [s]:  3.0 , recorded with  30.0 fps!\n",
      "Overall # of frames:  90  found with (before cropping) frame dimensions:  720 720\n",
      "Starting to extract posture\n"
     ]
    },
    {
     "name": "stderr",
     "output_type": "stream",
     "text": [
      "100it [00:02, 34.58it/s]                                                                                               \n",
      "  0%|                                                                                           | 0/90 [00:00<?, ?it/s]"
     ]
    },
    {
     "name": "stdout",
     "output_type": "stream",
     "text": [
      "Saving results in F:\\MysoreData\\nbk\\mouseVideoAnalysis\\Box1\\cam2\\test_labels...\n",
      "Starting to analyze %  F:\\MysoreData\\nbk\\mouseVideoAnalysis\\Box1\\cam2\\test_labels\\camera-2_clip-32.avi\n",
      "F:\\MysoreData\\nbk\\mouseVideoAnalysis\\Box1\\cam2\\test_labels  already exists!\n",
      "Loading  F:\\MysoreData\\nbk\\mouseVideoAnalysis\\Box1\\cam2\\test_labels\\camera-2_clip-32.avi\n",
      "Duration of video [s]:  3.0 , recorded with  30.0 fps!\n",
      "Overall # of frames:  90  found with (before cropping) frame dimensions:  720 720\n",
      "Starting to extract posture\n"
     ]
    },
    {
     "name": "stderr",
     "output_type": "stream",
     "text": [
      "100it [00:02, 33.91it/s]                                                                                               \n",
      "  0%|                                                                                           | 0/90 [00:00<?, ?it/s]"
     ]
    },
    {
     "name": "stdout",
     "output_type": "stream",
     "text": [
      "Saving results in F:\\MysoreData\\nbk\\mouseVideoAnalysis\\Box1\\cam2\\test_labels...\n",
      "Starting to analyze %  F:\\MysoreData\\nbk\\mouseVideoAnalysis\\Box1\\cam2\\test_labels\\camera-2_clip-33.avi\n",
      "F:\\MysoreData\\nbk\\mouseVideoAnalysis\\Box1\\cam2\\test_labels  already exists!\n",
      "Loading  F:\\MysoreData\\nbk\\mouseVideoAnalysis\\Box1\\cam2\\test_labels\\camera-2_clip-33.avi\n",
      "Duration of video [s]:  3.0 , recorded with  30.0 fps!\n",
      "Overall # of frames:  90  found with (before cropping) frame dimensions:  720 720\n",
      "Starting to extract posture\n"
     ]
    },
    {
     "name": "stderr",
     "output_type": "stream",
     "text": [
      "100it [00:02, 33.91it/s]                                                                                               \n",
      "  0%|                                                                                           | 0/90 [00:00<?, ?it/s]"
     ]
    },
    {
     "name": "stdout",
     "output_type": "stream",
     "text": [
      "Saving results in F:\\MysoreData\\nbk\\mouseVideoAnalysis\\Box1\\cam2\\test_labels...\n",
      "Starting to analyze %  F:\\MysoreData\\nbk\\mouseVideoAnalysis\\Box1\\cam2\\test_labels\\camera-2_clip-34.avi\n",
      "F:\\MysoreData\\nbk\\mouseVideoAnalysis\\Box1\\cam2\\test_labels  already exists!\n",
      "Loading  F:\\MysoreData\\nbk\\mouseVideoAnalysis\\Box1\\cam2\\test_labels\\camera-2_clip-34.avi\n",
      "Duration of video [s]:  3.0 , recorded with  30.0 fps!\n",
      "Overall # of frames:  90  found with (before cropping) frame dimensions:  720 720\n",
      "Starting to extract posture\n"
     ]
    },
    {
     "name": "stderr",
     "output_type": "stream",
     "text": [
      "100it [00:02, 33.99it/s]                                                                                               \n",
      "  0%|                                                                                           | 0/90 [00:00<?, ?it/s]"
     ]
    },
    {
     "name": "stdout",
     "output_type": "stream",
     "text": [
      "Saving results in F:\\MysoreData\\nbk\\mouseVideoAnalysis\\Box1\\cam2\\test_labels...\n",
      "Starting to analyze %  F:\\MysoreData\\nbk\\mouseVideoAnalysis\\Box1\\cam2\\test_labels\\camera-2_clip-35.avi\n",
      "F:\\MysoreData\\nbk\\mouseVideoAnalysis\\Box1\\cam2\\test_labels  already exists!\n",
      "Loading  F:\\MysoreData\\nbk\\mouseVideoAnalysis\\Box1\\cam2\\test_labels\\camera-2_clip-35.avi\n",
      "Duration of video [s]:  3.0 , recorded with  30.0 fps!\n",
      "Overall # of frames:  90  found with (before cropping) frame dimensions:  720 720\n",
      "Starting to extract posture\n"
     ]
    },
    {
     "name": "stderr",
     "output_type": "stream",
     "text": [
      "100it [00:03, 32.18it/s]                                                                                               \n",
      "  0%|                                                                                           | 0/90 [00:00<?, ?it/s]"
     ]
    },
    {
     "name": "stdout",
     "output_type": "stream",
     "text": [
      "Saving results in F:\\MysoreData\\nbk\\mouseVideoAnalysis\\Box1\\cam2\\test_labels...\n",
      "Starting to analyze %  F:\\MysoreData\\nbk\\mouseVideoAnalysis\\Box1\\cam2\\test_labels\\camera-2_clip-36.avi\n",
      "F:\\MysoreData\\nbk\\mouseVideoAnalysis\\Box1\\cam2\\test_labels  already exists!\n",
      "Loading  F:\\MysoreData\\nbk\\mouseVideoAnalysis\\Box1\\cam2\\test_labels\\camera-2_clip-36.avi\n",
      "Duration of video [s]:  3.0 , recorded with  30.0 fps!\n",
      "Overall # of frames:  90  found with (before cropping) frame dimensions:  720 720\n",
      "Starting to extract posture\n"
     ]
    },
    {
     "name": "stderr",
     "output_type": "stream",
     "text": [
      "100it [00:03, 30.41it/s]                                                                                               \n",
      "  0%|                                                                                           | 0/90 [00:00<?, ?it/s]"
     ]
    },
    {
     "name": "stdout",
     "output_type": "stream",
     "text": [
      "Saving results in F:\\MysoreData\\nbk\\mouseVideoAnalysis\\Box1\\cam2\\test_labels...\n",
      "Starting to analyze %  F:\\MysoreData\\nbk\\mouseVideoAnalysis\\Box1\\cam2\\test_labels\\camera-2_clip-37.avi\n",
      "F:\\MysoreData\\nbk\\mouseVideoAnalysis\\Box1\\cam2\\test_labels  already exists!\n",
      "Loading  F:\\MysoreData\\nbk\\mouseVideoAnalysis\\Box1\\cam2\\test_labels\\camera-2_clip-37.avi\n",
      "Duration of video [s]:  3.0 , recorded with  30.0 fps!\n",
      "Overall # of frames:  90  found with (before cropping) frame dimensions:  720 720\n",
      "Starting to extract posture\n"
     ]
    },
    {
     "name": "stderr",
     "output_type": "stream",
     "text": [
      "100it [00:03, 29.56it/s]                                                                                               \n",
      "  0%|                                                                                           | 0/90 [00:00<?, ?it/s]"
     ]
    },
    {
     "name": "stdout",
     "output_type": "stream",
     "text": [
      "Saving results in F:\\MysoreData\\nbk\\mouseVideoAnalysis\\Box1\\cam2\\test_labels...\n",
      "Starting to analyze %  F:\\MysoreData\\nbk\\mouseVideoAnalysis\\Box1\\cam2\\test_labels\\camera-2_clip-38.avi\n",
      "F:\\MysoreData\\nbk\\mouseVideoAnalysis\\Box1\\cam2\\test_labels  already exists!\n",
      "Loading  F:\\MysoreData\\nbk\\mouseVideoAnalysis\\Box1\\cam2\\test_labels\\camera-2_clip-38.avi\n",
      "Duration of video [s]:  3.0 , recorded with  30.0 fps!\n",
      "Overall # of frames:  90  found with (before cropping) frame dimensions:  720 720\n",
      "Starting to extract posture\n"
     ]
    },
    {
     "name": "stderr",
     "output_type": "stream",
     "text": [
      "100it [00:03, 30.35it/s]                                                                                               \n",
      "  0%|                                                                                           | 0/90 [00:00<?, ?it/s]"
     ]
    },
    {
     "name": "stdout",
     "output_type": "stream",
     "text": [
      "Saving results in F:\\MysoreData\\nbk\\mouseVideoAnalysis\\Box1\\cam2\\test_labels...\n",
      "Starting to analyze %  F:\\MysoreData\\nbk\\mouseVideoAnalysis\\Box1\\cam2\\test_labels\\camera-2_clip-39.avi\n",
      "F:\\MysoreData\\nbk\\mouseVideoAnalysis\\Box1\\cam2\\test_labels  already exists!\n",
      "Loading  F:\\MysoreData\\nbk\\mouseVideoAnalysis\\Box1\\cam2\\test_labels\\camera-2_clip-39.avi\n",
      "Duration of video [s]:  3.0 , recorded with  30.0 fps!\n",
      "Overall # of frames:  90  found with (before cropping) frame dimensions:  720 720\n",
      "Starting to extract posture\n"
     ]
    },
    {
     "name": "stderr",
     "output_type": "stream",
     "text": [
      "100it [00:03, 30.33it/s]                                                                                               \n",
      "  0%|                                                                                           | 0/90 [00:00<?, ?it/s]"
     ]
    },
    {
     "name": "stdout",
     "output_type": "stream",
     "text": [
      "Saving results in F:\\MysoreData\\nbk\\mouseVideoAnalysis\\Box1\\cam2\\test_labels...\n",
      "Starting to analyze %  F:\\MysoreData\\nbk\\mouseVideoAnalysis\\Box1\\cam2\\test_labels\\camera-2_clip-4.avi\n",
      "F:\\MysoreData\\nbk\\mouseVideoAnalysis\\Box1\\cam2\\test_labels  already exists!\n",
      "Loading  F:\\MysoreData\\nbk\\mouseVideoAnalysis\\Box1\\cam2\\test_labels\\camera-2_clip-4.avi\n",
      "Duration of video [s]:  3.0 , recorded with  30.0 fps!\n",
      "Overall # of frames:  90  found with (before cropping) frame dimensions:  720 720\n",
      "Starting to extract posture\n"
     ]
    },
    {
     "name": "stderr",
     "output_type": "stream",
     "text": [
      "100it [00:03, 29.19it/s]                                                                                               \n",
      "  0%|                                                                                           | 0/90 [00:00<?, ?it/s]"
     ]
    },
    {
     "name": "stdout",
     "output_type": "stream",
     "text": [
      "Saving results in F:\\MysoreData\\nbk\\mouseVideoAnalysis\\Box1\\cam2\\test_labels...\n",
      "Starting to analyze %  F:\\MysoreData\\nbk\\mouseVideoAnalysis\\Box1\\cam2\\test_labels\\camera-2_clip-40.avi\n",
      "F:\\MysoreData\\nbk\\mouseVideoAnalysis\\Box1\\cam2\\test_labels  already exists!\n",
      "Loading  F:\\MysoreData\\nbk\\mouseVideoAnalysis\\Box1\\cam2\\test_labels\\camera-2_clip-40.avi\n",
      "Duration of video [s]:  3.0 , recorded with  30.0 fps!\n",
      "Overall # of frames:  90  found with (before cropping) frame dimensions:  720 720\n",
      "Starting to extract posture\n"
     ]
    },
    {
     "name": "stderr",
     "output_type": "stream",
     "text": [
      "100it [00:03, 31.87it/s]                                                                                               \n",
      "  0%|                                                                                           | 0/90 [00:00<?, ?it/s]"
     ]
    },
    {
     "name": "stdout",
     "output_type": "stream",
     "text": [
      "Saving results in F:\\MysoreData\\nbk\\mouseVideoAnalysis\\Box1\\cam2\\test_labels...\n",
      "Starting to analyze %  F:\\MysoreData\\nbk\\mouseVideoAnalysis\\Box1\\cam2\\test_labels\\camera-2_clip-41.avi\n",
      "F:\\MysoreData\\nbk\\mouseVideoAnalysis\\Box1\\cam2\\test_labels  already exists!\n",
      "Loading  F:\\MysoreData\\nbk\\mouseVideoAnalysis\\Box1\\cam2\\test_labels\\camera-2_clip-41.avi\n",
      "Duration of video [s]:  3.0 , recorded with  30.0 fps!\n",
      "Overall # of frames:  90  found with (before cropping) frame dimensions:  720 720\n",
      "Starting to extract posture\n"
     ]
    },
    {
     "name": "stderr",
     "output_type": "stream",
     "text": [
      "100it [00:03, 32.51it/s]                                                                                               \n",
      "  0%|                                                                                           | 0/90 [00:00<?, ?it/s]"
     ]
    },
    {
     "name": "stdout",
     "output_type": "stream",
     "text": [
      "Saving results in F:\\MysoreData\\nbk\\mouseVideoAnalysis\\Box1\\cam2\\test_labels...\n",
      "Starting to analyze %  F:\\MysoreData\\nbk\\mouseVideoAnalysis\\Box1\\cam2\\test_labels\\camera-2_clip-42.avi\n",
      "F:\\MysoreData\\nbk\\mouseVideoAnalysis\\Box1\\cam2\\test_labels  already exists!\n",
      "Loading  F:\\MysoreData\\nbk\\mouseVideoAnalysis\\Box1\\cam2\\test_labels\\camera-2_clip-42.avi\n",
      "Duration of video [s]:  3.0 , recorded with  30.0 fps!\n",
      "Overall # of frames:  90  found with (before cropping) frame dimensions:  720 720\n",
      "Starting to extract posture\n"
     ]
    },
    {
     "name": "stderr",
     "output_type": "stream",
     "text": [
      "100it [00:03, 32.30it/s]                                                                                               \n",
      "  0%|                                                                                           | 0/90 [00:00<?, ?it/s]"
     ]
    },
    {
     "name": "stdout",
     "output_type": "stream",
     "text": [
      "Saving results in F:\\MysoreData\\nbk\\mouseVideoAnalysis\\Box1\\cam2\\test_labels...\n",
      "Starting to analyze %  F:\\MysoreData\\nbk\\mouseVideoAnalysis\\Box1\\cam2\\test_labels\\camera-2_clip-43.avi\n",
      "F:\\MysoreData\\nbk\\mouseVideoAnalysis\\Box1\\cam2\\test_labels  already exists!\n",
      "Loading  F:\\MysoreData\\nbk\\mouseVideoAnalysis\\Box1\\cam2\\test_labels\\camera-2_clip-43.avi\n",
      "Duration of video [s]:  3.0 , recorded with  30.0 fps!\n",
      "Overall # of frames:  90  found with (before cropping) frame dimensions:  720 720\n",
      "Starting to extract posture\n"
     ]
    },
    {
     "name": "stderr",
     "output_type": "stream",
     "text": [
      "100it [00:03, 33.18it/s]                                                                                               \n",
      "  0%|                                                                                           | 0/90 [00:00<?, ?it/s]"
     ]
    },
    {
     "name": "stdout",
     "output_type": "stream",
     "text": [
      "Saving results in F:\\MysoreData\\nbk\\mouseVideoAnalysis\\Box1\\cam2\\test_labels...\n",
      "Starting to analyze %  F:\\MysoreData\\nbk\\mouseVideoAnalysis\\Box1\\cam2\\test_labels\\camera-2_clip-44.avi\n",
      "F:\\MysoreData\\nbk\\mouseVideoAnalysis\\Box1\\cam2\\test_labels  already exists!\n",
      "Loading  F:\\MysoreData\\nbk\\mouseVideoAnalysis\\Box1\\cam2\\test_labels\\camera-2_clip-44.avi\n",
      "Duration of video [s]:  3.0 , recorded with  30.0 fps!\n",
      "Overall # of frames:  90  found with (before cropping) frame dimensions:  720 720\n",
      "Starting to extract posture\n"
     ]
    },
    {
     "name": "stderr",
     "output_type": "stream",
     "text": [
      "100it [00:02, 34.07it/s]                                                                                               \n",
      "  0%|                                                                                           | 0/90 [00:00<?, ?it/s]"
     ]
    },
    {
     "name": "stdout",
     "output_type": "stream",
     "text": [
      "Saving results in F:\\MysoreData\\nbk\\mouseVideoAnalysis\\Box1\\cam2\\test_labels...\n",
      "Starting to analyze %  F:\\MysoreData\\nbk\\mouseVideoAnalysis\\Box1\\cam2\\test_labels\\camera-2_clip-45.avi\n",
      "F:\\MysoreData\\nbk\\mouseVideoAnalysis\\Box1\\cam2\\test_labels  already exists!\n",
      "Loading  F:\\MysoreData\\nbk\\mouseVideoAnalysis\\Box1\\cam2\\test_labels\\camera-2_clip-45.avi\n",
      "Duration of video [s]:  3.0 , recorded with  30.0 fps!\n",
      "Overall # of frames:  90  found with (before cropping) frame dimensions:  720 720\n",
      "Starting to extract posture\n"
     ]
    },
    {
     "name": "stderr",
     "output_type": "stream",
     "text": [
      "100it [00:03, 27.89it/s]                                                                                               \n",
      "  0%|                                                                                           | 0/90 [00:00<?, ?it/s]"
     ]
    },
    {
     "name": "stdout",
     "output_type": "stream",
     "text": [
      "Saving results in F:\\MysoreData\\nbk\\mouseVideoAnalysis\\Box1\\cam2\\test_labels...\n",
      "Starting to analyze %  F:\\MysoreData\\nbk\\mouseVideoAnalysis\\Box1\\cam2\\test_labels\\camera-2_clip-46.avi\n",
      "F:\\MysoreData\\nbk\\mouseVideoAnalysis\\Box1\\cam2\\test_labels  already exists!\n",
      "Loading  F:\\MysoreData\\nbk\\mouseVideoAnalysis\\Box1\\cam2\\test_labels\\camera-2_clip-46.avi\n",
      "Duration of video [s]:  3.0 , recorded with  30.0 fps!\n",
      "Overall # of frames:  90  found with (before cropping) frame dimensions:  720 720\n",
      "Starting to extract posture\n"
     ]
    },
    {
     "name": "stderr",
     "output_type": "stream",
     "text": [
      "100it [00:02, 33.92it/s]                                                                                               \n",
      "  0%|                                                                                           | 0/90 [00:00<?, ?it/s]"
     ]
    },
    {
     "name": "stdout",
     "output_type": "stream",
     "text": [
      "Saving results in F:\\MysoreData\\nbk\\mouseVideoAnalysis\\Box1\\cam2\\test_labels...\n",
      "Starting to analyze %  F:\\MysoreData\\nbk\\mouseVideoAnalysis\\Box1\\cam2\\test_labels\\camera-2_clip-47.avi\n",
      "F:\\MysoreData\\nbk\\mouseVideoAnalysis\\Box1\\cam2\\test_labels  already exists!\n",
      "Loading  F:\\MysoreData\\nbk\\mouseVideoAnalysis\\Box1\\cam2\\test_labels\\camera-2_clip-47.avi\n",
      "Duration of video [s]:  3.0 , recorded with  30.0 fps!\n",
      "Overall # of frames:  90  found with (before cropping) frame dimensions:  720 720\n",
      "Starting to extract posture\n"
     ]
    },
    {
     "name": "stderr",
     "output_type": "stream",
     "text": [
      "100it [00:02, 33.74it/s]                                                                                               \n",
      "  0%|                                                                                           | 0/90 [00:00<?, ?it/s]"
     ]
    },
    {
     "name": "stdout",
     "output_type": "stream",
     "text": [
      "Saving results in F:\\MysoreData\\nbk\\mouseVideoAnalysis\\Box1\\cam2\\test_labels...\n",
      "Starting to analyze %  F:\\MysoreData\\nbk\\mouseVideoAnalysis\\Box1\\cam2\\test_labels\\camera-2_clip-48.avi\n",
      "F:\\MysoreData\\nbk\\mouseVideoAnalysis\\Box1\\cam2\\test_labels  already exists!\n",
      "Loading  F:\\MysoreData\\nbk\\mouseVideoAnalysis\\Box1\\cam2\\test_labels\\camera-2_clip-48.avi\n",
      "Duration of video [s]:  3.0 , recorded with  30.0 fps!\n",
      "Overall # of frames:  90  found with (before cropping) frame dimensions:  720 720\n",
      "Starting to extract posture\n"
     ]
    },
    {
     "name": "stderr",
     "output_type": "stream",
     "text": [
      "100it [00:02, 34.05it/s]                                                                                               \n",
      "  0%|                                                                                           | 0/90 [00:00<?, ?it/s]"
     ]
    },
    {
     "name": "stdout",
     "output_type": "stream",
     "text": [
      "Saving results in F:\\MysoreData\\nbk\\mouseVideoAnalysis\\Box1\\cam2\\test_labels...\n",
      "Starting to analyze %  F:\\MysoreData\\nbk\\mouseVideoAnalysis\\Box1\\cam2\\test_labels\\camera-2_clip-49.avi\n",
      "F:\\MysoreData\\nbk\\mouseVideoAnalysis\\Box1\\cam2\\test_labels  already exists!\n",
      "Loading  F:\\MysoreData\\nbk\\mouseVideoAnalysis\\Box1\\cam2\\test_labels\\camera-2_clip-49.avi\n",
      "Duration of video [s]:  3.0 , recorded with  30.0 fps!\n",
      "Overall # of frames:  90  found with (before cropping) frame dimensions:  720 720\n",
      "Starting to extract posture\n"
     ]
    },
    {
     "name": "stderr",
     "output_type": "stream",
     "text": [
      "100it [00:02, 33.79it/s]                                                                                               \n",
      "  0%|                                                                                           | 0/90 [00:00<?, ?it/s]"
     ]
    },
    {
     "name": "stdout",
     "output_type": "stream",
     "text": [
      "Saving results in F:\\MysoreData\\nbk\\mouseVideoAnalysis\\Box1\\cam2\\test_labels...\n",
      "Starting to analyze %  F:\\MysoreData\\nbk\\mouseVideoAnalysis\\Box1\\cam2\\test_labels\\camera-2_clip-5.avi\n",
      "F:\\MysoreData\\nbk\\mouseVideoAnalysis\\Box1\\cam2\\test_labels  already exists!\n",
      "Loading  F:\\MysoreData\\nbk\\mouseVideoAnalysis\\Box1\\cam2\\test_labels\\camera-2_clip-5.avi\n",
      "Duration of video [s]:  3.0 , recorded with  30.0 fps!\n",
      "Overall # of frames:  90  found with (before cropping) frame dimensions:  720 720\n",
      "Starting to extract posture\n"
     ]
    },
    {
     "name": "stderr",
     "output_type": "stream",
     "text": [
      "100it [00:02, 33.94it/s]                                                                                               \n",
      "  0%|                                                                                           | 0/90 [00:00<?, ?it/s]"
     ]
    },
    {
     "name": "stdout",
     "output_type": "stream",
     "text": [
      "Saving results in F:\\MysoreData\\nbk\\mouseVideoAnalysis\\Box1\\cam2\\test_labels...\n",
      "Starting to analyze %  F:\\MysoreData\\nbk\\mouseVideoAnalysis\\Box1\\cam2\\test_labels\\camera-2_clip-50.avi\n",
      "F:\\MysoreData\\nbk\\mouseVideoAnalysis\\Box1\\cam2\\test_labels  already exists!\n",
      "Loading  F:\\MysoreData\\nbk\\mouseVideoAnalysis\\Box1\\cam2\\test_labels\\camera-2_clip-50.avi\n",
      "Duration of video [s]:  3.0 , recorded with  30.0 fps!\n",
      "Overall # of frames:  90  found with (before cropping) frame dimensions:  720 720\n",
      "Starting to extract posture\n"
     ]
    },
    {
     "name": "stderr",
     "output_type": "stream",
     "text": [
      "100it [00:02, 33.92it/s]                                                                                               \n",
      "  0%|                                                                                           | 0/90 [00:00<?, ?it/s]"
     ]
    },
    {
     "name": "stdout",
     "output_type": "stream",
     "text": [
      "Saving results in F:\\MysoreData\\nbk\\mouseVideoAnalysis\\Box1\\cam2\\test_labels...\n",
      "Starting to analyze %  F:\\MysoreData\\nbk\\mouseVideoAnalysis\\Box1\\cam2\\test_labels\\camera-2_clip-51.avi\n",
      "F:\\MysoreData\\nbk\\mouseVideoAnalysis\\Box1\\cam2\\test_labels  already exists!\n",
      "Loading  F:\\MysoreData\\nbk\\mouseVideoAnalysis\\Box1\\cam2\\test_labels\\camera-2_clip-51.avi\n",
      "Duration of video [s]:  3.0 , recorded with  30.0 fps!\n",
      "Overall # of frames:  90  found with (before cropping) frame dimensions:  720 720\n",
      "Starting to extract posture\n"
     ]
    },
    {
     "name": "stderr",
     "output_type": "stream",
     "text": [
      "100it [00:02, 34.02it/s]                                                                                               \n",
      "  0%|                                                                                           | 0/90 [00:00<?, ?it/s]"
     ]
    },
    {
     "name": "stdout",
     "output_type": "stream",
     "text": [
      "Saving results in F:\\MysoreData\\nbk\\mouseVideoAnalysis\\Box1\\cam2\\test_labels...\n",
      "Starting to analyze %  F:\\MysoreData\\nbk\\mouseVideoAnalysis\\Box1\\cam2\\test_labels\\camera-2_clip-52.avi\n",
      "F:\\MysoreData\\nbk\\mouseVideoAnalysis\\Box1\\cam2\\test_labels  already exists!\n",
      "Loading  F:\\MysoreData\\nbk\\mouseVideoAnalysis\\Box1\\cam2\\test_labels\\camera-2_clip-52.avi\n",
      "Duration of video [s]:  3.0 , recorded with  30.0 fps!\n",
      "Overall # of frames:  90  found with (before cropping) frame dimensions:  720 720\n",
      "Starting to extract posture\n"
     ]
    },
    {
     "name": "stderr",
     "output_type": "stream",
     "text": [
      "100it [00:02, 34.03it/s]                                                                                               \n",
      "  0%|                                                                                           | 0/90 [00:00<?, ?it/s]"
     ]
    },
    {
     "name": "stdout",
     "output_type": "stream",
     "text": [
      "Saving results in F:\\MysoreData\\nbk\\mouseVideoAnalysis\\Box1\\cam2\\test_labels...\n",
      "Starting to analyze %  F:\\MysoreData\\nbk\\mouseVideoAnalysis\\Box1\\cam2\\test_labels\\camera-2_clip-53.avi\n",
      "F:\\MysoreData\\nbk\\mouseVideoAnalysis\\Box1\\cam2\\test_labels  already exists!\n",
      "Loading  F:\\MysoreData\\nbk\\mouseVideoAnalysis\\Box1\\cam2\\test_labels\\camera-2_clip-53.avi\n",
      "Duration of video [s]:  3.0 , recorded with  30.0 fps!\n",
      "Overall # of frames:  90  found with (before cropping) frame dimensions:  720 720\n",
      "Starting to extract posture\n"
     ]
    },
    {
     "name": "stderr",
     "output_type": "stream",
     "text": [
      "100it [00:02, 33.81it/s]                                                                                               \n",
      "  0%|                                                                                           | 0/90 [00:00<?, ?it/s]"
     ]
    },
    {
     "name": "stdout",
     "output_type": "stream",
     "text": [
      "Saving results in F:\\MysoreData\\nbk\\mouseVideoAnalysis\\Box1\\cam2\\test_labels...\n",
      "Starting to analyze %  F:\\MysoreData\\nbk\\mouseVideoAnalysis\\Box1\\cam2\\test_labels\\camera-2_clip-54.avi\n",
      "F:\\MysoreData\\nbk\\mouseVideoAnalysis\\Box1\\cam2\\test_labels  already exists!\n",
      "Loading  F:\\MysoreData\\nbk\\mouseVideoAnalysis\\Box1\\cam2\\test_labels\\camera-2_clip-54.avi\n",
      "Duration of video [s]:  3.0 , recorded with  30.0 fps!\n",
      "Overall # of frames:  90  found with (before cropping) frame dimensions:  720 720\n",
      "Starting to extract posture\n"
     ]
    },
    {
     "name": "stderr",
     "output_type": "stream",
     "text": [
      "100it [00:03, 26.58it/s]                                                                                               \n",
      "  0%|                                                                                           | 0/90 [00:00<?, ?it/s]"
     ]
    },
    {
     "name": "stdout",
     "output_type": "stream",
     "text": [
      "Saving results in F:\\MysoreData\\nbk\\mouseVideoAnalysis\\Box1\\cam2\\test_labels...\n",
      "Starting to analyze %  F:\\MysoreData\\nbk\\mouseVideoAnalysis\\Box1\\cam2\\test_labels\\camera-2_clip-55.avi\n",
      "F:\\MysoreData\\nbk\\mouseVideoAnalysis\\Box1\\cam2\\test_labels  already exists!\n",
      "Loading  F:\\MysoreData\\nbk\\mouseVideoAnalysis\\Box1\\cam2\\test_labels\\camera-2_clip-55.avi\n",
      "Duration of video [s]:  3.0 , recorded with  30.0 fps!\n",
      "Overall # of frames:  90  found with (before cropping) frame dimensions:  720 720\n",
      "Starting to extract posture\n"
     ]
    },
    {
     "name": "stderr",
     "output_type": "stream",
     "text": [
      "100it [00:02, 33.87it/s]                                                                                               \n",
      "  0%|                                                                                           | 0/90 [00:00<?, ?it/s]"
     ]
    },
    {
     "name": "stdout",
     "output_type": "stream",
     "text": [
      "Saving results in F:\\MysoreData\\nbk\\mouseVideoAnalysis\\Box1\\cam2\\test_labels...\n",
      "Starting to analyze %  F:\\MysoreData\\nbk\\mouseVideoAnalysis\\Box1\\cam2\\test_labels\\camera-2_clip-56.avi\n",
      "F:\\MysoreData\\nbk\\mouseVideoAnalysis\\Box1\\cam2\\test_labels  already exists!\n",
      "Loading  F:\\MysoreData\\nbk\\mouseVideoAnalysis\\Box1\\cam2\\test_labels\\camera-2_clip-56.avi\n",
      "Duration of video [s]:  3.0 , recorded with  30.0 fps!\n",
      "Overall # of frames:  90  found with (before cropping) frame dimensions:  720 720\n",
      "Starting to extract posture\n"
     ]
    },
    {
     "name": "stderr",
     "output_type": "stream",
     "text": [
      "100it [00:02, 34.10it/s]                                                                                               \n",
      "  0%|                                                                                           | 0/90 [00:00<?, ?it/s]"
     ]
    },
    {
     "name": "stdout",
     "output_type": "stream",
     "text": [
      "Saving results in F:\\MysoreData\\nbk\\mouseVideoAnalysis\\Box1\\cam2\\test_labels...\n",
      "Starting to analyze %  F:\\MysoreData\\nbk\\mouseVideoAnalysis\\Box1\\cam2\\test_labels\\camera-2_clip-57.avi\n",
      "F:\\MysoreData\\nbk\\mouseVideoAnalysis\\Box1\\cam2\\test_labels  already exists!\n",
      "Loading  F:\\MysoreData\\nbk\\mouseVideoAnalysis\\Box1\\cam2\\test_labels\\camera-2_clip-57.avi\n",
      "Duration of video [s]:  3.0 , recorded with  30.0 fps!\n",
      "Overall # of frames:  90  found with (before cropping) frame dimensions:  720 720\n",
      "Starting to extract posture\n"
     ]
    },
    {
     "name": "stderr",
     "output_type": "stream",
     "text": [
      "100it [00:02, 34.14it/s]                                                                                               \n",
      "  0%|                                                                                           | 0/90 [00:00<?, ?it/s]"
     ]
    },
    {
     "name": "stdout",
     "output_type": "stream",
     "text": [
      "Saving results in F:\\MysoreData\\nbk\\mouseVideoAnalysis\\Box1\\cam2\\test_labels...\n",
      "Starting to analyze %  F:\\MysoreData\\nbk\\mouseVideoAnalysis\\Box1\\cam2\\test_labels\\camera-2_clip-58.avi\n",
      "F:\\MysoreData\\nbk\\mouseVideoAnalysis\\Box1\\cam2\\test_labels  already exists!\n",
      "Loading  F:\\MysoreData\\nbk\\mouseVideoAnalysis\\Box1\\cam2\\test_labels\\camera-2_clip-58.avi\n",
      "Duration of video [s]:  3.0 , recorded with  30.0 fps!\n",
      "Overall # of frames:  90  found with (before cropping) frame dimensions:  720 720\n",
      "Starting to extract posture\n"
     ]
    },
    {
     "name": "stderr",
     "output_type": "stream",
     "text": [
      "100it [00:02, 33.75it/s]                                                                                               \n",
      "  0%|                                                                                           | 0/90 [00:00<?, ?it/s]"
     ]
    },
    {
     "name": "stdout",
     "output_type": "stream",
     "text": [
      "Saving results in F:\\MysoreData\\nbk\\mouseVideoAnalysis\\Box1\\cam2\\test_labels...\n",
      "Starting to analyze %  F:\\MysoreData\\nbk\\mouseVideoAnalysis\\Box1\\cam2\\test_labels\\camera-2_clip-59.avi\n",
      "F:\\MysoreData\\nbk\\mouseVideoAnalysis\\Box1\\cam2\\test_labels  already exists!\n",
      "Loading  F:\\MysoreData\\nbk\\mouseVideoAnalysis\\Box1\\cam2\\test_labels\\camera-2_clip-59.avi\n",
      "Duration of video [s]:  3.0 , recorded with  30.0 fps!\n",
      "Overall # of frames:  90  found with (before cropping) frame dimensions:  720 720\n",
      "Starting to extract posture\n"
     ]
    },
    {
     "name": "stderr",
     "output_type": "stream",
     "text": [
      "100it [00:02, 34.48it/s]                                                                                               \n",
      "  0%|                                                                                           | 0/90 [00:00<?, ?it/s]"
     ]
    },
    {
     "name": "stdout",
     "output_type": "stream",
     "text": [
      "Saving results in F:\\MysoreData\\nbk\\mouseVideoAnalysis\\Box1\\cam2\\test_labels...\n",
      "Starting to analyze %  F:\\MysoreData\\nbk\\mouseVideoAnalysis\\Box1\\cam2\\test_labels\\camera-2_clip-6.avi\n",
      "F:\\MysoreData\\nbk\\mouseVideoAnalysis\\Box1\\cam2\\test_labels  already exists!\n",
      "Loading  F:\\MysoreData\\nbk\\mouseVideoAnalysis\\Box1\\cam2\\test_labels\\camera-2_clip-6.avi\n",
      "Duration of video [s]:  3.0 , recorded with  30.0 fps!\n",
      "Overall # of frames:  90  found with (before cropping) frame dimensions:  720 720\n",
      "Starting to extract posture\n"
     ]
    },
    {
     "name": "stderr",
     "output_type": "stream",
     "text": [
      "100it [00:02, 33.66it/s]                                                                                               \n",
      "  0%|                                                                                           | 0/90 [00:00<?, ?it/s]"
     ]
    },
    {
     "name": "stdout",
     "output_type": "stream",
     "text": [
      "Saving results in F:\\MysoreData\\nbk\\mouseVideoAnalysis\\Box1\\cam2\\test_labels...\n",
      "Starting to analyze %  F:\\MysoreData\\nbk\\mouseVideoAnalysis\\Box1\\cam2\\test_labels\\camera-2_clip-60.avi\n",
      "F:\\MysoreData\\nbk\\mouseVideoAnalysis\\Box1\\cam2\\test_labels  already exists!\n",
      "Loading  F:\\MysoreData\\nbk\\mouseVideoAnalysis\\Box1\\cam2\\test_labels\\camera-2_clip-60.avi\n",
      "Duration of video [s]:  3.0 , recorded with  30.0 fps!\n",
      "Overall # of frames:  90  found with (before cropping) frame dimensions:  720 720\n",
      "Starting to extract posture\n"
     ]
    },
    {
     "name": "stderr",
     "output_type": "stream",
     "text": [
      "100it [00:02, 34.25it/s]                                                                                               \n",
      "  0%|                                                                                           | 0/90 [00:00<?, ?it/s]"
     ]
    },
    {
     "name": "stdout",
     "output_type": "stream",
     "text": [
      "Saving results in F:\\MysoreData\\nbk\\mouseVideoAnalysis\\Box1\\cam2\\test_labels...\n",
      "Starting to analyze %  F:\\MysoreData\\nbk\\mouseVideoAnalysis\\Box1\\cam2\\test_labels\\camera-2_clip-61.avi\n",
      "F:\\MysoreData\\nbk\\mouseVideoAnalysis\\Box1\\cam2\\test_labels  already exists!\n",
      "Loading  F:\\MysoreData\\nbk\\mouseVideoAnalysis\\Box1\\cam2\\test_labels\\camera-2_clip-61.avi\n",
      "Duration of video [s]:  3.0 , recorded with  30.0 fps!\n",
      "Overall # of frames:  90  found with (before cropping) frame dimensions:  720 720\n",
      "Starting to extract posture\n"
     ]
    },
    {
     "name": "stderr",
     "output_type": "stream",
     "text": [
      "100it [00:02, 33.58it/s]                                                                                               \n"
     ]
    },
    {
     "name": "stdout",
     "output_type": "stream",
     "text": [
      "Saving results in F:\\MysoreData\\nbk\\mouseVideoAnalysis\\Box1\\cam2\\test_labels...\n",
      "Starting to analyze %  F:\\MysoreData\\nbk\\mouseVideoAnalysis\\Box1\\cam2\\test_labels\\camera-2_clip-62.avi\n",
      "F:\\MysoreData\\nbk\\mouseVideoAnalysis\\Box1\\cam2\\test_labels  already exists!\n",
      "Loading  F:\\MysoreData\\nbk\\mouseVideoAnalysis\\Box1\\cam2\\test_labels\\camera-2_clip-62.avi\n"
     ]
    },
    {
     "name": "stderr",
     "output_type": "stream",
     "text": [
      "\r",
      "  0%|                                                                                           | 0/90 [00:00<?, ?it/s]"
     ]
    },
    {
     "name": "stdout",
     "output_type": "stream",
     "text": [
      "Duration of video [s]:  3.0 , recorded with  30.0 fps!\n",
      "Overall # of frames:  90  found with (before cropping) frame dimensions:  720 720\n",
      "Starting to extract posture\n"
     ]
    },
    {
     "name": "stderr",
     "output_type": "stream",
     "text": [
      "100it [00:04, 24.40it/s]                                                                                               \n",
      "  0%|                                                                                           | 0/90 [00:00<?, ?it/s]"
     ]
    },
    {
     "name": "stdout",
     "output_type": "stream",
     "text": [
      "Saving results in F:\\MysoreData\\nbk\\mouseVideoAnalysis\\Box1\\cam2\\test_labels...\n",
      "Starting to analyze %  F:\\MysoreData\\nbk\\mouseVideoAnalysis\\Box1\\cam2\\test_labels\\camera-2_clip-63.avi\n",
      "F:\\MysoreData\\nbk\\mouseVideoAnalysis\\Box1\\cam2\\test_labels  already exists!\n",
      "Loading  F:\\MysoreData\\nbk\\mouseVideoAnalysis\\Box1\\cam2\\test_labels\\camera-2_clip-63.avi\n",
      "Duration of video [s]:  3.0 , recorded with  30.0 fps!\n",
      "Overall # of frames:  90  found with (before cropping) frame dimensions:  720 720\n",
      "Starting to extract posture\n"
     ]
    },
    {
     "name": "stderr",
     "output_type": "stream",
     "text": [
      "100it [00:03, 30.13it/s]                                                                                               \n",
      "  0%|                                                                                           | 0/90 [00:00<?, ?it/s]"
     ]
    },
    {
     "name": "stdout",
     "output_type": "stream",
     "text": [
      "Saving results in F:\\MysoreData\\nbk\\mouseVideoAnalysis\\Box1\\cam2\\test_labels...\n",
      "Starting to analyze %  F:\\MysoreData\\nbk\\mouseVideoAnalysis\\Box1\\cam2\\test_labels\\camera-2_clip-64.avi\n",
      "F:\\MysoreData\\nbk\\mouseVideoAnalysis\\Box1\\cam2\\test_labels  already exists!\n",
      "Loading  F:\\MysoreData\\nbk\\mouseVideoAnalysis\\Box1\\cam2\\test_labels\\camera-2_clip-64.avi\n",
      "Duration of video [s]:  3.0 , recorded with  30.0 fps!\n",
      "Overall # of frames:  90  found with (before cropping) frame dimensions:  720 720\n",
      "Starting to extract posture\n"
     ]
    },
    {
     "name": "stderr",
     "output_type": "stream",
     "text": [
      "100it [00:03, 26.11it/s]                                                                                               \n",
      "  0%|                                                                                           | 0/90 [00:00<?, ?it/s]"
     ]
    },
    {
     "name": "stdout",
     "output_type": "stream",
     "text": [
      "Saving results in F:\\MysoreData\\nbk\\mouseVideoAnalysis\\Box1\\cam2\\test_labels...\n",
      "Starting to analyze %  F:\\MysoreData\\nbk\\mouseVideoAnalysis\\Box1\\cam2\\test_labels\\camera-2_clip-65.avi\n",
      "F:\\MysoreData\\nbk\\mouseVideoAnalysis\\Box1\\cam2\\test_labels  already exists!\n",
      "Loading  F:\\MysoreData\\nbk\\mouseVideoAnalysis\\Box1\\cam2\\test_labels\\camera-2_clip-65.avi\n",
      "Duration of video [s]:  3.0 , recorded with  30.0 fps!\n",
      "Overall # of frames:  90  found with (before cropping) frame dimensions:  720 720\n",
      "Starting to extract posture\n"
     ]
    },
    {
     "name": "stderr",
     "output_type": "stream",
     "text": [
      "100it [00:03, 33.19it/s]                                                                                               \n",
      "  0%|                                                                                           | 0/90 [00:00<?, ?it/s]"
     ]
    },
    {
     "name": "stdout",
     "output_type": "stream",
     "text": [
      "Saving results in F:\\MysoreData\\nbk\\mouseVideoAnalysis\\Box1\\cam2\\test_labels...\n",
      "Starting to analyze %  F:\\MysoreData\\nbk\\mouseVideoAnalysis\\Box1\\cam2\\test_labels\\camera-2_clip-66.avi\n",
      "F:\\MysoreData\\nbk\\mouseVideoAnalysis\\Box1\\cam2\\test_labels  already exists!\n",
      "Loading  F:\\MysoreData\\nbk\\mouseVideoAnalysis\\Box1\\cam2\\test_labels\\camera-2_clip-66.avi\n",
      "Duration of video [s]:  3.0 , recorded with  30.0 fps!\n",
      "Overall # of frames:  90  found with (before cropping) frame dimensions:  720 720\n",
      "Starting to extract posture\n"
     ]
    },
    {
     "name": "stderr",
     "output_type": "stream",
     "text": [
      "100it [00:02, 33.72it/s]                                                                                               \n",
      "  0%|                                                                                           | 0/90 [00:00<?, ?it/s]"
     ]
    },
    {
     "name": "stdout",
     "output_type": "stream",
     "text": [
      "Saving results in F:\\MysoreData\\nbk\\mouseVideoAnalysis\\Box1\\cam2\\test_labels...\n",
      "Starting to analyze %  F:\\MysoreData\\nbk\\mouseVideoAnalysis\\Box1\\cam2\\test_labels\\camera-2_clip-67.avi\n",
      "F:\\MysoreData\\nbk\\mouseVideoAnalysis\\Box1\\cam2\\test_labels  already exists!\n",
      "Loading  F:\\MysoreData\\nbk\\mouseVideoAnalysis\\Box1\\cam2\\test_labels\\camera-2_clip-67.avi\n",
      "Duration of video [s]:  3.0 , recorded with  30.0 fps!\n",
      "Overall # of frames:  90  found with (before cropping) frame dimensions:  720 720\n",
      "Starting to extract posture\n"
     ]
    },
    {
     "name": "stderr",
     "output_type": "stream",
     "text": [
      "100it [00:02, 33.85it/s]                                                                                               \n",
      "  0%|                                                                                           | 0/90 [00:00<?, ?it/s]"
     ]
    },
    {
     "name": "stdout",
     "output_type": "stream",
     "text": [
      "Saving results in F:\\MysoreData\\nbk\\mouseVideoAnalysis\\Box1\\cam2\\test_labels...\n",
      "Starting to analyze %  F:\\MysoreData\\nbk\\mouseVideoAnalysis\\Box1\\cam2\\test_labels\\camera-2_clip-68.avi\n",
      "F:\\MysoreData\\nbk\\mouseVideoAnalysis\\Box1\\cam2\\test_labels  already exists!\n",
      "Loading  F:\\MysoreData\\nbk\\mouseVideoAnalysis\\Box1\\cam2\\test_labels\\camera-2_clip-68.avi\n",
      "Duration of video [s]:  3.0 , recorded with  30.0 fps!\n",
      "Overall # of frames:  90  found with (before cropping) frame dimensions:  720 720\n",
      "Starting to extract posture\n"
     ]
    },
    {
     "name": "stderr",
     "output_type": "stream",
     "text": [
      "100it [00:02, 33.80it/s]                                                                                               \n",
      "  0%|                                                                                           | 0/90 [00:00<?, ?it/s]"
     ]
    },
    {
     "name": "stdout",
     "output_type": "stream",
     "text": [
      "Saving results in F:\\MysoreData\\nbk\\mouseVideoAnalysis\\Box1\\cam2\\test_labels...\n",
      "Starting to analyze %  F:\\MysoreData\\nbk\\mouseVideoAnalysis\\Box1\\cam2\\test_labels\\camera-2_clip-69.avi\n",
      "F:\\MysoreData\\nbk\\mouseVideoAnalysis\\Box1\\cam2\\test_labels  already exists!\n",
      "Loading  F:\\MysoreData\\nbk\\mouseVideoAnalysis\\Box1\\cam2\\test_labels\\camera-2_clip-69.avi\n",
      "Duration of video [s]:  3.0 , recorded with  30.0 fps!\n",
      "Overall # of frames:  90  found with (before cropping) frame dimensions:  720 720\n",
      "Starting to extract posture\n"
     ]
    },
    {
     "name": "stderr",
     "output_type": "stream",
     "text": [
      "100it [00:02, 33.95it/s]                                                                                               \n",
      "  0%|                                                                                           | 0/90 [00:00<?, ?it/s]"
     ]
    },
    {
     "name": "stdout",
     "output_type": "stream",
     "text": [
      "Saving results in F:\\MysoreData\\nbk\\mouseVideoAnalysis\\Box1\\cam2\\test_labels...\n",
      "Starting to analyze %  F:\\MysoreData\\nbk\\mouseVideoAnalysis\\Box1\\cam2\\test_labels\\camera-2_clip-7.avi\n",
      "F:\\MysoreData\\nbk\\mouseVideoAnalysis\\Box1\\cam2\\test_labels  already exists!\n",
      "Loading  F:\\MysoreData\\nbk\\mouseVideoAnalysis\\Box1\\cam2\\test_labels\\camera-2_clip-7.avi\n",
      "Duration of video [s]:  3.0 , recorded with  30.0 fps!\n",
      "Overall # of frames:  90  found with (before cropping) frame dimensions:  720 720\n",
      "Starting to extract posture\n"
     ]
    },
    {
     "name": "stderr",
     "output_type": "stream",
     "text": [
      "100it [00:03, 31.54it/s]                                                                                               \n",
      "  0%|                                                                                           | 0/90 [00:00<?, ?it/s]"
     ]
    },
    {
     "name": "stdout",
     "output_type": "stream",
     "text": [
      "Saving results in F:\\MysoreData\\nbk\\mouseVideoAnalysis\\Box1\\cam2\\test_labels...\n",
      "Starting to analyze %  F:\\MysoreData\\nbk\\mouseVideoAnalysis\\Box1\\cam2\\test_labels\\camera-2_clip-70.avi\n",
      "F:\\MysoreData\\nbk\\mouseVideoAnalysis\\Box1\\cam2\\test_labels  already exists!\n",
      "Loading  F:\\MysoreData\\nbk\\mouseVideoAnalysis\\Box1\\cam2\\test_labels\\camera-2_clip-70.avi\n",
      "Duration of video [s]:  3.0 , recorded with  30.0 fps!\n",
      "Overall # of frames:  90  found with (before cropping) frame dimensions:  720 720\n",
      "Starting to extract posture\n"
     ]
    },
    {
     "name": "stderr",
     "output_type": "stream",
     "text": [
      "100it [00:03, 29.72it/s]                                                                                               \n",
      "  0%|                                                                                           | 0/90 [00:00<?, ?it/s]"
     ]
    },
    {
     "name": "stdout",
     "output_type": "stream",
     "text": [
      "Saving results in F:\\MysoreData\\nbk\\mouseVideoAnalysis\\Box1\\cam2\\test_labels...\n",
      "Starting to analyze %  F:\\MysoreData\\nbk\\mouseVideoAnalysis\\Box1\\cam2\\test_labels\\camera-2_clip-71.avi\n",
      "F:\\MysoreData\\nbk\\mouseVideoAnalysis\\Box1\\cam2\\test_labels  already exists!\n",
      "Loading  F:\\MysoreData\\nbk\\mouseVideoAnalysis\\Box1\\cam2\\test_labels\\camera-2_clip-71.avi\n",
      "Duration of video [s]:  3.0 , recorded with  30.0 fps!\n",
      "Overall # of frames:  90  found with (before cropping) frame dimensions:  720 720\n",
      "Starting to extract posture\n"
     ]
    },
    {
     "name": "stderr",
     "output_type": "stream",
     "text": [
      "100it [00:03, 29.52it/s]                                                                                               \n",
      "  0%|                                                                                           | 0/90 [00:00<?, ?it/s]"
     ]
    },
    {
     "name": "stdout",
     "output_type": "stream",
     "text": [
      "Saving results in F:\\MysoreData\\nbk\\mouseVideoAnalysis\\Box1\\cam2\\test_labels...\n",
      "Starting to analyze %  F:\\MysoreData\\nbk\\mouseVideoAnalysis\\Box1\\cam2\\test_labels\\camera-2_clip-72.avi\n",
      "F:\\MysoreData\\nbk\\mouseVideoAnalysis\\Box1\\cam2\\test_labels  already exists!\n",
      "Loading  F:\\MysoreData\\nbk\\mouseVideoAnalysis\\Box1\\cam2\\test_labels\\camera-2_clip-72.avi\n",
      "Duration of video [s]:  3.0 , recorded with  30.0 fps!\n",
      "Overall # of frames:  90  found with (before cropping) frame dimensions:  720 720\n",
      "Starting to extract posture\n"
     ]
    },
    {
     "name": "stderr",
     "output_type": "stream",
     "text": [
      "100it [00:03, 31.12it/s]                                                                                               \n",
      "  0%|                                                                                           | 0/90 [00:00<?, ?it/s]"
     ]
    },
    {
     "name": "stdout",
     "output_type": "stream",
     "text": [
      "Saving results in F:\\MysoreData\\nbk\\mouseVideoAnalysis\\Box1\\cam2\\test_labels...\n",
      "Starting to analyze %  F:\\MysoreData\\nbk\\mouseVideoAnalysis\\Box1\\cam2\\test_labels\\camera-2_clip-73.avi\n",
      "F:\\MysoreData\\nbk\\mouseVideoAnalysis\\Box1\\cam2\\test_labels  already exists!\n",
      "Loading  F:\\MysoreData\\nbk\\mouseVideoAnalysis\\Box1\\cam2\\test_labels\\camera-2_clip-73.avi\n",
      "Duration of video [s]:  3.0 , recorded with  30.0 fps!\n",
      "Overall # of frames:  90  found with (before cropping) frame dimensions:  720 720\n",
      "Starting to extract posture\n"
     ]
    },
    {
     "name": "stderr",
     "output_type": "stream",
     "text": [
      "100it [00:03, 30.18it/s]                                                                                               \n",
      "  0%|                                                                                           | 0/90 [00:00<?, ?it/s]"
     ]
    },
    {
     "name": "stdout",
     "output_type": "stream",
     "text": [
      "Saving results in F:\\MysoreData\\nbk\\mouseVideoAnalysis\\Box1\\cam2\\test_labels...\n",
      "Starting to analyze %  F:\\MysoreData\\nbk\\mouseVideoAnalysis\\Box1\\cam2\\test_labels\\camera-2_clip-74.avi\n",
      "F:\\MysoreData\\nbk\\mouseVideoAnalysis\\Box1\\cam2\\test_labels  already exists!\n",
      "Loading  F:\\MysoreData\\nbk\\mouseVideoAnalysis\\Box1\\cam2\\test_labels\\camera-2_clip-74.avi\n",
      "Duration of video [s]:  3.0 , recorded with  30.0 fps!\n",
      "Overall # of frames:  90  found with (before cropping) frame dimensions:  720 720\n",
      "Starting to extract posture\n"
     ]
    },
    {
     "name": "stderr",
     "output_type": "stream",
     "text": [
      "100it [00:03, 29.27it/s]                                                                                               \n",
      "  0%|                                                                                           | 0/90 [00:00<?, ?it/s]"
     ]
    },
    {
     "name": "stdout",
     "output_type": "stream",
     "text": [
      "Saving results in F:\\MysoreData\\nbk\\mouseVideoAnalysis\\Box1\\cam2\\test_labels...\n",
      "Starting to analyze %  F:\\MysoreData\\nbk\\mouseVideoAnalysis\\Box1\\cam2\\test_labels\\camera-2_clip-75.avi\n",
      "F:\\MysoreData\\nbk\\mouseVideoAnalysis\\Box1\\cam2\\test_labels  already exists!\n",
      "Loading  F:\\MysoreData\\nbk\\mouseVideoAnalysis\\Box1\\cam2\\test_labels\\camera-2_clip-75.avi\n",
      "Duration of video [s]:  3.0 , recorded with  30.0 fps!\n",
      "Overall # of frames:  90  found with (before cropping) frame dimensions:  720 720\n",
      "Starting to extract posture\n"
     ]
    },
    {
     "name": "stderr",
     "output_type": "stream",
     "text": [
      "100it [00:03, 32.21it/s]                                                                                               \n",
      "  0%|                                                                                           | 0/90 [00:00<?, ?it/s]"
     ]
    },
    {
     "name": "stdout",
     "output_type": "stream",
     "text": [
      "Saving results in F:\\MysoreData\\nbk\\mouseVideoAnalysis\\Box1\\cam2\\test_labels...\n",
      "Starting to analyze %  F:\\MysoreData\\nbk\\mouseVideoAnalysis\\Box1\\cam2\\test_labels\\camera-2_clip-76.avi\n",
      "F:\\MysoreData\\nbk\\mouseVideoAnalysis\\Box1\\cam2\\test_labels  already exists!\n",
      "Loading  F:\\MysoreData\\nbk\\mouseVideoAnalysis\\Box1\\cam2\\test_labels\\camera-2_clip-76.avi\n",
      "Duration of video [s]:  3.0 , recorded with  30.0 fps!\n",
      "Overall # of frames:  90  found with (before cropping) frame dimensions:  720 720\n",
      "Starting to extract posture\n"
     ]
    },
    {
     "name": "stderr",
     "output_type": "stream",
     "text": [
      "100it [00:03, 32.48it/s]                                                                                               \n",
      "  0%|                                                                                           | 0/90 [00:00<?, ?it/s]"
     ]
    },
    {
     "name": "stdout",
     "output_type": "stream",
     "text": [
      "Saving results in F:\\MysoreData\\nbk\\mouseVideoAnalysis\\Box1\\cam2\\test_labels...\n",
      "Starting to analyze %  F:\\MysoreData\\nbk\\mouseVideoAnalysis\\Box1\\cam2\\test_labels\\camera-2_clip-77.avi\n",
      "F:\\MysoreData\\nbk\\mouseVideoAnalysis\\Box1\\cam2\\test_labels  already exists!\n",
      "Loading  F:\\MysoreData\\nbk\\mouseVideoAnalysis\\Box1\\cam2\\test_labels\\camera-2_clip-77.avi\n",
      "Duration of video [s]:  3.0 , recorded with  30.0 fps!\n",
      "Overall # of frames:  90  found with (before cropping) frame dimensions:  720 720\n",
      "Starting to extract posture\n"
     ]
    },
    {
     "name": "stderr",
     "output_type": "stream",
     "text": [
      "100it [00:03, 33.33it/s]                                                                                               \n",
      "  0%|                                                                                           | 0/90 [00:00<?, ?it/s]"
     ]
    },
    {
     "name": "stdout",
     "output_type": "stream",
     "text": [
      "Saving results in F:\\MysoreData\\nbk\\mouseVideoAnalysis\\Box1\\cam2\\test_labels...\n",
      "Starting to analyze %  F:\\MysoreData\\nbk\\mouseVideoAnalysis\\Box1\\cam2\\test_labels\\camera-2_clip-78.avi\n",
      "F:\\MysoreData\\nbk\\mouseVideoAnalysis\\Box1\\cam2\\test_labels  already exists!\n",
      "Loading  F:\\MysoreData\\nbk\\mouseVideoAnalysis\\Box1\\cam2\\test_labels\\camera-2_clip-78.avi\n",
      "Duration of video [s]:  3.0 , recorded with  30.0 fps!\n",
      "Overall # of frames:  90  found with (before cropping) frame dimensions:  720 720\n",
      "Starting to extract posture\n"
     ]
    },
    {
     "name": "stderr",
     "output_type": "stream",
     "text": [
      "100it [00:02, 34.05it/s]                                                                                               \n",
      "  0%|                                                                                           | 0/90 [00:00<?, ?it/s]"
     ]
    },
    {
     "name": "stdout",
     "output_type": "stream",
     "text": [
      "Saving results in F:\\MysoreData\\nbk\\mouseVideoAnalysis\\Box1\\cam2\\test_labels...\n",
      "Starting to analyze %  F:\\MysoreData\\nbk\\mouseVideoAnalysis\\Box1\\cam2\\test_labels\\camera-2_clip-79.avi\n",
      "F:\\MysoreData\\nbk\\mouseVideoAnalysis\\Box1\\cam2\\test_labels  already exists!\n",
      "Loading  F:\\MysoreData\\nbk\\mouseVideoAnalysis\\Box1\\cam2\\test_labels\\camera-2_clip-79.avi\n",
      "Duration of video [s]:  3.0 , recorded with  30.0 fps!\n",
      "Overall # of frames:  90  found with (before cropping) frame dimensions:  720 720\n",
      "Starting to extract posture\n"
     ]
    },
    {
     "name": "stderr",
     "output_type": "stream",
     "text": [
      "100it [00:02, 33.82it/s]                                                                                               \n",
      "  0%|                                                                                           | 0/90 [00:00<?, ?it/s]"
     ]
    },
    {
     "name": "stdout",
     "output_type": "stream",
     "text": [
      "Saving results in F:\\MysoreData\\nbk\\mouseVideoAnalysis\\Box1\\cam2\\test_labels...\n",
      "Starting to analyze %  F:\\MysoreData\\nbk\\mouseVideoAnalysis\\Box1\\cam2\\test_labels\\camera-2_clip-8.avi\n",
      "F:\\MysoreData\\nbk\\mouseVideoAnalysis\\Box1\\cam2\\test_labels  already exists!\n",
      "Loading  F:\\MysoreData\\nbk\\mouseVideoAnalysis\\Box1\\cam2\\test_labels\\camera-2_clip-8.avi\n",
      "Duration of video [s]:  3.0 , recorded with  30.0 fps!\n",
      "Overall # of frames:  90  found with (before cropping) frame dimensions:  720 720\n",
      "Starting to extract posture\n"
     ]
    },
    {
     "name": "stderr",
     "output_type": "stream",
     "text": [
      "100it [00:03, 28.08it/s]                                                                                               \n"
     ]
    },
    {
     "name": "stdout",
     "output_type": "stream",
     "text": [
      "Saving results in F:\\MysoreData\\nbk\\mouseVideoAnalysis\\Box1\\cam2\\test_labels...\n",
      "Starting to analyze %  F:\\MysoreData\\nbk\\mouseVideoAnalysis\\Box1\\cam2\\test_labels\\camera-2_clip-80.avi\n",
      "F:\\MysoreData\\nbk\\mouseVideoAnalysis\\Box1\\cam2\\test_labels  already exists!\n",
      "Loading  F:\\MysoreData\\nbk\\mouseVideoAnalysis\\Box1\\cam2\\test_labels\\camera-2_clip-80.avi\n"
     ]
    },
    {
     "name": "stderr",
     "output_type": "stream",
     "text": [
      "\r",
      "  0%|                                                                                           | 0/90 [00:00<?, ?it/s]"
     ]
    },
    {
     "name": "stdout",
     "output_type": "stream",
     "text": [
      "Duration of video [s]:  3.0 , recorded with  30.0 fps!\n",
      "Overall # of frames:  90  found with (before cropping) frame dimensions:  720 720\n",
      "Starting to extract posture\n"
     ]
    },
    {
     "name": "stderr",
     "output_type": "stream",
     "text": [
      "100it [00:02, 33.88it/s]                                                                                               \n",
      "  0%|                                                                                           | 0/90 [00:00<?, ?it/s]"
     ]
    },
    {
     "name": "stdout",
     "output_type": "stream",
     "text": [
      "Saving results in F:\\MysoreData\\nbk\\mouseVideoAnalysis\\Box1\\cam2\\test_labels...\n",
      "Starting to analyze %  F:\\MysoreData\\nbk\\mouseVideoAnalysis\\Box1\\cam2\\test_labels\\camera-2_clip-81.avi\n",
      "F:\\MysoreData\\nbk\\mouseVideoAnalysis\\Box1\\cam2\\test_labels  already exists!\n",
      "Loading  F:\\MysoreData\\nbk\\mouseVideoAnalysis\\Box1\\cam2\\test_labels\\camera-2_clip-81.avi\n",
      "Duration of video [s]:  3.0 , recorded with  30.0 fps!\n",
      "Overall # of frames:  90  found with (before cropping) frame dimensions:  720 720\n",
      "Starting to extract posture\n"
     ]
    },
    {
     "name": "stderr",
     "output_type": "stream",
     "text": [
      "100it [00:02, 33.79it/s]                                                                                               \n",
      "  0%|                                                                                           | 0/90 [00:00<?, ?it/s]"
     ]
    },
    {
     "name": "stdout",
     "output_type": "stream",
     "text": [
      "Saving results in F:\\MysoreData\\nbk\\mouseVideoAnalysis\\Box1\\cam2\\test_labels...\n",
      "Starting to analyze %  F:\\MysoreData\\nbk\\mouseVideoAnalysis\\Box1\\cam2\\test_labels\\camera-2_clip-82.avi\n",
      "F:\\MysoreData\\nbk\\mouseVideoAnalysis\\Box1\\cam2\\test_labels  already exists!\n",
      "Loading  F:\\MysoreData\\nbk\\mouseVideoAnalysis\\Box1\\cam2\\test_labels\\camera-2_clip-82.avi\n",
      "Duration of video [s]:  3.0 , recorded with  30.0 fps!\n",
      "Overall # of frames:  90  found with (before cropping) frame dimensions:  720 720\n",
      "Starting to extract posture\n"
     ]
    },
    {
     "name": "stderr",
     "output_type": "stream",
     "text": [
      "100it [00:02, 33.51it/s]                                                                                               \n",
      "  0%|                                                                                           | 0/90 [00:00<?, ?it/s]"
     ]
    },
    {
     "name": "stdout",
     "output_type": "stream",
     "text": [
      "Saving results in F:\\MysoreData\\nbk\\mouseVideoAnalysis\\Box1\\cam2\\test_labels...\n",
      "Starting to analyze %  F:\\MysoreData\\nbk\\mouseVideoAnalysis\\Box1\\cam2\\test_labels\\camera-2_clip-83.avi\n",
      "F:\\MysoreData\\nbk\\mouseVideoAnalysis\\Box1\\cam2\\test_labels  already exists!\n",
      "Loading  F:\\MysoreData\\nbk\\mouseVideoAnalysis\\Box1\\cam2\\test_labels\\camera-2_clip-83.avi\n",
      "Duration of video [s]:  3.0 , recorded with  30.0 fps!\n",
      "Overall # of frames:  90  found with (before cropping) frame dimensions:  720 720\n",
      "Starting to extract posture\n"
     ]
    },
    {
     "name": "stderr",
     "output_type": "stream",
     "text": [
      "100it [00:02, 34.01it/s]                                                                                               \n",
      "  0%|                                                                                           | 0/90 [00:00<?, ?it/s]"
     ]
    },
    {
     "name": "stdout",
     "output_type": "stream",
     "text": [
      "Saving results in F:\\MysoreData\\nbk\\mouseVideoAnalysis\\Box1\\cam2\\test_labels...\n",
      "Starting to analyze %  F:\\MysoreData\\nbk\\mouseVideoAnalysis\\Box1\\cam2\\test_labels\\camera-2_clip-84.avi\n",
      "F:\\MysoreData\\nbk\\mouseVideoAnalysis\\Box1\\cam2\\test_labels  already exists!\n",
      "Loading  F:\\MysoreData\\nbk\\mouseVideoAnalysis\\Box1\\cam2\\test_labels\\camera-2_clip-84.avi\n",
      "Duration of video [s]:  3.0 , recorded with  30.0 fps!\n",
      "Overall # of frames:  90  found with (before cropping) frame dimensions:  720 720\n",
      "Starting to extract posture\n"
     ]
    },
    {
     "name": "stderr",
     "output_type": "stream",
     "text": [
      "100it [00:02, 34.36it/s]                                                                                               \n",
      "  0%|                                                                                           | 0/90 [00:00<?, ?it/s]"
     ]
    },
    {
     "name": "stdout",
     "output_type": "stream",
     "text": [
      "Saving results in F:\\MysoreData\\nbk\\mouseVideoAnalysis\\Box1\\cam2\\test_labels...\n",
      "Starting to analyze %  F:\\MysoreData\\nbk\\mouseVideoAnalysis\\Box1\\cam2\\test_labels\\camera-2_clip-85.avi\n",
      "F:\\MysoreData\\nbk\\mouseVideoAnalysis\\Box1\\cam2\\test_labels  already exists!\n",
      "Loading  F:\\MysoreData\\nbk\\mouseVideoAnalysis\\Box1\\cam2\\test_labels\\camera-2_clip-85.avi\n",
      "Duration of video [s]:  3.0 , recorded with  30.0 fps!\n",
      "Overall # of frames:  90  found with (before cropping) frame dimensions:  720 720\n",
      "Starting to extract posture\n"
     ]
    },
    {
     "name": "stderr",
     "output_type": "stream",
     "text": [
      "100it [00:02, 33.82it/s]                                                                                               \n",
      "  0%|                                                                                           | 0/90 [00:00<?, ?it/s]"
     ]
    },
    {
     "name": "stdout",
     "output_type": "stream",
     "text": [
      "Saving results in F:\\MysoreData\\nbk\\mouseVideoAnalysis\\Box1\\cam2\\test_labels...\n",
      "Starting to analyze %  F:\\MysoreData\\nbk\\mouseVideoAnalysis\\Box1\\cam2\\test_labels\\camera-2_clip-86.avi\n",
      "F:\\MysoreData\\nbk\\mouseVideoAnalysis\\Box1\\cam2\\test_labels  already exists!\n",
      "Loading  F:\\MysoreData\\nbk\\mouseVideoAnalysis\\Box1\\cam2\\test_labels\\camera-2_clip-86.avi\n",
      "Duration of video [s]:  3.0 , recorded with  30.0 fps!\n",
      "Overall # of frames:  90  found with (before cropping) frame dimensions:  720 720\n",
      "Starting to extract posture\n"
     ]
    },
    {
     "name": "stderr",
     "output_type": "stream",
     "text": [
      "100it [00:02, 34.05it/s]                                                                                               \n",
      "  0%|                                                                                           | 0/90 [00:00<?, ?it/s]"
     ]
    },
    {
     "name": "stdout",
     "output_type": "stream",
     "text": [
      "Saving results in F:\\MysoreData\\nbk\\mouseVideoAnalysis\\Box1\\cam2\\test_labels...\n",
      "Starting to analyze %  F:\\MysoreData\\nbk\\mouseVideoAnalysis\\Box1\\cam2\\test_labels\\camera-2_clip-87.avi\n",
      "F:\\MysoreData\\nbk\\mouseVideoAnalysis\\Box1\\cam2\\test_labels  already exists!\n",
      "Loading  F:\\MysoreData\\nbk\\mouseVideoAnalysis\\Box1\\cam2\\test_labels\\camera-2_clip-87.avi\n",
      "Duration of video [s]:  3.0 , recorded with  30.0 fps!\n",
      "Overall # of frames:  90  found with (before cropping) frame dimensions:  720 720\n",
      "Starting to extract posture\n"
     ]
    },
    {
     "name": "stderr",
     "output_type": "stream",
     "text": [
      "100it [00:02, 33.93it/s]                                                                                               \n",
      "  0%|                                                                                           | 0/90 [00:00<?, ?it/s]"
     ]
    },
    {
     "name": "stdout",
     "output_type": "stream",
     "text": [
      "Saving results in F:\\MysoreData\\nbk\\mouseVideoAnalysis\\Box1\\cam2\\test_labels...\n",
      "Starting to analyze %  F:\\MysoreData\\nbk\\mouseVideoAnalysis\\Box1\\cam2\\test_labels\\camera-2_clip-88.avi\n",
      "F:\\MysoreData\\nbk\\mouseVideoAnalysis\\Box1\\cam2\\test_labels  already exists!\n",
      "Loading  F:\\MysoreData\\nbk\\mouseVideoAnalysis\\Box1\\cam2\\test_labels\\camera-2_clip-88.avi\n",
      "Duration of video [s]:  3.0 , recorded with  30.0 fps!\n",
      "Overall # of frames:  90  found with (before cropping) frame dimensions:  720 720\n",
      "Starting to extract posture\n"
     ]
    },
    {
     "name": "stderr",
     "output_type": "stream",
     "text": [
      "100it [00:03, 28.30it/s]                                                                                               \n",
      "  0%|                                                                                           | 0/90 [00:00<?, ?it/s]"
     ]
    },
    {
     "name": "stdout",
     "output_type": "stream",
     "text": [
      "Saving results in F:\\MysoreData\\nbk\\mouseVideoAnalysis\\Box1\\cam2\\test_labels...\n",
      "Starting to analyze %  F:\\MysoreData\\nbk\\mouseVideoAnalysis\\Box1\\cam2\\test_labels\\camera-2_clip-89.avi\n",
      "F:\\MysoreData\\nbk\\mouseVideoAnalysis\\Box1\\cam2\\test_labels  already exists!\n",
      "Loading  F:\\MysoreData\\nbk\\mouseVideoAnalysis\\Box1\\cam2\\test_labels\\camera-2_clip-89.avi\n",
      "Duration of video [s]:  3.0 , recorded with  30.0 fps!\n",
      "Overall # of frames:  90  found with (before cropping) frame dimensions:  720 720\n",
      "Starting to extract posture\n"
     ]
    },
    {
     "name": "stderr",
     "output_type": "stream",
     "text": [
      "100it [00:03, 30.58it/s]                                                                                               \n",
      "  0%|                                                                                           | 0/90 [00:00<?, ?it/s]"
     ]
    },
    {
     "name": "stdout",
     "output_type": "stream",
     "text": [
      "Saving results in F:\\MysoreData\\nbk\\mouseVideoAnalysis\\Box1\\cam2\\test_labels...\n",
      "Starting to analyze %  F:\\MysoreData\\nbk\\mouseVideoAnalysis\\Box1\\cam2\\test_labels\\camera-2_clip-9.avi\n",
      "F:\\MysoreData\\nbk\\mouseVideoAnalysis\\Box1\\cam2\\test_labels  already exists!\n",
      "Loading  F:\\MysoreData\\nbk\\mouseVideoAnalysis\\Box1\\cam2\\test_labels\\camera-2_clip-9.avi\n",
      "Duration of video [s]:  3.0 , recorded with  30.0 fps!\n",
      "Overall # of frames:  90  found with (before cropping) frame dimensions:  720 720\n",
      "Starting to extract posture\n"
     ]
    },
    {
     "name": "stderr",
     "output_type": "stream",
     "text": [
      "100it [00:02, 33.71it/s]                                                                                               \n",
      "  0%|                                                                                           | 0/90 [00:00<?, ?it/s]"
     ]
    },
    {
     "name": "stdout",
     "output_type": "stream",
     "text": [
      "Saving results in F:\\MysoreData\\nbk\\mouseVideoAnalysis\\Box1\\cam2\\test_labels...\n",
      "Starting to analyze %  F:\\MysoreData\\nbk\\mouseVideoAnalysis\\Box1\\cam2\\test_labels\\camera-2_clip-90.avi\n",
      "F:\\MysoreData\\nbk\\mouseVideoAnalysis\\Box1\\cam2\\test_labels  already exists!\n",
      "Loading  F:\\MysoreData\\nbk\\mouseVideoAnalysis\\Box1\\cam2\\test_labels\\camera-2_clip-90.avi\n",
      "Duration of video [s]:  3.0 , recorded with  30.0 fps!\n",
      "Overall # of frames:  90  found with (before cropping) frame dimensions:  720 720\n",
      "Starting to extract posture\n"
     ]
    },
    {
     "name": "stderr",
     "output_type": "stream",
     "text": [
      "100it [00:02, 33.90it/s]                                                                                               \n",
      "  0%|                                                                                           | 0/90 [00:00<?, ?it/s]"
     ]
    },
    {
     "name": "stdout",
     "output_type": "stream",
     "text": [
      "Saving results in F:\\MysoreData\\nbk\\mouseVideoAnalysis\\Box1\\cam2\\test_labels...\n",
      "Starting to analyze %  F:\\MysoreData\\nbk\\mouseVideoAnalysis\\Box1\\cam2\\test_labels\\camera-2_clip-91.avi\n",
      "F:\\MysoreData\\nbk\\mouseVideoAnalysis\\Box1\\cam2\\test_labels  already exists!\n",
      "Loading  F:\\MysoreData\\nbk\\mouseVideoAnalysis\\Box1\\cam2\\test_labels\\camera-2_clip-91.avi\n",
      "Duration of video [s]:  3.0 , recorded with  30.0 fps!\n",
      "Overall # of frames:  90  found with (before cropping) frame dimensions:  720 720\n",
      "Starting to extract posture\n"
     ]
    },
    {
     "name": "stderr",
     "output_type": "stream",
     "text": [
      "100it [00:02, 33.95it/s]                                                                                               \n",
      "  0%|                                                                                           | 0/90 [00:00<?, ?it/s]"
     ]
    },
    {
     "name": "stdout",
     "output_type": "stream",
     "text": [
      "Saving results in F:\\MysoreData\\nbk\\mouseVideoAnalysis\\Box1\\cam2\\test_labels...\n",
      "Starting to analyze %  F:\\MysoreData\\nbk\\mouseVideoAnalysis\\Box1\\cam2\\test_labels\\camera-2_clip-92.avi\n",
      "F:\\MysoreData\\nbk\\mouseVideoAnalysis\\Box1\\cam2\\test_labels  already exists!\n",
      "Loading  F:\\MysoreData\\nbk\\mouseVideoAnalysis\\Box1\\cam2\\test_labels\\camera-2_clip-92.avi\n",
      "Duration of video [s]:  3.0 , recorded with  30.0 fps!\n",
      "Overall # of frames:  90  found with (before cropping) frame dimensions:  720 720\n",
      "Starting to extract posture\n"
     ]
    },
    {
     "name": "stderr",
     "output_type": "stream",
     "text": [
      "100it [00:02, 33.59it/s]                                                                                               \n",
      "  0%|                                                                                           | 0/90 [00:00<?, ?it/s]"
     ]
    },
    {
     "name": "stdout",
     "output_type": "stream",
     "text": [
      "Saving results in F:\\MysoreData\\nbk\\mouseVideoAnalysis\\Box1\\cam2\\test_labels...\n",
      "Starting to analyze %  F:\\MysoreData\\nbk\\mouseVideoAnalysis\\Box1\\cam2\\test_labels\\camera-2_clip-93.avi\n",
      "F:\\MysoreData\\nbk\\mouseVideoAnalysis\\Box1\\cam2\\test_labels  already exists!\n",
      "Loading  F:\\MysoreData\\nbk\\mouseVideoAnalysis\\Box1\\cam2\\test_labels\\camera-2_clip-93.avi\n",
      "Duration of video [s]:  3.0 , recorded with  30.0 fps!\n",
      "Overall # of frames:  90  found with (before cropping) frame dimensions:  720 720\n",
      "Starting to extract posture\n"
     ]
    },
    {
     "name": "stderr",
     "output_type": "stream",
     "text": [
      "100it [00:03, 32.97it/s]                                                                                               \n",
      "  0%|                                                                                           | 0/90 [00:00<?, ?it/s]"
     ]
    },
    {
     "name": "stdout",
     "output_type": "stream",
     "text": [
      "Saving results in F:\\MysoreData\\nbk\\mouseVideoAnalysis\\Box1\\cam2\\test_labels...\n",
      "Starting to analyze %  F:\\MysoreData\\nbk\\mouseVideoAnalysis\\Box1\\cam2\\test_labels\\camera-2_clip-94.avi\n",
      "F:\\MysoreData\\nbk\\mouseVideoAnalysis\\Box1\\cam2\\test_labels  already exists!\n",
      "Loading  F:\\MysoreData\\nbk\\mouseVideoAnalysis\\Box1\\cam2\\test_labels\\camera-2_clip-94.avi\n",
      "Duration of video [s]:  3.0 , recorded with  30.0 fps!\n",
      "Overall # of frames:  90  found with (before cropping) frame dimensions:  720 720\n",
      "Starting to extract posture\n"
     ]
    },
    {
     "name": "stderr",
     "output_type": "stream",
     "text": [
      "100it [00:02, 33.73it/s]                                                                                               \n",
      "  0%|                                                                                           | 0/90 [00:00<?, ?it/s]"
     ]
    },
    {
     "name": "stdout",
     "output_type": "stream",
     "text": [
      "Saving results in F:\\MysoreData\\nbk\\mouseVideoAnalysis\\Box1\\cam2\\test_labels...\n",
      "Starting to analyze %  F:\\MysoreData\\nbk\\mouseVideoAnalysis\\Box1\\cam2\\test_labels\\camera-2_clip-95.avi\n",
      "F:\\MysoreData\\nbk\\mouseVideoAnalysis\\Box1\\cam2\\test_labels  already exists!\n",
      "Loading  F:\\MysoreData\\nbk\\mouseVideoAnalysis\\Box1\\cam2\\test_labels\\camera-2_clip-95.avi\n",
      "Duration of video [s]:  3.0 , recorded with  30.0 fps!\n",
      "Overall # of frames:  90  found with (before cropping) frame dimensions:  720 720\n",
      "Starting to extract posture\n"
     ]
    },
    {
     "name": "stderr",
     "output_type": "stream",
     "text": [
      "100it [00:02, 33.35it/s]                                                                                               \n",
      "  0%|                                                                                           | 0/90 [00:00<?, ?it/s]"
     ]
    },
    {
     "name": "stdout",
     "output_type": "stream",
     "text": [
      "Saving results in F:\\MysoreData\\nbk\\mouseVideoAnalysis\\Box1\\cam2\\test_labels...\n",
      "Starting to analyze %  F:\\MysoreData\\nbk\\mouseVideoAnalysis\\Box1\\cam2\\test_labels\\camera-2_clip-96.avi\n",
      "F:\\MysoreData\\nbk\\mouseVideoAnalysis\\Box1\\cam2\\test_labels  already exists!\n",
      "Loading  F:\\MysoreData\\nbk\\mouseVideoAnalysis\\Box1\\cam2\\test_labels\\camera-2_clip-96.avi\n",
      "Duration of video [s]:  3.0 , recorded with  30.0 fps!\n",
      "Overall # of frames:  90  found with (before cropping) frame dimensions:  720 720\n",
      "Starting to extract posture\n"
     ]
    },
    {
     "name": "stderr",
     "output_type": "stream",
     "text": [
      "100it [00:04, 24.81it/s]                                                                                               \n"
     ]
    },
    {
     "name": "stdout",
     "output_type": "stream",
     "text": [
      "Saving results in F:\\MysoreData\\nbk\\mouseVideoAnalysis\\Box1\\cam2\\test_labels...\n",
      "Starting to analyze %  F:\\MysoreData\\nbk\\mouseVideoAnalysis\\Box1\\cam2\\test_labels\\camera-2_clip-97.avi\n",
      "F:\\MysoreData\\nbk\\mouseVideoAnalysis\\Box1\\cam2\\test_labels  already exists!\n",
      "Loading  F:\\MysoreData\\nbk\\mouseVideoAnalysis\\Box1\\cam2\\test_labels\\camera-2_clip-97.avi\n"
     ]
    },
    {
     "name": "stderr",
     "output_type": "stream",
     "text": [
      "\r",
      "  0%|                                                                                           | 0/90 [00:00<?, ?it/s]"
     ]
    },
    {
     "name": "stdout",
     "output_type": "stream",
     "text": [
      "Duration of video [s]:  3.0 , recorded with  30.0 fps!\n",
      "Overall # of frames:  90  found with (before cropping) frame dimensions:  720 720\n",
      "Starting to extract posture\n"
     ]
    },
    {
     "name": "stderr",
     "output_type": "stream",
     "text": [
      "100it [00:03, 29.54it/s]                                                                                               \n",
      "  0%|                                                                                           | 0/90 [00:00<?, ?it/s]"
     ]
    },
    {
     "name": "stdout",
     "output_type": "stream",
     "text": [
      "Saving results in F:\\MysoreData\\nbk\\mouseVideoAnalysis\\Box1\\cam2\\test_labels...\n",
      "Starting to analyze %  F:\\MysoreData\\nbk\\mouseVideoAnalysis\\Box1\\cam2\\test_labels\\camera-2_clip-98.avi\n",
      "F:\\MysoreData\\nbk\\mouseVideoAnalysis\\Box1\\cam2\\test_labels  already exists!\n",
      "Loading  F:\\MysoreData\\nbk\\mouseVideoAnalysis\\Box1\\cam2\\test_labels\\camera-2_clip-98.avi\n",
      "Duration of video [s]:  3.0 , recorded with  30.0 fps!\n",
      "Overall # of frames:  90  found with (before cropping) frame dimensions:  720 720\n",
      "Starting to extract posture\n"
     ]
    },
    {
     "name": "stderr",
     "output_type": "stream",
     "text": [
      "100it [00:03, 25.60it/s]                                                                                               \n",
      "  0%|                                                                                           | 0/90 [00:00<?, ?it/s]"
     ]
    },
    {
     "name": "stdout",
     "output_type": "stream",
     "text": [
      "Saving results in F:\\MysoreData\\nbk\\mouseVideoAnalysis\\Box1\\cam2\\test_labels...\n",
      "Starting to analyze %  F:\\MysoreData\\nbk\\mouseVideoAnalysis\\Box1\\cam2\\test_labels\\camera-2_clip-99.avi\n",
      "F:\\MysoreData\\nbk\\mouseVideoAnalysis\\Box1\\cam2\\test_labels  already exists!\n",
      "Loading  F:\\MysoreData\\nbk\\mouseVideoAnalysis\\Box1\\cam2\\test_labels\\camera-2_clip-99.avi\n",
      "Duration of video [s]:  3.0 , recorded with  30.0 fps!\n",
      "Overall # of frames:  90  found with (before cropping) frame dimensions:  720 720\n",
      "Starting to extract posture\n"
     ]
    },
    {
     "name": "stderr",
     "output_type": "stream",
     "text": [
      "100it [00:03, 31.04it/s]                                                                                               "
     ]
    },
    {
     "name": "stdout",
     "output_type": "stream",
     "text": [
      "Saving results in F:\\MysoreData\\nbk\\mouseVideoAnalysis\\Box1\\cam2\\test_labels...\n",
      "The videos are analyzed. Now your research can truly start! \n",
      " You can create labeled videos with 'create_labeled_video'\n",
      "If the tracking is not satisfactory for some videos, consider expanding the training set. You can use the function 'extract_outlier_frames' to extract a few representative outlier frames.\n"
     ]
    },
    {
     "name": "stderr",
     "output_type": "stream",
     "text": [
      "\n"
     ]
    },
    {
     "data": {
      "text/plain": [
       "'DLC_resnet_50_box1_cam2Feb8shuffle1_561000'"
      ]
     },
     "execution_count": 8,
     "metadata": {},
     "output_type": "execute_result"
    }
   ],
   "source": [
    "\n",
    "VIDEO_SOURCE = r\"F:\\MysoreData\\nbk\\mouseVideoAnalysis\\Box1\\cam2\\test_labels\"\n",
    "video_all = os.listdir(VIDEO_SOURCE)\n",
    "video = []\n",
    "for i in range(0,len(video_all)):\n",
    "    video.append(VIDEO_SOURCE + '\\\\' + video_all[i])\n",
    "    \n",
    "deeplabcut.analyze_videos(path_config_file,video)"
   ]
  },
  {
   "cell_type": "markdown",
   "metadata": {
    "colab_type": "text",
    "id": "pCrUvQIvoEKD"
   },
   "source": [
    "## Create labeled video\n",
    "This funtion is for visualiztion purpose and can be used to create a video in .mp4 format with labels predicted by the network. This video is saved in the same directory where the original video resides. "
   ]
  },
  {
   "cell_type": "code",
   "execution_count": null,
   "metadata": {
    "colab": {},
    "colab_type": "code",
    "id": "6aDF7Q7KoEKE",
    "scrolled": true
   },
   "outputs": [],
   "source": [
    "deeplabcut.create_labeled_video(path_config_file,video)"
   ]
  },
  {
   "cell_type": "markdown",
   "metadata": {
    "colab_type": "text",
    "id": "8GTiuJESoEKH"
   },
   "source": [
    "## Plot the trajectories of the analyzed videos\n",
    "This function plots the trajectories of all the body parts across the entire video. Each body part is identified by a unique color."
   ]
  },
  {
   "cell_type": "code",
   "execution_count": null,
   "metadata": {
    "colab": {},
    "colab_type": "code",
    "id": "gX21zZbXoEKJ",
    "scrolled": true
   },
   "outputs": [],
   "source": [
    "%matplotlib notebook \n",
    "#for making interactive plots.\n",
    "#deeplabcut.plot_trajectories(path_config_file,videofile_path, plotting=True)\n",
    "\n",
    "deeplabcut.plot_trajectories(path_config_file,video,showfigures=True)"
   ]
  },
  {
   "cell_type": "code",
   "execution_count": null,
   "metadata": {
    "scrolled": true
   },
   "outputs": [],
   "source": []
  }
 ],
 "metadata": {
  "accelerator": "GPU",
  "colab": {
   "collapsed_sections": [],
   "name": "Colab_TrainNetwork_VideoAnalysis.ipynb",
   "private_outputs": true,
   "provenance": [],
   "toc_visible": true,
   "version": "0.3.2"
  },
  "kernelspec": {
   "display_name": "Python 3",
   "language": "python",
   "name": "python3"
  },
  "language_info": {
   "codemirror_mode": {
    "name": "ipython",
    "version": 3
   },
   "file_extension": ".py",
   "mimetype": "text/x-python",
   "name": "python",
   "nbconvert_exporter": "python",
   "pygments_lexer": "ipython3",
   "version": "3.7.0"
  },
  "varInspector": {
   "cols": {
    "lenName": 16,
    "lenType": 16,
    "lenVar": 40
   },
   "kernels_config": {
    "python": {
     "delete_cmd_postfix": "",
     "delete_cmd_prefix": "del ",
     "library": "var_list.py",
     "varRefreshCmd": "print(var_dic_list())"
    },
    "r": {
     "delete_cmd_postfix": ") ",
     "delete_cmd_prefix": "rm(",
     "library": "var_list.r",
     "varRefreshCmd": "cat(var_dic_list()) "
    }
   },
   "types_to_exclude": [
    "module",
    "function",
    "builtin_function_or_method",
    "instance",
    "_Feature"
   ],
   "window_display": false
  }
 },
 "nbformat": 4,
 "nbformat_minor": 1
}
