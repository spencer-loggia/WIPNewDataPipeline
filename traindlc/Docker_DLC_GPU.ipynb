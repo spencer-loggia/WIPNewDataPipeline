{
 "cells": [
  {
   "cell_type": "markdown",
   "metadata": {},
   "source": [
    "<h1> Using Labeled Data to Train a Network, Use The Network to Label New Videos, and Create Trajectories </h1> \n",
    "<p> Use another notebook create a project, extract frames, and label training/testing data </p>"
   ]
  },
  {
   "cell_type": "markdown",
   "metadata": {
    "colab_type": "text",
    "id": "RK255E7YoEIt"
   },
   "source": [
    "# DLC with docker\n",
    "This notebook illustrates how to use the Docker container to:\n",
    "- train a network\n",
    "- evaluate a network\n",
    "- analyze a novel video\n",
    "\n",
    "many of the functions have additional parameters / complexity, see the DLC docs for more inf on each.\n",
    "\n",
    "This assumes you already have a project folder with labeled data! \n"
   ]
  },
  {
   "cell_type": "markdown",
   "metadata": {
    "colab_type": "text",
    "id": "txoddlM8hLKm"
   },
   "source": [
    "## info about the Docker Environment:\n",
    "Docker is essentially a better alternative to virtual machines. It is able to containerize applications in a way that keeps them seperate the OS and other software. \n",
    "\n",
    "For tensorflow / deeplab cut, docker is critical for two reasons. \n",
    "- It 'claims' the GPU, making it closed for use by other processes.\n",
    "- It queries the GPU properly, in some cases tf (and the python kernal itself) does not know how to properly communincate with the GPU on windows systems."
   ]
  },
  {
   "cell_type": "code",
   "execution_count": 1,
   "metadata": {
    "colab": {},
    "colab_type": "code",
    "id": "4C5WRoS9g5Od"
   },
   "outputs": [
    {
     "name": "stdout",
     "output_type": "stream",
     "text": [
      "nvcc: NVIDIA (R) Cuda compiler driver\n",
      "Copyright (c) 2005-2017 NVIDIA Corporation\n",
      "Built on Fri_Sep__1_21:08:32_Central_Daylight_Time_2017\n",
      "Cuda compilation tools, release 9.0, V9.0.176\n"
     ]
    }
   ],
   "source": [
    "# make sure you graphic driver is accessable\n",
    "!nvcc --version"
   ]
  },
  {
   "cell_type": "code",
   "execution_count": 2,
   "metadata": {
    "colab": {},
    "colab_type": "code",
    "id": "HxVNyimFp-PJ"
   },
   "outputs": [
    {
     "data": {
      "text/plain": [
       "'1.14.0'"
      ]
     },
     "execution_count": 2,
     "metadata": {},
     "output_type": "execute_result"
    }
   ],
   "source": [
    "# check the tensorflow version\n",
    "import tensorflow as tf\n",
    "tf.__version__"
   ]
  },
  {
   "cell_type": "markdown",
   "metadata": {},
   "source": [
    "<h1> The following is very important as it allow the current GPU process to grow dynamically </h1>\n",
    "Without this option tf will likely run out of VRAM when trying to update the weight tensor. In theory, these options could cause the GPU to run out of memory entirely, but there is no other way to allow training to complete successfully. "
   ]
  },
  {
   "cell_type": "code",
   "execution_count": 3,
   "metadata": {},
   "outputs": [],
   "source": [
    "#allow video memory growth as network expands to avoid convolutional network errors\n",
    "TF_FORCE_GPU_ALLOW_GROWTH = True\n",
    "config = tf.ConfigProto()\n",
    "config.gpu_options.allow_growth = True\n",
    "session = tf.Session(config=config)"
   ]
  },
  {
   "cell_type": "code",
   "execution_count": 4,
   "metadata": {
    "colab": {},
    "colab_type": "code",
    "id": "Pm_PC1Q8lRrH"
   },
   "outputs": [
    {
     "data": {
      "text/plain": [
       "[name: \"/device:CPU:0\"\n",
       " device_type: \"CPU\"\n",
       " memory_limit: 268435456\n",
       " locality {\n",
       " }\n",
       " incarnation: 1059488224795034106,\n",
       " name: \"/device:GPU:0\"\n",
       " device_type: \"GPU\"\n",
       " memory_limit: 6586089472\n",
       " locality {\n",
       "   bus_id: 1\n",
       "   links {\n",
       "   }\n",
       " }\n",
       " incarnation: 17248830168826607144\n",
       " physical_device_desc: \"device: 0, name: GeForce RTX 2080, pci bus id: 0000:41:00.0, compute capability: 7.5\",\n",
       " name: \"/device:GPU:1\"\n",
       " device_type: \"GPU\"\n",
       " memory_limit: 6586089472\n",
       " locality {\n",
       "   bus_id: 1\n",
       "   links {\n",
       "   }\n",
       " }\n",
       " incarnation: 3503791903948238893\n",
       " physical_device_desc: \"device: 1, name: GeForce RTX 2080, pci bus id: 0000:81:00.0, compute capability: 7.5\"]"
      ]
     },
     "execution_count": 4,
     "metadata": {},
     "output_type": "execute_result"
    }
   ],
   "source": [
    "#let's make sure we see a GPU:\n",
    "#tf.test.gpu_device_name()\n",
    "from tensorflow.python.client import device_lib\n",
    "device_lib.list_local_devices()"
   ]
  },
  {
   "cell_type": "markdown",
   "metadata": {},
   "source": [
    "## Start here for training DeepLabCut and analyzing new videos!\n",
    "<p><br>If the first imports fail, there is again - sadly - an issue with you enviroment. Make sure all packages beside DLC are installed via conda. </p> "
   ]
  },
  {
   "cell_type": "code",
   "execution_count": 5,
   "metadata": {
    "colab": {},
    "colab_type": "code",
    "id": "sXufoX6INe6w"
   },
   "outputs": [],
   "source": [
    "#GUIs don't work on in Docker (or the cloud), so label your data locally on your computer! \n",
    "#This notebook is for you to train and run video analysis!\n",
    "import os"
   ]
  },
  {
   "cell_type": "code",
   "execution_count": 6,
   "metadata": {
    "colab": {},
    "colab_type": "code",
    "id": "3K9Ndy1beyfG",
    "scrolled": true
   },
   "outputs": [
    {
     "data": {
      "text/plain": [
       "'2.1.10.1'"
      ]
     },
     "execution_count": 6,
     "metadata": {},
     "output_type": "execute_result"
    }
   ],
   "source": [
    "# now we are ready to train!\n",
    "#should see version 2.0.8\n",
    "import deeplabcut\n",
    "deeplabcut.__version__"
   ]
  },
  {
   "cell_type": "markdown",
   "metadata": {},
   "source": [
    "<h1> change to your path: </h1>\n",
    "<p> this should be the same path as the one in the createDLCproject notebook. The path is the path to the config.yaml file, not the project directory itself </p> "
   ]
  },
  {
   "cell_type": "code",
   "execution_count": 7,
   "metadata": {
    "colab": {},
    "colab_type": "code",
    "id": "Z7ZlDr3wV4D1"
   },
   "outputs": [],
   "source": [
    "path_config_file = r'F:\\MysoreData\\nbk\\mouseVideoAnalysis\\Box1\\cam1\\box1_cam1-spencerloggia-2021-02-07\\config.yaml'"
   ]
  },
  {
   "cell_type": "markdown",
   "metadata": {
    "colab_type": "text",
    "id": "xNi9s1dboEJN"
   },
   "source": [
    "## Create a training dataset\n",
    "This function generates the training data information for DeepCut (which requires a mat file) based on the pandas dataframes that hold label information. The user can set the fraction of the training set size (from all labeled image in the hd5 file) in the config.yaml file. While creating the dataset, the user can create multiple shuffles. \n",
    "\n",
    "After running this script the training dataset is created and saved in the project directory under the subdirectory **'training-datasets'**\n",
    "\n",
    "This function also creates new subdirectories under **dlc-models** and appends the project config.yaml file with the correct path to the training and testing pose configuration file. These files hold the parameters for training the network. Such an example file is provided with the toolbox and named as **pose_cfg.yaml**."
   ]
  },
  {
   "cell_type": "code",
   "execution_count": null,
   "metadata": {
    "scrolled": true
   },
   "outputs": [],
   "source": [
    "deeplabcut.create_training_dataset(path_config_file, net_type='resnet_50', augmenter_type='imgaug')"
   ]
  },
  {
   "cell_type": "markdown",
   "metadata": {},
   "source": [
    "### now go edit the pose_cfg.yaml to make display_iters: low (i.e. 10), and save_iters: 500\n",
    "\n",
    "Now it is the time to start training the network!"
   ]
  },
  {
   "cell_type": "markdown",
   "metadata": {
    "colab_type": "text",
    "id": "c4FczXGDoEJU"
   },
   "source": [
    "## Start training\n",
    "This function trains the network for a specific shuffle of the training dataset. "
   ]
  },
  {
   "cell_type": "code",
   "execution_count": null,
   "metadata": {
    "colab": {},
    "colab_type": "code",
    "id": "_pOvDq_2oEJW",
    "scrolled": true
   },
   "outputs": [],
   "source": [
    "#reset in case you started a session before...\n",
    "#tf.reset_default_graph()\n",
    "\n",
    "deeplabcut.train_network(path_config_file, shuffle=1, saveiters=1000, displayiters=10, gputouse=1)\n",
    "\n",
    "#this will run until you stop it (CTRL+C), or hit \"STOP\" icon, or when it hits the end (default, 1.3M iterations). \n",
    "#Whichever you chose, you will see what looks like an error message, but it's not an error - don't worry....\n"
   ]
  },
  {
   "cell_type": "markdown",
   "metadata": {},
   "source": [
    "### A couple tips for possible troubleshooting (1): \n",
    "\n",
    "if you get **permission errors** when you run this step (above), first check if the weights downloaded. As some docker containers might not have privileges for this (it can be user specific). They should be under 'init_weights' (see path in the pose_cfg.yaml file). You can enter the DOCKER in the terminal:"
   ]
  },
  {
   "cell_type": "markdown",
   "metadata": {},
   "source": [
    "see more here: https://github.com/MMathisLab/Docker4DeepLabCut2.0#using-the-docker-for-training-and-video-analysis"
   ]
  },
  {
   "cell_type": "markdown",
   "metadata": {},
   "source": [
    "### Troubleshooting (2): \n",
    "if it appears the training does not start (i.e. \"Starting training...\" does not print immediately),\n",
    "then you have another session running on your GPU. Go check \"nvidia-smi\" and look at the process names. You can only have 1 per GPU!)"
   ]
  },
  {
   "cell_type": "markdown",
   "metadata": {
    "colab_type": "text",
    "id": "xZygsb2DoEJc"
   },
   "source": [
    "## Start evaluating\n",
    "This funtion evaluates a trained model for a specific shuffle/shuffles at a particular state or all the states on the data set (images)\n",
    "and stores the results as .csv file in a subdirectory under **evaluation-results**"
   ]
  },
  {
   "cell_type": "code",
   "execution_count": 8,
   "metadata": {
    "colab": {},
    "colab_type": "code",
    "id": "nv4zlbrnoEJg",
    "scrolled": false
   },
   "outputs": [
    {
     "name": "stdout",
     "output_type": "stream",
     "text": [
      "F:\\MysoreData\\nbk\\mouseVideoAnalysis\\Box1\\cam1\\box1_cam1-spencerloggia-2021-02-07/evaluation-results/  already exists!\n",
      "F:\\MysoreData\\nbk\\mouseVideoAnalysis\\Box1\\cam1\\box1_cam1-spencerloggia-2021-02-07\\evaluation-results\\iteration-0\\box1_cam1Feb7-trainset95shuffle1  already exists!\n",
      "Running  DLC_resnet_50_box1_cam1Feb7shuffle1_752000  with # of trainingiterations: 752000\n",
      "This net has already been evaluated!\n"
     ]
    }
   ],
   "source": [
    "deeplabcut.evaluate_network(path_config_file)\n",
    "\n",
    "# Here you want to see a low pixel error! Of course, it can only be as good as the labeler, so be sure your labels are good!"
   ]
  },
  {
   "cell_type": "markdown",
   "metadata": {
    "colab_type": "text",
    "id": "BaLBl3TQtrfB"
   },
   "source": [
    "## There is an optional refinement step\n",
    "- if your pixel errors are not low enough, use DLC docs on how to refine yur network!\n",
    "- You will need to adjust the labels outside of DOCKER! (you can use the createDLCproject notebook) \n",
    "-  see DLC protocol instructions on how to refine your data!"
   ]
  },
  {
   "cell_type": "markdown",
   "metadata": {
    "colab_type": "text",
    "id": "OVFLSKKfoEJk"
   },
   "source": [
    "## Start Analyzing videos\n",
    "This function analyzes the new video. The user can choose the best model from the evaluation results and specify the correct snapshot index for the variable **snapshotindex** in the **config.yaml** file. Otherwise, by default the most recent snapshot is used to analyse the video.\n",
    "\n",
    "The results are stored in hd5 file in the same directory where the video resides. "
   ]
  },
  {
   "cell_type": "code",
   "execution_count": 9,
   "metadata": {
    "colab": {},
    "colab_type": "code",
    "id": "Y_LZiS_0oEJl",
    "scrolled": false
   },
   "outputs": [
    {
     "name": "stdout",
     "output_type": "stream",
     "text": [
      "Using snapshot-752000 for model F:\\MysoreData\\nbk\\mouseVideoAnalysis\\Box1\\cam1\\box1_cam1-spencerloggia-2021-02-07\\dlc-models\\iteration-0\\box1_cam1Feb7-trainset95shuffle1\n",
      "Initializing ResNet\n",
      "WARNING: Entity <bound method Conv.call of <tensorflow.python.layers.convolutional.Conv2D object at 0x0000023EC8753048>> could not be transformed and will be executed as-is. Please report this to the AutgoGraph team. When filing the bug, set the verbosity to 10 (on Linux, `export AUTOGRAPH_VERBOSITY=10`) and attach the full output. Cause: converting <bound method Conv.call of <tensorflow.python.layers.convolutional.Conv2D object at 0x0000023EC8753048>>: AssertionError: Bad argument number for Name: 3, expecting 4\n",
      "WARNING: Entity <bound method BatchNormalization.call of <tensorflow.python.layers.normalization.BatchNormalization object at 0x0000023EC8782128>> could not be transformed and will be executed as-is. Please report this to the AutgoGraph team. When filing the bug, set the verbosity to 10 (on Linux, `export AUTOGRAPH_VERBOSITY=10`) and attach the full output. Cause: converting <bound method BatchNormalization.call of <tensorflow.python.layers.normalization.BatchNormalization object at 0x0000023EC8782128>>: AssertionError: Bad argument number for Name: 3, expecting 4\n",
      "WARNING: Entity <bound method Pooling2D.call of <tensorflow.python.layers.pooling.MaxPooling2D object at 0x0000023EC8753F60>> could not be transformed and will be executed as-is. Please report this to the AutgoGraph team. When filing the bug, set the verbosity to 10 (on Linux, `export AUTOGRAPH_VERBOSITY=10`) and attach the full output. Cause: converting <bound method Pooling2D.call of <tensorflow.python.layers.pooling.MaxPooling2D object at 0x0000023EC8753F60>>: AssertionError: Bad argument number for Name: 3, expecting 4\n",
      "WARNING: Entity <bound method Conv.call of <tensorflow.python.layers.convolutional.Conv2D object at 0x0000023EC88808D0>> could not be transformed and will be executed as-is. Please report this to the AutgoGraph team. When filing the bug, set the verbosity to 10 (on Linux, `export AUTOGRAPH_VERBOSITY=10`) and attach the full output. Cause: converting <bound method Conv.call of <tensorflow.python.layers.convolutional.Conv2D object at 0x0000023EC88808D0>>: AssertionError: Bad argument number for Name: 3, expecting 4\n",
      "WARNING: Entity <bound method BatchNormalization.call of <tensorflow.python.layers.normalization.BatchNormalization object at 0x0000023EC87827B8>> could not be transformed and will be executed as-is. Please report this to the AutgoGraph team. When filing the bug, set the verbosity to 10 (on Linux, `export AUTOGRAPH_VERBOSITY=10`) and attach the full output. Cause: converting <bound method BatchNormalization.call of <tensorflow.python.layers.normalization.BatchNormalization object at 0x0000023EC87827B8>>: AssertionError: Bad argument number for Name: 3, expecting 4\n",
      "WARNING: Entity <bound method Conv.call of <tensorflow.python.layers.convolutional.Conv2D object at 0x0000023EC8880940>> could not be transformed and will be executed as-is. Please report this to the AutgoGraph team. When filing the bug, set the verbosity to 10 (on Linux, `export AUTOGRAPH_VERBOSITY=10`) and attach the full output. Cause: converting <bound method Conv.call of <tensorflow.python.layers.convolutional.Conv2D object at 0x0000023EC8880940>>: AssertionError: Bad argument number for Name: 3, expecting 4\n",
      "WARNING: Entity <bound method BatchNormalization.call of <tensorflow.python.layers.normalization.BatchNormalization object at 0x0000023EC87827B8>> could not be transformed and will be executed as-is. Please report this to the AutgoGraph team. When filing the bug, set the verbosity to 10 (on Linux, `export AUTOGRAPH_VERBOSITY=10`) and attach the full output. Cause: converting <bound method BatchNormalization.call of <tensorflow.python.layers.normalization.BatchNormalization object at 0x0000023EC87827B8>>: AssertionError: Bad argument number for Name: 3, expecting 4\n",
      "WARNING: Entity <bound method Conv.call of <tensorflow.python.layers.convolutional.Conv2D object at 0x0000023EC8880D30>> could not be transformed and will be executed as-is. Please report this to the AutgoGraph team. When filing the bug, set the verbosity to 10 (on Linux, `export AUTOGRAPH_VERBOSITY=10`) and attach the full output. Cause: converting <bound method Conv.call of <tensorflow.python.layers.convolutional.Conv2D object at 0x0000023EC8880D30>>: AssertionError: Bad argument number for Name: 3, expecting 4\n",
      "WARNING: Entity <bound method BatchNormalization.call of <tensorflow.python.layers.normalization.BatchNormalization object at 0x0000023EC87821D0>> could not be transformed and will be executed as-is. Please report this to the AutgoGraph team. When filing the bug, set the verbosity to 10 (on Linux, `export AUTOGRAPH_VERBOSITY=10`) and attach the full output. Cause: converting <bound method BatchNormalization.call of <tensorflow.python.layers.normalization.BatchNormalization object at 0x0000023EC87821D0>>: AssertionError: Bad argument number for Name: 3, expecting 4\n",
      "WARNING: Entity <bound method Conv.call of <tensorflow.python.layers.convolutional.Conv2D object at 0x0000023EC8880D30>> could not be transformed and will be executed as-is. Please report this to the AutgoGraph team. When filing the bug, set the verbosity to 10 (on Linux, `export AUTOGRAPH_VERBOSITY=10`) and attach the full output. Cause: converting <bound method Conv.call of <tensorflow.python.layers.convolutional.Conv2D object at 0x0000023EC8880D30>>: AssertionError: Bad argument number for Name: 3, expecting 4\n",
      "WARNING: Entity <bound method BatchNormalization.call of <tensorflow.python.layers.normalization.BatchNormalization object at 0x0000023EC887D438>> could not be transformed and will be executed as-is. Please report this to the AutgoGraph team. When filing the bug, set the verbosity to 10 (on Linux, `export AUTOGRAPH_VERBOSITY=10`) and attach the full output. Cause: converting <bound method BatchNormalization.call of <tensorflow.python.layers.normalization.BatchNormalization object at 0x0000023EC887D438>>: AssertionError: Bad argument number for Name: 3, expecting 4\n",
      "WARNING: Entity <bound method Conv.call of <tensorflow.python.layers.convolutional.Conv2D object at 0x0000023EC8722DA0>> could not be transformed and will be executed as-is. Please report this to the AutgoGraph team. When filing the bug, set the verbosity to 10 (on Linux, `export AUTOGRAPH_VERBOSITY=10`) and attach the full output. Cause: converting <bound method Conv.call of <tensorflow.python.layers.convolutional.Conv2D object at 0x0000023EC8722DA0>>: AssertionError: Bad argument number for Name: 3, expecting 4\n",
      "WARNING: Entity <bound method BatchNormalization.call of <tensorflow.python.layers.normalization.BatchNormalization object at 0x0000023E77A6ECC0>> could not be transformed and will be executed as-is. Please report this to the AutgoGraph team. When filing the bug, set the verbosity to 10 (on Linux, `export AUTOGRAPH_VERBOSITY=10`) and attach the full output. Cause: converting <bound method BatchNormalization.call of <tensorflow.python.layers.normalization.BatchNormalization object at 0x0000023E77A6ECC0>>: AssertionError: Bad argument number for Name: 3, expecting 4\n",
      "WARNING: Entity <bound method Conv.call of <tensorflow.python.layers.convolutional.Conv2D object at 0x0000023EC8880320>> could not be transformed and will be executed as-is. Please report this to the AutgoGraph team. When filing the bug, set the verbosity to 10 (on Linux, `export AUTOGRAPH_VERBOSITY=10`) and attach the full output. Cause: converting <bound method Conv.call of <tensorflow.python.layers.convolutional.Conv2D object at 0x0000023EC8880320>>: AssertionError: Bad argument number for Name: 3, expecting 4\n",
      "WARNING: Entity <bound method BatchNormalization.call of <tensorflow.python.layers.normalization.BatchNormalization object at 0x0000023EC8782D68>> could not be transformed and will be executed as-is. Please report this to the AutgoGraph team. When filing the bug, set the verbosity to 10 (on Linux, `export AUTOGRAPH_VERBOSITY=10`) and attach the full output. Cause: converting <bound method BatchNormalization.call of <tensorflow.python.layers.normalization.BatchNormalization object at 0x0000023EC8782D68>>: AssertionError: Bad argument number for Name: 3, expecting 4\n"
     ]
    },
    {
     "name": "stdout",
     "output_type": "stream",
     "text": [
      "WARNING: Entity <bound method Conv.call of <tensorflow.python.layers.convolutional.Conv2D object at 0x0000023EC89175F8>> could not be transformed and will be executed as-is. Please report this to the AutgoGraph team. When filing the bug, set the verbosity to 10 (on Linux, `export AUTOGRAPH_VERBOSITY=10`) and attach the full output. Cause: converting <bound method Conv.call of <tensorflow.python.layers.convolutional.Conv2D object at 0x0000023EC89175F8>>: AssertionError: Bad argument number for Name: 3, expecting 4\n",
      "WARNING: Entity <bound method BatchNormalization.call of <tensorflow.python.layers.normalization.BatchNormalization object at 0x0000023EC87829B0>> could not be transformed and will be executed as-is. Please report this to the AutgoGraph team. When filing the bug, set the verbosity to 10 (on Linux, `export AUTOGRAPH_VERBOSITY=10`) and attach the full output. Cause: converting <bound method BatchNormalization.call of <tensorflow.python.layers.normalization.BatchNormalization object at 0x0000023EC87829B0>>: AssertionError: Bad argument number for Name: 3, expecting 4\n",
      "WARNING: Entity <bound method Pooling2D.call of <tensorflow.python.layers.pooling.MaxPooling2D object at 0x0000023EC8782908>> could not be transformed and will be executed as-is. Please report this to the AutgoGraph team. When filing the bug, set the verbosity to 10 (on Linux, `export AUTOGRAPH_VERBOSITY=10`) and attach the full output. Cause: converting <bound method Pooling2D.call of <tensorflow.python.layers.pooling.MaxPooling2D object at 0x0000023EC8782908>>: AssertionError: Bad argument number for Name: 3, expecting 4\n",
      "WARNING: Entity <bound method Conv.call of <tensorflow.python.layers.convolutional.Conv2D object at 0x0000023EC8917DA0>> could not be transformed and will be executed as-is. Please report this to the AutgoGraph team. When filing the bug, set the verbosity to 10 (on Linux, `export AUTOGRAPH_VERBOSITY=10`) and attach the full output. Cause: converting <bound method Conv.call of <tensorflow.python.layers.convolutional.Conv2D object at 0x0000023EC8917DA0>>: AssertionError: Bad argument number for Name: 3, expecting 4\n",
      "WARNING: Entity <bound method BatchNormalization.call of <tensorflow.python.layers.normalization.BatchNormalization object at 0x0000023EC8B5C3C8>> could not be transformed and will be executed as-is. Please report this to the AutgoGraph team. When filing the bug, set the verbosity to 10 (on Linux, `export AUTOGRAPH_VERBOSITY=10`) and attach the full output. Cause: converting <bound method BatchNormalization.call of <tensorflow.python.layers.normalization.BatchNormalization object at 0x0000023EC8B5C3C8>>: AssertionError: Bad argument number for Name: 3, expecting 4\n",
      "WARNING: Entity <bound method Conv.call of <tensorflow.python.layers.convolutional.Conv2D object at 0x0000023EC887D4A8>> could not be transformed and will be executed as-is. Please report this to the AutgoGraph team. When filing the bug, set the verbosity to 10 (on Linux, `export AUTOGRAPH_VERBOSITY=10`) and attach the full output. Cause: converting <bound method Conv.call of <tensorflow.python.layers.convolutional.Conv2D object at 0x0000023EC887D4A8>>: AssertionError: Bad argument number for Name: 3, expecting 4\n",
      "WARNING: Entity <bound method BatchNormalization.call of <tensorflow.python.layers.normalization.BatchNormalization object at 0x0000023EC8917898>> could not be transformed and will be executed as-is. Please report this to the AutgoGraph team. When filing the bug, set the verbosity to 10 (on Linux, `export AUTOGRAPH_VERBOSITY=10`) and attach the full output. Cause: converting <bound method BatchNormalization.call of <tensorflow.python.layers.normalization.BatchNormalization object at 0x0000023EC8917898>>: AssertionError: Bad argument number for Name: 3, expecting 4\n",
      "WARNING: Entity <bound method Conv.call of <tensorflow.python.layers.convolutional.Conv2D object at 0x0000023EC8B37D30>> could not be transformed and will be executed as-is. Please report this to the AutgoGraph team. When filing the bug, set the verbosity to 10 (on Linux, `export AUTOGRAPH_VERBOSITY=10`) and attach the full output. Cause: converting <bound method Conv.call of <tensorflow.python.layers.convolutional.Conv2D object at 0x0000023EC8B37D30>>: AssertionError: Bad argument number for Name: 3, expecting 4\n",
      "WARNING: Entity <bound method BatchNormalization.call of <tensorflow.python.layers.normalization.BatchNormalization object at 0x0000023EC8917240>> could not be transformed and will be executed as-is. Please report this to the AutgoGraph team. When filing the bug, set the verbosity to 10 (on Linux, `export AUTOGRAPH_VERBOSITY=10`) and attach the full output. Cause: converting <bound method BatchNormalization.call of <tensorflow.python.layers.normalization.BatchNormalization object at 0x0000023EC8917240>>: AssertionError: Bad argument number for Name: 3, expecting 4\n",
      "WARNING: Entity <bound method Conv.call of <tensorflow.python.layers.convolutional.Conv2D object at 0x0000023EC8782CC0>> could not be transformed and will be executed as-is. Please report this to the AutgoGraph team. When filing the bug, set the verbosity to 10 (on Linux, `export AUTOGRAPH_VERBOSITY=10`) and attach the full output. Cause: converting <bound method Conv.call of <tensorflow.python.layers.convolutional.Conv2D object at 0x0000023EC8782CC0>>: AssertionError: Bad argument number for Name: 3, expecting 4\n",
      "WARNING: Entity <bound method BatchNormalization.call of <tensorflow.python.layers.normalization.BatchNormalization object at 0x0000023EC8917320>> could not be transformed and will be executed as-is. Please report this to the AutgoGraph team. When filing the bug, set the verbosity to 10 (on Linux, `export AUTOGRAPH_VERBOSITY=10`) and attach the full output. Cause: converting <bound method BatchNormalization.call of <tensorflow.python.layers.normalization.BatchNormalization object at 0x0000023EC8917320>>: AssertionError: Bad argument number for Name: 3, expecting 4\n",
      "WARNING: Entity <bound method Conv.call of <tensorflow.python.layers.convolutional.Conv2D object at 0x0000023EC8C90390>> could not be transformed and will be executed as-is. Please report this to the AutgoGraph team. When filing the bug, set the verbosity to 10 (on Linux, `export AUTOGRAPH_VERBOSITY=10`) and attach the full output. Cause: converting <bound method Conv.call of <tensorflow.python.layers.convolutional.Conv2D object at 0x0000023EC8C90390>>: AssertionError: Bad argument number for Name: 3, expecting 4\n",
      "WARNING: Entity <bound method BatchNormalization.call of <tensorflow.python.layers.normalization.BatchNormalization object at 0x0000023EC886FA58>> could not be transformed and will be executed as-is. Please report this to the AutgoGraph team. When filing the bug, set the verbosity to 10 (on Linux, `export AUTOGRAPH_VERBOSITY=10`) and attach the full output. Cause: converting <bound method BatchNormalization.call of <tensorflow.python.layers.normalization.BatchNormalization object at 0x0000023EC886FA58>>: AssertionError: Bad argument number for Name: 3, expecting 4\n",
      "WARNING: Entity <bound method Conv.call of <tensorflow.python.layers.convolutional.Conv2D object at 0x0000023EC8BD8198>> could not be transformed and will be executed as-is. Please report this to the AutgoGraph team. When filing the bug, set the verbosity to 10 (on Linux, `export AUTOGRAPH_VERBOSITY=10`) and attach the full output. Cause: converting <bound method Conv.call of <tensorflow.python.layers.convolutional.Conv2D object at 0x0000023EC8BD8198>>: AssertionError: Bad argument number for Name: 3, expecting 4\n",
      "WARNING: Entity <bound method BatchNormalization.call of <tensorflow.python.layers.normalization.BatchNormalization object at 0x0000023EC8782CC0>> could not be transformed and will be executed as-is. Please report this to the AutgoGraph team. When filing the bug, set the verbosity to 10 (on Linux, `export AUTOGRAPH_VERBOSITY=10`) and attach the full output. Cause: converting <bound method BatchNormalization.call of <tensorflow.python.layers.normalization.BatchNormalization object at 0x0000023EC8782CC0>>: AssertionError: Bad argument number for Name: 3, expecting 4\n",
      "WARNING: Entity <bound method Conv.call of <tensorflow.python.layers.convolutional.Conv2D object at 0x0000023EC8C7DF28>> could not be transformed and will be executed as-is. Please report this to the AutgoGraph team. When filing the bug, set the verbosity to 10 (on Linux, `export AUTOGRAPH_VERBOSITY=10`) and attach the full output. Cause: converting <bound method Conv.call of <tensorflow.python.layers.convolutional.Conv2D object at 0x0000023EC8C7DF28>>: AssertionError: Bad argument number for Name: 3, expecting 4\n",
      "WARNING: Entity <bound method BatchNormalization.call of <tensorflow.python.layers.normalization.BatchNormalization object at 0x0000023EC8A2C5C0>> could not be transformed and will be executed as-is. Please report this to the AutgoGraph team. When filing the bug, set the verbosity to 10 (on Linux, `export AUTOGRAPH_VERBOSITY=10`) and attach the full output. Cause: converting <bound method BatchNormalization.call of <tensorflow.python.layers.normalization.BatchNormalization object at 0x0000023EC8A2C5C0>>: AssertionError: Bad argument number for Name: 3, expecting 4\n"
     ]
    },
    {
     "name": "stdout",
     "output_type": "stream",
     "text": [
      "WARNING: Entity <bound method Conv.call of <tensorflow.python.layers.convolutional.Conv2D object at 0x0000023EC87D15F8>> could not be transformed and will be executed as-is. Please report this to the AutgoGraph team. When filing the bug, set the verbosity to 10 (on Linux, `export AUTOGRAPH_VERBOSITY=10`) and attach the full output. Cause: converting <bound method Conv.call of <tensorflow.python.layers.convolutional.Conv2D object at 0x0000023EC87D15F8>>: AssertionError: Bad argument number for Name: 3, expecting 4\n",
      "WARNING: Entity <bound method BatchNormalization.call of <tensorflow.python.layers.normalization.BatchNormalization object at 0x0000023EC8AB24A8>> could not be transformed and will be executed as-is. Please report this to the AutgoGraph team. When filing the bug, set the verbosity to 10 (on Linux, `export AUTOGRAPH_VERBOSITY=10`) and attach the full output. Cause: converting <bound method BatchNormalization.call of <tensorflow.python.layers.normalization.BatchNormalization object at 0x0000023EC8AB24A8>>: AssertionError: Bad argument number for Name: 3, expecting 4\n",
      "WARNING: Entity <bound method Conv.call of <tensorflow.python.layers.convolutional.Conv2D object at 0x0000023EC87D1C88>> could not be transformed and will be executed as-is. Please report this to the AutgoGraph team. When filing the bug, set the verbosity to 10 (on Linux, `export AUTOGRAPH_VERBOSITY=10`) and attach the full output. Cause: converting <bound method Conv.call of <tensorflow.python.layers.convolutional.Conv2D object at 0x0000023EC87D1C88>>: AssertionError: Bad argument number for Name: 3, expecting 4\n",
      "WARNING: Entity <bound method BatchNormalization.call of <tensorflow.python.layers.normalization.BatchNormalization object at 0x0000023EC8D1D518>> could not be transformed and will be executed as-is. Please report this to the AutgoGraph team. When filing the bug, set the verbosity to 10 (on Linux, `export AUTOGRAPH_VERBOSITY=10`) and attach the full output. Cause: converting <bound method BatchNormalization.call of <tensorflow.python.layers.normalization.BatchNormalization object at 0x0000023EC8D1D518>>: AssertionError: Bad argument number for Name: 3, expecting 4\n",
      "WARNING: Entity <bound method Conv.call of <tensorflow.python.layers.convolutional.Conv2D object at 0x0000023EC8D1DFD0>> could not be transformed and will be executed as-is. Please report this to the AutgoGraph team. When filing the bug, set the verbosity to 10 (on Linux, `export AUTOGRAPH_VERBOSITY=10`) and attach the full output. Cause: converting <bound method Conv.call of <tensorflow.python.layers.convolutional.Conv2D object at 0x0000023EC8D1DFD0>>: AssertionError: Bad argument number for Name: 3, expecting 4\n",
      "WARNING: Entity <bound method BatchNormalization.call of <tensorflow.python.layers.normalization.BatchNormalization object at 0x0000023EC8BC89E8>> could not be transformed and will be executed as-is. Please report this to the AutgoGraph team. When filing the bug, set the verbosity to 10 (on Linux, `export AUTOGRAPH_VERBOSITY=10`) and attach the full output. Cause: converting <bound method BatchNormalization.call of <tensorflow.python.layers.normalization.BatchNormalization object at 0x0000023EC8BC89E8>>: AssertionError: Bad argument number for Name: 3, expecting 4\n",
      "WARNING: Entity <bound method Conv.call of <tensorflow.python.layers.convolutional.Conv2D object at 0x0000023EC88F5D68>> could not be transformed and will be executed as-is. Please report this to the AutgoGraph team. When filing the bug, set the verbosity to 10 (on Linux, `export AUTOGRAPH_VERBOSITY=10`) and attach the full output. Cause: converting <bound method Conv.call of <tensorflow.python.layers.convolutional.Conv2D object at 0x0000023EC88F5D68>>: AssertionError: Bad argument number for Name: 3, expecting 4\n",
      "WARNING: Entity <bound method BatchNormalization.call of <tensorflow.python.layers.normalization.BatchNormalization object at 0x0000023EC8BC8F28>> could not be transformed and will be executed as-is. Please report this to the AutgoGraph team. When filing the bug, set the verbosity to 10 (on Linux, `export AUTOGRAPH_VERBOSITY=10`) and attach the full output. Cause: converting <bound method BatchNormalization.call of <tensorflow.python.layers.normalization.BatchNormalization object at 0x0000023EC8BC8F28>>: AssertionError: Bad argument number for Name: 3, expecting 4\n",
      "WARNING: Entity <bound method Conv.call of <tensorflow.python.layers.convolutional.Conv2D object at 0x0000023EC8ECF908>> could not be transformed and will be executed as-is. Please report this to the AutgoGraph team. When filing the bug, set the verbosity to 10 (on Linux, `export AUTOGRAPH_VERBOSITY=10`) and attach the full output. Cause: converting <bound method Conv.call of <tensorflow.python.layers.convolutional.Conv2D object at 0x0000023EC8ECF908>>: AssertionError: Bad argument number for Name: 3, expecting 4\n",
      "WARNING: Entity <bound method BatchNormalization.call of <tensorflow.python.layers.normalization.BatchNormalization object at 0x0000023EC8B67780>> could not be transformed and will be executed as-is. Please report this to the AutgoGraph team. When filing the bug, set the verbosity to 10 (on Linux, `export AUTOGRAPH_VERBOSITY=10`) and attach the full output. Cause: converting <bound method BatchNormalization.call of <tensorflow.python.layers.normalization.BatchNormalization object at 0x0000023EC8B67780>>: AssertionError: Bad argument number for Name: 3, expecting 4\n",
      "WARNING: Entity <bound method Conv.call of <tensorflow.python.layers.convolutional.Conv2D object at 0x0000023EC88F5710>> could not be transformed and will be executed as-is. Please report this to the AutgoGraph team. When filing the bug, set the verbosity to 10 (on Linux, `export AUTOGRAPH_VERBOSITY=10`) and attach the full output. Cause: converting <bound method Conv.call of <tensorflow.python.layers.convolutional.Conv2D object at 0x0000023EC88F5710>>: AssertionError: Bad argument number for Name: 3, expecting 4\n",
      "WARNING: Entity <bound method BatchNormalization.call of <tensorflow.python.layers.normalization.BatchNormalization object at 0x0000023EC8B67358>> could not be transformed and will be executed as-is. Please report this to the AutgoGraph team. When filing the bug, set the verbosity to 10 (on Linux, `export AUTOGRAPH_VERBOSITY=10`) and attach the full output. Cause: converting <bound method BatchNormalization.call of <tensorflow.python.layers.normalization.BatchNormalization object at 0x0000023EC8B67358>>: AssertionError: Bad argument number for Name: 3, expecting 4\n",
      "WARNING: Entity <bound method Pooling2D.call of <tensorflow.python.layers.pooling.MaxPooling2D object at 0x0000023EC8FBC8D0>> could not be transformed and will be executed as-is. Please report this to the AutgoGraph team. When filing the bug, set the verbosity to 10 (on Linux, `export AUTOGRAPH_VERBOSITY=10`) and attach the full output. Cause: converting <bound method Pooling2D.call of <tensorflow.python.layers.pooling.MaxPooling2D object at 0x0000023EC8FBC8D0>>: AssertionError: Bad argument number for Name: 3, expecting 4\n",
      "WARNING: Entity <bound method Conv.call of <tensorflow.python.layers.convolutional.Conv2D object at 0x0000023EC88F5710>> could not be transformed and will be executed as-is. Please report this to the AutgoGraph team. When filing the bug, set the verbosity to 10 (on Linux, `export AUTOGRAPH_VERBOSITY=10`) and attach the full output. Cause: converting <bound method Conv.call of <tensorflow.python.layers.convolutional.Conv2D object at 0x0000023EC88F5710>>: AssertionError: Bad argument number for Name: 3, expecting 4\n",
      "WARNING: Entity <bound method BatchNormalization.call of <tensorflow.python.layers.normalization.BatchNormalization object at 0x0000023EC8D1D710>> could not be transformed and will be executed as-is. Please report this to the AutgoGraph team. When filing the bug, set the verbosity to 10 (on Linux, `export AUTOGRAPH_VERBOSITY=10`) and attach the full output. Cause: converting <bound method BatchNormalization.call of <tensorflow.python.layers.normalization.BatchNormalization object at 0x0000023EC8D1D710>>: AssertionError: Bad argument number for Name: 3, expecting 4\n",
      "WARNING: Entity <bound method Conv.call of <tensorflow.python.layers.convolutional.Conv2D object at 0x0000023EC900F0B8>> could not be transformed and will be executed as-is. Please report this to the AutgoGraph team. When filing the bug, set the verbosity to 10 (on Linux, `export AUTOGRAPH_VERBOSITY=10`) and attach the full output. Cause: converting <bound method Conv.call of <tensorflow.python.layers.convolutional.Conv2D object at 0x0000023EC900F0B8>>: AssertionError: Bad argument number for Name: 3, expecting 4\n",
      "WARNING: Entity <bound method BatchNormalization.call of <tensorflow.python.layers.normalization.BatchNormalization object at 0x0000023EC8DF0DD8>> could not be transformed and will be executed as-is. Please report this to the AutgoGraph team. When filing the bug, set the verbosity to 10 (on Linux, `export AUTOGRAPH_VERBOSITY=10`) and attach the full output. Cause: converting <bound method BatchNormalization.call of <tensorflow.python.layers.normalization.BatchNormalization object at 0x0000023EC8DF0DD8>>: AssertionError: Bad argument number for Name: 3, expecting 4\n",
      "WARNING: Entity <bound method Conv.call of <tensorflow.python.layers.convolutional.Conv2D object at 0x0000023EC907CC50>> could not be transformed and will be executed as-is. Please report this to the AutgoGraph team. When filing the bug, set the verbosity to 10 (on Linux, `export AUTOGRAPH_VERBOSITY=10`) and attach the full output. Cause: converting <bound method Conv.call of <tensorflow.python.layers.convolutional.Conv2D object at 0x0000023EC907CC50>>: AssertionError: Bad argument number for Name: 3, expecting 4\n",
      "WARNING: Entity <bound method BatchNormalization.call of <tensorflow.python.layers.normalization.BatchNormalization object at 0x0000023EC9051F60>> could not be transformed and will be executed as-is. Please report this to the AutgoGraph team. When filing the bug, set the verbosity to 10 (on Linux, `export AUTOGRAPH_VERBOSITY=10`) and attach the full output. Cause: converting <bound method BatchNormalization.call of <tensorflow.python.layers.normalization.BatchNormalization object at 0x0000023EC9051F60>>: AssertionError: Bad argument number for Name: 3, expecting 4\n"
     ]
    },
    {
     "name": "stdout",
     "output_type": "stream",
     "text": [
      "WARNING: Entity <bound method Conv.call of <tensorflow.python.layers.convolutional.Conv2D object at 0x0000023EC907C668>> could not be transformed and will be executed as-is. Please report this to the AutgoGraph team. When filing the bug, set the verbosity to 10 (on Linux, `export AUTOGRAPH_VERBOSITY=10`) and attach the full output. Cause: converting <bound method Conv.call of <tensorflow.python.layers.convolutional.Conv2D object at 0x0000023EC907C668>>: AssertionError: Bad argument number for Name: 3, expecting 4\n",
      "WARNING: Entity <bound method BatchNormalization.call of <tensorflow.python.layers.normalization.BatchNormalization object at 0x0000023EC9238978>> could not be transformed and will be executed as-is. Please report this to the AutgoGraph team. When filing the bug, set the verbosity to 10 (on Linux, `export AUTOGRAPH_VERBOSITY=10`) and attach the full output. Cause: converting <bound method BatchNormalization.call of <tensorflow.python.layers.normalization.BatchNormalization object at 0x0000023EC9238978>>: AssertionError: Bad argument number for Name: 3, expecting 4\n",
      "WARNING: Entity <bound method Conv.call of <tensorflow.python.layers.convolutional.Conv2D object at 0x0000023EC91270B8>> could not be transformed and will be executed as-is. Please report this to the AutgoGraph team. When filing the bug, set the verbosity to 10 (on Linux, `export AUTOGRAPH_VERBOSITY=10`) and attach the full output. Cause: converting <bound method Conv.call of <tensorflow.python.layers.convolutional.Conv2D object at 0x0000023EC91270B8>>: AssertionError: Bad argument number for Name: 3, expecting 4\n",
      "WARNING: Entity <bound method BatchNormalization.call of <tensorflow.python.layers.normalization.BatchNormalization object at 0x0000023EC92432E8>> could not be transformed and will be executed as-is. Please report this to the AutgoGraph team. When filing the bug, set the verbosity to 10 (on Linux, `export AUTOGRAPH_VERBOSITY=10`) and attach the full output. Cause: converting <bound method BatchNormalization.call of <tensorflow.python.layers.normalization.BatchNormalization object at 0x0000023EC92432E8>>: AssertionError: Bad argument number for Name: 3, expecting 4\n",
      "WARNING: Entity <bound method Conv.call of <tensorflow.python.layers.convolutional.Conv2D object at 0x0000023EC8B67550>> could not be transformed and will be executed as-is. Please report this to the AutgoGraph team. When filing the bug, set the verbosity to 10 (on Linux, `export AUTOGRAPH_VERBOSITY=10`) and attach the full output. Cause: converting <bound method Conv.call of <tensorflow.python.layers.convolutional.Conv2D object at 0x0000023EC8B67550>>: AssertionError: Bad argument number for Name: 3, expecting 4\n",
      "WARNING: Entity <bound method BatchNormalization.call of <tensorflow.python.layers.normalization.BatchNormalization object at 0x0000023EC926FDD8>> could not be transformed and will be executed as-is. Please report this to the AutgoGraph team. When filing the bug, set the verbosity to 10 (on Linux, `export AUTOGRAPH_VERBOSITY=10`) and attach the full output. Cause: converting <bound method BatchNormalization.call of <tensorflow.python.layers.normalization.BatchNormalization object at 0x0000023EC926FDD8>>: AssertionError: Bad argument number for Name: 3, expecting 4\n",
      "WARNING: Entity <bound method Conv.call of <tensorflow.python.layers.convolutional.Conv2D object at 0x0000023EC9238978>> could not be transformed and will be executed as-is. Please report this to the AutgoGraph team. When filing the bug, set the verbosity to 10 (on Linux, `export AUTOGRAPH_VERBOSITY=10`) and attach the full output. Cause: converting <bound method Conv.call of <tensorflow.python.layers.convolutional.Conv2D object at 0x0000023EC9238978>>: AssertionError: Bad argument number for Name: 3, expecting 4\n",
      "WARNING: Entity <bound method BatchNormalization.call of <tensorflow.python.layers.normalization.BatchNormalization object at 0x0000023EC8FBF6D8>> could not be transformed and will be executed as-is. Please report this to the AutgoGraph team. When filing the bug, set the verbosity to 10 (on Linux, `export AUTOGRAPH_VERBOSITY=10`) and attach the full output. Cause: converting <bound method BatchNormalization.call of <tensorflow.python.layers.normalization.BatchNormalization object at 0x0000023EC8FBF6D8>>: AssertionError: Bad argument number for Name: 3, expecting 4\n",
      "WARNING: Entity <bound method Conv.call of <tensorflow.python.layers.convolutional.Conv2D object at 0x0000023EC93302E8>> could not be transformed and will be executed as-is. Please report this to the AutgoGraph team. When filing the bug, set the verbosity to 10 (on Linux, `export AUTOGRAPH_VERBOSITY=10`) and attach the full output. Cause: converting <bound method Conv.call of <tensorflow.python.layers.convolutional.Conv2D object at 0x0000023EC93302E8>>: AssertionError: Bad argument number for Name: 3, expecting 4\n",
      "WARNING: Entity <bound method BatchNormalization.call of <tensorflow.python.layers.normalization.BatchNormalization object at 0x0000023EC900F518>> could not be transformed and will be executed as-is. Please report this to the AutgoGraph team. When filing the bug, set the verbosity to 10 (on Linux, `export AUTOGRAPH_VERBOSITY=10`) and attach the full output. Cause: converting <bound method BatchNormalization.call of <tensorflow.python.layers.normalization.BatchNormalization object at 0x0000023EC900F518>>: AssertionError: Bad argument number for Name: 3, expecting 4\n",
      "WARNING: Entity <bound method Conv.call of <tensorflow.python.layers.convolutional.Conv2D object at 0x0000023EC9206D68>> could not be transformed and will be executed as-is. Please report this to the AutgoGraph team. When filing the bug, set the verbosity to 10 (on Linux, `export AUTOGRAPH_VERBOSITY=10`) and attach the full output. Cause: converting <bound method Conv.call of <tensorflow.python.layers.convolutional.Conv2D object at 0x0000023EC9206D68>>: AssertionError: Bad argument number for Name: 3, expecting 4\n",
      "WARNING: Entity <bound method BatchNormalization.call of <tensorflow.python.layers.normalization.BatchNormalization object at 0x0000023EC9127940>> could not be transformed and will be executed as-is. Please report this to the AutgoGraph team. When filing the bug, set the verbosity to 10 (on Linux, `export AUTOGRAPH_VERBOSITY=10`) and attach the full output. Cause: converting <bound method BatchNormalization.call of <tensorflow.python.layers.normalization.BatchNormalization object at 0x0000023EC9127940>>: AssertionError: Bad argument number for Name: 3, expecting 4\n",
      "WARNING: Entity <bound method Conv.call of <tensorflow.python.layers.convolutional.Conv2D object at 0x0000023EC8B67550>> could not be transformed and will be executed as-is. Please report this to the AutgoGraph team. When filing the bug, set the verbosity to 10 (on Linux, `export AUTOGRAPH_VERBOSITY=10`) and attach the full output. Cause: converting <bound method Conv.call of <tensorflow.python.layers.convolutional.Conv2D object at 0x0000023EC8B67550>>: AssertionError: Bad argument number for Name: 3, expecting 4\n",
      "WARNING: Entity <bound method BatchNormalization.call of <tensorflow.python.layers.normalization.BatchNormalization object at 0x0000023EC93F9A58>> could not be transformed and will be executed as-is. Please report this to the AutgoGraph team. When filing the bug, set the verbosity to 10 (on Linux, `export AUTOGRAPH_VERBOSITY=10`) and attach the full output. Cause: converting <bound method BatchNormalization.call of <tensorflow.python.layers.normalization.BatchNormalization object at 0x0000023EC93F9A58>>: AssertionError: Bad argument number for Name: 3, expecting 4\n",
      "WARNING: Entity <bound method Conv.call of <tensorflow.python.layers.convolutional.Conv2D object at 0x0000023EC887D2E8>> could not be transformed and will be executed as-is. Please report this to the AutgoGraph team. When filing the bug, set the verbosity to 10 (on Linux, `export AUTOGRAPH_VERBOSITY=10`) and attach the full output. Cause: converting <bound method Conv.call of <tensorflow.python.layers.convolutional.Conv2D object at 0x0000023EC887D2E8>>: AssertionError: Bad argument number for Name: 3, expecting 4\n",
      "WARNING: Entity <bound method BatchNormalization.call of <tensorflow.python.layers.normalization.BatchNormalization object at 0x0000023EC9589EB8>> could not be transformed and will be executed as-is. Please report this to the AutgoGraph team. When filing the bug, set the verbosity to 10 (on Linux, `export AUTOGRAPH_VERBOSITY=10`) and attach the full output. Cause: converting <bound method BatchNormalization.call of <tensorflow.python.layers.normalization.BatchNormalization object at 0x0000023EC9589EB8>>: AssertionError: Bad argument number for Name: 3, expecting 4\n"
     ]
    },
    {
     "name": "stdout",
     "output_type": "stream",
     "text": [
      "WARNING: Entity <bound method Conv.call of <tensorflow.python.layers.convolutional.Conv2D object at 0x0000023EC94EEE10>> could not be transformed and will be executed as-is. Please report this to the AutgoGraph team. When filing the bug, set the verbosity to 10 (on Linux, `export AUTOGRAPH_VERBOSITY=10`) and attach the full output. Cause: converting <bound method Conv.call of <tensorflow.python.layers.convolutional.Conv2D object at 0x0000023EC94EEE10>>: AssertionError: Bad argument number for Name: 3, expecting 4\n",
      "WARNING: Entity <bound method BatchNormalization.call of <tensorflow.python.layers.normalization.BatchNormalization object at 0x0000023EC9243240>> could not be transformed and will be executed as-is. Please report this to the AutgoGraph team. When filing the bug, set the verbosity to 10 (on Linux, `export AUTOGRAPH_VERBOSITY=10`) and attach the full output. Cause: converting <bound method BatchNormalization.call of <tensorflow.python.layers.normalization.BatchNormalization object at 0x0000023EC9243240>>: AssertionError: Bad argument number for Name: 3, expecting 4\n",
      "WARNING: Entity <bound method Conv.call of <tensorflow.python.layers.convolutional.Conv2D object at 0x0000023EC94EE7F0>> could not be transformed and will be executed as-is. Please report this to the AutgoGraph team. When filing the bug, set the verbosity to 10 (on Linux, `export AUTOGRAPH_VERBOSITY=10`) and attach the full output. Cause: converting <bound method Conv.call of <tensorflow.python.layers.convolutional.Conv2D object at 0x0000023EC94EE7F0>>: AssertionError: Bad argument number for Name: 3, expecting 4\n",
      "WARNING: Entity <bound method BatchNormalization.call of <tensorflow.python.layers.normalization.BatchNormalization object at 0x0000023EC926FDA0>> could not be transformed and will be executed as-is. Please report this to the AutgoGraph team. When filing the bug, set the verbosity to 10 (on Linux, `export AUTOGRAPH_VERBOSITY=10`) and attach the full output. Cause: converting <bound method BatchNormalization.call of <tensorflow.python.layers.normalization.BatchNormalization object at 0x0000023EC926FDA0>>: AssertionError: Bad argument number for Name: 3, expecting 4\n",
      "WARNING: Entity <bound method Conv.call of <tensorflow.python.layers.convolutional.Conv2D object at 0x0000023EC94EE7F0>> could not be transformed and will be executed as-is. Please report this to the AutgoGraph team. When filing the bug, set the verbosity to 10 (on Linux, `export AUTOGRAPH_VERBOSITY=10`) and attach the full output. Cause: converting <bound method Conv.call of <tensorflow.python.layers.convolutional.Conv2D object at 0x0000023EC94EE7F0>>: AssertionError: Bad argument number for Name: 3, expecting 4\n",
      "WARNING: Entity <bound method BatchNormalization.call of <tensorflow.python.layers.normalization.BatchNormalization object at 0x0000023EC9367DD8>> could not be transformed and will be executed as-is. Please report this to the AutgoGraph team. When filing the bug, set the verbosity to 10 (on Linux, `export AUTOGRAPH_VERBOSITY=10`) and attach the full output. Cause: converting <bound method BatchNormalization.call of <tensorflow.python.layers.normalization.BatchNormalization object at 0x0000023EC9367DD8>>: AssertionError: Bad argument number for Name: 3, expecting 4\n",
      "WARNING: Entity <bound method Conv.call of <tensorflow.python.layers.convolutional.Conv2D object at 0x0000023EC95CEAC8>> could not be transformed and will be executed as-is. Please report this to the AutgoGraph team. When filing the bug, set the verbosity to 10 (on Linux, `export AUTOGRAPH_VERBOSITY=10`) and attach the full output. Cause: converting <bound method Conv.call of <tensorflow.python.layers.convolutional.Conv2D object at 0x0000023EC95CEAC8>>: AssertionError: Bad argument number for Name: 3, expecting 4\n",
      "WARNING: Entity <bound method BatchNormalization.call of <tensorflow.python.layers.normalization.BatchNormalization object at 0x0000023EC975EB00>> could not be transformed and will be executed as-is. Please report this to the AutgoGraph team. When filing the bug, set the verbosity to 10 (on Linux, `export AUTOGRAPH_VERBOSITY=10`) and attach the full output. Cause: converting <bound method BatchNormalization.call of <tensorflow.python.layers.normalization.BatchNormalization object at 0x0000023EC975EB00>>: AssertionError: Bad argument number for Name: 3, expecting 4\n",
      "WARNING: Entity <bound method Conv.call of <tensorflow.python.layers.convolutional.Conv2D object at 0x0000023EC947FB00>> could not be transformed and will be executed as-is. Please report this to the AutgoGraph team. When filing the bug, set the verbosity to 10 (on Linux, `export AUTOGRAPH_VERBOSITY=10`) and attach the full output. Cause: converting <bound method Conv.call of <tensorflow.python.layers.convolutional.Conv2D object at 0x0000023EC947FB00>>: AssertionError: Bad argument number for Name: 3, expecting 4\n",
      "WARNING: Entity <bound method BatchNormalization.call of <tensorflow.python.layers.normalization.BatchNormalization object at 0x0000023EC9367B38>> could not be transformed and will be executed as-is. Please report this to the AutgoGraph team. When filing the bug, set the verbosity to 10 (on Linux, `export AUTOGRAPH_VERBOSITY=10`) and attach the full output. Cause: converting <bound method BatchNormalization.call of <tensorflow.python.layers.normalization.BatchNormalization object at 0x0000023EC9367B38>>: AssertionError: Bad argument number for Name: 3, expecting 4\n",
      "WARNING: Entity <bound method Conv.call of <tensorflow.python.layers.convolutional.Conv2D object at 0x0000023EC9243BE0>> could not be transformed and will be executed as-is. Please report this to the AutgoGraph team. When filing the bug, set the verbosity to 10 (on Linux, `export AUTOGRAPH_VERBOSITY=10`) and attach the full output. Cause: converting <bound method Conv.call of <tensorflow.python.layers.convolutional.Conv2D object at 0x0000023EC9243BE0>>: AssertionError: Bad argument number for Name: 3, expecting 4\n",
      "WARNING: Entity <bound method BatchNormalization.call of <tensorflow.python.layers.normalization.BatchNormalization object at 0x0000023EC93F9860>> could not be transformed and will be executed as-is. Please report this to the AutgoGraph team. When filing the bug, set the verbosity to 10 (on Linux, `export AUTOGRAPH_VERBOSITY=10`) and attach the full output. Cause: converting <bound method BatchNormalization.call of <tensorflow.python.layers.normalization.BatchNormalization object at 0x0000023EC93F9860>>: AssertionError: Bad argument number for Name: 3, expecting 4\n",
      "WARNING: Entity <bound method Conv.call of <tensorflow.python.layers.convolutional.Conv2D object at 0x0000023EC9710E10>> could not be transformed and will be executed as-is. Please report this to the AutgoGraph team. When filing the bug, set the verbosity to 10 (on Linux, `export AUTOGRAPH_VERBOSITY=10`) and attach the full output. Cause: converting <bound method Conv.call of <tensorflow.python.layers.convolutional.Conv2D object at 0x0000023EC9710E10>>: AssertionError: Bad argument number for Name: 3, expecting 4\n",
      "WARNING: Entity <bound method BatchNormalization.call of <tensorflow.python.layers.normalization.BatchNormalization object at 0x0000023EC93F9128>> could not be transformed and will be executed as-is. Please report this to the AutgoGraph team. When filing the bug, set the verbosity to 10 (on Linux, `export AUTOGRAPH_VERBOSITY=10`) and attach the full output. Cause: converting <bound method BatchNormalization.call of <tensorflow.python.layers.normalization.BatchNormalization object at 0x0000023EC93F9128>>: AssertionError: Bad argument number for Name: 3, expecting 4\n",
      "WARNING: Entity <bound method Conv.call of <tensorflow.python.layers.convolutional.Conv2D object at 0x0000023EC9710E10>> could not be transformed and will be executed as-is. Please report this to the AutgoGraph team. When filing the bug, set the verbosity to 10 (on Linux, `export AUTOGRAPH_VERBOSITY=10`) and attach the full output. Cause: converting <bound method Conv.call of <tensorflow.python.layers.convolutional.Conv2D object at 0x0000023EC9710E10>>: AssertionError: Bad argument number for Name: 3, expecting 4\n",
      "WARNING: Entity <bound method BatchNormalization.call of <tensorflow.python.layers.normalization.BatchNormalization object at 0x0000023EC98E5908>> could not be transformed and will be executed as-is. Please report this to the AutgoGraph team. When filing the bug, set the verbosity to 10 (on Linux, `export AUTOGRAPH_VERBOSITY=10`) and attach the full output. Cause: converting <bound method BatchNormalization.call of <tensorflow.python.layers.normalization.BatchNormalization object at 0x0000023EC98E5908>>: AssertionError: Bad argument number for Name: 3, expecting 4\n",
      "WARNING: Entity <bound method Conv.call of <tensorflow.python.layers.convolutional.Conv2D object at 0x0000023EC9876F28>> could not be transformed and will be executed as-is. Please report this to the AutgoGraph team. When filing the bug, set the verbosity to 10 (on Linux, `export AUTOGRAPH_VERBOSITY=10`) and attach the full output. Cause: converting <bound method Conv.call of <tensorflow.python.layers.convolutional.Conv2D object at 0x0000023EC9876F28>>: AssertionError: Bad argument number for Name: 3, expecting 4\n"
     ]
    },
    {
     "name": "stdout",
     "output_type": "stream",
     "text": [
      "WARNING: Entity <bound method BatchNormalization.call of <tensorflow.python.layers.normalization.BatchNormalization object at 0x0000023EC9545BE0>> could not be transformed and will be executed as-is. Please report this to the AutgoGraph team. When filing the bug, set the verbosity to 10 (on Linux, `export AUTOGRAPH_VERBOSITY=10`) and attach the full output. Cause: converting <bound method BatchNormalization.call of <tensorflow.python.layers.normalization.BatchNormalization object at 0x0000023EC9545BE0>>: AssertionError: Bad argument number for Name: 3, expecting 4\n",
      "WARNING: Entity <bound method Conv.call of <tensorflow.python.layers.convolutional.Conv2D object at 0x0000023EC98A0A58>> could not be transformed and will be executed as-is. Please report this to the AutgoGraph team. When filing the bug, set the verbosity to 10 (on Linux, `export AUTOGRAPH_VERBOSITY=10`) and attach the full output. Cause: converting <bound method Conv.call of <tensorflow.python.layers.convolutional.Conv2D object at 0x0000023EC98A0A58>>: AssertionError: Bad argument number for Name: 3, expecting 4\n",
      "WARNING: Entity <bound method BatchNormalization.call of <tensorflow.python.layers.normalization.BatchNormalization object at 0x0000023EC95CE588>> could not be transformed and will be executed as-is. Please report this to the AutgoGraph team. When filing the bug, set the verbosity to 10 (on Linux, `export AUTOGRAPH_VERBOSITY=10`) and attach the full output. Cause: converting <bound method BatchNormalization.call of <tensorflow.python.layers.normalization.BatchNormalization object at 0x0000023EC95CE588>>: AssertionError: Bad argument number for Name: 3, expecting 4\n",
      "WARNING: Entity <bound method Conv.call of <tensorflow.python.layers.convolutional.Conv2D object at 0x0000023EC98379E8>> could not be transformed and will be executed as-is. Please report this to the AutgoGraph team. When filing the bug, set the verbosity to 10 (on Linux, `export AUTOGRAPH_VERBOSITY=10`) and attach the full output. Cause: converting <bound method Conv.call of <tensorflow.python.layers.convolutional.Conv2D object at 0x0000023EC98379E8>>: AssertionError: Bad argument number for Name: 3, expecting 4\n",
      "WARNING: Entity <bound method BatchNormalization.call of <tensorflow.python.layers.normalization.BatchNormalization object at 0x0000023EC964C048>> could not be transformed and will be executed as-is. Please report this to the AutgoGraph team. When filing the bug, set the verbosity to 10 (on Linux, `export AUTOGRAPH_VERBOSITY=10`) and attach the full output. Cause: converting <bound method BatchNormalization.call of <tensorflow.python.layers.normalization.BatchNormalization object at 0x0000023EC964C048>>: AssertionError: Bad argument number for Name: 3, expecting 4\n",
      "WARNING: Entity <bound method Conv.call of <tensorflow.python.layers.convolutional.Conv2D object at 0x0000023EC95A9D68>> could not be transformed and will be executed as-is. Please report this to the AutgoGraph team. When filing the bug, set the verbosity to 10 (on Linux, `export AUTOGRAPH_VERBOSITY=10`) and attach the full output. Cause: converting <bound method Conv.call of <tensorflow.python.layers.convolutional.Conv2D object at 0x0000023EC95A9D68>>: AssertionError: Bad argument number for Name: 3, expecting 4\n",
      "WARNING: Entity <bound method BatchNormalization.call of <tensorflow.python.layers.normalization.BatchNormalization object at 0x0000023EC97C4DD8>> could not be transformed and will be executed as-is. Please report this to the AutgoGraph team. When filing the bug, set the verbosity to 10 (on Linux, `export AUTOGRAPH_VERBOSITY=10`) and attach the full output. Cause: converting <bound method BatchNormalization.call of <tensorflow.python.layers.normalization.BatchNormalization object at 0x0000023EC97C4DD8>>: AssertionError: Bad argument number for Name: 3, expecting 4\n",
      "WARNING: Entity <bound method Conv.call of <tensorflow.python.layers.convolutional.Conv2D object at 0x0000023EC9A45BA8>> could not be transformed and will be executed as-is. Please report this to the AutgoGraph team. When filing the bug, set the verbosity to 10 (on Linux, `export AUTOGRAPH_VERBOSITY=10`) and attach the full output. Cause: converting <bound method Conv.call of <tensorflow.python.layers.convolutional.Conv2D object at 0x0000023EC9A45BA8>>: AssertionError: Bad argument number for Name: 3, expecting 4\n",
      "WARNING: Entity <bound method BatchNormalization.call of <tensorflow.python.layers.normalization.BatchNormalization object at 0x0000023EC97C4DD8>> could not be transformed and will be executed as-is. Please report this to the AutgoGraph team. When filing the bug, set the verbosity to 10 (on Linux, `export AUTOGRAPH_VERBOSITY=10`) and attach the full output. Cause: converting <bound method BatchNormalization.call of <tensorflow.python.layers.normalization.BatchNormalization object at 0x0000023EC97C4DD8>>: AssertionError: Bad argument number for Name: 3, expecting 4\n",
      "WARNING: Entity <bound method Conv.call of <tensorflow.python.layers.convolutional.Conv2D object at 0x0000023EC98A0A58>> could not be transformed and will be executed as-is. Please report this to the AutgoGraph team. When filing the bug, set the verbosity to 10 (on Linux, `export AUTOGRAPH_VERBOSITY=10`) and attach the full output. Cause: converting <bound method Conv.call of <tensorflow.python.layers.convolutional.Conv2D object at 0x0000023EC98A0A58>>: AssertionError: Bad argument number for Name: 3, expecting 4\n",
      "WARNING: Entity <bound method BatchNormalization.call of <tensorflow.python.layers.normalization.BatchNormalization object at 0x0000023EC9B4CF98>> could not be transformed and will be executed as-is. Please report this to the AutgoGraph team. When filing the bug, set the verbosity to 10 (on Linux, `export AUTOGRAPH_VERBOSITY=10`) and attach the full output. Cause: converting <bound method BatchNormalization.call of <tensorflow.python.layers.normalization.BatchNormalization object at 0x0000023EC9B4CF98>>: AssertionError: Bad argument number for Name: 3, expecting 4\n",
      "WARNING: Entity <bound method Conv.call of <tensorflow.python.layers.convolutional.Conv2D object at 0x0000023EC9B4C080>> could not be transformed and will be executed as-is. Please report this to the AutgoGraph team. When filing the bug, set the verbosity to 10 (on Linux, `export AUTOGRAPH_VERBOSITY=10`) and attach the full output. Cause: converting <bound method Conv.call of <tensorflow.python.layers.convolutional.Conv2D object at 0x0000023EC9B4C080>>: AssertionError: Bad argument number for Name: 3, expecting 4\n",
      "WARNING: Entity <bound method BatchNormalization.call of <tensorflow.python.layers.normalization.BatchNormalization object at 0x0000023EC9CFE278>> could not be transformed and will be executed as-is. Please report this to the AutgoGraph team. When filing the bug, set the verbosity to 10 (on Linux, `export AUTOGRAPH_VERBOSITY=10`) and attach the full output. Cause: converting <bound method BatchNormalization.call of <tensorflow.python.layers.normalization.BatchNormalization object at 0x0000023EC9CFE278>>: AssertionError: Bad argument number for Name: 3, expecting 4\n",
      "WARNING: Entity <bound method Conv.call of <tensorflow.python.layers.convolutional.Conv2D object at 0x0000023EC9B92128>> could not be transformed and will be executed as-is. Please report this to the AutgoGraph team. When filing the bug, set the verbosity to 10 (on Linux, `export AUTOGRAPH_VERBOSITY=10`) and attach the full output. Cause: converting <bound method Conv.call of <tensorflow.python.layers.convolutional.Conv2D object at 0x0000023EC9B92128>>: AssertionError: Bad argument number for Name: 3, expecting 4\n",
      "WARNING: Entity <bound method BatchNormalization.call of <tensorflow.python.layers.normalization.BatchNormalization object at 0x0000023EC99190B8>> could not be transformed and will be executed as-is. Please report this to the AutgoGraph team. When filing the bug, set the verbosity to 10 (on Linux, `export AUTOGRAPH_VERBOSITY=10`) and attach the full output. Cause: converting <bound method BatchNormalization.call of <tensorflow.python.layers.normalization.BatchNormalization object at 0x0000023EC99190B8>>: AssertionError: Bad argument number for Name: 3, expecting 4\n"
     ]
    },
    {
     "name": "stdout",
     "output_type": "stream",
     "text": [
      "WARNING: Entity <bound method Conv.call of <tensorflow.python.layers.convolutional.Conv2D object at 0x0000023EC9D8CF60>> could not be transformed and will be executed as-is. Please report this to the AutgoGraph team. When filing the bug, set the verbosity to 10 (on Linux, `export AUTOGRAPH_VERBOSITY=10`) and attach the full output. Cause: converting <bound method Conv.call of <tensorflow.python.layers.convolutional.Conv2D object at 0x0000023EC9D8CF60>>: AssertionError: Bad argument number for Name: 3, expecting 4\n",
      "WARNING: Entity <bound method BatchNormalization.call of <tensorflow.python.layers.normalization.BatchNormalization object at 0x0000023EC9D2F518>> could not be transformed and will be executed as-is. Please report this to the AutgoGraph team. When filing the bug, set the verbosity to 10 (on Linux, `export AUTOGRAPH_VERBOSITY=10`) and attach the full output. Cause: converting <bound method BatchNormalization.call of <tensorflow.python.layers.normalization.BatchNormalization object at 0x0000023EC9D2F518>>: AssertionError: Bad argument number for Name: 3, expecting 4\n",
      "WARNING: Entity <bound method Conv.call of <tensorflow.python.layers.convolutional.Conv2D object at 0x0000023EC9C796D8>> could not be transformed and will be executed as-is. Please report this to the AutgoGraph team. When filing the bug, set the verbosity to 10 (on Linux, `export AUTOGRAPH_VERBOSITY=10`) and attach the full output. Cause: converting <bound method Conv.call of <tensorflow.python.layers.convolutional.Conv2D object at 0x0000023EC9C796D8>>: AssertionError: Bad argument number for Name: 3, expecting 4\n",
      "WARNING: Entity <bound method BatchNormalization.call of <tensorflow.python.layers.normalization.BatchNormalization object at 0x0000023EC87226A0>> could not be transformed and will be executed as-is. Please report this to the AutgoGraph team. When filing the bug, set the verbosity to 10 (on Linux, `export AUTOGRAPH_VERBOSITY=10`) and attach the full output. Cause: converting <bound method BatchNormalization.call of <tensorflow.python.layers.normalization.BatchNormalization object at 0x0000023EC87226A0>>: AssertionError: Bad argument number for Name: 3, expecting 4\n",
      "WARNING: Entity <bound method Conv.call of <tensorflow.python.layers.convolutional.Conv2D object at 0x0000023EC9B22AC8>> could not be transformed and will be executed as-is. Please report this to the AutgoGraph team. When filing the bug, set the verbosity to 10 (on Linux, `export AUTOGRAPH_VERBOSITY=10`) and attach the full output. Cause: converting <bound method Conv.call of <tensorflow.python.layers.convolutional.Conv2D object at 0x0000023EC9B22AC8>>: AssertionError: Bad argument number for Name: 3, expecting 4\n",
      "WARNING: Entity <bound method BatchNormalization.call of <tensorflow.python.layers.normalization.BatchNormalization object at 0x0000023EC9E94898>> could not be transformed and will be executed as-is. Please report this to the AutgoGraph team. When filing the bug, set the verbosity to 10 (on Linux, `export AUTOGRAPH_VERBOSITY=10`) and attach the full output. Cause: converting <bound method BatchNormalization.call of <tensorflow.python.layers.normalization.BatchNormalization object at 0x0000023EC9E94898>>: AssertionError: Bad argument number for Name: 3, expecting 4\n",
      "WARNING: Entity <bound method Conv.call of <tensorflow.python.layers.convolutional.Conv2D object at 0x0000023EC87226A0>> could not be transformed and will be executed as-is. Please report this to the AutgoGraph team. When filing the bug, set the verbosity to 10 (on Linux, `export AUTOGRAPH_VERBOSITY=10`) and attach the full output. Cause: converting <bound method Conv.call of <tensorflow.python.layers.convolutional.Conv2D object at 0x0000023EC87226A0>>: AssertionError: Bad argument number for Name: 3, expecting 4\n",
      "WARNING: Entity <bound method BatchNormalization.call of <tensorflow.python.layers.normalization.BatchNormalization object at 0x0000023ECA04AF98>> could not be transformed and will be executed as-is. Please report this to the AutgoGraph team. When filing the bug, set the verbosity to 10 (on Linux, `export AUTOGRAPH_VERBOSITY=10`) and attach the full output. Cause: converting <bound method BatchNormalization.call of <tensorflow.python.layers.normalization.BatchNormalization object at 0x0000023ECA04AF98>>: AssertionError: Bad argument number for Name: 3, expecting 4\n",
      "WARNING: Entity <bound method Conv.call of <tensorflow.python.layers.convolutional.Conv2D object at 0x0000023EC887D898>> could not be transformed and will be executed as-is. Please report this to the AutgoGraph team. When filing the bug, set the verbosity to 10 (on Linux, `export AUTOGRAPH_VERBOSITY=10`) and attach the full output. Cause: converting <bound method Conv.call of <tensorflow.python.layers.convolutional.Conv2D object at 0x0000023EC887D898>>: AssertionError: Bad argument number for Name: 3, expecting 4\n",
      "WARNING: Entity <bound method BatchNormalization.call of <tensorflow.python.layers.normalization.BatchNormalization object at 0x0000023E140CE5F8>> could not be transformed and will be executed as-is. Please report this to the AutgoGraph team. When filing the bug, set the verbosity to 10 (on Linux, `export AUTOGRAPH_VERBOSITY=10`) and attach the full output. Cause: converting <bound method BatchNormalization.call of <tensorflow.python.layers.normalization.BatchNormalization object at 0x0000023E140CE5F8>>: AssertionError: Bad argument number for Name: 3, expecting 4\n",
      "WARNING: Entity <bound method Conv2DTranspose.call of <tensorflow.python.layers.convolutional.Conv2DTranspose object at 0x0000023EC880BE10>> could not be transformed and will be executed as-is. Please report this to the AutgoGraph team. When filing the bug, set the verbosity to 10 (on Linux, `export AUTOGRAPH_VERBOSITY=10`) and attach the full output. Cause: converting <bound method Conv2DTranspose.call of <tensorflow.python.layers.convolutional.Conv2DTranspose object at 0x0000023EC880BE10>>: AttributeError: module 'gast' has no attribute 'Index'\n",
      "WARNING: Entity <bound method Conv2DTranspose.call of <tensorflow.python.layers.convolutional.Conv2DTranspose object at 0x0000023EC85E0550>> could not be transformed and will be executed as-is. Please report this to the AutgoGraph team. When filing the bug, set the verbosity to 10 (on Linux, `export AUTOGRAPH_VERBOSITY=10`) and attach the full output. Cause: converting <bound method Conv2DTranspose.call of <tensorflow.python.layers.convolutional.Conv2DTranspose object at 0x0000023EC85E0550>>: AttributeError: module 'gast' has no attribute 'Index'\n"
     ]
    },
    {
     "name": "stderr",
     "output_type": "stream",
     "text": [
      "\r",
      "  0%|                                                                                           | 0/90 [00:00<?, ?it/s]"
     ]
    },
    {
     "name": "stdout",
     "output_type": "stream",
     "text": [
      "Starting to analyze %  F:\\MysoreData\\nbk\\mouseVideoAnalysis\\Box1\\cam1\\test_label\\camera-1_clip-0.avi\n",
      "F:\\MysoreData\\nbk\\mouseVideoAnalysis\\Box1\\cam1\\test_label  already exists!\n",
      "Loading  F:\\MysoreData\\nbk\\mouseVideoAnalysis\\Box1\\cam1\\test_label\\camera-1_clip-0.avi\n",
      "Duration of video [s]:  3.0 , recorded with  30.0 fps!\n",
      "Overall # of frames:  90  found with (before cropping) frame dimensions:  720 720\n",
      "Starting to extract posture\n",
      "Cropping based on the x1 = 0 x2 = 600 y1 = 0 y2 = 450. You can adjust the cropping coordinates in the config.yaml file.\n"
     ]
    },
    {
     "name": "stderr",
     "output_type": "stream",
     "text": [
      "100it [00:28,  3.46it/s]                                                                                               \n",
      "  0%|                                                                                           | 0/90 [00:00<?, ?it/s]"
     ]
    },
    {
     "name": "stdout",
     "output_type": "stream",
     "text": [
      "Saving results in F:\\MysoreData\\nbk\\mouseVideoAnalysis\\Box1\\cam1\\test_label...\n",
      "Starting to analyze %  F:\\MysoreData\\nbk\\mouseVideoAnalysis\\Box1\\cam1\\test_label\\camera-1_clip-1.avi\n",
      "F:\\MysoreData\\nbk\\mouseVideoAnalysis\\Box1\\cam1\\test_label  already exists!\n",
      "Loading  F:\\MysoreData\\nbk\\mouseVideoAnalysis\\Box1\\cam1\\test_label\\camera-1_clip-1.avi\n",
      "Duration of video [s]:  3.0 , recorded with  30.0 fps!\n",
      "Overall # of frames:  90  found with (before cropping) frame dimensions:  720 720\n",
      "Starting to extract posture\n",
      "Cropping based on the x1 = 0 x2 = 600 y1 = 0 y2 = 450. You can adjust the cropping coordinates in the config.yaml file.\n"
     ]
    },
    {
     "name": "stderr",
     "output_type": "stream",
     "text": [
      "100it [00:02, 49.63it/s]                                                                                               \n",
      "  0%|                                                                                           | 0/90 [00:00<?, ?it/s]"
     ]
    },
    {
     "name": "stdout",
     "output_type": "stream",
     "text": [
      "Saving results in F:\\MysoreData\\nbk\\mouseVideoAnalysis\\Box1\\cam1\\test_label...\n",
      "Starting to analyze %  F:\\MysoreData\\nbk\\mouseVideoAnalysis\\Box1\\cam1\\test_label\\camera-1_clip-10.avi\n",
      "F:\\MysoreData\\nbk\\mouseVideoAnalysis\\Box1\\cam1\\test_label  already exists!\n",
      "Loading  F:\\MysoreData\\nbk\\mouseVideoAnalysis\\Box1\\cam1\\test_label\\camera-1_clip-10.avi\n",
      "Duration of video [s]:  3.0 , recorded with  30.0 fps!\n",
      "Overall # of frames:  90  found with (before cropping) frame dimensions:  720 720\n",
      "Starting to extract posture\n",
      "Cropping based on the x1 = 0 x2 = 600 y1 = 0 y2 = 450. You can adjust the cropping coordinates in the config.yaml file.\n"
     ]
    },
    {
     "name": "stderr",
     "output_type": "stream",
     "text": [
      "100it [00:02, 46.65it/s]                                                                                               \n",
      "  0%|                                                                                           | 0/90 [00:00<?, ?it/s]"
     ]
    },
    {
     "name": "stdout",
     "output_type": "stream",
     "text": [
      "Saving results in F:\\MysoreData\\nbk\\mouseVideoAnalysis\\Box1\\cam1\\test_label...\n",
      "Starting to analyze %  F:\\MysoreData\\nbk\\mouseVideoAnalysis\\Box1\\cam1\\test_label\\camera-1_clip-100.avi\n",
      "F:\\MysoreData\\nbk\\mouseVideoAnalysis\\Box1\\cam1\\test_label  already exists!\n",
      "Loading  F:\\MysoreData\\nbk\\mouseVideoAnalysis\\Box1\\cam1\\test_label\\camera-1_clip-100.avi\n",
      "Duration of video [s]:  3.0 , recorded with  30.0 fps!\n",
      "Overall # of frames:  90  found with (before cropping) frame dimensions:  720 720\n",
      "Starting to extract posture\n",
      "Cropping based on the x1 = 0 x2 = 600 y1 = 0 y2 = 450. You can adjust the cropping coordinates in the config.yaml file.\n"
     ]
    },
    {
     "name": "stderr",
     "output_type": "stream",
     "text": [
      "100it [00:02, 46.76it/s]                                                                                               \n",
      "  0%|                                                                                           | 0/90 [00:00<?, ?it/s]"
     ]
    },
    {
     "name": "stdout",
     "output_type": "stream",
     "text": [
      "Saving results in F:\\MysoreData\\nbk\\mouseVideoAnalysis\\Box1\\cam1\\test_label...\n",
      "Starting to analyze %  F:\\MysoreData\\nbk\\mouseVideoAnalysis\\Box1\\cam1\\test_label\\camera-1_clip-101.avi\n",
      "F:\\MysoreData\\nbk\\mouseVideoAnalysis\\Box1\\cam1\\test_label  already exists!\n",
      "Loading  F:\\MysoreData\\nbk\\mouseVideoAnalysis\\Box1\\cam1\\test_label\\camera-1_clip-101.avi\n",
      "Duration of video [s]:  3.0 , recorded with  30.0 fps!\n",
      "Overall # of frames:  90  found with (before cropping) frame dimensions:  720 720\n",
      "Starting to extract posture\n",
      "Cropping based on the x1 = 0 x2 = 600 y1 = 0 y2 = 450. You can adjust the cropping coordinates in the config.yaml file.\n"
     ]
    },
    {
     "name": "stderr",
     "output_type": "stream",
     "text": [
      "100it [00:02, 45.77it/s]                                                                                               \n",
      "  0%|                                                                                           | 0/90 [00:00<?, ?it/s]"
     ]
    },
    {
     "name": "stdout",
     "output_type": "stream",
     "text": [
      "Saving results in F:\\MysoreData\\nbk\\mouseVideoAnalysis\\Box1\\cam1\\test_label...\n",
      "Starting to analyze %  F:\\MysoreData\\nbk\\mouseVideoAnalysis\\Box1\\cam1\\test_label\\camera-1_clip-102.avi\n",
      "F:\\MysoreData\\nbk\\mouseVideoAnalysis\\Box1\\cam1\\test_label  already exists!\n",
      "Loading  F:\\MysoreData\\nbk\\mouseVideoAnalysis\\Box1\\cam1\\test_label\\camera-1_clip-102.avi\n",
      "Duration of video [s]:  3.0 , recorded with  30.0 fps!\n",
      "Overall # of frames:  90  found with (before cropping) frame dimensions:  720 720\n",
      "Starting to extract posture\n",
      "Cropping based on the x1 = 0 x2 = 600 y1 = 0 y2 = 450. You can adjust the cropping coordinates in the config.yaml file.\n"
     ]
    },
    {
     "name": "stderr",
     "output_type": "stream",
     "text": [
      "100it [00:02, 49.51it/s]                                                                                               \n",
      "  0%|                                                                                           | 0/90 [00:00<?, ?it/s]"
     ]
    },
    {
     "name": "stdout",
     "output_type": "stream",
     "text": [
      "Saving results in F:\\MysoreData\\nbk\\mouseVideoAnalysis\\Box1\\cam1\\test_label...\n",
      "Starting to analyze %  F:\\MysoreData\\nbk\\mouseVideoAnalysis\\Box1\\cam1\\test_label\\camera-1_clip-103.avi\n",
      "F:\\MysoreData\\nbk\\mouseVideoAnalysis\\Box1\\cam1\\test_label  already exists!\n",
      "Loading  F:\\MysoreData\\nbk\\mouseVideoAnalysis\\Box1\\cam1\\test_label\\camera-1_clip-103.avi\n",
      "Duration of video [s]:  3.0 , recorded with  30.0 fps!\n",
      "Overall # of frames:  90  found with (before cropping) frame dimensions:  720 720\n",
      "Starting to extract posture\n",
      "Cropping based on the x1 = 0 x2 = 600 y1 = 0 y2 = 450. You can adjust the cropping coordinates in the config.yaml file.\n"
     ]
    },
    {
     "name": "stderr",
     "output_type": "stream",
     "text": [
      "100it [00:01, 51.70it/s]                                                                                               \n",
      "  0%|                                                                                           | 0/90 [00:00<?, ?it/s]"
     ]
    },
    {
     "name": "stdout",
     "output_type": "stream",
     "text": [
      "Saving results in F:\\MysoreData\\nbk\\mouseVideoAnalysis\\Box1\\cam1\\test_label...\n",
      "Starting to analyze %  F:\\MysoreData\\nbk\\mouseVideoAnalysis\\Box1\\cam1\\test_label\\camera-1_clip-104.avi\n",
      "F:\\MysoreData\\nbk\\mouseVideoAnalysis\\Box1\\cam1\\test_label  already exists!\n",
      "Loading  F:\\MysoreData\\nbk\\mouseVideoAnalysis\\Box1\\cam1\\test_label\\camera-1_clip-104.avi\n",
      "Duration of video [s]:  3.0 , recorded with  30.0 fps!\n",
      "Overall # of frames:  90  found with (before cropping) frame dimensions:  720 720\n",
      "Starting to extract posture\n",
      "Cropping based on the x1 = 0 x2 = 600 y1 = 0 y2 = 450. You can adjust the cropping coordinates in the config.yaml file.\n"
     ]
    },
    {
     "name": "stderr",
     "output_type": "stream",
     "text": [
      "100it [00:01, 50.25it/s]                                                                                               \n",
      "  0%|                                                                                           | 0/90 [00:00<?, ?it/s]"
     ]
    },
    {
     "name": "stdout",
     "output_type": "stream",
     "text": [
      "Saving results in F:\\MysoreData\\nbk\\mouseVideoAnalysis\\Box1\\cam1\\test_label...\n",
      "Starting to analyze %  F:\\MysoreData\\nbk\\mouseVideoAnalysis\\Box1\\cam1\\test_label\\camera-1_clip-105.avi\n",
      "F:\\MysoreData\\nbk\\mouseVideoAnalysis\\Box1\\cam1\\test_label  already exists!\n",
      "Loading  F:\\MysoreData\\nbk\\mouseVideoAnalysis\\Box1\\cam1\\test_label\\camera-1_clip-105.avi\n",
      "Duration of video [s]:  3.0 , recorded with  30.0 fps!\n",
      "Overall # of frames:  90  found with (before cropping) frame dimensions:  720 720\n",
      "Starting to extract posture\n",
      "Cropping based on the x1 = 0 x2 = 600 y1 = 0 y2 = 450. You can adjust the cropping coordinates in the config.yaml file.\n"
     ]
    },
    {
     "name": "stderr",
     "output_type": "stream",
     "text": [
      "100it [00:02, 47.02it/s]                                                                                               \n",
      "  0%|                                                                                           | 0/90 [00:00<?, ?it/s]"
     ]
    },
    {
     "name": "stdout",
     "output_type": "stream",
     "text": [
      "Saving results in F:\\MysoreData\\nbk\\mouseVideoAnalysis\\Box1\\cam1\\test_label...\n",
      "Starting to analyze %  F:\\MysoreData\\nbk\\mouseVideoAnalysis\\Box1\\cam1\\test_label\\camera-1_clip-106.avi\n",
      "F:\\MysoreData\\nbk\\mouseVideoAnalysis\\Box1\\cam1\\test_label  already exists!\n",
      "Loading  F:\\MysoreData\\nbk\\mouseVideoAnalysis\\Box1\\cam1\\test_label\\camera-1_clip-106.avi\n",
      "Duration of video [s]:  3.0 , recorded with  30.0 fps!\n",
      "Overall # of frames:  90  found with (before cropping) frame dimensions:  720 720\n",
      "Starting to extract posture\n",
      "Cropping based on the x1 = 0 x2 = 600 y1 = 0 y2 = 450. You can adjust the cropping coordinates in the config.yaml file.\n"
     ]
    },
    {
     "name": "stderr",
     "output_type": "stream",
     "text": [
      "100it [00:02, 44.80it/s]                                                                                               \n",
      "  0%|                                                                                           | 0/90 [00:00<?, ?it/s]"
     ]
    },
    {
     "name": "stdout",
     "output_type": "stream",
     "text": [
      "Saving results in F:\\MysoreData\\nbk\\mouseVideoAnalysis\\Box1\\cam1\\test_label...\n",
      "Starting to analyze %  F:\\MysoreData\\nbk\\mouseVideoAnalysis\\Box1\\cam1\\test_label\\camera-1_clip-107.avi\n",
      "F:\\MysoreData\\nbk\\mouseVideoAnalysis\\Box1\\cam1\\test_label  already exists!\n",
      "Loading  F:\\MysoreData\\nbk\\mouseVideoAnalysis\\Box1\\cam1\\test_label\\camera-1_clip-107.avi\n",
      "Duration of video [s]:  3.0 , recorded with  30.0 fps!\n",
      "Overall # of frames:  90  found with (before cropping) frame dimensions:  720 720\n",
      "Starting to extract posture\n",
      "Cropping based on the x1 = 0 x2 = 600 y1 = 0 y2 = 450. You can adjust the cropping coordinates in the config.yaml file.\n"
     ]
    },
    {
     "name": "stderr",
     "output_type": "stream",
     "text": [
      "100it [00:01, 50.77it/s]                                                                                               \n",
      "  0%|                                                                                           | 0/90 [00:00<?, ?it/s]"
     ]
    },
    {
     "name": "stdout",
     "output_type": "stream",
     "text": [
      "Saving results in F:\\MysoreData\\nbk\\mouseVideoAnalysis\\Box1\\cam1\\test_label...\n",
      "Starting to analyze %  F:\\MysoreData\\nbk\\mouseVideoAnalysis\\Box1\\cam1\\test_label\\camera-1_clip-108.avi\n",
      "F:\\MysoreData\\nbk\\mouseVideoAnalysis\\Box1\\cam1\\test_label  already exists!\n",
      "Loading  F:\\MysoreData\\nbk\\mouseVideoAnalysis\\Box1\\cam1\\test_label\\camera-1_clip-108.avi\n",
      "Duration of video [s]:  3.0 , recorded with  30.0 fps!\n",
      "Overall # of frames:  90  found with (before cropping) frame dimensions:  720 720\n",
      "Starting to extract posture\n",
      "Cropping based on the x1 = 0 x2 = 600 y1 = 0 y2 = 450. You can adjust the cropping coordinates in the config.yaml file.\n"
     ]
    },
    {
     "name": "stderr",
     "output_type": "stream",
     "text": [
      "100it [00:02, 49.12it/s]                                                                                               \n",
      "  0%|                                                                                           | 0/90 [00:00<?, ?it/s]"
     ]
    },
    {
     "name": "stdout",
     "output_type": "stream",
     "text": [
      "Saving results in F:\\MysoreData\\nbk\\mouseVideoAnalysis\\Box1\\cam1\\test_label...\n",
      "Starting to analyze %  F:\\MysoreData\\nbk\\mouseVideoAnalysis\\Box1\\cam1\\test_label\\camera-1_clip-109.avi\n",
      "F:\\MysoreData\\nbk\\mouseVideoAnalysis\\Box1\\cam1\\test_label  already exists!\n",
      "Loading  F:\\MysoreData\\nbk\\mouseVideoAnalysis\\Box1\\cam1\\test_label\\camera-1_clip-109.avi\n",
      "Duration of video [s]:  3.0 , recorded with  30.0 fps!\n",
      "Overall # of frames:  90  found with (before cropping) frame dimensions:  720 720\n",
      "Starting to extract posture\n",
      "Cropping based on the x1 = 0 x2 = 600 y1 = 0 y2 = 450. You can adjust the cropping coordinates in the config.yaml file.\n"
     ]
    },
    {
     "name": "stderr",
     "output_type": "stream",
     "text": [
      "100it [00:01, 50.44it/s]                                                                                               \n",
      "  0%|                                                                                           | 0/90 [00:00<?, ?it/s]"
     ]
    },
    {
     "name": "stdout",
     "output_type": "stream",
     "text": [
      "Saving results in F:\\MysoreData\\nbk\\mouseVideoAnalysis\\Box1\\cam1\\test_label...\n",
      "Starting to analyze %  F:\\MysoreData\\nbk\\mouseVideoAnalysis\\Box1\\cam1\\test_label\\camera-1_clip-11.avi\n",
      "F:\\MysoreData\\nbk\\mouseVideoAnalysis\\Box1\\cam1\\test_label  already exists!\n",
      "Loading  F:\\MysoreData\\nbk\\mouseVideoAnalysis\\Box1\\cam1\\test_label\\camera-1_clip-11.avi\n",
      "Duration of video [s]:  3.0 , recorded with  30.0 fps!\n",
      "Overall # of frames:  90  found with (before cropping) frame dimensions:  720 720\n",
      "Starting to extract posture\n",
      "Cropping based on the x1 = 0 x2 = 600 y1 = 0 y2 = 450. You can adjust the cropping coordinates in the config.yaml file.\n"
     ]
    },
    {
     "name": "stderr",
     "output_type": "stream",
     "text": [
      "100it [00:01, 50.12it/s]                                                                                               \n",
      "  0%|                                                                                           | 0/90 [00:00<?, ?it/s]"
     ]
    },
    {
     "name": "stdout",
     "output_type": "stream",
     "text": [
      "Saving results in F:\\MysoreData\\nbk\\mouseVideoAnalysis\\Box1\\cam1\\test_label...\n",
      "Starting to analyze %  F:\\MysoreData\\nbk\\mouseVideoAnalysis\\Box1\\cam1\\test_label\\camera-1_clip-110.avi\n",
      "F:\\MysoreData\\nbk\\mouseVideoAnalysis\\Box1\\cam1\\test_label  already exists!\n",
      "Loading  F:\\MysoreData\\nbk\\mouseVideoAnalysis\\Box1\\cam1\\test_label\\camera-1_clip-110.avi\n",
      "Duration of video [s]:  3.0 , recorded with  30.0 fps!\n",
      "Overall # of frames:  90  found with (before cropping) frame dimensions:  720 720\n",
      "Starting to extract posture\n",
      "Cropping based on the x1 = 0 x2 = 600 y1 = 0 y2 = 450. You can adjust the cropping coordinates in the config.yaml file.\n"
     ]
    },
    {
     "name": "stderr",
     "output_type": "stream",
     "text": [
      "100it [00:01, 50.47it/s]                                                                                               \n",
      "  0%|                                                                                           | 0/90 [00:00<?, ?it/s]"
     ]
    },
    {
     "name": "stdout",
     "output_type": "stream",
     "text": [
      "Saving results in F:\\MysoreData\\nbk\\mouseVideoAnalysis\\Box1\\cam1\\test_label...\n",
      "Starting to analyze %  F:\\MysoreData\\nbk\\mouseVideoAnalysis\\Box1\\cam1\\test_label\\camera-1_clip-111.avi\n",
      "F:\\MysoreData\\nbk\\mouseVideoAnalysis\\Box1\\cam1\\test_label  already exists!\n",
      "Loading  F:\\MysoreData\\nbk\\mouseVideoAnalysis\\Box1\\cam1\\test_label\\camera-1_clip-111.avi\n",
      "Duration of video [s]:  3.0 , recorded with  30.0 fps!\n",
      "Overall # of frames:  90  found with (before cropping) frame dimensions:  720 720\n",
      "Starting to extract posture\n",
      "Cropping based on the x1 = 0 x2 = 600 y1 = 0 y2 = 450. You can adjust the cropping coordinates in the config.yaml file.\n"
     ]
    },
    {
     "name": "stderr",
     "output_type": "stream",
     "text": [
      "100it [00:02, 49.78it/s]                                                                                               \n",
      "  0%|                                                                                           | 0/90 [00:00<?, ?it/s]"
     ]
    },
    {
     "name": "stdout",
     "output_type": "stream",
     "text": [
      "Saving results in F:\\MysoreData\\nbk\\mouseVideoAnalysis\\Box1\\cam1\\test_label...\n",
      "Starting to analyze %  F:\\MysoreData\\nbk\\mouseVideoAnalysis\\Box1\\cam1\\test_label\\camera-1_clip-112.avi\n",
      "F:\\MysoreData\\nbk\\mouseVideoAnalysis\\Box1\\cam1\\test_label  already exists!\n",
      "Loading  F:\\MysoreData\\nbk\\mouseVideoAnalysis\\Box1\\cam1\\test_label\\camera-1_clip-112.avi\n",
      "Duration of video [s]:  3.0 , recorded with  30.0 fps!\n",
      "Overall # of frames:  90  found with (before cropping) frame dimensions:  720 720\n",
      "Starting to extract posture\n",
      "Cropping based on the x1 = 0 x2 = 600 y1 = 0 y2 = 450. You can adjust the cropping coordinates in the config.yaml file.\n"
     ]
    },
    {
     "name": "stderr",
     "output_type": "stream",
     "text": [
      "100it [00:02, 45.97it/s]                                                                                               \n",
      "  0%|                                                                                           | 0/90 [00:00<?, ?it/s]"
     ]
    },
    {
     "name": "stdout",
     "output_type": "stream",
     "text": [
      "Saving results in F:\\MysoreData\\nbk\\mouseVideoAnalysis\\Box1\\cam1\\test_label...\n",
      "Starting to analyze %  F:\\MysoreData\\nbk\\mouseVideoAnalysis\\Box1\\cam1\\test_label\\camera-1_clip-113.avi\n",
      "F:\\MysoreData\\nbk\\mouseVideoAnalysis\\Box1\\cam1\\test_label  already exists!\n",
      "Loading  F:\\MysoreData\\nbk\\mouseVideoAnalysis\\Box1\\cam1\\test_label\\camera-1_clip-113.avi\n",
      "Duration of video [s]:  3.0 , recorded with  30.0 fps!\n",
      "Overall # of frames:  90  found with (before cropping) frame dimensions:  720 720\n",
      "Starting to extract posture\n",
      "Cropping based on the x1 = 0 x2 = 600 y1 = 0 y2 = 450. You can adjust the cropping coordinates in the config.yaml file.\n"
     ]
    },
    {
     "name": "stderr",
     "output_type": "stream",
     "text": [
      "100it [00:02, 41.91it/s]                                                                                               \n",
      "  0%|                                                                                           | 0/90 [00:00<?, ?it/s]"
     ]
    },
    {
     "name": "stdout",
     "output_type": "stream",
     "text": [
      "Saving results in F:\\MysoreData\\nbk\\mouseVideoAnalysis\\Box1\\cam1\\test_label...\n",
      "Starting to analyze %  F:\\MysoreData\\nbk\\mouseVideoAnalysis\\Box1\\cam1\\test_label\\camera-1_clip-114.avi\n",
      "F:\\MysoreData\\nbk\\mouseVideoAnalysis\\Box1\\cam1\\test_label  already exists!\n",
      "Loading  F:\\MysoreData\\nbk\\mouseVideoAnalysis\\Box1\\cam1\\test_label\\camera-1_clip-114.avi\n",
      "Duration of video [s]:  3.0 , recorded with  30.0 fps!\n",
      "Overall # of frames:  90  found with (before cropping) frame dimensions:  720 720\n",
      "Starting to extract posture\n",
      "Cropping based on the x1 = 0 x2 = 600 y1 = 0 y2 = 450. You can adjust the cropping coordinates in the config.yaml file.\n"
     ]
    },
    {
     "name": "stderr",
     "output_type": "stream",
     "text": [
      "100it [00:02, 40.73it/s]                                                                                               \n",
      "  0%|                                                                                           | 0/90 [00:00<?, ?it/s]"
     ]
    },
    {
     "name": "stdout",
     "output_type": "stream",
     "text": [
      "Saving results in F:\\MysoreData\\nbk\\mouseVideoAnalysis\\Box1\\cam1\\test_label...\n",
      "Starting to analyze %  F:\\MysoreData\\nbk\\mouseVideoAnalysis\\Box1\\cam1\\test_label\\camera-1_clip-115.avi\n",
      "F:\\MysoreData\\nbk\\mouseVideoAnalysis\\Box1\\cam1\\test_label  already exists!\n",
      "Loading  F:\\MysoreData\\nbk\\mouseVideoAnalysis\\Box1\\cam1\\test_label\\camera-1_clip-115.avi\n",
      "Duration of video [s]:  3.0 , recorded with  30.0 fps!\n",
      "Overall # of frames:  90  found with (before cropping) frame dimensions:  720 720\n",
      "Starting to extract posture\n",
      "Cropping based on the x1 = 0 x2 = 600 y1 = 0 y2 = 450. You can adjust the cropping coordinates in the config.yaml file.\n"
     ]
    },
    {
     "name": "stderr",
     "output_type": "stream",
     "text": [
      "100it [00:01, 51.39it/s]                                                                                               \n",
      "  0%|                                                                                           | 0/90 [00:00<?, ?it/s]"
     ]
    },
    {
     "name": "stdout",
     "output_type": "stream",
     "text": [
      "Saving results in F:\\MysoreData\\nbk\\mouseVideoAnalysis\\Box1\\cam1\\test_label...\n",
      "Starting to analyze %  F:\\MysoreData\\nbk\\mouseVideoAnalysis\\Box1\\cam1\\test_label\\camera-1_clip-116.avi\n",
      "F:\\MysoreData\\nbk\\mouseVideoAnalysis\\Box1\\cam1\\test_label  already exists!\n",
      "Loading  F:\\MysoreData\\nbk\\mouseVideoAnalysis\\Box1\\cam1\\test_label\\camera-1_clip-116.avi\n",
      "Duration of video [s]:  3.0 , recorded with  30.0 fps!\n",
      "Overall # of frames:  90  found with (before cropping) frame dimensions:  720 720\n",
      "Starting to extract posture\n",
      "Cropping based on the x1 = 0 x2 = 600 y1 = 0 y2 = 450. You can adjust the cropping coordinates in the config.yaml file.\n"
     ]
    },
    {
     "name": "stderr",
     "output_type": "stream",
     "text": [
      "100it [00:01, 50.76it/s]                                                                                               \n",
      "  0%|                                                                                           | 0/90 [00:00<?, ?it/s]"
     ]
    },
    {
     "name": "stdout",
     "output_type": "stream",
     "text": [
      "Saving results in F:\\MysoreData\\nbk\\mouseVideoAnalysis\\Box1\\cam1\\test_label...\n",
      "Starting to analyze %  F:\\MysoreData\\nbk\\mouseVideoAnalysis\\Box1\\cam1\\test_label\\camera-1_clip-117.avi\n",
      "F:\\MysoreData\\nbk\\mouseVideoAnalysis\\Box1\\cam1\\test_label  already exists!\n",
      "Loading  F:\\MysoreData\\nbk\\mouseVideoAnalysis\\Box1\\cam1\\test_label\\camera-1_clip-117.avi\n",
      "Duration of video [s]:  3.0 , recorded with  30.0 fps!\n",
      "Overall # of frames:  90  found with (before cropping) frame dimensions:  720 720\n",
      "Starting to extract posture\n",
      "Cropping based on the x1 = 0 x2 = 600 y1 = 0 y2 = 450. You can adjust the cropping coordinates in the config.yaml file.\n"
     ]
    },
    {
     "name": "stderr",
     "output_type": "stream",
     "text": [
      "100it [00:01, 51.19it/s]                                                                                               \n",
      "  0%|                                                                                           | 0/90 [00:00<?, ?it/s]"
     ]
    },
    {
     "name": "stdout",
     "output_type": "stream",
     "text": [
      "Saving results in F:\\MysoreData\\nbk\\mouseVideoAnalysis\\Box1\\cam1\\test_label...\n",
      "Starting to analyze %  F:\\MysoreData\\nbk\\mouseVideoAnalysis\\Box1\\cam1\\test_label\\camera-1_clip-118.avi\n",
      "F:\\MysoreData\\nbk\\mouseVideoAnalysis\\Box1\\cam1\\test_label  already exists!\n",
      "Loading  F:\\MysoreData\\nbk\\mouseVideoAnalysis\\Box1\\cam1\\test_label\\camera-1_clip-118.avi\n",
      "Duration of video [s]:  3.0 , recorded with  30.0 fps!\n",
      "Overall # of frames:  90  found with (before cropping) frame dimensions:  720 720\n",
      "Starting to extract posture\n",
      "Cropping based on the x1 = 0 x2 = 600 y1 = 0 y2 = 450. You can adjust the cropping coordinates in the config.yaml file.\n"
     ]
    },
    {
     "name": "stderr",
     "output_type": "stream",
     "text": [
      "100it [00:01, 51.78it/s]                                                                                               \n",
      "  0%|                                                                                           | 0/90 [00:00<?, ?it/s]"
     ]
    },
    {
     "name": "stdout",
     "output_type": "stream",
     "text": [
      "Saving results in F:\\MysoreData\\nbk\\mouseVideoAnalysis\\Box1\\cam1\\test_label...\n",
      "Starting to analyze %  F:\\MysoreData\\nbk\\mouseVideoAnalysis\\Box1\\cam1\\test_label\\camera-1_clip-119.avi\n",
      "F:\\MysoreData\\nbk\\mouseVideoAnalysis\\Box1\\cam1\\test_label  already exists!\n",
      "Loading  F:\\MysoreData\\nbk\\mouseVideoAnalysis\\Box1\\cam1\\test_label\\camera-1_clip-119.avi\n",
      "Duration of video [s]:  3.0 , recorded with  30.0 fps!\n",
      "Overall # of frames:  90  found with (before cropping) frame dimensions:  720 720\n",
      "Starting to extract posture\n",
      "Cropping based on the x1 = 0 x2 = 600 y1 = 0 y2 = 450. You can adjust the cropping coordinates in the config.yaml file.\n"
     ]
    },
    {
     "name": "stderr",
     "output_type": "stream",
     "text": [
      "100it [00:01, 51.34it/s]                                                                                               \n",
      "  0%|                                                                                           | 0/90 [00:00<?, ?it/s]"
     ]
    },
    {
     "name": "stdout",
     "output_type": "stream",
     "text": [
      "Saving results in F:\\MysoreData\\nbk\\mouseVideoAnalysis\\Box1\\cam1\\test_label...\n",
      "Starting to analyze %  F:\\MysoreData\\nbk\\mouseVideoAnalysis\\Box1\\cam1\\test_label\\camera-1_clip-12.avi\n",
      "F:\\MysoreData\\nbk\\mouseVideoAnalysis\\Box1\\cam1\\test_label  already exists!\n",
      "Loading  F:\\MysoreData\\nbk\\mouseVideoAnalysis\\Box1\\cam1\\test_label\\camera-1_clip-12.avi\n",
      "Duration of video [s]:  3.0 , recorded with  30.0 fps!\n",
      "Overall # of frames:  90  found with (before cropping) frame dimensions:  720 720\n",
      "Starting to extract posture\n",
      "Cropping based on the x1 = 0 x2 = 600 y1 = 0 y2 = 450. You can adjust the cropping coordinates in the config.yaml file.\n"
     ]
    },
    {
     "name": "stderr",
     "output_type": "stream",
     "text": [
      "100it [00:01, 51.60it/s]                                                                                               \n",
      "  0%|                                                                                           | 0/90 [00:00<?, ?it/s]"
     ]
    },
    {
     "name": "stdout",
     "output_type": "stream",
     "text": [
      "Saving results in F:\\MysoreData\\nbk\\mouseVideoAnalysis\\Box1\\cam1\\test_label...\n",
      "Starting to analyze %  F:\\MysoreData\\nbk\\mouseVideoAnalysis\\Box1\\cam1\\test_label\\camera-1_clip-120.avi\n",
      "F:\\MysoreData\\nbk\\mouseVideoAnalysis\\Box1\\cam1\\test_label  already exists!\n",
      "Loading  F:\\MysoreData\\nbk\\mouseVideoAnalysis\\Box1\\cam1\\test_label\\camera-1_clip-120.avi\n",
      "Duration of video [s]:  3.0 , recorded with  30.0 fps!\n",
      "Overall # of frames:  90  found with (before cropping) frame dimensions:  720 720\n",
      "Starting to extract posture\n",
      "Cropping based on the x1 = 0 x2 = 600 y1 = 0 y2 = 450. You can adjust the cropping coordinates in the config.yaml file.\n"
     ]
    },
    {
     "name": "stderr",
     "output_type": "stream",
     "text": [
      "100it [00:01, 50.96it/s]                                                                                               \n",
      "  0%|                                                                                           | 0/90 [00:00<?, ?it/s]"
     ]
    },
    {
     "name": "stdout",
     "output_type": "stream",
     "text": [
      "Saving results in F:\\MysoreData\\nbk\\mouseVideoAnalysis\\Box1\\cam1\\test_label...\n",
      "Starting to analyze %  F:\\MysoreData\\nbk\\mouseVideoAnalysis\\Box1\\cam1\\test_label\\camera-1_clip-121.avi\n",
      "F:\\MysoreData\\nbk\\mouseVideoAnalysis\\Box1\\cam1\\test_label  already exists!\n",
      "Loading  F:\\MysoreData\\nbk\\mouseVideoAnalysis\\Box1\\cam1\\test_label\\camera-1_clip-121.avi\n",
      "Duration of video [s]:  3.0 , recorded with  30.0 fps!\n",
      "Overall # of frames:  90  found with (before cropping) frame dimensions:  720 720\n",
      "Starting to extract posture\n",
      "Cropping based on the x1 = 0 x2 = 600 y1 = 0 y2 = 450. You can adjust the cropping coordinates in the config.yaml file.\n"
     ]
    },
    {
     "name": "stderr",
     "output_type": "stream",
     "text": [
      "100it [00:01, 50.70it/s]                                                                                               \n",
      "  0%|                                                                                           | 0/90 [00:00<?, ?it/s]"
     ]
    },
    {
     "name": "stdout",
     "output_type": "stream",
     "text": [
      "Saving results in F:\\MysoreData\\nbk\\mouseVideoAnalysis\\Box1\\cam1\\test_label...\n",
      "Starting to analyze %  F:\\MysoreData\\nbk\\mouseVideoAnalysis\\Box1\\cam1\\test_label\\camera-1_clip-122.avi\n",
      "F:\\MysoreData\\nbk\\mouseVideoAnalysis\\Box1\\cam1\\test_label  already exists!\n",
      "Loading  F:\\MysoreData\\nbk\\mouseVideoAnalysis\\Box1\\cam1\\test_label\\camera-1_clip-122.avi\n",
      "Duration of video [s]:  3.0 , recorded with  30.0 fps!\n",
      "Overall # of frames:  90  found with (before cropping) frame dimensions:  720 720\n",
      "Starting to extract posture\n",
      "Cropping based on the x1 = 0 x2 = 600 y1 = 0 y2 = 450. You can adjust the cropping coordinates in the config.yaml file.\n"
     ]
    },
    {
     "name": "stderr",
     "output_type": "stream",
     "text": [
      "100it [00:01, 52.02it/s]                                                                                               \n",
      "  0%|                                                                                           | 0/90 [00:00<?, ?it/s]"
     ]
    },
    {
     "name": "stdout",
     "output_type": "stream",
     "text": [
      "Saving results in F:\\MysoreData\\nbk\\mouseVideoAnalysis\\Box1\\cam1\\test_label...\n",
      "Starting to analyze %  F:\\MysoreData\\nbk\\mouseVideoAnalysis\\Box1\\cam1\\test_label\\camera-1_clip-123.avi\n",
      "F:\\MysoreData\\nbk\\mouseVideoAnalysis\\Box1\\cam1\\test_label  already exists!\n",
      "Loading  F:\\MysoreData\\nbk\\mouseVideoAnalysis\\Box1\\cam1\\test_label\\camera-1_clip-123.avi\n",
      "Duration of video [s]:  3.0 , recorded with  30.0 fps!\n",
      "Overall # of frames:  90  found with (before cropping) frame dimensions:  720 720\n",
      "Starting to extract posture\n",
      "Cropping based on the x1 = 0 x2 = 600 y1 = 0 y2 = 450. You can adjust the cropping coordinates in the config.yaml file.\n"
     ]
    },
    {
     "name": "stderr",
     "output_type": "stream",
     "text": [
      "100it [00:01, 51.09it/s]                                                                                               \n",
      "  0%|                                                                                           | 0/90 [00:00<?, ?it/s]"
     ]
    },
    {
     "name": "stdout",
     "output_type": "stream",
     "text": [
      "Saving results in F:\\MysoreData\\nbk\\mouseVideoAnalysis\\Box1\\cam1\\test_label...\n",
      "Starting to analyze %  F:\\MysoreData\\nbk\\mouseVideoAnalysis\\Box1\\cam1\\test_label\\camera-1_clip-124.avi\n",
      "F:\\MysoreData\\nbk\\mouseVideoAnalysis\\Box1\\cam1\\test_label  already exists!\n",
      "Loading  F:\\MysoreData\\nbk\\mouseVideoAnalysis\\Box1\\cam1\\test_label\\camera-1_clip-124.avi\n",
      "Duration of video [s]:  3.0 , recorded with  30.0 fps!\n",
      "Overall # of frames:  90  found with (before cropping) frame dimensions:  720 720\n",
      "Starting to extract posture\n",
      "Cropping based on the x1 = 0 x2 = 600 y1 = 0 y2 = 450. You can adjust the cropping coordinates in the config.yaml file.\n"
     ]
    },
    {
     "name": "stderr",
     "output_type": "stream",
     "text": [
      "100it [00:01, 50.40it/s]                                                                                               \n",
      "  0%|                                                                                           | 0/90 [00:00<?, ?it/s]"
     ]
    },
    {
     "name": "stdout",
     "output_type": "stream",
     "text": [
      "Saving results in F:\\MysoreData\\nbk\\mouseVideoAnalysis\\Box1\\cam1\\test_label...\n",
      "Starting to analyze %  F:\\MysoreData\\nbk\\mouseVideoAnalysis\\Box1\\cam1\\test_label\\camera-1_clip-125.avi\n",
      "F:\\MysoreData\\nbk\\mouseVideoAnalysis\\Box1\\cam1\\test_label  already exists!\n",
      "Loading  F:\\MysoreData\\nbk\\mouseVideoAnalysis\\Box1\\cam1\\test_label\\camera-1_clip-125.avi\n",
      "Duration of video [s]:  3.0 , recorded with  30.0 fps!\n",
      "Overall # of frames:  90  found with (before cropping) frame dimensions:  720 720\n",
      "Starting to extract posture\n",
      "Cropping based on the x1 = 0 x2 = 600 y1 = 0 y2 = 450. You can adjust the cropping coordinates in the config.yaml file.\n"
     ]
    },
    {
     "name": "stderr",
     "output_type": "stream",
     "text": [
      "100it [00:02, 49.79it/s]                                                                                               \n",
      "  0%|                                                                                           | 0/90 [00:00<?, ?it/s]"
     ]
    },
    {
     "name": "stdout",
     "output_type": "stream",
     "text": [
      "Saving results in F:\\MysoreData\\nbk\\mouseVideoAnalysis\\Box1\\cam1\\test_label...\n",
      "Starting to analyze %  F:\\MysoreData\\nbk\\mouseVideoAnalysis\\Box1\\cam1\\test_label\\camera-1_clip-126.avi\n",
      "F:\\MysoreData\\nbk\\mouseVideoAnalysis\\Box1\\cam1\\test_label  already exists!\n",
      "Loading  F:\\MysoreData\\nbk\\mouseVideoAnalysis\\Box1\\cam1\\test_label\\camera-1_clip-126.avi\n",
      "Duration of video [s]:  3.0 , recorded with  30.0 fps!\n",
      "Overall # of frames:  90  found with (before cropping) frame dimensions:  720 720\n",
      "Starting to extract posture\n",
      "Cropping based on the x1 = 0 x2 = 600 y1 = 0 y2 = 450. You can adjust the cropping coordinates in the config.yaml file.\n"
     ]
    },
    {
     "name": "stderr",
     "output_type": "stream",
     "text": [
      "100it [00:02, 48.35it/s]                                                                                               \n",
      "  0%|                                                                                           | 0/90 [00:00<?, ?it/s]"
     ]
    },
    {
     "name": "stdout",
     "output_type": "stream",
     "text": [
      "Saving results in F:\\MysoreData\\nbk\\mouseVideoAnalysis\\Box1\\cam1\\test_label...\n",
      "Starting to analyze %  F:\\MysoreData\\nbk\\mouseVideoAnalysis\\Box1\\cam1\\test_label\\camera-1_clip-127.avi\n",
      "F:\\MysoreData\\nbk\\mouseVideoAnalysis\\Box1\\cam1\\test_label  already exists!\n",
      "Loading  F:\\MysoreData\\nbk\\mouseVideoAnalysis\\Box1\\cam1\\test_label\\camera-1_clip-127.avi\n",
      "Duration of video [s]:  3.0 , recorded with  30.0 fps!\n",
      "Overall # of frames:  90  found with (before cropping) frame dimensions:  720 720\n",
      "Starting to extract posture\n",
      "Cropping based on the x1 = 0 x2 = 600 y1 = 0 y2 = 450. You can adjust the cropping coordinates in the config.yaml file.\n"
     ]
    },
    {
     "name": "stderr",
     "output_type": "stream",
     "text": [
      "100it [00:01, 51.94it/s]                                                                                               \n",
      "  0%|                                                                                           | 0/90 [00:00<?, ?it/s]"
     ]
    },
    {
     "name": "stdout",
     "output_type": "stream",
     "text": [
      "Saving results in F:\\MysoreData\\nbk\\mouseVideoAnalysis\\Box1\\cam1\\test_label...\n",
      "Starting to analyze %  F:\\MysoreData\\nbk\\mouseVideoAnalysis\\Box1\\cam1\\test_label\\camera-1_clip-128.avi\n",
      "F:\\MysoreData\\nbk\\mouseVideoAnalysis\\Box1\\cam1\\test_label  already exists!\n",
      "Loading  F:\\MysoreData\\nbk\\mouseVideoAnalysis\\Box1\\cam1\\test_label\\camera-1_clip-128.avi\n",
      "Duration of video [s]:  3.0 , recorded with  30.0 fps!\n",
      "Overall # of frames:  90  found with (before cropping) frame dimensions:  720 720\n",
      "Starting to extract posture\n",
      "Cropping based on the x1 = 0 x2 = 600 y1 = 0 y2 = 450. You can adjust the cropping coordinates in the config.yaml file.\n"
     ]
    },
    {
     "name": "stderr",
     "output_type": "stream",
     "text": [
      "100it [00:01, 52.19it/s]                                                                                               \n",
      "  0%|                                                                                           | 0/90 [00:00<?, ?it/s]"
     ]
    },
    {
     "name": "stdout",
     "output_type": "stream",
     "text": [
      "Saving results in F:\\MysoreData\\nbk\\mouseVideoAnalysis\\Box1\\cam1\\test_label...\n",
      "Starting to analyze %  F:\\MysoreData\\nbk\\mouseVideoAnalysis\\Box1\\cam1\\test_label\\camera-1_clip-129.avi\n",
      "F:\\MysoreData\\nbk\\mouseVideoAnalysis\\Box1\\cam1\\test_label  already exists!\n",
      "Loading  F:\\MysoreData\\nbk\\mouseVideoAnalysis\\Box1\\cam1\\test_label\\camera-1_clip-129.avi\n",
      "Duration of video [s]:  3.0 , recorded with  30.0 fps!\n",
      "Overall # of frames:  90  found with (before cropping) frame dimensions:  720 720\n",
      "Starting to extract posture\n",
      "Cropping based on the x1 = 0 x2 = 600 y1 = 0 y2 = 450. You can adjust the cropping coordinates in the config.yaml file.\n"
     ]
    },
    {
     "name": "stderr",
     "output_type": "stream",
     "text": [
      "100it [00:02, 38.82it/s]                                                                                               \n",
      "  0%|                                                                                           | 0/90 [00:00<?, ?it/s]"
     ]
    },
    {
     "name": "stdout",
     "output_type": "stream",
     "text": [
      "Saving results in F:\\MysoreData\\nbk\\mouseVideoAnalysis\\Box1\\cam1\\test_label...\n",
      "Starting to analyze %  F:\\MysoreData\\nbk\\mouseVideoAnalysis\\Box1\\cam1\\test_label\\camera-1_clip-13.avi\n",
      "F:\\MysoreData\\nbk\\mouseVideoAnalysis\\Box1\\cam1\\test_label  already exists!\n",
      "Loading  F:\\MysoreData\\nbk\\mouseVideoAnalysis\\Box1\\cam1\\test_label\\camera-1_clip-13.avi\n",
      "Duration of video [s]:  3.0 , recorded with  30.0 fps!\n",
      "Overall # of frames:  90  found with (before cropping) frame dimensions:  720 720\n",
      "Starting to extract posture\n",
      "Cropping based on the x1 = 0 x2 = 600 y1 = 0 y2 = 450. You can adjust the cropping coordinates in the config.yaml file.\n"
     ]
    },
    {
     "name": "stderr",
     "output_type": "stream",
     "text": [
      "100it [00:02, 37.96it/s]                                                                                               \n",
      "  0%|                                                                                           | 0/90 [00:00<?, ?it/s]"
     ]
    },
    {
     "name": "stdout",
     "output_type": "stream",
     "text": [
      "Saving results in F:\\MysoreData\\nbk\\mouseVideoAnalysis\\Box1\\cam1\\test_label...\n",
      "Starting to analyze %  F:\\MysoreData\\nbk\\mouseVideoAnalysis\\Box1\\cam1\\test_label\\camera-1_clip-130.avi\n",
      "F:\\MysoreData\\nbk\\mouseVideoAnalysis\\Box1\\cam1\\test_label  already exists!\n",
      "Loading  F:\\MysoreData\\nbk\\mouseVideoAnalysis\\Box1\\cam1\\test_label\\camera-1_clip-130.avi\n",
      "Duration of video [s]:  3.0 , recorded with  30.0 fps!\n",
      "Overall # of frames:  90  found with (before cropping) frame dimensions:  720 720\n",
      "Starting to extract posture\n",
      "Cropping based on the x1 = 0 x2 = 600 y1 = 0 y2 = 450. You can adjust the cropping coordinates in the config.yaml file.\n"
     ]
    },
    {
     "name": "stderr",
     "output_type": "stream",
     "text": [
      "100it [00:01, 50.58it/s]                                                                                               \n",
      "  0%|                                                                                           | 0/90 [00:00<?, ?it/s]"
     ]
    },
    {
     "name": "stdout",
     "output_type": "stream",
     "text": [
      "Saving results in F:\\MysoreData\\nbk\\mouseVideoAnalysis\\Box1\\cam1\\test_label...\n",
      "Starting to analyze %  F:\\MysoreData\\nbk\\mouseVideoAnalysis\\Box1\\cam1\\test_label\\camera-1_clip-131.avi\n",
      "F:\\MysoreData\\nbk\\mouseVideoAnalysis\\Box1\\cam1\\test_label  already exists!\n",
      "Loading  F:\\MysoreData\\nbk\\mouseVideoAnalysis\\Box1\\cam1\\test_label\\camera-1_clip-131.avi\n",
      "Duration of video [s]:  3.0 , recorded with  30.0 fps!\n",
      "Overall # of frames:  90  found with (before cropping) frame dimensions:  720 720\n",
      "Starting to extract posture\n",
      "Cropping based on the x1 = 0 x2 = 600 y1 = 0 y2 = 450. You can adjust the cropping coordinates in the config.yaml file.\n"
     ]
    },
    {
     "name": "stderr",
     "output_type": "stream",
     "text": [
      "100it [00:02, 37.24it/s]                                                                                               \n",
      "  0%|                                                                                           | 0/90 [00:00<?, ?it/s]"
     ]
    },
    {
     "name": "stdout",
     "output_type": "stream",
     "text": [
      "Saving results in F:\\MysoreData\\nbk\\mouseVideoAnalysis\\Box1\\cam1\\test_label...\n",
      "Starting to analyze %  F:\\MysoreData\\nbk\\mouseVideoAnalysis\\Box1\\cam1\\test_label\\camera-1_clip-132.avi\n",
      "F:\\MysoreData\\nbk\\mouseVideoAnalysis\\Box1\\cam1\\test_label  already exists!\n",
      "Loading  F:\\MysoreData\\nbk\\mouseVideoAnalysis\\Box1\\cam1\\test_label\\camera-1_clip-132.avi\n",
      "Duration of video [s]:  3.0 , recorded with  30.0 fps!\n",
      "Overall # of frames:  90  found with (before cropping) frame dimensions:  720 720\n",
      "Starting to extract posture\n",
      "Cropping based on the x1 = 0 x2 = 600 y1 = 0 y2 = 450. You can adjust the cropping coordinates in the config.yaml file.\n"
     ]
    },
    {
     "name": "stderr",
     "output_type": "stream",
     "text": [
      "100it [00:02, 45.71it/s]                                                                                               \n",
      "  0%|                                                                                           | 0/90 [00:00<?, ?it/s]"
     ]
    },
    {
     "name": "stdout",
     "output_type": "stream",
     "text": [
      "Saving results in F:\\MysoreData\\nbk\\mouseVideoAnalysis\\Box1\\cam1\\test_label...\n",
      "Starting to analyze %  F:\\MysoreData\\nbk\\mouseVideoAnalysis\\Box1\\cam1\\test_label\\camera-1_clip-133.avi\n",
      "F:\\MysoreData\\nbk\\mouseVideoAnalysis\\Box1\\cam1\\test_label  already exists!\n",
      "Loading  F:\\MysoreData\\nbk\\mouseVideoAnalysis\\Box1\\cam1\\test_label\\camera-1_clip-133.avi\n",
      "Duration of video [s]:  3.0 , recorded with  30.0 fps!\n",
      "Overall # of frames:  90  found with (before cropping) frame dimensions:  720 720\n",
      "Starting to extract posture\n",
      "Cropping based on the x1 = 0 x2 = 600 y1 = 0 y2 = 450. You can adjust the cropping coordinates in the config.yaml file.\n"
     ]
    },
    {
     "name": "stderr",
     "output_type": "stream",
     "text": [
      "100it [00:02, 49.83it/s]                                                                                               \n",
      "  0%|                                                                                           | 0/90 [00:00<?, ?it/s]"
     ]
    },
    {
     "name": "stdout",
     "output_type": "stream",
     "text": [
      "Saving results in F:\\MysoreData\\nbk\\mouseVideoAnalysis\\Box1\\cam1\\test_label...\n",
      "Starting to analyze %  F:\\MysoreData\\nbk\\mouseVideoAnalysis\\Box1\\cam1\\test_label\\camera-1_clip-134.avi\n",
      "F:\\MysoreData\\nbk\\mouseVideoAnalysis\\Box1\\cam1\\test_label  already exists!\n",
      "Loading  F:\\MysoreData\\nbk\\mouseVideoAnalysis\\Box1\\cam1\\test_label\\camera-1_clip-134.avi\n",
      "Duration of video [s]:  3.0 , recorded with  30.0 fps!\n",
      "Overall # of frames:  90  found with (before cropping) frame dimensions:  720 720\n",
      "Starting to extract posture\n",
      "Cropping based on the x1 = 0 x2 = 600 y1 = 0 y2 = 450. You can adjust the cropping coordinates in the config.yaml file.\n"
     ]
    },
    {
     "name": "stderr",
     "output_type": "stream",
     "text": [
      "100it [00:02, 48.36it/s]                                                                                               \n",
      "  0%|                                                                                           | 0/90 [00:00<?, ?it/s]"
     ]
    },
    {
     "name": "stdout",
     "output_type": "stream",
     "text": [
      "Saving results in F:\\MysoreData\\nbk\\mouseVideoAnalysis\\Box1\\cam1\\test_label...\n",
      "Starting to analyze %  F:\\MysoreData\\nbk\\mouseVideoAnalysis\\Box1\\cam1\\test_label\\camera-1_clip-135.avi\n",
      "F:\\MysoreData\\nbk\\mouseVideoAnalysis\\Box1\\cam1\\test_label  already exists!\n",
      "Loading  F:\\MysoreData\\nbk\\mouseVideoAnalysis\\Box1\\cam1\\test_label\\camera-1_clip-135.avi\n",
      "Duration of video [s]:  3.0 , recorded with  30.0 fps!\n",
      "Overall # of frames:  90  found with (before cropping) frame dimensions:  720 720\n",
      "Starting to extract posture\n",
      "Cropping based on the x1 = 0 x2 = 600 y1 = 0 y2 = 450. You can adjust the cropping coordinates in the config.yaml file.\n"
     ]
    },
    {
     "name": "stderr",
     "output_type": "stream",
     "text": [
      "100it [00:01, 50.99it/s]                                                                                               \n",
      "  0%|                                                                                           | 0/90 [00:00<?, ?it/s]"
     ]
    },
    {
     "name": "stdout",
     "output_type": "stream",
     "text": [
      "Saving results in F:\\MysoreData\\nbk\\mouseVideoAnalysis\\Box1\\cam1\\test_label...\n",
      "Starting to analyze %  F:\\MysoreData\\nbk\\mouseVideoAnalysis\\Box1\\cam1\\test_label\\camera-1_clip-136.avi\n",
      "F:\\MysoreData\\nbk\\mouseVideoAnalysis\\Box1\\cam1\\test_label  already exists!\n",
      "Loading  F:\\MysoreData\\nbk\\mouseVideoAnalysis\\Box1\\cam1\\test_label\\camera-1_clip-136.avi\n",
      "Duration of video [s]:  3.0 , recorded with  30.0 fps!\n",
      "Overall # of frames:  90  found with (before cropping) frame dimensions:  720 720\n",
      "Starting to extract posture\n",
      "Cropping based on the x1 = 0 x2 = 600 y1 = 0 y2 = 450. You can adjust the cropping coordinates in the config.yaml file.\n"
     ]
    },
    {
     "name": "stderr",
     "output_type": "stream",
     "text": [
      "100it [00:02, 49.08it/s]                                                                                               \n",
      "  0%|                                                                                           | 0/90 [00:00<?, ?it/s]"
     ]
    },
    {
     "name": "stdout",
     "output_type": "stream",
     "text": [
      "Saving results in F:\\MysoreData\\nbk\\mouseVideoAnalysis\\Box1\\cam1\\test_label...\n",
      "Starting to analyze %  F:\\MysoreData\\nbk\\mouseVideoAnalysis\\Box1\\cam1\\test_label\\camera-1_clip-137.avi\n",
      "F:\\MysoreData\\nbk\\mouseVideoAnalysis\\Box1\\cam1\\test_label  already exists!\n",
      "Loading  F:\\MysoreData\\nbk\\mouseVideoAnalysis\\Box1\\cam1\\test_label\\camera-1_clip-137.avi\n",
      "Duration of video [s]:  3.0 , recorded with  30.0 fps!\n",
      "Overall # of frames:  90  found with (before cropping) frame dimensions:  720 720\n",
      "Starting to extract posture\n",
      "Cropping based on the x1 = 0 x2 = 600 y1 = 0 y2 = 450. You can adjust the cropping coordinates in the config.yaml file.\n"
     ]
    },
    {
     "name": "stderr",
     "output_type": "stream",
     "text": [
      "100it [00:01, 50.44it/s]                                                                                               \n",
      "  0%|                                                                                           | 0/90 [00:00<?, ?it/s]"
     ]
    },
    {
     "name": "stdout",
     "output_type": "stream",
     "text": [
      "Saving results in F:\\MysoreData\\nbk\\mouseVideoAnalysis\\Box1\\cam1\\test_label...\n",
      "Starting to analyze %  F:\\MysoreData\\nbk\\mouseVideoAnalysis\\Box1\\cam1\\test_label\\camera-1_clip-138.avi\n",
      "F:\\MysoreData\\nbk\\mouseVideoAnalysis\\Box1\\cam1\\test_label  already exists!\n",
      "Loading  F:\\MysoreData\\nbk\\mouseVideoAnalysis\\Box1\\cam1\\test_label\\camera-1_clip-138.avi\n",
      "Duration of video [s]:  3.0 , recorded with  30.0 fps!\n",
      "Overall # of frames:  90  found with (before cropping) frame dimensions:  720 720\n",
      "Starting to extract posture\n",
      "Cropping based on the x1 = 0 x2 = 600 y1 = 0 y2 = 450. You can adjust the cropping coordinates in the config.yaml file.\n"
     ]
    },
    {
     "name": "stderr",
     "output_type": "stream",
     "text": [
      "100it [00:02, 49.36it/s]                                                                                               \n",
      "  0%|                                                                                           | 0/90 [00:00<?, ?it/s]"
     ]
    },
    {
     "name": "stdout",
     "output_type": "stream",
     "text": [
      "Saving results in F:\\MysoreData\\nbk\\mouseVideoAnalysis\\Box1\\cam1\\test_label...\n",
      "Starting to analyze %  F:\\MysoreData\\nbk\\mouseVideoAnalysis\\Box1\\cam1\\test_label\\camera-1_clip-139.avi\n",
      "F:\\MysoreData\\nbk\\mouseVideoAnalysis\\Box1\\cam1\\test_label  already exists!\n",
      "Loading  F:\\MysoreData\\nbk\\mouseVideoAnalysis\\Box1\\cam1\\test_label\\camera-1_clip-139.avi\n",
      "Duration of video [s]:  3.0 , recorded with  30.0 fps!\n",
      "Overall # of frames:  90  found with (before cropping) frame dimensions:  720 720\n",
      "Starting to extract posture\n",
      "Cropping based on the x1 = 0 x2 = 600 y1 = 0 y2 = 450. You can adjust the cropping coordinates in the config.yaml file.\n"
     ]
    },
    {
     "name": "stderr",
     "output_type": "stream",
     "text": [
      "100it [00:01, 51.46it/s]                                                                                               \n",
      "  0%|                                                                                           | 0/90 [00:00<?, ?it/s]"
     ]
    },
    {
     "name": "stdout",
     "output_type": "stream",
     "text": [
      "Saving results in F:\\MysoreData\\nbk\\mouseVideoAnalysis\\Box1\\cam1\\test_label...\n",
      "Starting to analyze %  F:\\MysoreData\\nbk\\mouseVideoAnalysis\\Box1\\cam1\\test_label\\camera-1_clip-14.avi\n",
      "F:\\MysoreData\\nbk\\mouseVideoAnalysis\\Box1\\cam1\\test_label  already exists!\n",
      "Loading  F:\\MysoreData\\nbk\\mouseVideoAnalysis\\Box1\\cam1\\test_label\\camera-1_clip-14.avi\n",
      "Duration of video [s]:  3.0 , recorded with  30.0 fps!\n",
      "Overall # of frames:  90  found with (before cropping) frame dimensions:  720 720\n",
      "Starting to extract posture\n",
      "Cropping based on the x1 = 0 x2 = 600 y1 = 0 y2 = 450. You can adjust the cropping coordinates in the config.yaml file.\n"
     ]
    },
    {
     "name": "stderr",
     "output_type": "stream",
     "text": [
      "100it [00:01, 50.13it/s]                                                                                               \n",
      "  0%|                                                                                           | 0/90 [00:00<?, ?it/s]"
     ]
    },
    {
     "name": "stdout",
     "output_type": "stream",
     "text": [
      "Saving results in F:\\MysoreData\\nbk\\mouseVideoAnalysis\\Box1\\cam1\\test_label...\n",
      "Starting to analyze %  F:\\MysoreData\\nbk\\mouseVideoAnalysis\\Box1\\cam1\\test_label\\camera-1_clip-140.avi\n",
      "F:\\MysoreData\\nbk\\mouseVideoAnalysis\\Box1\\cam1\\test_label  already exists!\n",
      "Loading  F:\\MysoreData\\nbk\\mouseVideoAnalysis\\Box1\\cam1\\test_label\\camera-1_clip-140.avi\n",
      "Duration of video [s]:  3.0 , recorded with  30.0 fps!\n",
      "Overall # of frames:  90  found with (before cropping) frame dimensions:  720 720\n",
      "Starting to extract posture\n",
      "Cropping based on the x1 = 0 x2 = 600 y1 = 0 y2 = 450. You can adjust the cropping coordinates in the config.yaml file.\n"
     ]
    },
    {
     "name": "stderr",
     "output_type": "stream",
     "text": [
      "100it [00:01, 50.75it/s]                                                                                               \n",
      "  0%|                                                                                           | 0/90 [00:00<?, ?it/s]"
     ]
    },
    {
     "name": "stdout",
     "output_type": "stream",
     "text": [
      "Saving results in F:\\MysoreData\\nbk\\mouseVideoAnalysis\\Box1\\cam1\\test_label...\n",
      "Starting to analyze %  F:\\MysoreData\\nbk\\mouseVideoAnalysis\\Box1\\cam1\\test_label\\camera-1_clip-141.avi\n",
      "F:\\MysoreData\\nbk\\mouseVideoAnalysis\\Box1\\cam1\\test_label  already exists!\n",
      "Loading  F:\\MysoreData\\nbk\\mouseVideoAnalysis\\Box1\\cam1\\test_label\\camera-1_clip-141.avi\n",
      "Duration of video [s]:  3.0 , recorded with  30.0 fps!\n",
      "Overall # of frames:  90  found with (before cropping) frame dimensions:  720 720\n",
      "Starting to extract posture\n",
      "Cropping based on the x1 = 0 x2 = 600 y1 = 0 y2 = 450. You can adjust the cropping coordinates in the config.yaml file.\n"
     ]
    },
    {
     "name": "stderr",
     "output_type": "stream",
     "text": [
      "100it [00:01, 50.35it/s]                                                                                               \n",
      "  0%|                                                                                           | 0/90 [00:00<?, ?it/s]"
     ]
    },
    {
     "name": "stdout",
     "output_type": "stream",
     "text": [
      "Saving results in F:\\MysoreData\\nbk\\mouseVideoAnalysis\\Box1\\cam1\\test_label...\n",
      "Starting to analyze %  F:\\MysoreData\\nbk\\mouseVideoAnalysis\\Box1\\cam1\\test_label\\camera-1_clip-142.avi\n",
      "F:\\MysoreData\\nbk\\mouseVideoAnalysis\\Box1\\cam1\\test_label  already exists!\n",
      "Loading  F:\\MysoreData\\nbk\\mouseVideoAnalysis\\Box1\\cam1\\test_label\\camera-1_clip-142.avi\n",
      "Duration of video [s]:  3.0 , recorded with  30.0 fps!\n",
      "Overall # of frames:  90  found with (before cropping) frame dimensions:  720 720\n",
      "Starting to extract posture\n",
      "Cropping based on the x1 = 0 x2 = 600 y1 = 0 y2 = 450. You can adjust the cropping coordinates in the config.yaml file.\n"
     ]
    },
    {
     "name": "stderr",
     "output_type": "stream",
     "text": [
      "100it [00:02, 48.09it/s]                                                                                               \n",
      "  0%|                                                                                           | 0/90 [00:00<?, ?it/s]"
     ]
    },
    {
     "name": "stdout",
     "output_type": "stream",
     "text": [
      "Saving results in F:\\MysoreData\\nbk\\mouseVideoAnalysis\\Box1\\cam1\\test_label...\n",
      "Starting to analyze %  F:\\MysoreData\\nbk\\mouseVideoAnalysis\\Box1\\cam1\\test_label\\camera-1_clip-143.avi\n",
      "F:\\MysoreData\\nbk\\mouseVideoAnalysis\\Box1\\cam1\\test_label  already exists!\n",
      "Loading  F:\\MysoreData\\nbk\\mouseVideoAnalysis\\Box1\\cam1\\test_label\\camera-1_clip-143.avi\n",
      "Duration of video [s]:  3.0 , recorded with  30.0 fps!\n",
      "Overall # of frames:  90  found with (before cropping) frame dimensions:  720 720\n",
      "Starting to extract posture\n",
      "Cropping based on the x1 = 0 x2 = 600 y1 = 0 y2 = 450. You can adjust the cropping coordinates in the config.yaml file.\n"
     ]
    },
    {
     "name": "stderr",
     "output_type": "stream",
     "text": [
      "100it [00:02, 47.76it/s]                                                                                               \n",
      "  0%|                                                                                           | 0/90 [00:00<?, ?it/s]"
     ]
    },
    {
     "name": "stdout",
     "output_type": "stream",
     "text": [
      "Saving results in F:\\MysoreData\\nbk\\mouseVideoAnalysis\\Box1\\cam1\\test_label...\n",
      "Starting to analyze %  F:\\MysoreData\\nbk\\mouseVideoAnalysis\\Box1\\cam1\\test_label\\camera-1_clip-15.avi\n",
      "F:\\MysoreData\\nbk\\mouseVideoAnalysis\\Box1\\cam1\\test_label  already exists!\n",
      "Loading  F:\\MysoreData\\nbk\\mouseVideoAnalysis\\Box1\\cam1\\test_label\\camera-1_clip-15.avi\n",
      "Duration of video [s]:  3.0 , recorded with  30.0 fps!\n",
      "Overall # of frames:  90  found with (before cropping) frame dimensions:  720 720\n",
      "Starting to extract posture\n",
      "Cropping based on the x1 = 0 x2 = 600 y1 = 0 y2 = 450. You can adjust the cropping coordinates in the config.yaml file.\n"
     ]
    },
    {
     "name": "stderr",
     "output_type": "stream",
     "text": [
      "100it [00:01, 51.07it/s]                                                                                               \n",
      "  0%|                                                                                           | 0/90 [00:00<?, ?it/s]"
     ]
    },
    {
     "name": "stdout",
     "output_type": "stream",
     "text": [
      "Saving results in F:\\MysoreData\\nbk\\mouseVideoAnalysis\\Box1\\cam1\\test_label...\n",
      "Starting to analyze %  F:\\MysoreData\\nbk\\mouseVideoAnalysis\\Box1\\cam1\\test_label\\camera-1_clip-16.avi\n",
      "F:\\MysoreData\\nbk\\mouseVideoAnalysis\\Box1\\cam1\\test_label  already exists!\n",
      "Loading  F:\\MysoreData\\nbk\\mouseVideoAnalysis\\Box1\\cam1\\test_label\\camera-1_clip-16.avi\n",
      "Duration of video [s]:  3.0 , recorded with  30.0 fps!\n",
      "Overall # of frames:  90  found with (before cropping) frame dimensions:  720 720\n",
      "Starting to extract posture\n",
      "Cropping based on the x1 = 0 x2 = 600 y1 = 0 y2 = 450. You can adjust the cropping coordinates in the config.yaml file.\n"
     ]
    },
    {
     "name": "stderr",
     "output_type": "stream",
     "text": [
      "100it [00:02, 48.84it/s]                                                                                               \n",
      "  0%|                                                                                           | 0/90 [00:00<?, ?it/s]"
     ]
    },
    {
     "name": "stdout",
     "output_type": "stream",
     "text": [
      "Saving results in F:\\MysoreData\\nbk\\mouseVideoAnalysis\\Box1\\cam1\\test_label...\n",
      "Starting to analyze %  F:\\MysoreData\\nbk\\mouseVideoAnalysis\\Box1\\cam1\\test_label\\camera-1_clip-17.avi\n",
      "F:\\MysoreData\\nbk\\mouseVideoAnalysis\\Box1\\cam1\\test_label  already exists!\n",
      "Loading  F:\\MysoreData\\nbk\\mouseVideoAnalysis\\Box1\\cam1\\test_label\\camera-1_clip-17.avi\n",
      "Duration of video [s]:  3.0 , recorded with  30.0 fps!\n",
      "Overall # of frames:  90  found with (before cropping) frame dimensions:  720 720\n",
      "Starting to extract posture\n",
      "Cropping based on the x1 = 0 x2 = 600 y1 = 0 y2 = 450. You can adjust the cropping coordinates in the config.yaml file.\n"
     ]
    },
    {
     "name": "stderr",
     "output_type": "stream",
     "text": [
      "100it [00:01, 51.25it/s]                                                                                               \n",
      "  0%|                                                                                           | 0/90 [00:00<?, ?it/s]"
     ]
    },
    {
     "name": "stdout",
     "output_type": "stream",
     "text": [
      "Saving results in F:\\MysoreData\\nbk\\mouseVideoAnalysis\\Box1\\cam1\\test_label...\n",
      "Starting to analyze %  F:\\MysoreData\\nbk\\mouseVideoAnalysis\\Box1\\cam1\\test_label\\camera-1_clip-18.avi\n",
      "F:\\MysoreData\\nbk\\mouseVideoAnalysis\\Box1\\cam1\\test_label  already exists!\n",
      "Loading  F:\\MysoreData\\nbk\\mouseVideoAnalysis\\Box1\\cam1\\test_label\\camera-1_clip-18.avi\n",
      "Duration of video [s]:  3.0 , recorded with  30.0 fps!\n",
      "Overall # of frames:  90  found with (before cropping) frame dimensions:  720 720\n",
      "Starting to extract posture\n",
      "Cropping based on the x1 = 0 x2 = 600 y1 = 0 y2 = 450. You can adjust the cropping coordinates in the config.yaml file.\n"
     ]
    },
    {
     "name": "stderr",
     "output_type": "stream",
     "text": [
      "100it [00:01, 50.47it/s]                                                                                               \n",
      "  0%|                                                                                           | 0/90 [00:00<?, ?it/s]"
     ]
    },
    {
     "name": "stdout",
     "output_type": "stream",
     "text": [
      "Saving results in F:\\MysoreData\\nbk\\mouseVideoAnalysis\\Box1\\cam1\\test_label...\n",
      "Starting to analyze %  F:\\MysoreData\\nbk\\mouseVideoAnalysis\\Box1\\cam1\\test_label\\camera-1_clip-19.avi\n",
      "F:\\MysoreData\\nbk\\mouseVideoAnalysis\\Box1\\cam1\\test_label  already exists!\n",
      "Loading  F:\\MysoreData\\nbk\\mouseVideoAnalysis\\Box1\\cam1\\test_label\\camera-1_clip-19.avi\n",
      "Duration of video [s]:  3.0 , recorded with  30.0 fps!\n",
      "Overall # of frames:  90  found with (before cropping) frame dimensions:  720 720\n",
      "Starting to extract posture\n",
      "Cropping based on the x1 = 0 x2 = 600 y1 = 0 y2 = 450. You can adjust the cropping coordinates in the config.yaml file.\n"
     ]
    },
    {
     "name": "stderr",
     "output_type": "stream",
     "text": [
      "100it [00:02, 48.19it/s]                                                                                               \n",
      "  0%|                                                                                           | 0/90 [00:00<?, ?it/s]"
     ]
    },
    {
     "name": "stdout",
     "output_type": "stream",
     "text": [
      "Saving results in F:\\MysoreData\\nbk\\mouseVideoAnalysis\\Box1\\cam1\\test_label...\n",
      "Starting to analyze %  F:\\MysoreData\\nbk\\mouseVideoAnalysis\\Box1\\cam1\\test_label\\camera-1_clip-2.avi\n",
      "F:\\MysoreData\\nbk\\mouseVideoAnalysis\\Box1\\cam1\\test_label  already exists!\n",
      "Loading  F:\\MysoreData\\nbk\\mouseVideoAnalysis\\Box1\\cam1\\test_label\\camera-1_clip-2.avi\n",
      "Duration of video [s]:  3.0 , recorded with  30.0 fps!\n",
      "Overall # of frames:  90  found with (before cropping) frame dimensions:  720 720\n",
      "Starting to extract posture\n",
      "Cropping based on the x1 = 0 x2 = 600 y1 = 0 y2 = 450. You can adjust the cropping coordinates in the config.yaml file.\n"
     ]
    },
    {
     "name": "stderr",
     "output_type": "stream",
     "text": [
      "100it [00:02, 47.86it/s]                                                                                               \n",
      "  0%|                                                                                           | 0/90 [00:00<?, ?it/s]"
     ]
    },
    {
     "name": "stdout",
     "output_type": "stream",
     "text": [
      "Saving results in F:\\MysoreData\\nbk\\mouseVideoAnalysis\\Box1\\cam1\\test_label...\n",
      "Starting to analyze %  F:\\MysoreData\\nbk\\mouseVideoAnalysis\\Box1\\cam1\\test_label\\camera-1_clip-20.avi\n",
      "F:\\MysoreData\\nbk\\mouseVideoAnalysis\\Box1\\cam1\\test_label  already exists!\n",
      "Loading  F:\\MysoreData\\nbk\\mouseVideoAnalysis\\Box1\\cam1\\test_label\\camera-1_clip-20.avi\n",
      "Duration of video [s]:  3.0 , recorded with  30.0 fps!\n",
      "Overall # of frames:  90  found with (before cropping) frame dimensions:  720 720\n",
      "Starting to extract posture\n",
      "Cropping based on the x1 = 0 x2 = 600 y1 = 0 y2 = 450. You can adjust the cropping coordinates in the config.yaml file.\n"
     ]
    },
    {
     "name": "stderr",
     "output_type": "stream",
     "text": [
      "100it [00:01, 53.06it/s]                                                                                               \n",
      "  0%|                                                                                           | 0/90 [00:00<?, ?it/s]"
     ]
    },
    {
     "name": "stdout",
     "output_type": "stream",
     "text": [
      "Saving results in F:\\MysoreData\\nbk\\mouseVideoAnalysis\\Box1\\cam1\\test_label...\n",
      "Starting to analyze %  F:\\MysoreData\\nbk\\mouseVideoAnalysis\\Box1\\cam1\\test_label\\camera-1_clip-21.avi\n",
      "F:\\MysoreData\\nbk\\mouseVideoAnalysis\\Box1\\cam1\\test_label  already exists!\n",
      "Loading  F:\\MysoreData\\nbk\\mouseVideoAnalysis\\Box1\\cam1\\test_label\\camera-1_clip-21.avi\n",
      "Duration of video [s]:  3.0 , recorded with  30.0 fps!\n",
      "Overall # of frames:  90  found with (before cropping) frame dimensions:  720 720\n",
      "Starting to extract posture\n",
      "Cropping based on the x1 = 0 x2 = 600 y1 = 0 y2 = 450. You can adjust the cropping coordinates in the config.yaml file.\n"
     ]
    },
    {
     "name": "stderr",
     "output_type": "stream",
     "text": [
      "100it [00:01, 51.12it/s]                                                                                               \n",
      "  0%|                                                                                           | 0/90 [00:00<?, ?it/s]"
     ]
    },
    {
     "name": "stdout",
     "output_type": "stream",
     "text": [
      "Saving results in F:\\MysoreData\\nbk\\mouseVideoAnalysis\\Box1\\cam1\\test_label...\n",
      "Starting to analyze %  F:\\MysoreData\\nbk\\mouseVideoAnalysis\\Box1\\cam1\\test_label\\camera-1_clip-22.avi\n",
      "F:\\MysoreData\\nbk\\mouseVideoAnalysis\\Box1\\cam1\\test_label  already exists!\n",
      "Loading  F:\\MysoreData\\nbk\\mouseVideoAnalysis\\Box1\\cam1\\test_label\\camera-1_clip-22.avi\n",
      "Duration of video [s]:  3.0 , recorded with  30.0 fps!\n",
      "Overall # of frames:  90  found with (before cropping) frame dimensions:  720 720\n",
      "Starting to extract posture\n",
      "Cropping based on the x1 = 0 x2 = 600 y1 = 0 y2 = 450. You can adjust the cropping coordinates in the config.yaml file.\n"
     ]
    },
    {
     "name": "stderr",
     "output_type": "stream",
     "text": [
      "100it [00:01, 52.05it/s]                                                                                               \n",
      "  0%|                                                                                           | 0/90 [00:00<?, ?it/s]"
     ]
    },
    {
     "name": "stdout",
     "output_type": "stream",
     "text": [
      "Saving results in F:\\MysoreData\\nbk\\mouseVideoAnalysis\\Box1\\cam1\\test_label...\n",
      "Starting to analyze %  F:\\MysoreData\\nbk\\mouseVideoAnalysis\\Box1\\cam1\\test_label\\camera-1_clip-23.avi\n",
      "F:\\MysoreData\\nbk\\mouseVideoAnalysis\\Box1\\cam1\\test_label  already exists!\n",
      "Loading  F:\\MysoreData\\nbk\\mouseVideoAnalysis\\Box1\\cam1\\test_label\\camera-1_clip-23.avi\n",
      "Duration of video [s]:  3.0 , recorded with  30.0 fps!\n",
      "Overall # of frames:  90  found with (before cropping) frame dimensions:  720 720\n",
      "Starting to extract posture\n",
      "Cropping based on the x1 = 0 x2 = 600 y1 = 0 y2 = 450. You can adjust the cropping coordinates in the config.yaml file.\n"
     ]
    },
    {
     "name": "stderr",
     "output_type": "stream",
     "text": [
      "100it [00:01, 51.71it/s]                                                                                               \n",
      "  0%|                                                                                           | 0/90 [00:00<?, ?it/s]"
     ]
    },
    {
     "name": "stdout",
     "output_type": "stream",
     "text": [
      "Saving results in F:\\MysoreData\\nbk\\mouseVideoAnalysis\\Box1\\cam1\\test_label...\n",
      "Starting to analyze %  F:\\MysoreData\\nbk\\mouseVideoAnalysis\\Box1\\cam1\\test_label\\camera-1_clip-24.avi\n",
      "F:\\MysoreData\\nbk\\mouseVideoAnalysis\\Box1\\cam1\\test_label  already exists!\n",
      "Loading  F:\\MysoreData\\nbk\\mouseVideoAnalysis\\Box1\\cam1\\test_label\\camera-1_clip-24.avi\n",
      "Duration of video [s]:  3.0 , recorded with  30.0 fps!\n",
      "Overall # of frames:  90  found with (before cropping) frame dimensions:  720 720\n",
      "Starting to extract posture\n",
      "Cropping based on the x1 = 0 x2 = 600 y1 = 0 y2 = 450. You can adjust the cropping coordinates in the config.yaml file.\n"
     ]
    },
    {
     "name": "stderr",
     "output_type": "stream",
     "text": [
      "100it [00:01, 51.49it/s]                                                                                               \n",
      "  0%|                                                                                           | 0/90 [00:00<?, ?it/s]"
     ]
    },
    {
     "name": "stdout",
     "output_type": "stream",
     "text": [
      "Saving results in F:\\MysoreData\\nbk\\mouseVideoAnalysis\\Box1\\cam1\\test_label...\n",
      "Starting to analyze %  F:\\MysoreData\\nbk\\mouseVideoAnalysis\\Box1\\cam1\\test_label\\camera-1_clip-25.avi\n",
      "F:\\MysoreData\\nbk\\mouseVideoAnalysis\\Box1\\cam1\\test_label  already exists!\n",
      "Loading  F:\\MysoreData\\nbk\\mouseVideoAnalysis\\Box1\\cam1\\test_label\\camera-1_clip-25.avi\n",
      "Duration of video [s]:  3.0 , recorded with  30.0 fps!\n",
      "Overall # of frames:  90  found with (before cropping) frame dimensions:  720 720\n",
      "Starting to extract posture\n",
      "Cropping based on the x1 = 0 x2 = 600 y1 = 0 y2 = 450. You can adjust the cropping coordinates in the config.yaml file.\n"
     ]
    },
    {
     "name": "stderr",
     "output_type": "stream",
     "text": [
      "100it [00:01, 52.52it/s]                                                                                               \n",
      "  0%|                                                                                           | 0/90 [00:00<?, ?it/s]"
     ]
    },
    {
     "name": "stdout",
     "output_type": "stream",
     "text": [
      "Saving results in F:\\MysoreData\\nbk\\mouseVideoAnalysis\\Box1\\cam1\\test_label...\n",
      "Starting to analyze %  F:\\MysoreData\\nbk\\mouseVideoAnalysis\\Box1\\cam1\\test_label\\camera-1_clip-26.avi\n",
      "F:\\MysoreData\\nbk\\mouseVideoAnalysis\\Box1\\cam1\\test_label  already exists!\n",
      "Loading  F:\\MysoreData\\nbk\\mouseVideoAnalysis\\Box1\\cam1\\test_label\\camera-1_clip-26.avi\n",
      "Duration of video [s]:  3.0 , recorded with  30.0 fps!\n",
      "Overall # of frames:  90  found with (before cropping) frame dimensions:  720 720\n",
      "Starting to extract posture\n",
      "Cropping based on the x1 = 0 x2 = 600 y1 = 0 y2 = 450. You can adjust the cropping coordinates in the config.yaml file.\n"
     ]
    },
    {
     "name": "stderr",
     "output_type": "stream",
     "text": [
      "100it [00:01, 53.85it/s]                                                                                               \n",
      "  0%|                                                                                           | 0/90 [00:00<?, ?it/s]"
     ]
    },
    {
     "name": "stdout",
     "output_type": "stream",
     "text": [
      "Saving results in F:\\MysoreData\\nbk\\mouseVideoAnalysis\\Box1\\cam1\\test_label...\n",
      "Starting to analyze %  F:\\MysoreData\\nbk\\mouseVideoAnalysis\\Box1\\cam1\\test_label\\camera-1_clip-27.avi\n",
      "F:\\MysoreData\\nbk\\mouseVideoAnalysis\\Box1\\cam1\\test_label  already exists!\n",
      "Loading  F:\\MysoreData\\nbk\\mouseVideoAnalysis\\Box1\\cam1\\test_label\\camera-1_clip-27.avi\n",
      "Duration of video [s]:  3.0 , recorded with  30.0 fps!\n",
      "Overall # of frames:  90  found with (before cropping) frame dimensions:  720 720\n",
      "Starting to extract posture\n",
      "Cropping based on the x1 = 0 x2 = 600 y1 = 0 y2 = 450. You can adjust the cropping coordinates in the config.yaml file.\n"
     ]
    },
    {
     "name": "stderr",
     "output_type": "stream",
     "text": [
      "100it [00:01, 54.18it/s]                                                                                               \n",
      "  0%|                                                                                           | 0/90 [00:00<?, ?it/s]"
     ]
    },
    {
     "name": "stdout",
     "output_type": "stream",
     "text": [
      "Saving results in F:\\MysoreData\\nbk\\mouseVideoAnalysis\\Box1\\cam1\\test_label...\n",
      "Starting to analyze %  F:\\MysoreData\\nbk\\mouseVideoAnalysis\\Box1\\cam1\\test_label\\camera-1_clip-28.avi\n",
      "F:\\MysoreData\\nbk\\mouseVideoAnalysis\\Box1\\cam1\\test_label  already exists!\n",
      "Loading  F:\\MysoreData\\nbk\\mouseVideoAnalysis\\Box1\\cam1\\test_label\\camera-1_clip-28.avi\n",
      "Duration of video [s]:  3.0 , recorded with  30.0 fps!\n",
      "Overall # of frames:  90  found with (before cropping) frame dimensions:  720 720\n",
      "Starting to extract posture\n",
      "Cropping based on the x1 = 0 x2 = 600 y1 = 0 y2 = 450. You can adjust the cropping coordinates in the config.yaml file.\n"
     ]
    },
    {
     "name": "stderr",
     "output_type": "stream",
     "text": [
      "100it [00:01, 53.88it/s]                                                                                               \n",
      "  0%|                                                                                           | 0/90 [00:00<?, ?it/s]"
     ]
    },
    {
     "name": "stdout",
     "output_type": "stream",
     "text": [
      "Saving results in F:\\MysoreData\\nbk\\mouseVideoAnalysis\\Box1\\cam1\\test_label...\n",
      "Starting to analyze %  F:\\MysoreData\\nbk\\mouseVideoAnalysis\\Box1\\cam1\\test_label\\camera-1_clip-29.avi\n",
      "F:\\MysoreData\\nbk\\mouseVideoAnalysis\\Box1\\cam1\\test_label  already exists!\n",
      "Loading  F:\\MysoreData\\nbk\\mouseVideoAnalysis\\Box1\\cam1\\test_label\\camera-1_clip-29.avi\n",
      "Duration of video [s]:  3.0 , recorded with  30.0 fps!\n",
      "Overall # of frames:  90  found with (before cropping) frame dimensions:  720 720\n",
      "Starting to extract posture\n",
      "Cropping based on the x1 = 0 x2 = 600 y1 = 0 y2 = 450. You can adjust the cropping coordinates in the config.yaml file.\n"
     ]
    },
    {
     "name": "stderr",
     "output_type": "stream",
     "text": [
      "100it [00:01, 53.04it/s]                                                                                               \n",
      "  0%|                                                                                           | 0/90 [00:00<?, ?it/s]"
     ]
    },
    {
     "name": "stdout",
     "output_type": "stream",
     "text": [
      "Saving results in F:\\MysoreData\\nbk\\mouseVideoAnalysis\\Box1\\cam1\\test_label...\n",
      "Starting to analyze %  F:\\MysoreData\\nbk\\mouseVideoAnalysis\\Box1\\cam1\\test_label\\camera-1_clip-3.avi\n",
      "F:\\MysoreData\\nbk\\mouseVideoAnalysis\\Box1\\cam1\\test_label  already exists!\n",
      "Loading  F:\\MysoreData\\nbk\\mouseVideoAnalysis\\Box1\\cam1\\test_label\\camera-1_clip-3.avi\n",
      "Duration of video [s]:  3.0 , recorded with  30.0 fps!\n",
      "Overall # of frames:  90  found with (before cropping) frame dimensions:  720 720\n",
      "Starting to extract posture\n",
      "Cropping based on the x1 = 0 x2 = 600 y1 = 0 y2 = 450. You can adjust the cropping coordinates in the config.yaml file.\n"
     ]
    },
    {
     "name": "stderr",
     "output_type": "stream",
     "text": [
      "100it [00:02, 44.97it/s]                                                                                               \n",
      "  0%|                                                                                           | 0/90 [00:00<?, ?it/s]"
     ]
    },
    {
     "name": "stdout",
     "output_type": "stream",
     "text": [
      "Saving results in F:\\MysoreData\\nbk\\mouseVideoAnalysis\\Box1\\cam1\\test_label...\n",
      "Starting to analyze %  F:\\MysoreData\\nbk\\mouseVideoAnalysis\\Box1\\cam1\\test_label\\camera-1_clip-30.avi\n",
      "F:\\MysoreData\\nbk\\mouseVideoAnalysis\\Box1\\cam1\\test_label  already exists!\n",
      "Loading  F:\\MysoreData\\nbk\\mouseVideoAnalysis\\Box1\\cam1\\test_label\\camera-1_clip-30.avi\n",
      "Duration of video [s]:  3.0 , recorded with  30.0 fps!\n",
      "Overall # of frames:  90  found with (before cropping) frame dimensions:  720 720\n",
      "Starting to extract posture\n",
      "Cropping based on the x1 = 0 x2 = 600 y1 = 0 y2 = 450. You can adjust the cropping coordinates in the config.yaml file.\n"
     ]
    },
    {
     "name": "stderr",
     "output_type": "stream",
     "text": [
      "100it [00:02, 43.81it/s]                                                                                               \n",
      "  0%|                                                                                           | 0/90 [00:00<?, ?it/s]"
     ]
    },
    {
     "name": "stdout",
     "output_type": "stream",
     "text": [
      "Saving results in F:\\MysoreData\\nbk\\mouseVideoAnalysis\\Box1\\cam1\\test_label...\n",
      "Starting to analyze %  F:\\MysoreData\\nbk\\mouseVideoAnalysis\\Box1\\cam1\\test_label\\camera-1_clip-31.avi\n",
      "F:\\MysoreData\\nbk\\mouseVideoAnalysis\\Box1\\cam1\\test_label  already exists!\n",
      "Loading  F:\\MysoreData\\nbk\\mouseVideoAnalysis\\Box1\\cam1\\test_label\\camera-1_clip-31.avi\n",
      "Duration of video [s]:  3.0 , recorded with  30.0 fps!\n",
      "Overall # of frames:  90  found with (before cropping) frame dimensions:  720 720\n",
      "Starting to extract posture\n",
      "Cropping based on the x1 = 0 x2 = 600 y1 = 0 y2 = 450. You can adjust the cropping coordinates in the config.yaml file.\n"
     ]
    },
    {
     "name": "stderr",
     "output_type": "stream",
     "text": [
      "100it [00:01, 50.76it/s]                                                                                               \n",
      "  0%|                                                                                           | 0/90 [00:00<?, ?it/s]"
     ]
    },
    {
     "name": "stdout",
     "output_type": "stream",
     "text": [
      "Saving results in F:\\MysoreData\\nbk\\mouseVideoAnalysis\\Box1\\cam1\\test_label...\n",
      "Starting to analyze %  F:\\MysoreData\\nbk\\mouseVideoAnalysis\\Box1\\cam1\\test_label\\camera-1_clip-32.avi\n",
      "F:\\MysoreData\\nbk\\mouseVideoAnalysis\\Box1\\cam1\\test_label  already exists!\n",
      "Loading  F:\\MysoreData\\nbk\\mouseVideoAnalysis\\Box1\\cam1\\test_label\\camera-1_clip-32.avi\n",
      "Duration of video [s]:  3.0 , recorded with  30.0 fps!\n",
      "Overall # of frames:  90  found with (before cropping) frame dimensions:  720 720\n",
      "Starting to extract posture\n",
      "Cropping based on the x1 = 0 x2 = 600 y1 = 0 y2 = 450. You can adjust the cropping coordinates in the config.yaml file.\n"
     ]
    },
    {
     "name": "stderr",
     "output_type": "stream",
     "text": [
      "100it [00:01, 50.01it/s]                                                                                               \n",
      "  0%|                                                                                           | 0/90 [00:00<?, ?it/s]"
     ]
    },
    {
     "name": "stdout",
     "output_type": "stream",
     "text": [
      "Saving results in F:\\MysoreData\\nbk\\mouseVideoAnalysis\\Box1\\cam1\\test_label...\n",
      "Starting to analyze %  F:\\MysoreData\\nbk\\mouseVideoAnalysis\\Box1\\cam1\\test_label\\camera-1_clip-33.avi\n",
      "F:\\MysoreData\\nbk\\mouseVideoAnalysis\\Box1\\cam1\\test_label  already exists!\n",
      "Loading  F:\\MysoreData\\nbk\\mouseVideoAnalysis\\Box1\\cam1\\test_label\\camera-1_clip-33.avi\n",
      "Duration of video [s]:  3.0 , recorded with  30.0 fps!\n",
      "Overall # of frames:  90  found with (before cropping) frame dimensions:  720 720\n",
      "Starting to extract posture\n",
      "Cropping based on the x1 = 0 x2 = 600 y1 = 0 y2 = 450. You can adjust the cropping coordinates in the config.yaml file.\n"
     ]
    },
    {
     "name": "stderr",
     "output_type": "stream",
     "text": [
      "100it [00:02, 49.67it/s]                                                                                               \n",
      "  0%|                                                                                           | 0/90 [00:00<?, ?it/s]"
     ]
    },
    {
     "name": "stdout",
     "output_type": "stream",
     "text": [
      "Saving results in F:\\MysoreData\\nbk\\mouseVideoAnalysis\\Box1\\cam1\\test_label...\n",
      "Starting to analyze %  F:\\MysoreData\\nbk\\mouseVideoAnalysis\\Box1\\cam1\\test_label\\camera-1_clip-34.avi\n",
      "F:\\MysoreData\\nbk\\mouseVideoAnalysis\\Box1\\cam1\\test_label  already exists!\n",
      "Loading  F:\\MysoreData\\nbk\\mouseVideoAnalysis\\Box1\\cam1\\test_label\\camera-1_clip-34.avi\n",
      "Duration of video [s]:  3.0 , recorded with  30.0 fps!\n",
      "Overall # of frames:  90  found with (before cropping) frame dimensions:  720 720\n",
      "Starting to extract posture\n",
      "Cropping based on the x1 = 0 x2 = 600 y1 = 0 y2 = 450. You can adjust the cropping coordinates in the config.yaml file.\n"
     ]
    },
    {
     "name": "stderr",
     "output_type": "stream",
     "text": [
      "100it [00:01, 50.48it/s]                                                                                               \n",
      "  0%|                                                                                           | 0/90 [00:00<?, ?it/s]"
     ]
    },
    {
     "name": "stdout",
     "output_type": "stream",
     "text": [
      "Saving results in F:\\MysoreData\\nbk\\mouseVideoAnalysis\\Box1\\cam1\\test_label...\n",
      "Starting to analyze %  F:\\MysoreData\\nbk\\mouseVideoAnalysis\\Box1\\cam1\\test_label\\camera-1_clip-35.avi\n",
      "F:\\MysoreData\\nbk\\mouseVideoAnalysis\\Box1\\cam1\\test_label  already exists!\n",
      "Loading  F:\\MysoreData\\nbk\\mouseVideoAnalysis\\Box1\\cam1\\test_label\\camera-1_clip-35.avi\n",
      "Duration of video [s]:  3.0 , recorded with  30.0 fps!\n",
      "Overall # of frames:  90  found with (before cropping) frame dimensions:  720 720\n",
      "Starting to extract posture\n",
      "Cropping based on the x1 = 0 x2 = 600 y1 = 0 y2 = 450. You can adjust the cropping coordinates in the config.yaml file.\n"
     ]
    },
    {
     "name": "stderr",
     "output_type": "stream",
     "text": [
      "100it [00:01, 51.33it/s]                                                                                               \n",
      "  0%|                                                                                           | 0/90 [00:00<?, ?it/s]"
     ]
    },
    {
     "name": "stdout",
     "output_type": "stream",
     "text": [
      "Saving results in F:\\MysoreData\\nbk\\mouseVideoAnalysis\\Box1\\cam1\\test_label...\n",
      "Starting to analyze %  F:\\MysoreData\\nbk\\mouseVideoAnalysis\\Box1\\cam1\\test_label\\camera-1_clip-36.avi\n",
      "F:\\MysoreData\\nbk\\mouseVideoAnalysis\\Box1\\cam1\\test_label  already exists!\n",
      "Loading  F:\\MysoreData\\nbk\\mouseVideoAnalysis\\Box1\\cam1\\test_label\\camera-1_clip-36.avi\n",
      "Duration of video [s]:  3.0 , recorded with  30.0 fps!\n",
      "Overall # of frames:  90  found with (before cropping) frame dimensions:  720 720\n",
      "Starting to extract posture\n",
      "Cropping based on the x1 = 0 x2 = 600 y1 = 0 y2 = 450. You can adjust the cropping coordinates in the config.yaml file.\n"
     ]
    },
    {
     "name": "stderr",
     "output_type": "stream",
     "text": [
      "100it [00:01, 51.00it/s]                                                                                               \n",
      "  0%|                                                                                           | 0/90 [00:00<?, ?it/s]"
     ]
    },
    {
     "name": "stdout",
     "output_type": "stream",
     "text": [
      "Saving results in F:\\MysoreData\\nbk\\mouseVideoAnalysis\\Box1\\cam1\\test_label...\n",
      "Starting to analyze %  F:\\MysoreData\\nbk\\mouseVideoAnalysis\\Box1\\cam1\\test_label\\camera-1_clip-37.avi\n",
      "F:\\MysoreData\\nbk\\mouseVideoAnalysis\\Box1\\cam1\\test_label  already exists!\n",
      "Loading  F:\\MysoreData\\nbk\\mouseVideoAnalysis\\Box1\\cam1\\test_label\\camera-1_clip-37.avi\n",
      "Duration of video [s]:  3.0 , recorded with  30.0 fps!\n",
      "Overall # of frames:  90  found with (before cropping) frame dimensions:  720 720\n",
      "Starting to extract posture\n",
      "Cropping based on the x1 = 0 x2 = 600 y1 = 0 y2 = 450. You can adjust the cropping coordinates in the config.yaml file.\n"
     ]
    },
    {
     "name": "stderr",
     "output_type": "stream",
     "text": [
      "100it [00:01, 50.50it/s]                                                                                               \n",
      "  0%|                                                                                           | 0/90 [00:00<?, ?it/s]"
     ]
    },
    {
     "name": "stdout",
     "output_type": "stream",
     "text": [
      "Saving results in F:\\MysoreData\\nbk\\mouseVideoAnalysis\\Box1\\cam1\\test_label...\n",
      "Starting to analyze %  F:\\MysoreData\\nbk\\mouseVideoAnalysis\\Box1\\cam1\\test_label\\camera-1_clip-38.avi\n",
      "F:\\MysoreData\\nbk\\mouseVideoAnalysis\\Box1\\cam1\\test_label  already exists!\n",
      "Loading  F:\\MysoreData\\nbk\\mouseVideoAnalysis\\Box1\\cam1\\test_label\\camera-1_clip-38.avi\n",
      "Duration of video [s]:  3.0 , recorded with  30.0 fps!\n",
      "Overall # of frames:  90  found with (before cropping) frame dimensions:  720 720\n",
      "Starting to extract posture\n",
      "Cropping based on the x1 = 0 x2 = 600 y1 = 0 y2 = 450. You can adjust the cropping coordinates in the config.yaml file.\n"
     ]
    },
    {
     "name": "stderr",
     "output_type": "stream",
     "text": [
      "100it [00:01, 51.22it/s]                                                                                               \n",
      "  0%|                                                                                           | 0/90 [00:00<?, ?it/s]"
     ]
    },
    {
     "name": "stdout",
     "output_type": "stream",
     "text": [
      "Saving results in F:\\MysoreData\\nbk\\mouseVideoAnalysis\\Box1\\cam1\\test_label...\n",
      "Starting to analyze %  F:\\MysoreData\\nbk\\mouseVideoAnalysis\\Box1\\cam1\\test_label\\camera-1_clip-39.avi\n",
      "F:\\MysoreData\\nbk\\mouseVideoAnalysis\\Box1\\cam1\\test_label  already exists!\n",
      "Loading  F:\\MysoreData\\nbk\\mouseVideoAnalysis\\Box1\\cam1\\test_label\\camera-1_clip-39.avi\n",
      "Duration of video [s]:  3.0 , recorded with  30.0 fps!\n",
      "Overall # of frames:  90  found with (before cropping) frame dimensions:  720 720\n",
      "Starting to extract posture\n",
      "Cropping based on the x1 = 0 x2 = 600 y1 = 0 y2 = 450. You can adjust the cropping coordinates in the config.yaml file.\n"
     ]
    },
    {
     "name": "stderr",
     "output_type": "stream",
     "text": [
      "100it [00:02, 49.88it/s]                                                                                               \n",
      "  0%|                                                                                           | 0/90 [00:00<?, ?it/s]"
     ]
    },
    {
     "name": "stdout",
     "output_type": "stream",
     "text": [
      "Saving results in F:\\MysoreData\\nbk\\mouseVideoAnalysis\\Box1\\cam1\\test_label...\n",
      "Starting to analyze %  F:\\MysoreData\\nbk\\mouseVideoAnalysis\\Box1\\cam1\\test_label\\camera-1_clip-4.avi\n",
      "F:\\MysoreData\\nbk\\mouseVideoAnalysis\\Box1\\cam1\\test_label  already exists!\n",
      "Loading  F:\\MysoreData\\nbk\\mouseVideoAnalysis\\Box1\\cam1\\test_label\\camera-1_clip-4.avi\n",
      "Duration of video [s]:  3.0 , recorded with  30.0 fps!\n",
      "Overall # of frames:  90  found with (before cropping) frame dimensions:  720 720\n",
      "Starting to extract posture\n",
      "Cropping based on the x1 = 0 x2 = 600 y1 = 0 y2 = 450. You can adjust the cropping coordinates in the config.yaml file.\n"
     ]
    },
    {
     "name": "stderr",
     "output_type": "stream",
     "text": [
      "100it [00:02, 49.15it/s]                                                                                               \n",
      "  0%|                                                                                           | 0/90 [00:00<?, ?it/s]"
     ]
    },
    {
     "name": "stdout",
     "output_type": "stream",
     "text": [
      "Saving results in F:\\MysoreData\\nbk\\mouseVideoAnalysis\\Box1\\cam1\\test_label...\n",
      "Starting to analyze %  F:\\MysoreData\\nbk\\mouseVideoAnalysis\\Box1\\cam1\\test_label\\camera-1_clip-40.avi\n",
      "F:\\MysoreData\\nbk\\mouseVideoAnalysis\\Box1\\cam1\\test_label  already exists!\n",
      "Loading  F:\\MysoreData\\nbk\\mouseVideoAnalysis\\Box1\\cam1\\test_label\\camera-1_clip-40.avi\n",
      "Duration of video [s]:  3.0 , recorded with  30.0 fps!\n",
      "Overall # of frames:  90  found with (before cropping) frame dimensions:  720 720\n",
      "Starting to extract posture\n",
      "Cropping based on the x1 = 0 x2 = 600 y1 = 0 y2 = 450. You can adjust the cropping coordinates in the config.yaml file.\n"
     ]
    },
    {
     "name": "stderr",
     "output_type": "stream",
     "text": [
      "100it [00:01, 51.26it/s]                                                                                               \n",
      "  0%|                                                                                           | 0/90 [00:00<?, ?it/s]"
     ]
    },
    {
     "name": "stdout",
     "output_type": "stream",
     "text": [
      "Saving results in F:\\MysoreData\\nbk\\mouseVideoAnalysis\\Box1\\cam1\\test_label...\n",
      "Starting to analyze %  F:\\MysoreData\\nbk\\mouseVideoAnalysis\\Box1\\cam1\\test_label\\camera-1_clip-41.avi\n",
      "F:\\MysoreData\\nbk\\mouseVideoAnalysis\\Box1\\cam1\\test_label  already exists!\n",
      "Loading  F:\\MysoreData\\nbk\\mouseVideoAnalysis\\Box1\\cam1\\test_label\\camera-1_clip-41.avi\n",
      "Duration of video [s]:  3.0 , recorded with  30.0 fps!\n",
      "Overall # of frames:  90  found with (before cropping) frame dimensions:  720 720\n",
      "Starting to extract posture\n",
      "Cropping based on the x1 = 0 x2 = 600 y1 = 0 y2 = 450. You can adjust the cropping coordinates in the config.yaml file.\n"
     ]
    },
    {
     "name": "stderr",
     "output_type": "stream",
     "text": [
      "100it [00:01, 50.18it/s]                                                                                               \n",
      "  0%|                                                                                           | 0/90 [00:00<?, ?it/s]"
     ]
    },
    {
     "name": "stdout",
     "output_type": "stream",
     "text": [
      "Saving results in F:\\MysoreData\\nbk\\mouseVideoAnalysis\\Box1\\cam1\\test_label...\n",
      "Starting to analyze %  F:\\MysoreData\\nbk\\mouseVideoAnalysis\\Box1\\cam1\\test_label\\camera-1_clip-42.avi\n",
      "F:\\MysoreData\\nbk\\mouseVideoAnalysis\\Box1\\cam1\\test_label  already exists!\n",
      "Loading  F:\\MysoreData\\nbk\\mouseVideoAnalysis\\Box1\\cam1\\test_label\\camera-1_clip-42.avi\n",
      "Duration of video [s]:  3.0 , recorded with  30.0 fps!\n",
      "Overall # of frames:  90  found with (before cropping) frame dimensions:  720 720\n",
      "Starting to extract posture\n",
      "Cropping based on the x1 = 0 x2 = 600 y1 = 0 y2 = 450. You can adjust the cropping coordinates in the config.yaml file.\n"
     ]
    },
    {
     "name": "stderr",
     "output_type": "stream",
     "text": [
      "100it [00:01, 50.80it/s]                                                                                               \n",
      "  0%|                                                                                           | 0/90 [00:00<?, ?it/s]"
     ]
    },
    {
     "name": "stdout",
     "output_type": "stream",
     "text": [
      "Saving results in F:\\MysoreData\\nbk\\mouseVideoAnalysis\\Box1\\cam1\\test_label...\n",
      "Starting to analyze %  F:\\MysoreData\\nbk\\mouseVideoAnalysis\\Box1\\cam1\\test_label\\camera-1_clip-43.avi\n",
      "F:\\MysoreData\\nbk\\mouseVideoAnalysis\\Box1\\cam1\\test_label  already exists!\n",
      "Loading  F:\\MysoreData\\nbk\\mouseVideoAnalysis\\Box1\\cam1\\test_label\\camera-1_clip-43.avi\n",
      "Duration of video [s]:  3.0 , recorded with  30.0 fps!\n",
      "Overall # of frames:  90  found with (before cropping) frame dimensions:  720 720\n",
      "Starting to extract posture\n",
      "Cropping based on the x1 = 0 x2 = 600 y1 = 0 y2 = 450. You can adjust the cropping coordinates in the config.yaml file.\n"
     ]
    },
    {
     "name": "stderr",
     "output_type": "stream",
     "text": [
      "100it [00:01, 50.82it/s]                                                                                               \n",
      "  0%|                                                                                           | 0/90 [00:00<?, ?it/s]"
     ]
    },
    {
     "name": "stdout",
     "output_type": "stream",
     "text": [
      "Saving results in F:\\MysoreData\\nbk\\mouseVideoAnalysis\\Box1\\cam1\\test_label...\n",
      "Starting to analyze %  F:\\MysoreData\\nbk\\mouseVideoAnalysis\\Box1\\cam1\\test_label\\camera-1_clip-44.avi\n",
      "F:\\MysoreData\\nbk\\mouseVideoAnalysis\\Box1\\cam1\\test_label  already exists!\n",
      "Loading  F:\\MysoreData\\nbk\\mouseVideoAnalysis\\Box1\\cam1\\test_label\\camera-1_clip-44.avi\n",
      "Duration of video [s]:  3.0 , recorded with  30.0 fps!\n",
      "Overall # of frames:  90  found with (before cropping) frame dimensions:  720 720\n",
      "Starting to extract posture\n",
      "Cropping based on the x1 = 0 x2 = 600 y1 = 0 y2 = 450. You can adjust the cropping coordinates in the config.yaml file.\n"
     ]
    },
    {
     "name": "stderr",
     "output_type": "stream",
     "text": [
      "100it [00:01, 50.95it/s]                                                                                               \n",
      "  0%|                                                                                           | 0/90 [00:00<?, ?it/s]"
     ]
    },
    {
     "name": "stdout",
     "output_type": "stream",
     "text": [
      "Saving results in F:\\MysoreData\\nbk\\mouseVideoAnalysis\\Box1\\cam1\\test_label...\n",
      "Starting to analyze %  F:\\MysoreData\\nbk\\mouseVideoAnalysis\\Box1\\cam1\\test_label\\camera-1_clip-45.avi\n",
      "F:\\MysoreData\\nbk\\mouseVideoAnalysis\\Box1\\cam1\\test_label  already exists!\n",
      "Loading  F:\\MysoreData\\nbk\\mouseVideoAnalysis\\Box1\\cam1\\test_label\\camera-1_clip-45.avi\n",
      "Duration of video [s]:  3.0 , recorded with  30.0 fps!\n",
      "Overall # of frames:  90  found with (before cropping) frame dimensions:  720 720\n",
      "Starting to extract posture\n",
      "Cropping based on the x1 = 0 x2 = 600 y1 = 0 y2 = 450. You can adjust the cropping coordinates in the config.yaml file.\n"
     ]
    },
    {
     "name": "stderr",
     "output_type": "stream",
     "text": [
      "100it [00:01, 50.56it/s]                                                                                               \n",
      "  0%|                                                                                           | 0/90 [00:00<?, ?it/s]"
     ]
    },
    {
     "name": "stdout",
     "output_type": "stream",
     "text": [
      "Saving results in F:\\MysoreData\\nbk\\mouseVideoAnalysis\\Box1\\cam1\\test_label...\n",
      "Starting to analyze %  F:\\MysoreData\\nbk\\mouseVideoAnalysis\\Box1\\cam1\\test_label\\camera-1_clip-46.avi\n",
      "F:\\MysoreData\\nbk\\mouseVideoAnalysis\\Box1\\cam1\\test_label  already exists!\n",
      "Loading  F:\\MysoreData\\nbk\\mouseVideoAnalysis\\Box1\\cam1\\test_label\\camera-1_clip-46.avi\n",
      "Duration of video [s]:  3.0 , recorded with  30.0 fps!\n",
      "Overall # of frames:  90  found with (before cropping) frame dimensions:  720 720\n",
      "Starting to extract posture\n",
      "Cropping based on the x1 = 0 x2 = 600 y1 = 0 y2 = 450. You can adjust the cropping coordinates in the config.yaml file.\n"
     ]
    },
    {
     "name": "stderr",
     "output_type": "stream",
     "text": [
      "100it [00:02, 38.91it/s]                                                                                               \n",
      "  0%|                                                                                           | 0/90 [00:00<?, ?it/s]"
     ]
    },
    {
     "name": "stdout",
     "output_type": "stream",
     "text": [
      "Saving results in F:\\MysoreData\\nbk\\mouseVideoAnalysis\\Box1\\cam1\\test_label...\n",
      "Starting to analyze %  F:\\MysoreData\\nbk\\mouseVideoAnalysis\\Box1\\cam1\\test_label\\camera-1_clip-47.avi\n",
      "F:\\MysoreData\\nbk\\mouseVideoAnalysis\\Box1\\cam1\\test_label  already exists!\n",
      "Loading  F:\\MysoreData\\nbk\\mouseVideoAnalysis\\Box1\\cam1\\test_label\\camera-1_clip-47.avi\n",
      "Duration of video [s]:  3.0 , recorded with  30.0 fps!\n",
      "Overall # of frames:  90  found with (before cropping) frame dimensions:  720 720\n",
      "Starting to extract posture\n",
      "Cropping based on the x1 = 0 x2 = 600 y1 = 0 y2 = 450. You can adjust the cropping coordinates in the config.yaml file.\n"
     ]
    },
    {
     "name": "stderr",
     "output_type": "stream",
     "text": [
      "100it [00:01, 50.61it/s]                                                                                               \n",
      "  0%|                                                                                           | 0/90 [00:00<?, ?it/s]"
     ]
    },
    {
     "name": "stdout",
     "output_type": "stream",
     "text": [
      "Saving results in F:\\MysoreData\\nbk\\mouseVideoAnalysis\\Box1\\cam1\\test_label...\n",
      "Starting to analyze %  F:\\MysoreData\\nbk\\mouseVideoAnalysis\\Box1\\cam1\\test_label\\camera-1_clip-48.avi\n",
      "F:\\MysoreData\\nbk\\mouseVideoAnalysis\\Box1\\cam1\\test_label  already exists!\n",
      "Loading  F:\\MysoreData\\nbk\\mouseVideoAnalysis\\Box1\\cam1\\test_label\\camera-1_clip-48.avi\n",
      "Duration of video [s]:  3.0 , recorded with  30.0 fps!\n",
      "Overall # of frames:  90  found with (before cropping) frame dimensions:  720 720\n",
      "Starting to extract posture\n",
      "Cropping based on the x1 = 0 x2 = 600 y1 = 0 y2 = 450. You can adjust the cropping coordinates in the config.yaml file.\n"
     ]
    },
    {
     "name": "stderr",
     "output_type": "stream",
     "text": [
      "100it [00:01, 50.08it/s]                                                                                               \n",
      "  0%|                                                                                           | 0/90 [00:00<?, ?it/s]"
     ]
    },
    {
     "name": "stdout",
     "output_type": "stream",
     "text": [
      "Saving results in F:\\MysoreData\\nbk\\mouseVideoAnalysis\\Box1\\cam1\\test_label...\n",
      "Starting to analyze %  F:\\MysoreData\\nbk\\mouseVideoAnalysis\\Box1\\cam1\\test_label\\camera-1_clip-49.avi\n",
      "F:\\MysoreData\\nbk\\mouseVideoAnalysis\\Box1\\cam1\\test_label  already exists!\n",
      "Loading  F:\\MysoreData\\nbk\\mouseVideoAnalysis\\Box1\\cam1\\test_label\\camera-1_clip-49.avi\n",
      "Duration of video [s]:  3.0 , recorded with  30.0 fps!\n",
      "Overall # of frames:  90  found with (before cropping) frame dimensions:  720 720\n",
      "Starting to extract posture\n",
      "Cropping based on the x1 = 0 x2 = 600 y1 = 0 y2 = 450. You can adjust the cropping coordinates in the config.yaml file.\n"
     ]
    },
    {
     "name": "stderr",
     "output_type": "stream",
     "text": [
      "100it [00:01, 50.97it/s]                                                                                               \n",
      "  0%|                                                                                           | 0/90 [00:00<?, ?it/s]"
     ]
    },
    {
     "name": "stdout",
     "output_type": "stream",
     "text": [
      "Saving results in F:\\MysoreData\\nbk\\mouseVideoAnalysis\\Box1\\cam1\\test_label...\n",
      "Starting to analyze %  F:\\MysoreData\\nbk\\mouseVideoAnalysis\\Box1\\cam1\\test_label\\camera-1_clip-5.avi\n",
      "F:\\MysoreData\\nbk\\mouseVideoAnalysis\\Box1\\cam1\\test_label  already exists!\n",
      "Loading  F:\\MysoreData\\nbk\\mouseVideoAnalysis\\Box1\\cam1\\test_label\\camera-1_clip-5.avi\n",
      "Duration of video [s]:  3.0 , recorded with  30.0 fps!\n",
      "Overall # of frames:  90  found with (before cropping) frame dimensions:  720 720\n",
      "Starting to extract posture\n",
      "Cropping based on the x1 = 0 x2 = 600 y1 = 0 y2 = 450. You can adjust the cropping coordinates in the config.yaml file.\n"
     ]
    },
    {
     "name": "stderr",
     "output_type": "stream",
     "text": [
      "100it [00:01, 50.59it/s]                                                                                               \n",
      "  0%|                                                                                           | 0/90 [00:00<?, ?it/s]"
     ]
    },
    {
     "name": "stdout",
     "output_type": "stream",
     "text": [
      "Saving results in F:\\MysoreData\\nbk\\mouseVideoAnalysis\\Box1\\cam1\\test_label...\n",
      "Starting to analyze %  F:\\MysoreData\\nbk\\mouseVideoAnalysis\\Box1\\cam1\\test_label\\camera-1_clip-50.avi\n",
      "F:\\MysoreData\\nbk\\mouseVideoAnalysis\\Box1\\cam1\\test_label  already exists!\n",
      "Loading  F:\\MysoreData\\nbk\\mouseVideoAnalysis\\Box1\\cam1\\test_label\\camera-1_clip-50.avi\n",
      "Duration of video [s]:  3.0 , recorded with  30.0 fps!\n",
      "Overall # of frames:  90  found with (before cropping) frame dimensions:  720 720\n",
      "Starting to extract posture\n",
      "Cropping based on the x1 = 0 x2 = 600 y1 = 0 y2 = 450. You can adjust the cropping coordinates in the config.yaml file.\n"
     ]
    },
    {
     "name": "stderr",
     "output_type": "stream",
     "text": [
      "100it [00:02, 34.73it/s]                                                                                               \n",
      "  0%|                                                                                           | 0/90 [00:00<?, ?it/s]"
     ]
    },
    {
     "name": "stdout",
     "output_type": "stream",
     "text": [
      "Saving results in F:\\MysoreData\\nbk\\mouseVideoAnalysis\\Box1\\cam1\\test_label...\n",
      "Starting to analyze %  F:\\MysoreData\\nbk\\mouseVideoAnalysis\\Box1\\cam1\\test_label\\camera-1_clip-51.avi\n",
      "F:\\MysoreData\\nbk\\mouseVideoAnalysis\\Box1\\cam1\\test_label  already exists!\n",
      "Loading  F:\\MysoreData\\nbk\\mouseVideoAnalysis\\Box1\\cam1\\test_label\\camera-1_clip-51.avi\n",
      "Duration of video [s]:  3.0 , recorded with  30.0 fps!\n",
      "Overall # of frames:  90  found with (before cropping) frame dimensions:  720 720\n",
      "Starting to extract posture\n",
      "Cropping based on the x1 = 0 x2 = 600 y1 = 0 y2 = 450. You can adjust the cropping coordinates in the config.yaml file.\n"
     ]
    },
    {
     "name": "stderr",
     "output_type": "stream",
     "text": [
      "100it [00:02, 42.97it/s]                                                                                               \n",
      "  0%|                                                                                           | 0/90 [00:00<?, ?it/s]"
     ]
    },
    {
     "name": "stdout",
     "output_type": "stream",
     "text": [
      "Saving results in F:\\MysoreData\\nbk\\mouseVideoAnalysis\\Box1\\cam1\\test_label...\n",
      "Starting to analyze %  F:\\MysoreData\\nbk\\mouseVideoAnalysis\\Box1\\cam1\\test_label\\camera-1_clip-52.avi\n",
      "F:\\MysoreData\\nbk\\mouseVideoAnalysis\\Box1\\cam1\\test_label  already exists!\n",
      "Loading  F:\\MysoreData\\nbk\\mouseVideoAnalysis\\Box1\\cam1\\test_label\\camera-1_clip-52.avi\n",
      "Duration of video [s]:  3.0 , recorded with  30.0 fps!\n",
      "Overall # of frames:  90  found with (before cropping) frame dimensions:  720 720\n",
      "Starting to extract posture\n",
      "Cropping based on the x1 = 0 x2 = 600 y1 = 0 y2 = 450. You can adjust the cropping coordinates in the config.yaml file.\n"
     ]
    },
    {
     "name": "stderr",
     "output_type": "stream",
     "text": [
      "100it [00:01, 51.40it/s]                                                                                               \n",
      "  0%|                                                                                           | 0/90 [00:00<?, ?it/s]"
     ]
    },
    {
     "name": "stdout",
     "output_type": "stream",
     "text": [
      "Saving results in F:\\MysoreData\\nbk\\mouseVideoAnalysis\\Box1\\cam1\\test_label...\n",
      "Starting to analyze %  F:\\MysoreData\\nbk\\mouseVideoAnalysis\\Box1\\cam1\\test_label\\camera-1_clip-53.avi\n",
      "F:\\MysoreData\\nbk\\mouseVideoAnalysis\\Box1\\cam1\\test_label  already exists!\n",
      "Loading  F:\\MysoreData\\nbk\\mouseVideoAnalysis\\Box1\\cam1\\test_label\\camera-1_clip-53.avi\n",
      "Duration of video [s]:  3.0 , recorded with  30.0 fps!\n",
      "Overall # of frames:  90  found with (before cropping) frame dimensions:  720 720\n",
      "Starting to extract posture\n",
      "Cropping based on the x1 = 0 x2 = 600 y1 = 0 y2 = 450. You can adjust the cropping coordinates in the config.yaml file.\n"
     ]
    },
    {
     "name": "stderr",
     "output_type": "stream",
     "text": [
      "100it [00:01, 50.87it/s]                                                                                               \n",
      "  0%|                                                                                           | 0/90 [00:00<?, ?it/s]"
     ]
    },
    {
     "name": "stdout",
     "output_type": "stream",
     "text": [
      "Saving results in F:\\MysoreData\\nbk\\mouseVideoAnalysis\\Box1\\cam1\\test_label...\n",
      "Starting to analyze %  F:\\MysoreData\\nbk\\mouseVideoAnalysis\\Box1\\cam1\\test_label\\camera-1_clip-54.avi\n",
      "F:\\MysoreData\\nbk\\mouseVideoAnalysis\\Box1\\cam1\\test_label  already exists!\n",
      "Loading  F:\\MysoreData\\nbk\\mouseVideoAnalysis\\Box1\\cam1\\test_label\\camera-1_clip-54.avi\n",
      "Duration of video [s]:  3.0 , recorded with  30.0 fps!\n",
      "Overall # of frames:  90  found with (before cropping) frame dimensions:  720 720\n",
      "Starting to extract posture\n",
      "Cropping based on the x1 = 0 x2 = 600 y1 = 0 y2 = 450. You can adjust the cropping coordinates in the config.yaml file.\n"
     ]
    },
    {
     "name": "stderr",
     "output_type": "stream",
     "text": [
      "100it [00:01, 50.65it/s]                                                                                               \n",
      "  0%|                                                                                           | 0/90 [00:00<?, ?it/s]"
     ]
    },
    {
     "name": "stdout",
     "output_type": "stream",
     "text": [
      "Saving results in F:\\MysoreData\\nbk\\mouseVideoAnalysis\\Box1\\cam1\\test_label...\n",
      "Starting to analyze %  F:\\MysoreData\\nbk\\mouseVideoAnalysis\\Box1\\cam1\\test_label\\camera-1_clip-55.avi\n",
      "F:\\MysoreData\\nbk\\mouseVideoAnalysis\\Box1\\cam1\\test_label  already exists!\n",
      "Loading  F:\\MysoreData\\nbk\\mouseVideoAnalysis\\Box1\\cam1\\test_label\\camera-1_clip-55.avi\n",
      "Duration of video [s]:  3.0 , recorded with  30.0 fps!\n",
      "Overall # of frames:  90  found with (before cropping) frame dimensions:  720 720\n",
      "Starting to extract posture\n",
      "Cropping based on the x1 = 0 x2 = 600 y1 = 0 y2 = 450. You can adjust the cropping coordinates in the config.yaml file.\n"
     ]
    },
    {
     "name": "stderr",
     "output_type": "stream",
     "text": [
      "100it [00:01, 51.44it/s]                                                                                               \n",
      "  0%|                                                                                           | 0/90 [00:00<?, ?it/s]"
     ]
    },
    {
     "name": "stdout",
     "output_type": "stream",
     "text": [
      "Saving results in F:\\MysoreData\\nbk\\mouseVideoAnalysis\\Box1\\cam1\\test_label...\n",
      "Starting to analyze %  F:\\MysoreData\\nbk\\mouseVideoAnalysis\\Box1\\cam1\\test_label\\camera-1_clip-56.avi\n",
      "F:\\MysoreData\\nbk\\mouseVideoAnalysis\\Box1\\cam1\\test_label  already exists!\n",
      "Loading  F:\\MysoreData\\nbk\\mouseVideoAnalysis\\Box1\\cam1\\test_label\\camera-1_clip-56.avi\n",
      "Duration of video [s]:  3.0 , recorded with  30.0 fps!\n",
      "Overall # of frames:  90  found with (before cropping) frame dimensions:  720 720\n",
      "Starting to extract posture\n",
      "Cropping based on the x1 = 0 x2 = 600 y1 = 0 y2 = 450. You can adjust the cropping coordinates in the config.yaml file.\n"
     ]
    },
    {
     "name": "stderr",
     "output_type": "stream",
     "text": [
      "100it [00:01, 50.93it/s]                                                                                               \n",
      "  0%|                                                                                           | 0/90 [00:00<?, ?it/s]"
     ]
    },
    {
     "name": "stdout",
     "output_type": "stream",
     "text": [
      "Saving results in F:\\MysoreData\\nbk\\mouseVideoAnalysis\\Box1\\cam1\\test_label...\n",
      "Starting to analyze %  F:\\MysoreData\\nbk\\mouseVideoAnalysis\\Box1\\cam1\\test_label\\camera-1_clip-57.avi\n",
      "F:\\MysoreData\\nbk\\mouseVideoAnalysis\\Box1\\cam1\\test_label  already exists!\n",
      "Loading  F:\\MysoreData\\nbk\\mouseVideoAnalysis\\Box1\\cam1\\test_label\\camera-1_clip-57.avi\n",
      "Duration of video [s]:  3.0 , recorded with  30.0 fps!\n",
      "Overall # of frames:  90  found with (before cropping) frame dimensions:  720 720\n",
      "Starting to extract posture\n",
      "Cropping based on the x1 = 0 x2 = 600 y1 = 0 y2 = 450. You can adjust the cropping coordinates in the config.yaml file.\n"
     ]
    },
    {
     "name": "stderr",
     "output_type": "stream",
     "text": [
      "100it [00:01, 50.61it/s]                                                                                               \n",
      "  0%|                                                                                           | 0/90 [00:00<?, ?it/s]"
     ]
    },
    {
     "name": "stdout",
     "output_type": "stream",
     "text": [
      "Saving results in F:\\MysoreData\\nbk\\mouseVideoAnalysis\\Box1\\cam1\\test_label...\n",
      "Starting to analyze %  F:\\MysoreData\\nbk\\mouseVideoAnalysis\\Box1\\cam1\\test_label\\camera-1_clip-58.avi\n",
      "F:\\MysoreData\\nbk\\mouseVideoAnalysis\\Box1\\cam1\\test_label  already exists!\n",
      "Loading  F:\\MysoreData\\nbk\\mouseVideoAnalysis\\Box1\\cam1\\test_label\\camera-1_clip-58.avi\n",
      "Duration of video [s]:  3.0 , recorded with  30.0 fps!\n",
      "Overall # of frames:  90  found with (before cropping) frame dimensions:  720 720\n",
      "Starting to extract posture\n",
      "Cropping based on the x1 = 0 x2 = 600 y1 = 0 y2 = 450. You can adjust the cropping coordinates in the config.yaml file.\n"
     ]
    },
    {
     "name": "stderr",
     "output_type": "stream",
     "text": [
      "100it [00:02, 49.99it/s]                                                                                               \n",
      "  0%|                                                                                           | 0/90 [00:00<?, ?it/s]"
     ]
    },
    {
     "name": "stdout",
     "output_type": "stream",
     "text": [
      "Saving results in F:\\MysoreData\\nbk\\mouseVideoAnalysis\\Box1\\cam1\\test_label...\n",
      "Starting to analyze %  F:\\MysoreData\\nbk\\mouseVideoAnalysis\\Box1\\cam1\\test_label\\camera-1_clip-59.avi\n",
      "F:\\MysoreData\\nbk\\mouseVideoAnalysis\\Box1\\cam1\\test_label  already exists!\n",
      "Loading  F:\\MysoreData\\nbk\\mouseVideoAnalysis\\Box1\\cam1\\test_label\\camera-1_clip-59.avi\n",
      "Duration of video [s]:  3.0 , recorded with  30.0 fps!\n",
      "Overall # of frames:  90  found with (before cropping) frame dimensions:  720 720\n",
      "Starting to extract posture\n",
      "Cropping based on the x1 = 0 x2 = 600 y1 = 0 y2 = 450. You can adjust the cropping coordinates in the config.yaml file.\n"
     ]
    },
    {
     "name": "stderr",
     "output_type": "stream",
     "text": [
      "100it [00:01, 50.52it/s]                                                                                               \n",
      "  0%|                                                                                           | 0/90 [00:00<?, ?it/s]"
     ]
    },
    {
     "name": "stdout",
     "output_type": "stream",
     "text": [
      "Saving results in F:\\MysoreData\\nbk\\mouseVideoAnalysis\\Box1\\cam1\\test_label...\n",
      "Starting to analyze %  F:\\MysoreData\\nbk\\mouseVideoAnalysis\\Box1\\cam1\\test_label\\camera-1_clip-6.avi\n",
      "F:\\MysoreData\\nbk\\mouseVideoAnalysis\\Box1\\cam1\\test_label  already exists!\n",
      "Loading  F:\\MysoreData\\nbk\\mouseVideoAnalysis\\Box1\\cam1\\test_label\\camera-1_clip-6.avi\n",
      "Duration of video [s]:  3.0 , recorded with  30.0 fps!\n",
      "Overall # of frames:  90  found with (before cropping) frame dimensions:  720 720\n",
      "Starting to extract posture\n",
      "Cropping based on the x1 = 0 x2 = 600 y1 = 0 y2 = 450. You can adjust the cropping coordinates in the config.yaml file.\n"
     ]
    },
    {
     "name": "stderr",
     "output_type": "stream",
     "text": [
      "100it [00:02, 49.41it/s]                                                                                               \n",
      "  0%|                                                                                           | 0/90 [00:00<?, ?it/s]"
     ]
    },
    {
     "name": "stdout",
     "output_type": "stream",
     "text": [
      "Saving results in F:\\MysoreData\\nbk\\mouseVideoAnalysis\\Box1\\cam1\\test_label...\n",
      "Starting to analyze %  F:\\MysoreData\\nbk\\mouseVideoAnalysis\\Box1\\cam1\\test_label\\camera-1_clip-60.avi\n",
      "F:\\MysoreData\\nbk\\mouseVideoAnalysis\\Box1\\cam1\\test_label  already exists!\n",
      "Loading  F:\\MysoreData\\nbk\\mouseVideoAnalysis\\Box1\\cam1\\test_label\\camera-1_clip-60.avi\n",
      "Duration of video [s]:  3.0 , recorded with  30.0 fps!\n",
      "Overall # of frames:  90  found with (before cropping) frame dimensions:  720 720\n",
      "Starting to extract posture\n",
      "Cropping based on the x1 = 0 x2 = 600 y1 = 0 y2 = 450. You can adjust the cropping coordinates in the config.yaml file.\n"
     ]
    },
    {
     "name": "stderr",
     "output_type": "stream",
     "text": [
      "100it [00:02, 45.73it/s]                                                                                               \n",
      "  0%|                                                                                           | 0/90 [00:00<?, ?it/s]"
     ]
    },
    {
     "name": "stdout",
     "output_type": "stream",
     "text": [
      "Saving results in F:\\MysoreData\\nbk\\mouseVideoAnalysis\\Box1\\cam1\\test_label...\n",
      "Starting to analyze %  F:\\MysoreData\\nbk\\mouseVideoAnalysis\\Box1\\cam1\\test_label\\camera-1_clip-61.avi\n",
      "F:\\MysoreData\\nbk\\mouseVideoAnalysis\\Box1\\cam1\\test_label  already exists!\n",
      "Loading  F:\\MysoreData\\nbk\\mouseVideoAnalysis\\Box1\\cam1\\test_label\\camera-1_clip-61.avi\n",
      "Duration of video [s]:  3.0 , recorded with  30.0 fps!\n",
      "Overall # of frames:  90  found with (before cropping) frame dimensions:  720 720\n",
      "Starting to extract posture\n",
      "Cropping based on the x1 = 0 x2 = 600 y1 = 0 y2 = 450. You can adjust the cropping coordinates in the config.yaml file.\n"
     ]
    },
    {
     "name": "stderr",
     "output_type": "stream",
     "text": [
      "100it [00:02, 36.52it/s]                                                                                               \n",
      "  0%|                                                                                           | 0/90 [00:00<?, ?it/s]"
     ]
    },
    {
     "name": "stdout",
     "output_type": "stream",
     "text": [
      "Saving results in F:\\MysoreData\\nbk\\mouseVideoAnalysis\\Box1\\cam1\\test_label...\n",
      "Starting to analyze %  F:\\MysoreData\\nbk\\mouseVideoAnalysis\\Box1\\cam1\\test_label\\camera-1_clip-62.avi\n",
      "F:\\MysoreData\\nbk\\mouseVideoAnalysis\\Box1\\cam1\\test_label  already exists!\n",
      "Loading  F:\\MysoreData\\nbk\\mouseVideoAnalysis\\Box1\\cam1\\test_label\\camera-1_clip-62.avi\n",
      "Duration of video [s]:  3.0 , recorded with  30.0 fps!\n",
      "Overall # of frames:  90  found with (before cropping) frame dimensions:  720 720\n",
      "Starting to extract posture\n",
      "Cropping based on the x1 = 0 x2 = 600 y1 = 0 y2 = 450. You can adjust the cropping coordinates in the config.yaml file.\n"
     ]
    },
    {
     "name": "stderr",
     "output_type": "stream",
     "text": [
      "100it [00:02, 48.54it/s]                                                                                               \n",
      "  0%|                                                                                           | 0/90 [00:00<?, ?it/s]"
     ]
    },
    {
     "name": "stdout",
     "output_type": "stream",
     "text": [
      "Saving results in F:\\MysoreData\\nbk\\mouseVideoAnalysis\\Box1\\cam1\\test_label...\n",
      "Starting to analyze %  F:\\MysoreData\\nbk\\mouseVideoAnalysis\\Box1\\cam1\\test_label\\camera-1_clip-63.avi\n",
      "F:\\MysoreData\\nbk\\mouseVideoAnalysis\\Box1\\cam1\\test_label  already exists!\n",
      "Loading  F:\\MysoreData\\nbk\\mouseVideoAnalysis\\Box1\\cam1\\test_label\\camera-1_clip-63.avi\n",
      "Duration of video [s]:  3.0 , recorded with  30.0 fps!\n",
      "Overall # of frames:  90  found with (before cropping) frame dimensions:  720 720\n",
      "Starting to extract posture\n",
      "Cropping based on the x1 = 0 x2 = 600 y1 = 0 y2 = 450. You can adjust the cropping coordinates in the config.yaml file.\n"
     ]
    },
    {
     "name": "stderr",
     "output_type": "stream",
     "text": [
      "100it [00:02, 44.42it/s]                                                                                               \n",
      "  0%|                                                                                           | 0/90 [00:00<?, ?it/s]"
     ]
    },
    {
     "name": "stdout",
     "output_type": "stream",
     "text": [
      "Saving results in F:\\MysoreData\\nbk\\mouseVideoAnalysis\\Box1\\cam1\\test_label...\n",
      "Starting to analyze %  F:\\MysoreData\\nbk\\mouseVideoAnalysis\\Box1\\cam1\\test_label\\camera-1_clip-64.avi\n",
      "F:\\MysoreData\\nbk\\mouseVideoAnalysis\\Box1\\cam1\\test_label  already exists!\n",
      "Loading  F:\\MysoreData\\nbk\\mouseVideoAnalysis\\Box1\\cam1\\test_label\\camera-1_clip-64.avi\n",
      "Duration of video [s]:  3.0 , recorded with  30.0 fps!\n",
      "Overall # of frames:  90  found with (before cropping) frame dimensions:  720 720\n",
      "Starting to extract posture\n",
      "Cropping based on the x1 = 0 x2 = 600 y1 = 0 y2 = 450. You can adjust the cropping coordinates in the config.yaml file.\n"
     ]
    },
    {
     "name": "stderr",
     "output_type": "stream",
     "text": [
      "100it [00:02, 38.07it/s]                                                                                               \n",
      "  0%|                                                                                           | 0/90 [00:00<?, ?it/s]"
     ]
    },
    {
     "name": "stdout",
     "output_type": "stream",
     "text": [
      "Saving results in F:\\MysoreData\\nbk\\mouseVideoAnalysis\\Box1\\cam1\\test_label...\n",
      "Starting to analyze %  F:\\MysoreData\\nbk\\mouseVideoAnalysis\\Box1\\cam1\\test_label\\camera-1_clip-65.avi\n",
      "F:\\MysoreData\\nbk\\mouseVideoAnalysis\\Box1\\cam1\\test_label  already exists!\n",
      "Loading  F:\\MysoreData\\nbk\\mouseVideoAnalysis\\Box1\\cam1\\test_label\\camera-1_clip-65.avi\n",
      "Duration of video [s]:  3.0 , recorded with  30.0 fps!\n",
      "Overall # of frames:  90  found with (before cropping) frame dimensions:  720 720\n",
      "Starting to extract posture\n",
      "Cropping based on the x1 = 0 x2 = 600 y1 = 0 y2 = 450. You can adjust the cropping coordinates in the config.yaml file.\n"
     ]
    },
    {
     "name": "stderr",
     "output_type": "stream",
     "text": [
      "100it [00:01, 50.18it/s]                                                                                               \n",
      "  0%|                                                                                           | 0/90 [00:00<?, ?it/s]"
     ]
    },
    {
     "name": "stdout",
     "output_type": "stream",
     "text": [
      "Saving results in F:\\MysoreData\\nbk\\mouseVideoAnalysis\\Box1\\cam1\\test_label...\n",
      "Starting to analyze %  F:\\MysoreData\\nbk\\mouseVideoAnalysis\\Box1\\cam1\\test_label\\camera-1_clip-66.avi\n",
      "F:\\MysoreData\\nbk\\mouseVideoAnalysis\\Box1\\cam1\\test_label  already exists!\n",
      "Loading  F:\\MysoreData\\nbk\\mouseVideoAnalysis\\Box1\\cam1\\test_label\\camera-1_clip-66.avi\n",
      "Duration of video [s]:  3.0 , recorded with  30.0 fps!\n",
      "Overall # of frames:  90  found with (before cropping) frame dimensions:  720 720\n",
      "Starting to extract posture\n",
      "Cropping based on the x1 = 0 x2 = 600 y1 = 0 y2 = 450. You can adjust the cropping coordinates in the config.yaml file.\n"
     ]
    },
    {
     "name": "stderr",
     "output_type": "stream",
     "text": [
      "100it [00:02, 49.48it/s]                                                                                               \n",
      "  0%|                                                                                           | 0/90 [00:00<?, ?it/s]"
     ]
    },
    {
     "name": "stdout",
     "output_type": "stream",
     "text": [
      "Saving results in F:\\MysoreData\\nbk\\mouseVideoAnalysis\\Box1\\cam1\\test_label...\n",
      "Starting to analyze %  F:\\MysoreData\\nbk\\mouseVideoAnalysis\\Box1\\cam1\\test_label\\camera-1_clip-67.avi\n",
      "F:\\MysoreData\\nbk\\mouseVideoAnalysis\\Box1\\cam1\\test_label  already exists!\n",
      "Loading  F:\\MysoreData\\nbk\\mouseVideoAnalysis\\Box1\\cam1\\test_label\\camera-1_clip-67.avi\n",
      "Duration of video [s]:  3.0 , recorded with  30.0 fps!\n",
      "Overall # of frames:  90  found with (before cropping) frame dimensions:  720 720\n",
      "Starting to extract posture\n",
      "Cropping based on the x1 = 0 x2 = 600 y1 = 0 y2 = 450. You can adjust the cropping coordinates in the config.yaml file.\n"
     ]
    },
    {
     "name": "stderr",
     "output_type": "stream",
     "text": [
      "100it [00:02, 49.61it/s]                                                                                               \n",
      "  0%|                                                                                           | 0/90 [00:00<?, ?it/s]"
     ]
    },
    {
     "name": "stdout",
     "output_type": "stream",
     "text": [
      "Saving results in F:\\MysoreData\\nbk\\mouseVideoAnalysis\\Box1\\cam1\\test_label...\n",
      "Starting to analyze %  F:\\MysoreData\\nbk\\mouseVideoAnalysis\\Box1\\cam1\\test_label\\camera-1_clip-68.avi\n",
      "F:\\MysoreData\\nbk\\mouseVideoAnalysis\\Box1\\cam1\\test_label  already exists!\n",
      "Loading  F:\\MysoreData\\nbk\\mouseVideoAnalysis\\Box1\\cam1\\test_label\\camera-1_clip-68.avi\n",
      "Duration of video [s]:  3.0 , recorded with  30.0 fps!\n",
      "Overall # of frames:  90  found with (before cropping) frame dimensions:  720 720\n",
      "Starting to extract posture\n",
      "Cropping based on the x1 = 0 x2 = 600 y1 = 0 y2 = 450. You can adjust the cropping coordinates in the config.yaml file.\n"
     ]
    },
    {
     "name": "stderr",
     "output_type": "stream",
     "text": [
      "100it [00:01, 51.10it/s]                                                                                               \n",
      "  0%|                                                                                           | 0/90 [00:00<?, ?it/s]"
     ]
    },
    {
     "name": "stdout",
     "output_type": "stream",
     "text": [
      "Saving results in F:\\MysoreData\\nbk\\mouseVideoAnalysis\\Box1\\cam1\\test_label...\n",
      "Starting to analyze %  F:\\MysoreData\\nbk\\mouseVideoAnalysis\\Box1\\cam1\\test_label\\camera-1_clip-69.avi\n",
      "F:\\MysoreData\\nbk\\mouseVideoAnalysis\\Box1\\cam1\\test_label  already exists!\n",
      "Loading  F:\\MysoreData\\nbk\\mouseVideoAnalysis\\Box1\\cam1\\test_label\\camera-1_clip-69.avi\n",
      "Duration of video [s]:  3.0 , recorded with  30.0 fps!\n",
      "Overall # of frames:  90  found with (before cropping) frame dimensions:  720 720\n",
      "Starting to extract posture\n",
      "Cropping based on the x1 = 0 x2 = 600 y1 = 0 y2 = 450. You can adjust the cropping coordinates in the config.yaml file.\n"
     ]
    },
    {
     "name": "stderr",
     "output_type": "stream",
     "text": [
      "100it [00:01, 51.40it/s]                                                                                               \n",
      "  0%|                                                                                           | 0/90 [00:00<?, ?it/s]"
     ]
    },
    {
     "name": "stdout",
     "output_type": "stream",
     "text": [
      "Saving results in F:\\MysoreData\\nbk\\mouseVideoAnalysis\\Box1\\cam1\\test_label...\n",
      "Starting to analyze %  F:\\MysoreData\\nbk\\mouseVideoAnalysis\\Box1\\cam1\\test_label\\camera-1_clip-7.avi\n",
      "F:\\MysoreData\\nbk\\mouseVideoAnalysis\\Box1\\cam1\\test_label  already exists!\n",
      "Loading  F:\\MysoreData\\nbk\\mouseVideoAnalysis\\Box1\\cam1\\test_label\\camera-1_clip-7.avi\n",
      "Duration of video [s]:  3.0 , recorded with  30.0 fps!\n",
      "Overall # of frames:  90  found with (before cropping) frame dimensions:  720 720\n",
      "Starting to extract posture\n",
      "Cropping based on the x1 = 0 x2 = 600 y1 = 0 y2 = 450. You can adjust the cropping coordinates in the config.yaml file.\n"
     ]
    },
    {
     "name": "stderr",
     "output_type": "stream",
     "text": [
      "100it [00:01, 50.63it/s]                                                                                               \n",
      "  0%|                                                                                           | 0/90 [00:00<?, ?it/s]"
     ]
    },
    {
     "name": "stdout",
     "output_type": "stream",
     "text": [
      "Saving results in F:\\MysoreData\\nbk\\mouseVideoAnalysis\\Box1\\cam1\\test_label...\n",
      "Starting to analyze %  F:\\MysoreData\\nbk\\mouseVideoAnalysis\\Box1\\cam1\\test_label\\camera-1_clip-70.avi\n",
      "F:\\MysoreData\\nbk\\mouseVideoAnalysis\\Box1\\cam1\\test_label  already exists!\n",
      "Loading  F:\\MysoreData\\nbk\\mouseVideoAnalysis\\Box1\\cam1\\test_label\\camera-1_clip-70.avi\n",
      "Duration of video [s]:  3.0 , recorded with  30.0 fps!\n",
      "Overall # of frames:  90  found with (before cropping) frame dimensions:  720 720\n",
      "Starting to extract posture\n",
      "Cropping based on the x1 = 0 x2 = 600 y1 = 0 y2 = 450. You can adjust the cropping coordinates in the config.yaml file.\n"
     ]
    },
    {
     "name": "stderr",
     "output_type": "stream",
     "text": [
      "100it [00:02, 48.83it/s]                                                                                               \n",
      "  0%|                                                                                           | 0/90 [00:00<?, ?it/s]"
     ]
    },
    {
     "name": "stdout",
     "output_type": "stream",
     "text": [
      "Saving results in F:\\MysoreData\\nbk\\mouseVideoAnalysis\\Box1\\cam1\\test_label...\n",
      "Starting to analyze %  F:\\MysoreData\\nbk\\mouseVideoAnalysis\\Box1\\cam1\\test_label\\camera-1_clip-71.avi\n",
      "F:\\MysoreData\\nbk\\mouseVideoAnalysis\\Box1\\cam1\\test_label  already exists!\n",
      "Loading  F:\\MysoreData\\nbk\\mouseVideoAnalysis\\Box1\\cam1\\test_label\\camera-1_clip-71.avi\n",
      "Duration of video [s]:  3.0 , recorded with  30.0 fps!\n",
      "Overall # of frames:  90  found with (before cropping) frame dimensions:  720 720\n",
      "Starting to extract posture\n",
      "Cropping based on the x1 = 0 x2 = 600 y1 = 0 y2 = 450. You can adjust the cropping coordinates in the config.yaml file.\n"
     ]
    },
    {
     "name": "stderr",
     "output_type": "stream",
     "text": [
      "100it [00:01, 50.45it/s]                                                                                               \n",
      "  0%|                                                                                           | 0/90 [00:00<?, ?it/s]"
     ]
    },
    {
     "name": "stdout",
     "output_type": "stream",
     "text": [
      "Saving results in F:\\MysoreData\\nbk\\mouseVideoAnalysis\\Box1\\cam1\\test_label...\n",
      "Starting to analyze %  F:\\MysoreData\\nbk\\mouseVideoAnalysis\\Box1\\cam1\\test_label\\camera-1_clip-72.avi\n",
      "F:\\MysoreData\\nbk\\mouseVideoAnalysis\\Box1\\cam1\\test_label  already exists!\n",
      "Loading  F:\\MysoreData\\nbk\\mouseVideoAnalysis\\Box1\\cam1\\test_label\\camera-1_clip-72.avi\n",
      "Duration of video [s]:  3.0 , recorded with  30.0 fps!\n",
      "Overall # of frames:  90  found with (before cropping) frame dimensions:  720 720\n",
      "Starting to extract posture\n",
      "Cropping based on the x1 = 0 x2 = 600 y1 = 0 y2 = 450. You can adjust the cropping coordinates in the config.yaml file.\n"
     ]
    },
    {
     "name": "stderr",
     "output_type": "stream",
     "text": [
      "100it [00:02, 49.56it/s]                                                                                               \n",
      "  0%|                                                                                           | 0/90 [00:00<?, ?it/s]"
     ]
    },
    {
     "name": "stdout",
     "output_type": "stream",
     "text": [
      "Saving results in F:\\MysoreData\\nbk\\mouseVideoAnalysis\\Box1\\cam1\\test_label...\n",
      "Starting to analyze %  F:\\MysoreData\\nbk\\mouseVideoAnalysis\\Box1\\cam1\\test_label\\camera-1_clip-73.avi\n",
      "F:\\MysoreData\\nbk\\mouseVideoAnalysis\\Box1\\cam1\\test_label  already exists!\n",
      "Loading  F:\\MysoreData\\nbk\\mouseVideoAnalysis\\Box1\\cam1\\test_label\\camera-1_clip-73.avi\n",
      "Duration of video [s]:  3.0 , recorded with  30.0 fps!\n",
      "Overall # of frames:  90  found with (before cropping) frame dimensions:  720 720\n",
      "Starting to extract posture\n",
      "Cropping based on the x1 = 0 x2 = 600 y1 = 0 y2 = 450. You can adjust the cropping coordinates in the config.yaml file.\n"
     ]
    },
    {
     "name": "stderr",
     "output_type": "stream",
     "text": [
      "100it [00:01, 50.16it/s]                                                                                               \n",
      "  0%|                                                                                           | 0/90 [00:00<?, ?it/s]"
     ]
    },
    {
     "name": "stdout",
     "output_type": "stream",
     "text": [
      "Saving results in F:\\MysoreData\\nbk\\mouseVideoAnalysis\\Box1\\cam1\\test_label...\n",
      "Starting to analyze %  F:\\MysoreData\\nbk\\mouseVideoAnalysis\\Box1\\cam1\\test_label\\camera-1_clip-74.avi\n",
      "F:\\MysoreData\\nbk\\mouseVideoAnalysis\\Box1\\cam1\\test_label  already exists!\n",
      "Loading  F:\\MysoreData\\nbk\\mouseVideoAnalysis\\Box1\\cam1\\test_label\\camera-1_clip-74.avi\n",
      "Duration of video [s]:  3.0 , recorded with  30.0 fps!\n",
      "Overall # of frames:  90  found with (before cropping) frame dimensions:  720 720\n",
      "Starting to extract posture\n",
      "Cropping based on the x1 = 0 x2 = 600 y1 = 0 y2 = 450. You can adjust the cropping coordinates in the config.yaml file.\n"
     ]
    },
    {
     "name": "stderr",
     "output_type": "stream",
     "text": [
      "100it [00:02, 49.91it/s]                                                                                               \n",
      "  0%|                                                                                           | 0/90 [00:00<?, ?it/s]"
     ]
    },
    {
     "name": "stdout",
     "output_type": "stream",
     "text": [
      "Saving results in F:\\MysoreData\\nbk\\mouseVideoAnalysis\\Box1\\cam1\\test_label...\n",
      "Starting to analyze %  F:\\MysoreData\\nbk\\mouseVideoAnalysis\\Box1\\cam1\\test_label\\camera-1_clip-75.avi\n",
      "F:\\MysoreData\\nbk\\mouseVideoAnalysis\\Box1\\cam1\\test_label  already exists!\n",
      "Loading  F:\\MysoreData\\nbk\\mouseVideoAnalysis\\Box1\\cam1\\test_label\\camera-1_clip-75.avi\n",
      "Duration of video [s]:  3.0 , recorded with  30.0 fps!\n",
      "Overall # of frames:  90  found with (before cropping) frame dimensions:  720 720\n",
      "Starting to extract posture\n",
      "Cropping based on the x1 = 0 x2 = 600 y1 = 0 y2 = 450. You can adjust the cropping coordinates in the config.yaml file.\n"
     ]
    },
    {
     "name": "stderr",
     "output_type": "stream",
     "text": [
      "100it [00:02, 48.16it/s]                                                                                               \n",
      "  0%|                                                                                           | 0/90 [00:00<?, ?it/s]"
     ]
    },
    {
     "name": "stdout",
     "output_type": "stream",
     "text": [
      "Saving results in F:\\MysoreData\\nbk\\mouseVideoAnalysis\\Box1\\cam1\\test_label...\n",
      "Starting to analyze %  F:\\MysoreData\\nbk\\mouseVideoAnalysis\\Box1\\cam1\\test_label\\camera-1_clip-76.avi\n",
      "F:\\MysoreData\\nbk\\mouseVideoAnalysis\\Box1\\cam1\\test_label  already exists!\n",
      "Loading  F:\\MysoreData\\nbk\\mouseVideoAnalysis\\Box1\\cam1\\test_label\\camera-1_clip-76.avi\n",
      "Duration of video [s]:  3.0 , recorded with  30.0 fps!\n",
      "Overall # of frames:  90  found with (before cropping) frame dimensions:  720 720\n",
      "Starting to extract posture\n",
      "Cropping based on the x1 = 0 x2 = 600 y1 = 0 y2 = 450. You can adjust the cropping coordinates in the config.yaml file.\n"
     ]
    },
    {
     "name": "stderr",
     "output_type": "stream",
     "text": [
      "100it [00:02, 47.73it/s]                                                                                               \n",
      "  0%|                                                                                           | 0/90 [00:00<?, ?it/s]"
     ]
    },
    {
     "name": "stdout",
     "output_type": "stream",
     "text": [
      "Saving results in F:\\MysoreData\\nbk\\mouseVideoAnalysis\\Box1\\cam1\\test_label...\n",
      "Starting to analyze %  F:\\MysoreData\\nbk\\mouseVideoAnalysis\\Box1\\cam1\\test_label\\camera-1_clip-77.avi\n",
      "F:\\MysoreData\\nbk\\mouseVideoAnalysis\\Box1\\cam1\\test_label  already exists!\n",
      "Loading  F:\\MysoreData\\nbk\\mouseVideoAnalysis\\Box1\\cam1\\test_label\\camera-1_clip-77.avi\n",
      "Duration of video [s]:  3.0 , recorded with  30.0 fps!\n",
      "Overall # of frames:  90  found with (before cropping) frame dimensions:  720 720\n",
      "Starting to extract posture\n",
      "Cropping based on the x1 = 0 x2 = 600 y1 = 0 y2 = 450. You can adjust the cropping coordinates in the config.yaml file.\n"
     ]
    },
    {
     "name": "stderr",
     "output_type": "stream",
     "text": [
      "100it [00:02, 49.85it/s]                                                                                               \n",
      "  0%|                                                                                           | 0/90 [00:00<?, ?it/s]"
     ]
    },
    {
     "name": "stdout",
     "output_type": "stream",
     "text": [
      "Saving results in F:\\MysoreData\\nbk\\mouseVideoAnalysis\\Box1\\cam1\\test_label...\n",
      "Starting to analyze %  F:\\MysoreData\\nbk\\mouseVideoAnalysis\\Box1\\cam1\\test_label\\camera-1_clip-78.avi\n",
      "F:\\MysoreData\\nbk\\mouseVideoAnalysis\\Box1\\cam1\\test_label  already exists!\n",
      "Loading  F:\\MysoreData\\nbk\\mouseVideoAnalysis\\Box1\\cam1\\test_label\\camera-1_clip-78.avi\n",
      "Duration of video [s]:  3.0 , recorded with  30.0 fps!\n",
      "Overall # of frames:  90  found with (before cropping) frame dimensions:  720 720\n",
      "Starting to extract posture\n",
      "Cropping based on the x1 = 0 x2 = 600 y1 = 0 y2 = 450. You can adjust the cropping coordinates in the config.yaml file.\n"
     ]
    },
    {
     "name": "stderr",
     "output_type": "stream",
     "text": [
      "100it [00:01, 50.67it/s]                                                                                               \n",
      "  0%|                                                                                           | 0/90 [00:00<?, ?it/s]"
     ]
    },
    {
     "name": "stdout",
     "output_type": "stream",
     "text": [
      "Saving results in F:\\MysoreData\\nbk\\mouseVideoAnalysis\\Box1\\cam1\\test_label...\n",
      "Starting to analyze %  F:\\MysoreData\\nbk\\mouseVideoAnalysis\\Box1\\cam1\\test_label\\camera-1_clip-79.avi\n",
      "F:\\MysoreData\\nbk\\mouseVideoAnalysis\\Box1\\cam1\\test_label  already exists!\n",
      "Loading  F:\\MysoreData\\nbk\\mouseVideoAnalysis\\Box1\\cam1\\test_label\\camera-1_clip-79.avi\n",
      "Duration of video [s]:  3.0 , recorded with  30.0 fps!\n",
      "Overall # of frames:  90  found with (before cropping) frame dimensions:  720 720\n",
      "Starting to extract posture\n",
      "Cropping based on the x1 = 0 x2 = 600 y1 = 0 y2 = 450. You can adjust the cropping coordinates in the config.yaml file.\n"
     ]
    },
    {
     "name": "stderr",
     "output_type": "stream",
     "text": [
      "100it [00:01, 51.17it/s]                                                                                               \n",
      "  0%|                                                                                           | 0/90 [00:00<?, ?it/s]"
     ]
    },
    {
     "name": "stdout",
     "output_type": "stream",
     "text": [
      "Saving results in F:\\MysoreData\\nbk\\mouseVideoAnalysis\\Box1\\cam1\\test_label...\n",
      "Starting to analyze %  F:\\MysoreData\\nbk\\mouseVideoAnalysis\\Box1\\cam1\\test_label\\camera-1_clip-8.avi\n",
      "F:\\MysoreData\\nbk\\mouseVideoAnalysis\\Box1\\cam1\\test_label  already exists!\n",
      "Loading  F:\\MysoreData\\nbk\\mouseVideoAnalysis\\Box1\\cam1\\test_label\\camera-1_clip-8.avi\n",
      "Duration of video [s]:  3.0 , recorded with  30.0 fps!\n",
      "Overall # of frames:  90  found with (before cropping) frame dimensions:  720 720\n",
      "Starting to extract posture\n",
      "Cropping based on the x1 = 0 x2 = 600 y1 = 0 y2 = 450. You can adjust the cropping coordinates in the config.yaml file.\n"
     ]
    },
    {
     "name": "stderr",
     "output_type": "stream",
     "text": [
      "100it [00:01, 50.54it/s]                                                                                               \n",
      "  0%|                                                                                           | 0/90 [00:00<?, ?it/s]"
     ]
    },
    {
     "name": "stdout",
     "output_type": "stream",
     "text": [
      "Saving results in F:\\MysoreData\\nbk\\mouseVideoAnalysis\\Box1\\cam1\\test_label...\n",
      "Starting to analyze %  F:\\MysoreData\\nbk\\mouseVideoAnalysis\\Box1\\cam1\\test_label\\camera-1_clip-80.avi\n",
      "F:\\MysoreData\\nbk\\mouseVideoAnalysis\\Box1\\cam1\\test_label  already exists!\n",
      "Loading  F:\\MysoreData\\nbk\\mouseVideoAnalysis\\Box1\\cam1\\test_label\\camera-1_clip-80.avi\n",
      "Duration of video [s]:  3.0 , recorded with  30.0 fps!\n",
      "Overall # of frames:  90  found with (before cropping) frame dimensions:  720 720\n",
      "Starting to extract posture\n",
      "Cropping based on the x1 = 0 x2 = 600 y1 = 0 y2 = 450. You can adjust the cropping coordinates in the config.yaml file.\n"
     ]
    },
    {
     "name": "stderr",
     "output_type": "stream",
     "text": [
      "100it [00:02, 47.93it/s]                                                                                               \n",
      "  0%|                                                                                           | 0/90 [00:00<?, ?it/s]"
     ]
    },
    {
     "name": "stdout",
     "output_type": "stream",
     "text": [
      "Saving results in F:\\MysoreData\\nbk\\mouseVideoAnalysis\\Box1\\cam1\\test_label...\n",
      "Starting to analyze %  F:\\MysoreData\\nbk\\mouseVideoAnalysis\\Box1\\cam1\\test_label\\camera-1_clip-81.avi\n",
      "F:\\MysoreData\\nbk\\mouseVideoAnalysis\\Box1\\cam1\\test_label  already exists!\n",
      "Loading  F:\\MysoreData\\nbk\\mouseVideoAnalysis\\Box1\\cam1\\test_label\\camera-1_clip-81.avi\n",
      "Duration of video [s]:  3.0 , recorded with  30.0 fps!\n",
      "Overall # of frames:  90  found with (before cropping) frame dimensions:  720 720\n",
      "Starting to extract posture\n",
      "Cropping based on the x1 = 0 x2 = 600 y1 = 0 y2 = 450. You can adjust the cropping coordinates in the config.yaml file.\n"
     ]
    },
    {
     "name": "stderr",
     "output_type": "stream",
     "text": [
      "100it [00:02, 48.11it/s]                                                                                               \n",
      "  0%|                                                                                           | 0/90 [00:00<?, ?it/s]"
     ]
    },
    {
     "name": "stdout",
     "output_type": "stream",
     "text": [
      "Saving results in F:\\MysoreData\\nbk\\mouseVideoAnalysis\\Box1\\cam1\\test_label...\n",
      "Starting to analyze %  F:\\MysoreData\\nbk\\mouseVideoAnalysis\\Box1\\cam1\\test_label\\camera-1_clip-82.avi\n",
      "F:\\MysoreData\\nbk\\mouseVideoAnalysis\\Box1\\cam1\\test_label  already exists!\n",
      "Loading  F:\\MysoreData\\nbk\\mouseVideoAnalysis\\Box1\\cam1\\test_label\\camera-1_clip-82.avi\n",
      "Duration of video [s]:  3.0 , recorded with  30.0 fps!\n",
      "Overall # of frames:  90  found with (before cropping) frame dimensions:  720 720\n",
      "Starting to extract posture\n",
      "Cropping based on the x1 = 0 x2 = 600 y1 = 0 y2 = 450. You can adjust the cropping coordinates in the config.yaml file.\n"
     ]
    },
    {
     "name": "stderr",
     "output_type": "stream",
     "text": [
      "100it [00:01, 52.85it/s]                                                                                               \n",
      "  0%|                                                                                           | 0/90 [00:00<?, ?it/s]"
     ]
    },
    {
     "name": "stdout",
     "output_type": "stream",
     "text": [
      "Saving results in F:\\MysoreData\\nbk\\mouseVideoAnalysis\\Box1\\cam1\\test_label...\n",
      "Starting to analyze %  F:\\MysoreData\\nbk\\mouseVideoAnalysis\\Box1\\cam1\\test_label\\camera-1_clip-83.avi\n",
      "F:\\MysoreData\\nbk\\mouseVideoAnalysis\\Box1\\cam1\\test_label  already exists!\n",
      "Loading  F:\\MysoreData\\nbk\\mouseVideoAnalysis\\Box1\\cam1\\test_label\\camera-1_clip-83.avi\n",
      "Duration of video [s]:  3.0 , recorded with  30.0 fps!\n",
      "Overall # of frames:  90  found with (before cropping) frame dimensions:  720 720\n",
      "Starting to extract posture\n",
      "Cropping based on the x1 = 0 x2 = 600 y1 = 0 y2 = 450. You can adjust the cropping coordinates in the config.yaml file.\n"
     ]
    },
    {
     "name": "stderr",
     "output_type": "stream",
     "text": [
      "100it [00:01, 51.06it/s]                                                                                               \n",
      "  0%|                                                                                           | 0/90 [00:00<?, ?it/s]"
     ]
    },
    {
     "name": "stdout",
     "output_type": "stream",
     "text": [
      "Saving results in F:\\MysoreData\\nbk\\mouseVideoAnalysis\\Box1\\cam1\\test_label...\n",
      "Starting to analyze %  F:\\MysoreData\\nbk\\mouseVideoAnalysis\\Box1\\cam1\\test_label\\camera-1_clip-84.avi\n",
      "F:\\MysoreData\\nbk\\mouseVideoAnalysis\\Box1\\cam1\\test_label  already exists!\n",
      "Loading  F:\\MysoreData\\nbk\\mouseVideoAnalysis\\Box1\\cam1\\test_label\\camera-1_clip-84.avi\n",
      "Duration of video [s]:  3.0 , recorded with  30.0 fps!\n",
      "Overall # of frames:  90  found with (before cropping) frame dimensions:  720 720\n",
      "Starting to extract posture\n",
      "Cropping based on the x1 = 0 x2 = 600 y1 = 0 y2 = 450. You can adjust the cropping coordinates in the config.yaml file.\n"
     ]
    },
    {
     "name": "stderr",
     "output_type": "stream",
     "text": [
      "100it [00:01, 51.07it/s]                                                                                               \n",
      "  0%|                                                                                           | 0/90 [00:00<?, ?it/s]"
     ]
    },
    {
     "name": "stdout",
     "output_type": "stream",
     "text": [
      "Saving results in F:\\MysoreData\\nbk\\mouseVideoAnalysis\\Box1\\cam1\\test_label...\n",
      "Starting to analyze %  F:\\MysoreData\\nbk\\mouseVideoAnalysis\\Box1\\cam1\\test_label\\camera-1_clip-85.avi\n",
      "F:\\MysoreData\\nbk\\mouseVideoAnalysis\\Box1\\cam1\\test_label  already exists!\n",
      "Loading  F:\\MysoreData\\nbk\\mouseVideoAnalysis\\Box1\\cam1\\test_label\\camera-1_clip-85.avi\n",
      "Duration of video [s]:  3.0 , recorded with  30.0 fps!\n",
      "Overall # of frames:  90  found with (before cropping) frame dimensions:  720 720\n",
      "Starting to extract posture\n",
      "Cropping based on the x1 = 0 x2 = 600 y1 = 0 y2 = 450. You can adjust the cropping coordinates in the config.yaml file.\n"
     ]
    },
    {
     "name": "stderr",
     "output_type": "stream",
     "text": [
      "100it [00:01, 52.57it/s]                                                                                               \n",
      "  0%|                                                                                           | 0/90 [00:00<?, ?it/s]"
     ]
    },
    {
     "name": "stdout",
     "output_type": "stream",
     "text": [
      "Saving results in F:\\MysoreData\\nbk\\mouseVideoAnalysis\\Box1\\cam1\\test_label...\n",
      "Starting to analyze %  F:\\MysoreData\\nbk\\mouseVideoAnalysis\\Box1\\cam1\\test_label\\camera-1_clip-86.avi\n",
      "F:\\MysoreData\\nbk\\mouseVideoAnalysis\\Box1\\cam1\\test_label  already exists!\n",
      "Loading  F:\\MysoreData\\nbk\\mouseVideoAnalysis\\Box1\\cam1\\test_label\\camera-1_clip-86.avi\n",
      "Duration of video [s]:  3.0 , recorded with  30.0 fps!\n",
      "Overall # of frames:  90  found with (before cropping) frame dimensions:  720 720\n",
      "Starting to extract posture\n",
      "Cropping based on the x1 = 0 x2 = 600 y1 = 0 y2 = 450. You can adjust the cropping coordinates in the config.yaml file.\n"
     ]
    },
    {
     "name": "stderr",
     "output_type": "stream",
     "text": [
      "100it [00:02, 47.11it/s]                                                                                               \n",
      "  0%|                                                                                           | 0/90 [00:00<?, ?it/s]"
     ]
    },
    {
     "name": "stdout",
     "output_type": "stream",
     "text": [
      "Saving results in F:\\MysoreData\\nbk\\mouseVideoAnalysis\\Box1\\cam1\\test_label...\n",
      "Starting to analyze %  F:\\MysoreData\\nbk\\mouseVideoAnalysis\\Box1\\cam1\\test_label\\camera-1_clip-87.avi\n",
      "F:\\MysoreData\\nbk\\mouseVideoAnalysis\\Box1\\cam1\\test_label  already exists!\n",
      "Loading  F:\\MysoreData\\nbk\\mouseVideoAnalysis\\Box1\\cam1\\test_label\\camera-1_clip-87.avi\n",
      "Duration of video [s]:  3.0 , recorded with  30.0 fps!\n",
      "Overall # of frames:  90  found with (before cropping) frame dimensions:  720 720\n",
      "Starting to extract posture\n",
      "Cropping based on the x1 = 0 x2 = 600 y1 = 0 y2 = 450. You can adjust the cropping coordinates in the config.yaml file.\n"
     ]
    },
    {
     "name": "stderr",
     "output_type": "stream",
     "text": [
      "100it [00:01, 53.58it/s]                                                                                               \n",
      "  0%|                                                                                           | 0/90 [00:00<?, ?it/s]"
     ]
    },
    {
     "name": "stdout",
     "output_type": "stream",
     "text": [
      "Saving results in F:\\MysoreData\\nbk\\mouseVideoAnalysis\\Box1\\cam1\\test_label...\n",
      "Starting to analyze %  F:\\MysoreData\\nbk\\mouseVideoAnalysis\\Box1\\cam1\\test_label\\camera-1_clip-88.avi\n",
      "F:\\MysoreData\\nbk\\mouseVideoAnalysis\\Box1\\cam1\\test_label  already exists!\n",
      "Loading  F:\\MysoreData\\nbk\\mouseVideoAnalysis\\Box1\\cam1\\test_label\\camera-1_clip-88.avi\n",
      "Duration of video [s]:  3.0 , recorded with  30.0 fps!\n",
      "Overall # of frames:  90  found with (before cropping) frame dimensions:  720 720\n",
      "Starting to extract posture\n",
      "Cropping based on the x1 = 0 x2 = 600 y1 = 0 y2 = 450. You can adjust the cropping coordinates in the config.yaml file.\n"
     ]
    },
    {
     "name": "stderr",
     "output_type": "stream",
     "text": [
      "100it [00:01, 52.89it/s]                                                                                               \n",
      "  0%|                                                                                           | 0/90 [00:00<?, ?it/s]"
     ]
    },
    {
     "name": "stdout",
     "output_type": "stream",
     "text": [
      "Saving results in F:\\MysoreData\\nbk\\mouseVideoAnalysis\\Box1\\cam1\\test_label...\n",
      "Starting to analyze %  F:\\MysoreData\\nbk\\mouseVideoAnalysis\\Box1\\cam1\\test_label\\camera-1_clip-89.avi\n",
      "F:\\MysoreData\\nbk\\mouseVideoAnalysis\\Box1\\cam1\\test_label  already exists!\n",
      "Loading  F:\\MysoreData\\nbk\\mouseVideoAnalysis\\Box1\\cam1\\test_label\\camera-1_clip-89.avi\n",
      "Duration of video [s]:  3.0 , recorded with  30.0 fps!\n",
      "Overall # of frames:  90  found with (before cropping) frame dimensions:  720 720\n",
      "Starting to extract posture\n",
      "Cropping based on the x1 = 0 x2 = 600 y1 = 0 y2 = 450. You can adjust the cropping coordinates in the config.yaml file.\n"
     ]
    },
    {
     "name": "stderr",
     "output_type": "stream",
     "text": [
      "100it [00:01, 52.85it/s]                                                                                               \n",
      "  0%|                                                                                           | 0/90 [00:00<?, ?it/s]"
     ]
    },
    {
     "name": "stdout",
     "output_type": "stream",
     "text": [
      "Saving results in F:\\MysoreData\\nbk\\mouseVideoAnalysis\\Box1\\cam1\\test_label...\n",
      "Starting to analyze %  F:\\MysoreData\\nbk\\mouseVideoAnalysis\\Box1\\cam1\\test_label\\camera-1_clip-9.avi\n",
      "F:\\MysoreData\\nbk\\mouseVideoAnalysis\\Box1\\cam1\\test_label  already exists!\n",
      "Loading  F:\\MysoreData\\nbk\\mouseVideoAnalysis\\Box1\\cam1\\test_label\\camera-1_clip-9.avi\n",
      "Duration of video [s]:  3.0 , recorded with  30.0 fps!\n",
      "Overall # of frames:  90  found with (before cropping) frame dimensions:  720 720\n",
      "Starting to extract posture\n",
      "Cropping based on the x1 = 0 x2 = 600 y1 = 0 y2 = 450. You can adjust the cropping coordinates in the config.yaml file.\n"
     ]
    },
    {
     "name": "stderr",
     "output_type": "stream",
     "text": [
      "100it [00:01, 52.49it/s]                                                                                               \n",
      "  0%|                                                                                           | 0/90 [00:00<?, ?it/s]"
     ]
    },
    {
     "name": "stdout",
     "output_type": "stream",
     "text": [
      "Saving results in F:\\MysoreData\\nbk\\mouseVideoAnalysis\\Box1\\cam1\\test_label...\n",
      "Starting to analyze %  F:\\MysoreData\\nbk\\mouseVideoAnalysis\\Box1\\cam1\\test_label\\camera-1_clip-90.avi\n",
      "F:\\MysoreData\\nbk\\mouseVideoAnalysis\\Box1\\cam1\\test_label  already exists!\n",
      "Loading  F:\\MysoreData\\nbk\\mouseVideoAnalysis\\Box1\\cam1\\test_label\\camera-1_clip-90.avi\n",
      "Duration of video [s]:  3.0 , recorded with  30.0 fps!\n",
      "Overall # of frames:  90  found with (before cropping) frame dimensions:  720 720\n",
      "Starting to extract posture\n",
      "Cropping based on the x1 = 0 x2 = 600 y1 = 0 y2 = 450. You can adjust the cropping coordinates in the config.yaml file.\n"
     ]
    },
    {
     "name": "stderr",
     "output_type": "stream",
     "text": [
      "100it [00:01, 52.48it/s]                                                                                               \n",
      "  0%|                                                                                           | 0/90 [00:00<?, ?it/s]"
     ]
    },
    {
     "name": "stdout",
     "output_type": "stream",
     "text": [
      "Saving results in F:\\MysoreData\\nbk\\mouseVideoAnalysis\\Box1\\cam1\\test_label...\n",
      "Starting to analyze %  F:\\MysoreData\\nbk\\mouseVideoAnalysis\\Box1\\cam1\\test_label\\camera-1_clip-91.avi\n",
      "F:\\MysoreData\\nbk\\mouseVideoAnalysis\\Box1\\cam1\\test_label  already exists!\n",
      "Loading  F:\\MysoreData\\nbk\\mouseVideoAnalysis\\Box1\\cam1\\test_label\\camera-1_clip-91.avi\n",
      "Duration of video [s]:  3.0 , recorded with  30.0 fps!\n",
      "Overall # of frames:  90  found with (before cropping) frame dimensions:  720 720\n",
      "Starting to extract posture\n",
      "Cropping based on the x1 = 0 x2 = 600 y1 = 0 y2 = 450. You can adjust the cropping coordinates in the config.yaml file.\n"
     ]
    },
    {
     "name": "stderr",
     "output_type": "stream",
     "text": [
      "100it [00:02, 36.77it/s]                                                                                               \n",
      "  0%|                                                                                           | 0/90 [00:00<?, ?it/s]"
     ]
    },
    {
     "name": "stdout",
     "output_type": "stream",
     "text": [
      "Saving results in F:\\MysoreData\\nbk\\mouseVideoAnalysis\\Box1\\cam1\\test_label...\n",
      "Starting to analyze %  F:\\MysoreData\\nbk\\mouseVideoAnalysis\\Box1\\cam1\\test_label\\camera-1_clip-92.avi\n",
      "F:\\MysoreData\\nbk\\mouseVideoAnalysis\\Box1\\cam1\\test_label  already exists!\n",
      "Loading  F:\\MysoreData\\nbk\\mouseVideoAnalysis\\Box1\\cam1\\test_label\\camera-1_clip-92.avi\n",
      "Duration of video [s]:  3.0 , recorded with  30.0 fps!\n",
      "Overall # of frames:  90  found with (before cropping) frame dimensions:  720 720\n",
      "Starting to extract posture\n",
      "Cropping based on the x1 = 0 x2 = 600 y1 = 0 y2 = 450. You can adjust the cropping coordinates in the config.yaml file.\n"
     ]
    },
    {
     "name": "stderr",
     "output_type": "stream",
     "text": [
      "100it [00:02, 47.48it/s]                                                                                               \n",
      "  0%|                                                                                           | 0/90 [00:00<?, ?it/s]"
     ]
    },
    {
     "name": "stdout",
     "output_type": "stream",
     "text": [
      "Saving results in F:\\MysoreData\\nbk\\mouseVideoAnalysis\\Box1\\cam1\\test_label...\n",
      "Starting to analyze %  F:\\MysoreData\\nbk\\mouseVideoAnalysis\\Box1\\cam1\\test_label\\camera-1_clip-93.avi\n",
      "F:\\MysoreData\\nbk\\mouseVideoAnalysis\\Box1\\cam1\\test_label  already exists!\n",
      "Loading  F:\\MysoreData\\nbk\\mouseVideoAnalysis\\Box1\\cam1\\test_label\\camera-1_clip-93.avi\n",
      "Duration of video [s]:  3.0 , recorded with  30.0 fps!\n",
      "Overall # of frames:  90  found with (before cropping) frame dimensions:  720 720\n",
      "Starting to extract posture\n",
      "Cropping based on the x1 = 0 x2 = 600 y1 = 0 y2 = 450. You can adjust the cropping coordinates in the config.yaml file.\n"
     ]
    },
    {
     "name": "stderr",
     "output_type": "stream",
     "text": [
      "100it [00:01, 50.90it/s]                                                                                               \n",
      "  0%|                                                                                           | 0/90 [00:00<?, ?it/s]"
     ]
    },
    {
     "name": "stdout",
     "output_type": "stream",
     "text": [
      "Saving results in F:\\MysoreData\\nbk\\mouseVideoAnalysis\\Box1\\cam1\\test_label...\n",
      "Starting to analyze %  F:\\MysoreData\\nbk\\mouseVideoAnalysis\\Box1\\cam1\\test_label\\camera-1_clip-94.avi\n",
      "F:\\MysoreData\\nbk\\mouseVideoAnalysis\\Box1\\cam1\\test_label  already exists!\n",
      "Loading  F:\\MysoreData\\nbk\\mouseVideoAnalysis\\Box1\\cam1\\test_label\\camera-1_clip-94.avi\n",
      "Duration of video [s]:  3.0 , recorded with  30.0 fps!\n",
      "Overall # of frames:  90  found with (before cropping) frame dimensions:  720 720\n",
      "Starting to extract posture\n",
      "Cropping based on the x1 = 0 x2 = 600 y1 = 0 y2 = 450. You can adjust the cropping coordinates in the config.yaml file.\n"
     ]
    },
    {
     "name": "stderr",
     "output_type": "stream",
     "text": [
      "100it [00:01, 51.51it/s]                                                                                               \n",
      "  0%|                                                                                           | 0/90 [00:00<?, ?it/s]"
     ]
    },
    {
     "name": "stdout",
     "output_type": "stream",
     "text": [
      "Saving results in F:\\MysoreData\\nbk\\mouseVideoAnalysis\\Box1\\cam1\\test_label...\n",
      "Starting to analyze %  F:\\MysoreData\\nbk\\mouseVideoAnalysis\\Box1\\cam1\\test_label\\camera-1_clip-95.avi\n",
      "F:\\MysoreData\\nbk\\mouseVideoAnalysis\\Box1\\cam1\\test_label  already exists!\n",
      "Loading  F:\\MysoreData\\nbk\\mouseVideoAnalysis\\Box1\\cam1\\test_label\\camera-1_clip-95.avi\n",
      "Duration of video [s]:  3.0 , recorded with  30.0 fps!\n",
      "Overall # of frames:  90  found with (before cropping) frame dimensions:  720 720\n",
      "Starting to extract posture\n",
      "Cropping based on the x1 = 0 x2 = 600 y1 = 0 y2 = 450. You can adjust the cropping coordinates in the config.yaml file.\n"
     ]
    },
    {
     "name": "stderr",
     "output_type": "stream",
     "text": [
      "100it [00:01, 51.11it/s]                                                                                               \n",
      "  0%|                                                                                           | 0/90 [00:00<?, ?it/s]"
     ]
    },
    {
     "name": "stdout",
     "output_type": "stream",
     "text": [
      "Saving results in F:\\MysoreData\\nbk\\mouseVideoAnalysis\\Box1\\cam1\\test_label...\n",
      "Starting to analyze %  F:\\MysoreData\\nbk\\mouseVideoAnalysis\\Box1\\cam1\\test_label\\camera-1_clip-96.avi\n",
      "F:\\MysoreData\\nbk\\mouseVideoAnalysis\\Box1\\cam1\\test_label  already exists!\n",
      "Loading  F:\\MysoreData\\nbk\\mouseVideoAnalysis\\Box1\\cam1\\test_label\\camera-1_clip-96.avi\n",
      "Duration of video [s]:  3.0 , recorded with  30.0 fps!\n",
      "Overall # of frames:  90  found with (before cropping) frame dimensions:  720 720\n",
      "Starting to extract posture\n",
      "Cropping based on the x1 = 0 x2 = 600 y1 = 0 y2 = 450. You can adjust the cropping coordinates in the config.yaml file.\n"
     ]
    },
    {
     "name": "stderr",
     "output_type": "stream",
     "text": [
      "100it [00:01, 51.82it/s]                                                                                               \n",
      "  0%|                                                                                           | 0/90 [00:00<?, ?it/s]"
     ]
    },
    {
     "name": "stdout",
     "output_type": "stream",
     "text": [
      "Saving results in F:\\MysoreData\\nbk\\mouseVideoAnalysis\\Box1\\cam1\\test_label...\n",
      "Starting to analyze %  F:\\MysoreData\\nbk\\mouseVideoAnalysis\\Box1\\cam1\\test_label\\camera-1_clip-97.avi\n",
      "F:\\MysoreData\\nbk\\mouseVideoAnalysis\\Box1\\cam1\\test_label  already exists!\n",
      "Loading  F:\\MysoreData\\nbk\\mouseVideoAnalysis\\Box1\\cam1\\test_label\\camera-1_clip-97.avi\n",
      "Duration of video [s]:  3.0 , recorded with  30.0 fps!\n",
      "Overall # of frames:  90  found with (before cropping) frame dimensions:  720 720\n",
      "Starting to extract posture\n",
      "Cropping based on the x1 = 0 x2 = 600 y1 = 0 y2 = 450. You can adjust the cropping coordinates in the config.yaml file.\n"
     ]
    },
    {
     "name": "stderr",
     "output_type": "stream",
     "text": [
      "100it [00:01, 50.73it/s]                                                                                               \n",
      "  0%|                                                                                           | 0/90 [00:00<?, ?it/s]"
     ]
    },
    {
     "name": "stdout",
     "output_type": "stream",
     "text": [
      "Saving results in F:\\MysoreData\\nbk\\mouseVideoAnalysis\\Box1\\cam1\\test_label...\n",
      "Starting to analyze %  F:\\MysoreData\\nbk\\mouseVideoAnalysis\\Box1\\cam1\\test_label\\camera-1_clip-98.avi\n",
      "F:\\MysoreData\\nbk\\mouseVideoAnalysis\\Box1\\cam1\\test_label  already exists!\n",
      "Loading  F:\\MysoreData\\nbk\\mouseVideoAnalysis\\Box1\\cam1\\test_label\\camera-1_clip-98.avi\n",
      "Duration of video [s]:  3.0 , recorded with  30.0 fps!\n",
      "Overall # of frames:  90  found with (before cropping) frame dimensions:  720 720\n",
      "Starting to extract posture\n",
      "Cropping based on the x1 = 0 x2 = 600 y1 = 0 y2 = 450. You can adjust the cropping coordinates in the config.yaml file.\n"
     ]
    },
    {
     "name": "stderr",
     "output_type": "stream",
     "text": [
      "100it [00:01, 51.42it/s]                                                                                               \n",
      "  0%|                                                                                           | 0/90 [00:00<?, ?it/s]"
     ]
    },
    {
     "name": "stdout",
     "output_type": "stream",
     "text": [
      "Saving results in F:\\MysoreData\\nbk\\mouseVideoAnalysis\\Box1\\cam1\\test_label...\n",
      "Starting to analyze %  F:\\MysoreData\\nbk\\mouseVideoAnalysis\\Box1\\cam1\\test_label\\camera-1_clip-99.avi\n",
      "F:\\MysoreData\\nbk\\mouseVideoAnalysis\\Box1\\cam1\\test_label  already exists!\n",
      "Loading  F:\\MysoreData\\nbk\\mouseVideoAnalysis\\Box1\\cam1\\test_label\\camera-1_clip-99.avi\n",
      "Duration of video [s]:  3.0 , recorded with  30.0 fps!\n",
      "Overall # of frames:  90  found with (before cropping) frame dimensions:  720 720\n",
      "Starting to extract posture\n",
      "Cropping based on the x1 = 0 x2 = 600 y1 = 0 y2 = 450. You can adjust the cropping coordinates in the config.yaml file.\n"
     ]
    },
    {
     "name": "stderr",
     "output_type": "stream",
     "text": [
      "100it [00:01, 51.36it/s]                                                                                               \n"
     ]
    },
    {
     "name": "stdout",
     "output_type": "stream",
     "text": [
      "Saving results in F:\\MysoreData\\nbk\\mouseVideoAnalysis\\Box1\\cam1\\test_label...\n",
      "The videos are analyzed. Now your research can truly start! \n",
      " You can create labeled videos with 'create_labeled_video'\n",
      "If the tracking is not satisfactory for some videos, consider expanding the training set. You can use the function 'extract_outlier_frames' to extract a few representative outlier frames.\n"
     ]
    },
    {
     "data": {
      "text/plain": [
       "'DLC_resnet_50_box1_cam1Feb7shuffle1_752000'"
      ]
     },
     "execution_count": 9,
     "metadata": {},
     "output_type": "execute_result"
    }
   ],
   "source": [
    "\n",
    "VIDEO_SOURCE = r\"F:\\MysoreData\\nbk\\mouseVideoAnalysis\\Box1\\cam1\\test_label\"\n",
    "video_all = os.listdir(VIDEO_SOURCE)\n",
    "video = []\n",
    "for i in range(0,len(video_all)):\n",
    "    video.append(VIDEO_SOURCE + '\\\\' + video_all[i])\n",
    "    \n",
    "deeplabcut.analyze_videos(path_config_file,video)"
   ]
  },
  {
   "cell_type": "markdown",
   "metadata": {
    "colab_type": "text",
    "id": "pCrUvQIvoEKD"
   },
   "source": [
    "## Create labeled video\n",
    "This funtion is for visualiztion purpose and can be used to create a video in .mp4 format with labels predicted by the network. This video is saved in the same directory where the original video resides. "
   ]
  },
  {
   "cell_type": "code",
   "execution_count": null,
   "metadata": {
    "colab": {},
    "colab_type": "code",
    "id": "6aDF7Q7KoEKE",
    "scrolled": false
   },
   "outputs": [],
   "source": [
    "deeplabcut.create_labeled_video(path_config_file,video)"
   ]
  },
  {
   "cell_type": "markdown",
   "metadata": {
    "colab_type": "text",
    "id": "8GTiuJESoEKH"
   },
   "source": [
    "## Plot the trajectories of the analyzed videos\n",
    "This function plots the trajectories of all the body parts across the entire video. Each body part is identified by a unique color."
   ]
  },
  {
   "cell_type": "code",
   "execution_count": null,
   "metadata": {
    "colab": {},
    "colab_type": "code",
    "id": "gX21zZbXoEKJ",
    "scrolled": false
   },
   "outputs": [],
   "source": [
    "%matplotlib notebook \n",
    "#for making interactive plots.\n",
    "#deeplabcut.plot_trajectories(path_config_file,videofile_path, plotting=True)\n",
    "\n",
    "deeplabcut.plot_trajectories(path_config_file,video,showfigures=True)"
   ]
  },
  {
   "cell_type": "code",
   "execution_count": null,
   "metadata": {},
   "outputs": [],
   "source": []
  }
 ],
 "metadata": {
  "accelerator": "GPU",
  "colab": {
   "collapsed_sections": [],
   "name": "Colab_TrainNetwork_VideoAnalysis.ipynb",
   "private_outputs": true,
   "provenance": [],
   "toc_visible": true,
   "version": "0.3.2"
  },
  "kernelspec": {
   "display_name": "Python 3",
   "language": "python",
   "name": "python3"
  },
  "language_info": {
   "codemirror_mode": {
    "name": "ipython",
    "version": 3
   },
   "file_extension": ".py",
   "mimetype": "text/x-python",
   "name": "python",
   "nbconvert_exporter": "python",
   "pygments_lexer": "ipython3",
   "version": "3.7.0"
  },
  "varInspector": {
   "cols": {
    "lenName": 16,
    "lenType": 16,
    "lenVar": 40
   },
   "kernels_config": {
    "python": {
     "delete_cmd_postfix": "",
     "delete_cmd_prefix": "del ",
     "library": "var_list.py",
     "varRefreshCmd": "print(var_dic_list())"
    },
    "r": {
     "delete_cmd_postfix": ") ",
     "delete_cmd_prefix": "rm(",
     "library": "var_list.r",
     "varRefreshCmd": "cat(var_dic_list()) "
    }
   },
   "types_to_exclude": [
    "module",
    "function",
    "builtin_function_or_method",
    "instance",
    "_Feature"
   ],
   "window_display": false
  }
 },
 "nbformat": 4,
 "nbformat_minor": 1
}
